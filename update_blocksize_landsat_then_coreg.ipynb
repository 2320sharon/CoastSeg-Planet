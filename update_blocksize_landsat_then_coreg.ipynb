{
 "cells": [
  {
   "cell_type": "markdown",
   "metadata": {},
   "source": [
    "# CoRegistery Planet Imagery to LandSat\n",
    "## Prerequisites\n",
    "- you need to run the script that converts the float 32 TOA landsat imagery into 16-bit unsigned integers\n",
    "- you'll need to have a landsat and a planet image for the same location\n",
    "- both of these images will need to be cloud and Cloud Shadow free\n",
    "## Functionality\n",
    "This script works by first retiling the landsat imagery so that each block is a multiple of 16. In this case we choose each block size to be 256 by 256. \n",
    "\n",
    "After the landsat image has been retiled then we load the retiled image into  Geo wombat and do the same thing for another landsat then we can register them together and it works"
   ]
  },
  {
   "cell_type": "code",
   "execution_count": 2,
   "metadata": {},
   "outputs": [
    {
     "name": "stdout",
     "output_type": "stream",
     "text": [
      "WARNING:tensorflow:From c:\\Users\\sf230\\anaconda3\\envs\\coastseg_planet\\lib\\site-packages\\keras\\src\\losses.py:2976: The name tf.losses.sparse_softmax_cross_entropy is deprecated. Please use tf.compat.v1.losses.sparse_softmax_cross_entropy instead.\n",
      "\n",
      "Created a new tiled raster file with block size 256x256 at 2023-02-14-10-33-43_L8_ID_mqq51_unit16_new_block.tif\n",
      "Band 1 block size: (256, 256)\n",
      "Band 2 block size: (256, 256)\n",
      "Band 3 block size: (256, 256)\n",
      "Band 4 block size: (256, 256)\n",
      "Band 5 block size: (256, 256)\n",
      "<xarray.DataArray (band: 5, y: 300, x: 299)> Size: 897kB\n",
      "dask.array<open_rasterio-4adce1dfdb7dbea947ff8c0d9e6ae10b<this-array>, shape=(5, 300, 299), dtype=uint16, chunksize=(5, 256, 256), chunktype=numpy.ndarray>\n",
      "Coordinates:\n",
      "  * band     (band) int32 20B 1 2 3 4 5\n",
      "  * x        (x) float64 2kB 6.626e+05 6.626e+05 ... 6.671e+05 6.671e+05\n",
      "  * y        (y) float64 2kB 5.927e+06 5.927e+06 ... 5.923e+06 5.923e+06\n",
      "Attributes: (12/13)\n",
      "    transform:           (15.0, 0.0, 662617.5, 0.0, -15.0, 5927032.5)\n",
      "    crs:                 32631\n",
      "    res:                 (15.0, 15.0)\n",
      "    is_tiled:            0\n",
      "    nodatavals:          (0.0, 0.0, 0.0, 0.0, 0.0)\n",
      "    _FillValue:          0.0\n",
      "    ...                  ...\n",
      "    offsets:             (0.0, 0.0, 0.0, 0.0, 0.0)\n",
      "    filename:            2023-02-14-10-33-43_L8_ID_mqq51_unit16_new_block.tif\n",
      "    resampling:          nearest\n",
      "    AREA_OR_POINT:       Area\n",
      "    _data_are_separate:  0\n",
      "    _data_are_stacked:   0\n"
     ]
    }
   ],
   "source": [
    "import rasterio\n",
    "from rasterio.transform import from_origin\n",
    "import geowombat as gw\n",
    "\n",
    "\n",
    "def create_tiled_raster(src_filepath, dst_filepath, block_size=256):\n",
    "    # Open the source file\n",
    "    with rasterio.open(src_filepath) as src:\n",
    "        # Copy the profile from the source\n",
    "        profile = src.profile\n",
    "        \n",
    "        # Update the profile to set tiling and block sizes\n",
    "        profile.update(\n",
    "            tiled=True,\n",
    "            blockxsize=block_size,\n",
    "            blockysize=block_size,\n",
    "            compress='lzw'  # Optional: Add compression to reduce file size\n",
    "        )\n",
    "        \n",
    "        # Create a new file with the updated profile\n",
    "        with rasterio.open(dst_filepath, 'w', **profile) as dst:\n",
    "            # Copy data from the source file to the destination file\n",
    "            for i in range(1, src.count + 1):\n",
    "                band_data = src.read(i)\n",
    "                dst.write(band_data, i)\n",
    "\n",
    "    print(f'Created a new tiled raster file with block size {block_size}x{block_size} at {dst_filepath}')\n",
    "\n",
    "def print_block_shapes(filepath):\n",
    "    # after creating a new block size lets print the new block shape and then attempt to load it with geowombat\n",
    "    with rasterio.open(dst_filepath) as src:\n",
    "        # Iterate through each band in the dataset\n",
    "        for i in range(1, src.count + 1):\n",
    "            # Access the band\n",
    "            band = src.read(i)\n",
    "\n",
    "            # Get the block sizes for the band\n",
    "            block_shapes = src.block_shapes[i-1]  # block_shapes is zero-indexed in Python\n",
    "\n",
    "            print(f'Band {i} block size: {block_shapes}')\n",
    "\n",
    "def open_raster_with_geowombat(filepath):\n",
    "    with gw.open(filepath) as src:\n",
    "        print(src)\n",
    "\n",
    "# Source file path\n",
    "src_filepath = r\"2023-02-14-10-33-43_L8_ID_mqq51_unit16.tif\"\n",
    "# Destination file path\n",
    "dst_filepath = r\"2023-02-14-10-33-43_L8_ID_mqq51_unit16_new_block.tif\"\n",
    "create_tiled_raster(src_filepath, dst_filepath)\n",
    "print_block_shapes(dst_filepath)\n",
    "open_raster_with_geowombat(dst_filepath)\n"
   ]
  },
  {
   "cell_type": "code",
   "execution_count": 4,
   "metadata": {},
   "outputs": [
    {
     "name": "stdout",
     "output_type": "stream",
     "text": [
      "Created a new tiled raster file with block size 256x256 at ID_mqq51_sample_int3_new_block.tif\n",
      "Band 1 block size: (256, 256)\n",
      "Band 2 block size: (256, 256)\n",
      "Band 3 block size: (256, 256)\n",
      "Band 4 block size: (256, 256)\n",
      "Band 5 block size: (256, 256)\n",
      "<xarray.DataArray (band: 5, y: 300, x: 299)> Size: 897kB\n",
      "dask.array<open_rasterio-4adce1dfdb7dbea947ff8c0d9e6ae10b<this-array>, shape=(5, 300, 299), dtype=uint16, chunksize=(5, 256, 256), chunktype=numpy.ndarray>\n",
      "Coordinates:\n",
      "  * band     (band) int32 20B 1 2 3 4 5\n",
      "  * x        (x) float64 2kB 6.626e+05 6.626e+05 ... 6.671e+05 6.671e+05\n",
      "  * y        (y) float64 2kB 5.927e+06 5.927e+06 ... 5.923e+06 5.923e+06\n",
      "Attributes: (12/13)\n",
      "    transform:           (15.0, 0.0, 662617.5, 0.0, -15.0, 5927032.5)\n",
      "    crs:                 32631\n",
      "    res:                 (15.0, 15.0)\n",
      "    is_tiled:            0\n",
      "    nodatavals:          (0.0, 0.0, 0.0, 0.0, 0.0)\n",
      "    _FillValue:          0.0\n",
      "    ...                  ...\n",
      "    offsets:             (0.0, 0.0, 0.0, 0.0, 0.0)\n",
      "    filename:            2023-02-14-10-33-43_L8_ID_mqq51_unit16_new_block.tif\n",
      "    resampling:          nearest\n",
      "    AREA_OR_POINT:       Area\n",
      "    _data_are_separate:  0\n",
      "    _data_are_stacked:   0\n"
     ]
    }
   ],
   "source": [
    "# Source file path\n",
    "src_filepath = r\"ID_mqq51_sample_int3.tif\"\n",
    "# Destination file path\n",
    "dst_filepath2 = r\"ID_mqq51_sample_int3_new_block.tif\"\n",
    "create_tiled_raster(src_filepath, dst_filepath2)\n",
    "print_block_shapes(dst_filepath2)\n",
    "open_raster_with_geowombat(dst_filepath)"
   ]
  },
  {
   "cell_type": "markdown",
   "metadata": {},
   "source": [
    "# Coregister a landsat to a landsat image"
   ]
  },
  {
   "cell_type": "code",
   "execution_count": 5,
   "metadata": {},
   "outputs": [
    {
     "name": "stderr",
     "output_type": "stream",
     "text": [
      "Polygonize progress     |==================================================| 100.0% Complete  => 0:00:00\n",
      "Polygonize progress     |==================================================| 100.0% Complete  => 0:00:00\n"
     ]
    },
    {
     "name": "stdout",
     "output_type": "stream",
     "text": [
      "Calculating footprint polygon and actual data corner coordinates for reference image...\n",
      "Bounding box of calculated footprint for reference image:\n",
      "\t(662617.5, 5922562.5, 667087.5, 5927032.5)\n",
      "Calculating footprint polygon and actual data corner coordinates for image to be shifted...\n",
      "Bounding box of calculated footprint for image to be shifted:\n",
      "\t(662617.5, 5922562.5, 667087.5, 5927032.5)\n",
      "Matching window position (X,Y): 664852.5/5924797.5\n",
      "Detected integer shifts (X/Y):                            0/0\n",
      "Detected subpixel shifts (X/Y):                           0.016993545913379916/0.1339814765302875\n",
      "Calculated total shifts in fft pixel units (X/Y):         0.016993545913379916/0.1339814765302875\n",
      "Calculated total shifts in reference pixel units (X/Y):   0.016993545913379916/0.1339814765302875\n",
      "Calculated total shifts in target pixel units (X/Y):      0.016993545913379916/0.1339814765302875\n",
      "Calculated map shifts (X,Y):\t\t\t\t  0.25490318867377937/-2.0097221480682492\n",
      "Calculated absolute shift vector length in map units:     2.0258229804284773\n",
      "Calculated angle of shift vector in degrees from North:   352.7714846401046\n",
      "Original map info: ['UTM', 1.0, 1.0, 662617.5, 5927032.5, 15.0, 15.0, 31, 'North', 'WGS-84']\n",
      "Updated map info:  ['UTM', 1.0, 1.0, '662617.7549031887', '5927030.490277852', 15.0, 15.0, 31, 'North', 'WGS-84']\n"
     ]
    },
    {
     "name": "stderr",
     "output_type": "stream",
     "text": [
      "Warping progress     |==================================================| 100.0% Complete  => 0:00:00\n",
      "11:17:42:WARNING:755:io.save:The file coregister_2023-02-14-10-33-43_L8_ID_mqq51_new_block.tif already exists.\n"
     ]
    },
    {
     "name": "stdout",
     "output_type": "stream",
     "text": [
      "Image similarity within the matching window (SSIM before/after correction): 0.5400 => 0.5352\n",
      "Estimated reliability of the calculated shifts:  82.9 %\n",
      "Correcting geometric shifts...\n",
      "<xarray.DataArray 'array-1a6484367fdaaa7063dfefc70141f8c7' (band: 5, y: 300,\n",
      "                                                            x: 299)> Size: 4MB\n",
      "dask.array<array, shape=(5, 300, 299), dtype=float64, chunksize=(5, 256, 256), chunktype=numpy.ndarray>\n",
      "Coordinates:\n",
      "  * band     (band) int32 20B 1 2 3 4 5\n",
      "  * y        (y) float64 2kB 5.927e+06 5.927e+06 ... 5.923e+06 5.923e+06\n",
      "  * x        (x) float64 2kB 6.626e+05 6.626e+05 ... 6.671e+05 6.671e+05\n",
      "Attributes: (12/15)\n",
      "    transform:           (15.0, 0.0, 662617.5, 0.0, -15.0, 5927032.5)\n",
      "    crs:                 32631\n",
      "    res:                 (15.0, 15.0)\n",
      "    is_tiled:            0\n",
      "    nodatavals:          (0.0, 0.0, 0.0, 0.0, 0.0)\n",
      "    _FillValue:          0.0\n",
      "    ...                  ...\n",
      "    resampling:          nearest\n",
      "    AREA_OR_POINT:       Area\n",
      "    _data_are_separate:  0\n",
      "    _data_are_stacked:   0\n",
      "    x_shift_px:          0.016993545913379916\n",
      "    y_shift_px:          0.1339814765302875\n"
     ]
    }
   ],
   "source": [
    "# now lets try to coregister the two files\n",
    "\n",
    "target_path = r\"2023-02-14-10-33-43_L8_ID_mqq51_unit16_new_block.tif\"\n",
    "ref_path = r\"ID_mqq51_sample_int3_new_block.tif\"\n",
    "\n",
    "with gw.open(target_path) as target, gw.open(\n",
    "    ref_path\n",
    ") as reference:\n",
    "    target_shifted = gw.coregister(\n",
    "        target=target,\n",
    "        reference=reference,\n",
    "        align_grids = True,\n",
    "        resamp_alg_deshift='nearest',\n",
    "        resamp_alg_calc='cubic',\n",
    "        q=False, #quiet mode (default: False)\n",
    "        CPUs=1, #  number of CPUs to use during pixel grid equalization (default: None, which means ‘all CPUs available’)\n",
    "    )\n",
    "    print(target_shifted)\n",
    "    target_shifted\n",
    "    gw.save(target_shifted, 'coregister_2023-02-14-10-33-43_L8_ID_mqq51_new_block.tif', compress='lzw', num_workers=8)"
   ]
  },
  {
   "cell_type": "markdown",
   "metadata": {},
   "source": [
    "# Coregister a planet to a landsat image\n"
   ]
  },
  {
   "cell_type": "code",
   "execution_count": 6,
   "metadata": {},
   "outputs": [
    {
     "name": "stderr",
     "output_type": "stream",
     "text": [
      "Polygonize progress     |==================================================| 100.0% Complete  => 0:00:00\n",
      "Polygonize progress     |===================-------------------------------| 38.0% Complete  => 0:00:00"
     ]
    },
    {
     "name": "stdout",
     "output_type": "stream",
     "text": [
      "Calculating footprint polygon and actual data corner coordinates for reference image...\n",
      "Bounding box of calculated footprint for reference image:\n",
      "\t(662617.5, 5922562.5, 667087.5, 5927032.5)\n",
      "Calculating footprint polygon and actual data corner coordinates for image to be shifted...\n"
     ]
    },
    {
     "name": "stderr",
     "output_type": "stream",
     "text": [
      "Polygonize progress     |==================================================| 100.0% Complete  => 0:00:00\n"
     ]
    },
    {
     "name": "stdout",
     "output_type": "stream",
     "text": [
      "Bounding box of calculated footprint for image to be shifted:\n",
      "\t(662601.0, 5922564.0, 667119.0, 5927034.0)\n",
      "Matching window position (X,Y): 664856.2255667822/5924807.507308026\n",
      "Detected integer shifts (X/Y):                            0/0\n",
      "Detected subpixel shifts (X/Y):                           0.2096289671243826/0.44645149890756547\n",
      "Calculated total shifts in fft pixel units (X/Y):         0.2096289671243826/0.44645149890756547\n",
      "Calculated total shifts in reference pixel units (X/Y):   0.2096289671243826/0.44645149890756547\n",
      "Calculated total shifts in target pixel units (X/Y):      1.048144835621913/2.2322574945378273\n",
      "Calculated map shifts (X,Y):\t\t\t\t  3.1444345068885013/-6.696772483177483\n",
      "Calculated absolute shift vector length in map units:     7.3982585829068075\n",
      "Calculated angle of shift vector in degrees from North:   334.84784268936664\n",
      "Original map info: ['UTM', 1.0, 1.0, 662601.0, 5927034.0, 3.0, 3.0, 31, 'North', 'WGS-84']\n",
      "Updated map info:  ['UTM', 1.0, 1.0, '662604.1444345069', '5927027.303227517', 3.0, 3.0, 31, 'North', 'WGS-84']\n"
     ]
    },
    {
     "name": "stderr",
     "output_type": "stream",
     "text": [
      "Warping progress     |=========================-------------------------| 50.0% Complete  => 0:00:00"
     ]
    },
    {
     "name": "stdout",
     "output_type": "stream",
     "text": [
      "Image similarity within the matching window (SSIM before/after correction): 0.6136 => 0.6095\n",
      "Estimated reliability of the calculated shifts:  80.8 %\n",
      "Correcting geometric shifts...\n"
     ]
    },
    {
     "name": "stderr",
     "output_type": "stream",
     "text": [
      "Warping progress     |==================================================| 100.0% Complete  => 0:00:00\n",
      "11:17:49:WARNING:755:io.save:The file coregistered_20240407_100338_88_2439_3B_AnalyticMS_clip.tif already exists.\n"
     ]
    },
    {
     "name": "stdout",
     "output_type": "stream",
     "text": [
      "<xarray.DataArray 'array-20f99b766dc89ef8d81baa5115451d89' (band: 4, y: 1489,\n",
      "                                                            x: 1505)> Size: 72MB\n",
      "dask.array<array, shape=(4, 1489, 1505), dtype=float64, chunksize=(4, 256, 256), chunktype=numpy.ndarray>\n",
      "Coordinates:\n",
      "  * band     (band) int32 16B 1 2 3 4\n",
      "  * y        (y) float64 12kB 5.927e+06 5.927e+06 ... 5.923e+06 5.923e+06\n",
      "  * x        (x) float64 12kB 6.626e+05 6.626e+05 ... 6.671e+05 6.671e+05\n",
      "Attributes: (12/17)\n",
      "    transform:           (3.0, 0.0, 662602.5, 0.0, -3.0, 5927032.5)\n",
      "    crs:                 32631\n",
      "    res:                 (3.0, 3.0)\n",
      "    is_tiled:            1\n",
      "    nodatavals:          (0.0, 0.0, 0.0, 0.0)\n",
      "    _FillValue:          0.0\n",
      "    ...                  ...\n",
      "    AREA_OR_POINT:       Area\n",
      "    TIFFTAG_DATETIME:    2024:04:07 10:03:38\n",
      "    _data_are_separate:  0\n",
      "    _data_are_stacked:   0\n",
      "    x_shift_px:          1.048144835621913\n",
      "    y_shift_px:          2.2322574945378273\n"
     ]
    }
   ],
   "source": [
    "target_path = r\"20240407_100338_88_2439_3B_AnalyticMS_clip.tif\"\n",
    "ref_path = r\"ID_mqq51_sample_int3_new_block.tif\"\n",
    "\n",
    "with gw.open(target_path) as target, gw.open(\n",
    "    ref_path\n",
    ") as reference:\n",
    "    target_shifted = gw.coregister(\n",
    "        target=target,\n",
    "        reference=reference,\n",
    "        align_grids = True,\n",
    "        resamp_alg_deshift='nearest',\n",
    "        resamp_alg_calc='cubic',\n",
    "        q=False, #quiet mode (default: False)\n",
    "        CPUs=1, #  number of CPUs to use during pixel grid equalization (default: None, which means ‘all CPUs available’)\n",
    "    )\n",
    "    print(target_shifted)\n",
    "    gw.save(target_shifted, 'coregistered_20240407_100338_88_2439_3B_AnalyticMS_clip.tif', compress='lzw', num_workers=8)"
   ]
  }
 ],
 "metadata": {
  "kernelspec": {
   "display_name": "geowombat",
   "language": "python",
   "name": "python3"
  },
  "language_info": {
   "codemirror_mode": {
    "name": "ipython",
    "version": 3
   },
   "file_extension": ".py",
   "mimetype": "text/x-python",
   "name": "python",
   "nbconvert_exporter": "python",
   "pygments_lexer": "ipython3",
   "version": "3.10.13"
  }
 },
 "nbformat": 4,
 "nbformat_minor": 2
}
