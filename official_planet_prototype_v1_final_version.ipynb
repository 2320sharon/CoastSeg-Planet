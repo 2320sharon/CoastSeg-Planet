{
 "cells": [
  {
   "cell_type": "markdown",
   "metadata": {},
   "source": [
    "# Prepare the LandSat Image \n",
    "Convert from float64 to unit16 & nodata values are set to 0\n",
    "\n",
    "Note to self the landsat directory currently being used is not the correct one. We need the one that was at the planet location.."
   ]
  },
  {
   "cell_type": "code",
   "execution_count": 1,
   "metadata": {},
   "outputs": [],
   "source": [
    "import os\n",
    "import rasterio\n",
    "import numpy as np\n",
    "from rasterio.plot import show\n",
    "from coastseg_planet import processing\n",
    "from coastseg_planet.processing import convert_from_float_to_unit16, create_tiled_raster,convert_landsat_to_model_format,get_best_landsat_from_dir,get_best_landsat_tifs\n",
    "from skimage.io import imsave\n",
    "from skimage import img_as_ubyte\n"
   ]
  },
  {
   "cell_type": "markdown",
   "metadata": {},
   "source": [
    "## Get the Best LandSat Raster"
   ]
  },
  {
   "cell_type": "code",
   "execution_count": 2,
   "metadata": {},
   "outputs": [
    {
     "name": "stdout",
     "output_type": "stream",
     "text": [
      "2\n",
      "The best satellite is L9\n",
      "The best landsat tiff is at : C:\\development\\coastseg-planet\\CoastSeg-Planet\\landsat\\santa_cruz_boardwalk\\ID_1_datetime05-21-24__01_55_42\\L9\\ms\\2024-03-21-18-46-12_L9_ID_1_datetime05-21-24__01_55_42_ms.tif\n",
      "The best landsat cloud mask is at : C:\\development\\coastseg-planet\\CoastSeg-Planet\\landsat\\santa_cruz_boardwalk\\ID_1_datetime05-21-24__01_55_42\\L9\\mask\\2024-03-21-18-46-12_L9_ID_1_datetime05-21-24__01_55_42_mask.tif\n"
     ]
    }
   ],
   "source": [
    "# input the coastseg session with landsat data downloaded\n",
    "downloaded_directory = r\"C:\\development\\coastseg-planet\\CoastSeg-Planet\\landsat\\santa_cruz_boardwalk\\ID_1_datetime05-21-24__01_55_42\" # this is a custom roi thats the same as the planet roi\n",
    "# get the landsat with the lowest RMSE and the cloud cover mask\n",
    "landsat_dir=get_best_landsat_from_dir(downloaded_directory)\n",
    "landsat_path, landsat_cloud_mask_path=get_best_landsat_tifs(downloaded_directory)\n",
    "print(f\"The best satellite is {landsat_dir}\")\n",
    "print(f\"The best landsat tiff is at : {landsat_path}\")\n",
    "print(f\"The best landsat cloud mask is at : {landsat_cloud_mask_path}\")"
   ]
  },
  {
   "cell_type": "markdown",
   "metadata": {},
   "source": [
    "## Convert the LandSat to RGB Tiff Model Compatible Format"
   ]
  },
  {
   "cell_type": "code",
   "execution_count": 3,
   "metadata": {},
   "outputs": [
    {
     "name": "stdout",
     "output_type": "stream",
     "text": [
      "dtype: uint8, shape: (110, 168, 3), count: 3\n",
      "Saving image to C:\\development\\coastseg-planet\\CoastSeg-Planet\\landsat\\santa_cruz_boardwalk\\ID_1_datetime05-21-24__01_55_42\\L9\\ms\\2024-03-21-18-46-12_L9_ID_1_datetime05-21-24__01_55_42_processed.jpg\n",
      "The landsat image that will be used for the model is at : C:\\development\\coastseg-planet\\CoastSeg-Planet\\landsat\\santa_cruz_boardwalk\\ID_1_datetime05-21-24__01_55_42\\L9\\ms\\2024-03-21-18-46-12_L9_ID_1_datetime05-21-24__01_55_42_processed_model_format.tif\n"
     ]
    }
   ],
   "source": [
    "landsat_processed_path  = processing.format_landsat_tiff(landsat_path)\n",
    "print(f\"The landsat image that will be used for the model is at : {landsat_processed_path}\")"
   ]
  },
  {
   "cell_type": "markdown",
   "metadata": {},
   "source": [
    "# Filter the Planet Images\n",
    "- Remove images that are less than 80% of the expected area\n",
    "- todo: Remove images that are too cloudy\n",
    "- todo use Mark's good bad classifier to remove bad images"
   ]
  },
  {
   "cell_type": "code",
   "execution_count": 4,
   "metadata": {},
   "outputs": [
    {
     "name": "stdout",
     "output_type": "stream",
     "text": [
      "Number of TIFFs: 23\n",
      "Number of filtered TIFFs: 21\n",
      "Filtered TIFFs: ['C:\\\\development\\\\coastseg-planet\\\\CoastSeg-Planet\\\\santa_cruz_boardwalk_QGIS\\\\files\\\\20240319_190343_01_24fb_3B_AnalyticMS_clip.tif', 'C:\\\\development\\\\coastseg-planet\\\\CoastSeg-Planet\\\\santa_cruz_boardwalk_QGIS\\\\files\\\\20240409_190216_26_24fc_3B_AnalyticMS_clip.tif', 'C:\\\\development\\\\coastseg-planet\\\\CoastSeg-Planet\\\\santa_cruz_boardwalk_QGIS\\\\files\\\\20240313_180824_31_2423_3B_AnalyticMS_clip.tif', 'C:\\\\development\\\\coastseg-planet\\\\CoastSeg-Planet\\\\santa_cruz_boardwalk_QGIS\\\\files\\\\20240402_182012_35_2432_3B_AnalyticMS_clip.tif', 'C:\\\\development\\\\coastseg-planet\\\\CoastSeg-Planet\\\\santa_cruz_boardwalk_QGIS\\\\files\\\\20240316_181002_74_2420_3B_AnalyticMS_clip.tif', 'C:\\\\development\\\\coastseg-planet\\\\CoastSeg-Planet\\\\santa_cruz_boardwalk_QGIS\\\\files\\\\20240402_182010_48_2432_3B_AnalyticMS_clip.tif', 'C:\\\\development\\\\coastseg-planet\\\\CoastSeg-Planet\\\\santa_cruz_boardwalk_QGIS\\\\files\\\\20240317_181214_28_2459_3B_AnalyticMS_clip.tif', 'C:\\\\development\\\\coastseg-planet\\\\CoastSeg-Planet\\\\santa_cruz_boardwalk_QGIS\\\\files\\\\20240317_180743_00_2460_3B_AnalyticMS_clip.tif', 'C:\\\\development\\\\coastseg-planet\\\\CoastSeg-Planet\\\\santa_cruz_boardwalk_QGIS\\\\files\\\\20240317_180741_09_2460_3B_AnalyticMS_clip.tif', 'C:\\\\development\\\\coastseg-planet\\\\CoastSeg-Planet\\\\santa_cruz_boardwalk_QGIS\\\\files\\\\20240401_180632_35_24c0_3B_AnalyticMS_clip.tif', 'C:\\\\development\\\\coastseg-planet\\\\CoastSeg-Planet\\\\santa_cruz_boardwalk_QGIS\\\\files\\\\20240318_185725_57_247d_3B_AnalyticMS_clip.tif', 'C:\\\\development\\\\coastseg-planet\\\\CoastSeg-Planet\\\\santa_cruz_boardwalk_QGIS\\\\files\\\\20240408_190149_86_24e0_3B_AnalyticMS_clip.tif', 'C:\\\\development\\\\coastseg-planet\\\\CoastSeg-Planet\\\\santa_cruz_boardwalk_QGIS\\\\files\\\\20240410_185931_91_24f3_3B_AnalyticMS_clip.tif', 'C:\\\\development\\\\coastseg-planet\\\\CoastSeg-Planet\\\\santa_cruz_boardwalk_QGIS\\\\files\\\\20240401_180838_84_24b4_3B_AnalyticMS_clip.tif', 'C:\\\\development\\\\coastseg-planet\\\\CoastSeg-Planet\\\\santa_cruz_boardwalk_QGIS\\\\files\\\\20240401_180836_68_24b4_3B_AnalyticMS_clip.tif', 'C:\\\\development\\\\coastseg-planet\\\\CoastSeg-Planet\\\\santa_cruz_boardwalk_QGIS\\\\files\\\\20240316_181004_66_2420_3B_AnalyticMS_clip.tif', 'C:\\\\development\\\\coastseg-planet\\\\CoastSeg-Planet\\\\santa_cruz_boardwalk_QGIS\\\\files\\\\20240409_180644_86_24b6_3B_AnalyticMS_clip.tif', 'C:\\\\development\\\\coastseg-planet\\\\CoastSeg-Planet\\\\santa_cruz_boardwalk_QGIS\\\\files\\\\20240313_181345_71_242d_3B_AnalyticMS_clip.tif', 'C:\\\\development\\\\coastseg-planet\\\\CoastSeg-Planet\\\\santa_cruz_boardwalk_QGIS\\\\files\\\\20240401_190203_53_24f2_3B_AnalyticMS_clip.tif', 'C:\\\\development\\\\coastseg-planet\\\\CoastSeg-Planet\\\\santa_cruz_boardwalk_QGIS\\\\files\\\\20240315_190104_74_24c6_3B_AnalyticMS_clip.tif', 'C:\\\\development\\\\coastseg-planet\\\\CoastSeg-Planet\\\\santa_cruz_boardwalk_QGIS\\\\files\\\\20240411_190131_50_24e1_3B_AnalyticMS_clip.tif']\n"
     ]
    }
   ],
   "source": [
    "import glob\n",
    "import os\n",
    "from coastseg_planet.processing import filter_tiffs_by_area\n",
    "planet_dir = r\"C:\\development\\coastseg-planet\\CoastSeg-Planet\\santa_cruz_boardwalk_QGIS\\files\"\n",
    "tiff_paths = glob.glob(os.path.join(planet_dir,\"*AnalyticMS_clip.tif\"))\n",
    "print(f\"Number of TIFFs: {len(tiff_paths)}\")\n",
    "\n",
    "# improvement get the planet tiff with the largest area and use that as the expected area\n",
    "expected_area_km = 4.5  # 4.1 square kilometers\n",
    "threshold = 0.90\n",
    "\n",
    "filtered_tiffs = filter_tiffs_by_area(tiff_paths, expected_area_km, threshold, use_threads=True)\n",
    "print(f\"Number of filtered TIFFs: {len(filtered_tiffs)}\")\n",
    "print(\"Filtered TIFFs:\", filtered_tiffs)"
   ]
  },
  {
   "cell_type": "markdown",
   "metadata": {},
   "source": [
    "# Convert the Planet Images to TOAR if not already TOAR\n",
    "-todo read the xml files to determine if the TOAR tool was already used and if so skip this"
   ]
  },
  {
   "cell_type": "code",
   "execution_count": 6,
   "metadata": {},
   "outputs": [
    {
     "name": "stdout",
     "output_type": "stream",
     "text": [
      "Converting C:\\development\\coastseg-planet\\CoastSeg-Planet\\santa_cruz_boardwalk_QGIS\\files\\20240319_190343_01_24fb_3B_AnalyticMS_clip.tif to TOAR format and saving to C:\\development\\coastseg-planet\\CoastSeg-Planet\\santa_cruz_boardwalk_QGIS\\files\\20240319_190343_01_24fb_TOAR.tif\n",
      "Sensor: PSB.SD\n",
      "Saving to: C:\\development\\coastseg-planet\\CoastSeg-Planet\\santa_cruz_boardwalk_QGIS\\files\\20240319_190343_01_24fb_TOAR.tif_TOA.tif\n",
      "Converting C:\\development\\coastseg-planet\\CoastSeg-Planet\\santa_cruz_boardwalk_QGIS\\files\\20240409_190216_26_24fc_3B_AnalyticMS_clip.tif to TOAR format and saving to C:\\development\\coastseg-planet\\CoastSeg-Planet\\santa_cruz_boardwalk_QGIS\\files\\20240409_190216_26_24fc_TOAR.tif\n",
      "Sensor: PSB.SD\n",
      "Saving to: C:\\development\\coastseg-planet\\CoastSeg-Planet\\santa_cruz_boardwalk_QGIS\\files\\20240409_190216_26_24fc_TOAR.tif_TOA.tif\n",
      "Converting C:\\development\\coastseg-planet\\CoastSeg-Planet\\santa_cruz_boardwalk_QGIS\\files\\20240313_180824_31_2423_3B_AnalyticMS_clip.tif to TOAR format and saving to C:\\development\\coastseg-planet\\CoastSeg-Planet\\santa_cruz_boardwalk_QGIS\\files\\20240313_180824_31_2423_TOAR.tif\n",
      "Sensor: PSB.SD\n",
      "Saving to: C:\\development\\coastseg-planet\\CoastSeg-Planet\\santa_cruz_boardwalk_QGIS\\files\\20240313_180824_31_2423_TOAR.tif_TOA.tif\n",
      "Converting C:\\development\\coastseg-planet\\CoastSeg-Planet\\santa_cruz_boardwalk_QGIS\\files\\20240402_182012_35_2432_3B_AnalyticMS_clip.tif to TOAR format and saving to C:\\development\\coastseg-planet\\CoastSeg-Planet\\santa_cruz_boardwalk_QGIS\\files\\20240402_182012_35_2432_TOAR.tif\n",
      "Sensor: PSB.SD\n",
      "Saving to: C:\\development\\coastseg-planet\\CoastSeg-Planet\\santa_cruz_boardwalk_QGIS\\files\\20240402_182012_35_2432_TOAR.tif_TOA.tif\n",
      "Converting C:\\development\\coastseg-planet\\CoastSeg-Planet\\santa_cruz_boardwalk_QGIS\\files\\20240316_181002_74_2420_3B_AnalyticMS_clip.tif to TOAR format and saving to C:\\development\\coastseg-planet\\CoastSeg-Planet\\santa_cruz_boardwalk_QGIS\\files\\20240316_181002_74_2420_TOAR.tif\n",
      "Sensor: PSB.SD\n",
      "Saving to: C:\\development\\coastseg-planet\\CoastSeg-Planet\\santa_cruz_boardwalk_QGIS\\files\\20240316_181002_74_2420_TOAR.tif_TOA.tif\n",
      "Converting C:\\development\\coastseg-planet\\CoastSeg-Planet\\santa_cruz_boardwalk_QGIS\\files\\20240402_182010_48_2432_3B_AnalyticMS_clip.tif to TOAR format and saving to C:\\development\\coastseg-planet\\CoastSeg-Planet\\santa_cruz_boardwalk_QGIS\\files\\20240402_182010_48_2432_TOAR.tif\n",
      "Sensor: PSB.SD\n",
      "Saving to: C:\\development\\coastseg-planet\\CoastSeg-Planet\\santa_cruz_boardwalk_QGIS\\files\\20240402_182010_48_2432_TOAR.tif_TOA.tif\n",
      "Converting C:\\development\\coastseg-planet\\CoastSeg-Planet\\santa_cruz_boardwalk_QGIS\\files\\20240317_181214_28_2459_3B_AnalyticMS_clip.tif to TOAR format and saving to C:\\development\\coastseg-planet\\CoastSeg-Planet\\santa_cruz_boardwalk_QGIS\\files\\20240317_181214_28_2459_TOAR.tif\n",
      "Sensor: PSB.SD\n",
      "Saving to: C:\\development\\coastseg-planet\\CoastSeg-Planet\\santa_cruz_boardwalk_QGIS\\files\\20240317_181214_28_2459_TOAR.tif_TOA.tif\n",
      "Converting C:\\development\\coastseg-planet\\CoastSeg-Planet\\santa_cruz_boardwalk_QGIS\\files\\20240317_180743_00_2460_3B_AnalyticMS_clip.tif to TOAR format and saving to C:\\development\\coastseg-planet\\CoastSeg-Planet\\santa_cruz_boardwalk_QGIS\\files\\20240317_180743_00_2460_TOAR.tif\n",
      "Sensor: PSB.SD\n",
      "Saving to: C:\\development\\coastseg-planet\\CoastSeg-Planet\\santa_cruz_boardwalk_QGIS\\files\\20240317_180743_00_2460_TOAR.tif_TOA.tif\n",
      "Converting C:\\development\\coastseg-planet\\CoastSeg-Planet\\santa_cruz_boardwalk_QGIS\\files\\20240317_180741_09_2460_3B_AnalyticMS_clip.tif to TOAR format and saving to C:\\development\\coastseg-planet\\CoastSeg-Planet\\santa_cruz_boardwalk_QGIS\\files\\20240317_180741_09_2460_TOAR.tif\n",
      "Sensor: PSB.SD\n",
      "Saving to: C:\\development\\coastseg-planet\\CoastSeg-Planet\\santa_cruz_boardwalk_QGIS\\files\\20240317_180741_09_2460_TOAR.tif_TOA.tif\n",
      "Could not find XML file for C:\\development\\coastseg-planet\\CoastSeg-Planet\\santa_cruz_boardwalk_QGIS\\files\\20240401_180632_35_24c0_3B_AnalyticMS_clip.tif\n",
      "Converting C:\\development\\coastseg-planet\\CoastSeg-Planet\\santa_cruz_boardwalk_QGIS\\files\\20240318_185725_57_247d_3B_AnalyticMS_clip.tif to TOAR format and saving to C:\\development\\coastseg-planet\\CoastSeg-Planet\\santa_cruz_boardwalk_QGIS\\files\\20240318_185725_57_247d_TOAR.tif\n",
      "Sensor: PSB.SD\n",
      "Saving to: C:\\development\\coastseg-planet\\CoastSeg-Planet\\santa_cruz_boardwalk_QGIS\\files\\20240318_185725_57_247d_TOAR.tif_TOA.tif\n",
      "Converting C:\\development\\coastseg-planet\\CoastSeg-Planet\\santa_cruz_boardwalk_QGIS\\files\\20240408_190149_86_24e0_3B_AnalyticMS_clip.tif to TOAR format and saving to C:\\development\\coastseg-planet\\CoastSeg-Planet\\santa_cruz_boardwalk_QGIS\\files\\20240408_190149_86_24e0_TOAR.tif\n",
      "Sensor: PSB.SD\n",
      "Saving to: C:\\development\\coastseg-planet\\CoastSeg-Planet\\santa_cruz_boardwalk_QGIS\\files\\20240408_190149_86_24e0_TOAR.tif_TOA.tif\n",
      "Converting C:\\development\\coastseg-planet\\CoastSeg-Planet\\santa_cruz_boardwalk_QGIS\\files\\20240410_185931_91_24f3_3B_AnalyticMS_clip.tif to TOAR format and saving to C:\\development\\coastseg-planet\\CoastSeg-Planet\\santa_cruz_boardwalk_QGIS\\files\\20240410_185931_91_24f3_TOAR.tif\n",
      "Sensor: PSB.SD\n",
      "Saving to: C:\\development\\coastseg-planet\\CoastSeg-Planet\\santa_cruz_boardwalk_QGIS\\files\\20240410_185931_91_24f3_TOAR.tif_TOA.tif\n",
      "Converting C:\\development\\coastseg-planet\\CoastSeg-Planet\\santa_cruz_boardwalk_QGIS\\files\\20240401_180838_84_24b4_3B_AnalyticMS_clip.tif to TOAR format and saving to C:\\development\\coastseg-planet\\CoastSeg-Planet\\santa_cruz_boardwalk_QGIS\\files\\20240401_180838_84_24b4_TOAR.tif\n",
      "Sensor: PSB.SD\n",
      "Saving to: C:\\development\\coastseg-planet\\CoastSeg-Planet\\santa_cruz_boardwalk_QGIS\\files\\20240401_180838_84_24b4_TOAR.tif_TOA.tif\n",
      "Converting C:\\development\\coastseg-planet\\CoastSeg-Planet\\santa_cruz_boardwalk_QGIS\\files\\20240401_180836_68_24b4_3B_AnalyticMS_clip.tif to TOAR format and saving to C:\\development\\coastseg-planet\\CoastSeg-Planet\\santa_cruz_boardwalk_QGIS\\files\\20240401_180836_68_24b4_TOAR.tif\n",
      "Sensor: PSB.SD\n",
      "Saving to: C:\\development\\coastseg-planet\\CoastSeg-Planet\\santa_cruz_boardwalk_QGIS\\files\\20240401_180836_68_24b4_TOAR.tif_TOA.tif\n",
      "Converting C:\\development\\coastseg-planet\\CoastSeg-Planet\\santa_cruz_boardwalk_QGIS\\files\\20240316_181004_66_2420_3B_AnalyticMS_clip.tif to TOAR format and saving to C:\\development\\coastseg-planet\\CoastSeg-Planet\\santa_cruz_boardwalk_QGIS\\files\\20240316_181004_66_2420_TOAR.tif\n",
      "Sensor: PSB.SD\n",
      "Saving to: C:\\development\\coastseg-planet\\CoastSeg-Planet\\santa_cruz_boardwalk_QGIS\\files\\20240316_181004_66_2420_TOAR.tif_TOA.tif\n",
      "Converting C:\\development\\coastseg-planet\\CoastSeg-Planet\\santa_cruz_boardwalk_QGIS\\files\\20240409_180644_86_24b6_3B_AnalyticMS_clip.tif to TOAR format and saving to C:\\development\\coastseg-planet\\CoastSeg-Planet\\santa_cruz_boardwalk_QGIS\\files\\20240409_180644_86_24b6_TOAR.tif\n",
      "Sensor: PSB.SD\n",
      "Saving to: C:\\development\\coastseg-planet\\CoastSeg-Planet\\santa_cruz_boardwalk_QGIS\\files\\20240409_180644_86_24b6_TOAR.tif_TOA.tif\n",
      "Converting C:\\development\\coastseg-planet\\CoastSeg-Planet\\santa_cruz_boardwalk_QGIS\\files\\20240313_181345_71_242d_3B_AnalyticMS_clip.tif to TOAR format and saving to C:\\development\\coastseg-planet\\CoastSeg-Planet\\santa_cruz_boardwalk_QGIS\\files\\20240313_181345_71_242d_TOAR.tif\n",
      "Sensor: PSB.SD\n",
      "Saving to: C:\\development\\coastseg-planet\\CoastSeg-Planet\\santa_cruz_boardwalk_QGIS\\files\\20240313_181345_71_242d_TOAR.tif_TOA.tif\n",
      "Converting C:\\development\\coastseg-planet\\CoastSeg-Planet\\santa_cruz_boardwalk_QGIS\\files\\20240401_190203_53_24f2_3B_AnalyticMS_clip.tif to TOAR format and saving to C:\\development\\coastseg-planet\\CoastSeg-Planet\\santa_cruz_boardwalk_QGIS\\files\\20240401_190203_53_24f2_TOAR.tif\n",
      "Sensor: PSB.SD\n",
      "Saving to: C:\\development\\coastseg-planet\\CoastSeg-Planet\\santa_cruz_boardwalk_QGIS\\files\\20240401_190203_53_24f2_TOAR.tif_TOA.tif\n",
      "Converting C:\\development\\coastseg-planet\\CoastSeg-Planet\\santa_cruz_boardwalk_QGIS\\files\\20240315_190104_74_24c6_3B_AnalyticMS_clip.tif to TOAR format and saving to C:\\development\\coastseg-planet\\CoastSeg-Planet\\santa_cruz_boardwalk_QGIS\\files\\20240315_190104_74_24c6_TOAR.tif\n",
      "Sensor: PSB.SD\n",
      "Saving to: C:\\development\\coastseg-planet\\CoastSeg-Planet\\santa_cruz_boardwalk_QGIS\\files\\20240315_190104_74_24c6_TOAR.tif_TOA.tif\n",
      "Converting C:\\development\\coastseg-planet\\CoastSeg-Planet\\santa_cruz_boardwalk_QGIS\\files\\20240411_190131_50_24e1_3B_AnalyticMS_clip.tif to TOAR format and saving to C:\\development\\coastseg-planet\\CoastSeg-Planet\\santa_cruz_boardwalk_QGIS\\files\\20240411_190131_50_24e1_TOAR.tif\n",
      "Sensor: PSB.SD\n",
      "Saving to: C:\\development\\coastseg-planet\\CoastSeg-Planet\\santa_cruz_boardwalk_QGIS\\files\\20240411_190131_50_24e1_TOAR.tif_TOA.tif\n"
     ]
    }
   ],
   "source": [
    "from coastseg_planet.processing import convert_planet_to_model_format\n",
    "from coastseg_planet.processing import get_base_filename\n",
    "from coastseg_planet.processing import TOA_conversion\n",
    "\n",
    "separator='_3B'\n",
    "for target_path in filtered_tiffs:\n",
    "    base_filename = get_base_filename(target_path, separator)\n",
    "    output_path = os.path.join(planet_dir, f\"{base_filename}_TOAR.tif\")\n",
    "    found_files = glob.glob(os.path.join(planet_dir, f\"{base_filename}*AnalyticMS_metadata_clip.xml\"))\n",
    "    if not found_files:\n",
    "        print(f\"Could not find XML file for {target_path}\")\n",
    "        continue\n",
    "    xml_path = found_files[0]\n",
    "    print(f\"Converting {target_path} to TOAR format and saving to {output_path}\")\n",
    "    # print(f\"Using XML file: {xml_path}\")\n",
    "    TOA_conversion(target_path, xml_path, output_path)\n",
    "    \n",
    "    \n",
    "# @todo remove the temp file"
   ]
  },
  {
   "cell_type": "markdown",
   "metadata": {},
   "source": [
    "# Convert Planet Imagery to Same Format as LandSat\n",
    "- reorder to bands to be  RGBNIR\n",
    "- scale the values to be 0 - 255 "
   ]
  },
  {
   "cell_type": "code",
   "execution_count": 7,
   "metadata": {},
   "outputs": [
    {
     "name": "stdout",
     "output_type": "stream",
     "text": [
      "Converting to model format and saving to C:\\development\\coastseg-planet\\CoastSeg-Planet\\santa_cruz_boardwalk_QGIS\\files\\20240319_190343_01_24fb_TOAR_model_format.tif\n",
      "Converting to model format and saving to C:\\development\\coastseg-planet\\CoastSeg-Planet\\santa_cruz_boardwalk_QGIS\\files\\20240409_190216_26_24fc_TOAR_model_format.tif\n",
      "Converting to model format and saving to C:\\development\\coastseg-planet\\CoastSeg-Planet\\santa_cruz_boardwalk_QGIS\\files\\20240313_180824_31_2423_TOAR_model_format.tif\n",
      "Converting to model format and saving to C:\\development\\coastseg-planet\\CoastSeg-Planet\\santa_cruz_boardwalk_QGIS\\files\\20240402_182012_35_2432_TOAR_model_format.tif\n",
      "Converting to model format and saving to C:\\development\\coastseg-planet\\CoastSeg-Planet\\santa_cruz_boardwalk_QGIS\\files\\20240316_181002_74_2420_TOAR_model_format.tif\n",
      "Converting to model format and saving to C:\\development\\coastseg-planet\\CoastSeg-Planet\\santa_cruz_boardwalk_QGIS\\files\\20240402_182010_48_2432_TOAR_model_format.tif\n",
      "Converting to model format and saving to C:\\development\\coastseg-planet\\CoastSeg-Planet\\santa_cruz_boardwalk_QGIS\\files\\20240317_181214_28_2459_TOAR_model_format.tif\n",
      "Converting to model format and saving to C:\\development\\coastseg-planet\\CoastSeg-Planet\\santa_cruz_boardwalk_QGIS\\files\\20240317_180743_00_2460_TOAR_model_format.tif\n",
      "Converting to model format and saving to C:\\development\\coastseg-planet\\CoastSeg-Planet\\santa_cruz_boardwalk_QGIS\\files\\20240317_180741_09_2460_TOAR_model_format.tif\n",
      "Converting to model format and saving to C:\\development\\coastseg-planet\\CoastSeg-Planet\\santa_cruz_boardwalk_QGIS\\files\\20240401_180632_35_24c0_TOAR_model_format.tif\n",
      "Converting to model format and saving to C:\\development\\coastseg-planet\\CoastSeg-Planet\\santa_cruz_boardwalk_QGIS\\files\\20240318_185725_57_247d_TOAR_model_format.tif\n",
      "Converting to model format and saving to C:\\development\\coastseg-planet\\CoastSeg-Planet\\santa_cruz_boardwalk_QGIS\\files\\20240408_190149_86_24e0_TOAR_model_format.tif\n",
      "Converting to model format and saving to C:\\development\\coastseg-planet\\CoastSeg-Planet\\santa_cruz_boardwalk_QGIS\\files\\20240410_185931_91_24f3_TOAR_model_format.tif\n",
      "Converting to model format and saving to C:\\development\\coastseg-planet\\CoastSeg-Planet\\santa_cruz_boardwalk_QGIS\\files\\20240401_180838_84_24b4_TOAR_model_format.tif\n",
      "Converting to model format and saving to C:\\development\\coastseg-planet\\CoastSeg-Planet\\santa_cruz_boardwalk_QGIS\\files\\20240401_180836_68_24b4_TOAR_model_format.tif\n",
      "Converting to model format and saving to C:\\development\\coastseg-planet\\CoastSeg-Planet\\santa_cruz_boardwalk_QGIS\\files\\20240316_181004_66_2420_TOAR_model_format.tif\n",
      "Converting to model format and saving to C:\\development\\coastseg-planet\\CoastSeg-Planet\\santa_cruz_boardwalk_QGIS\\files\\20240409_180644_86_24b6_TOAR_model_format.tif\n",
      "Converting to model format and saving to C:\\development\\coastseg-planet\\CoastSeg-Planet\\santa_cruz_boardwalk_QGIS\\files\\20240313_181345_71_242d_TOAR_model_format.tif\n",
      "Converting to model format and saving to C:\\development\\coastseg-planet\\CoastSeg-Planet\\santa_cruz_boardwalk_QGIS\\files\\20240401_190203_53_24f2_TOAR_model_format.tif\n",
      "Converting to model format and saving to C:\\development\\coastseg-planet\\CoastSeg-Planet\\santa_cruz_boardwalk_QGIS\\files\\20240315_190104_74_24c6_TOAR_model_format.tif\n",
      "Converting to model format and saving to C:\\development\\coastseg-planet\\CoastSeg-Planet\\santa_cruz_boardwalk_QGIS\\files\\20240411_190131_50_24e1_TOAR_model_format.tif\n"
     ]
    }
   ],
   "source": [
    "# from coastseg_planet.processing import convert_planet_to_model_format\n",
    "from coastseg_planet.processing import get_base_filename\n",
    "from coastseg_planet.processing import convert_planet_to_model_format\n",
    "\n",
    "import numpy as np\n",
    "from scipy.ndimage import zoom\n",
    "\n",
    "\n",
    "separator='_3B'\n",
    "for target_path in filtered_tiffs:\n",
    "    base_filename = get_base_filename(target_path, separator)\n",
    "    # make sure to use the TOAR file\n",
    "    target_pat = os.path.join(planet_dir, f\"{base_filename}_TOAR.tif\")\n",
    "    # make \n",
    "    output_path = os.path.join(planet_dir, f\"{base_filename}_TOAR_model_format.tif\")\n",
    "    output_path= convert_planet_to_model_format(target_path,output_path)\n",
    "    print(f\"Converting to model format and saving to {output_path}\")"
   ]
  },
  {
   "cell_type": "markdown",
   "metadata": {},
   "source": [
    "## Filter the Planet Imagery\n",
    "Use a model to sort the images as good or bad"
   ]
  },
  {
   "cell_type": "code",
   "execution_count": 8,
   "metadata": {},
   "outputs": [
    {
     "name": "stdout",
     "output_type": "stream",
     "text": [
      "WARNING:tensorflow:From c:\\Users\\sf230\\anaconda3\\envs\\coastseg_planet\\lib\\site-packages\\keras\\src\\losses.py:2976: The name tf.losses.sparse_softmax_cross_entropy is deprecated. Please use tf.compat.v1.losses.sparse_softmax_cross_entropy instead.\n",
      "\n"
     ]
    },
    {
     "name": "stderr",
     "output_type": "stream",
     "text": [
      "Transformers is only compatible with Keras 2, but you have explicitly set `TF_USE_LEGACY_KERAS` to `0`. This may result in unexpected behaviour or errors if Keras 3 objects are passed to Transformers models.\n"
     ]
    },
    {
     "name": "stdout",
     "output_type": "stream",
     "text": [
      "Version:  2.15.0\n",
      "Eager mode:  True\n",
      "WARNING:tensorflow:From c:\\Users\\sf230\\anaconda3\\envs\\coastseg_planet\\lib\\site-packages\\keras\\src\\backend.py:1398: The name tf.executing_eagerly_outside_functions is deprecated. Please use tf.compat.v1.executing_eagerly_outside_functions instead.\n",
      "\n",
      "WARNING:tensorflow:From c:\\Users\\sf230\\anaconda3\\envs\\coastseg_planet\\lib\\site-packages\\keras\\src\\layers\\pooling\\max_pooling2d.py:161: The name tf.nn.max_pool is deprecated. Please use tf.nn.max_pool2d instead.\n",
      "\n",
      "1/1 [==============================] - 0s 217ms/step\n",
      "1/1 [==============================] - 0s 30ms/step\n",
      "1/1 [==============================] - 0s 30ms/step\n",
      "1/1 [==============================] - 0s 29ms/step\n",
      "1/1 [==============================] - 0s 30ms/step\n",
      "1/1 [==============================] - 0s 29ms/step\n",
      "1/1 [==============================] - 0s 30ms/step\n",
      "1/1 [==============================] - 0s 33ms/step\n",
      "1/1 [==============================] - 0s 29ms/step\n",
      "1/1 [==============================] - 0s 32ms/step\n",
      "1/1 [==============================] - 0s 29ms/step\n",
      "1/1 [==============================] - 0s 30ms/step\n",
      "1/1 [==============================] - 0s 29ms/step\n",
      "1/1 [==============================] - 0s 27ms/step\n",
      "1/1 [==============================] - 0s 29ms/step\n",
      "1/1 [==============================] - 0s 30ms/step\n",
      "1/1 [==============================] - 0s 29ms/step\n",
      "1/1 [==============================] - 0s 29ms/step\n",
      "1/1 [==============================] - 0s 29ms/step\n",
      "1/1 [==============================] - 0s 28ms/step\n",
      "1/1 [==============================] - 0s 29ms/step\n"
     ]
    },
    {
     "data": {
      "text/plain": [
       "'C:\\\\development\\\\coastseg-planet\\\\CoastSeg-Planet\\\\santa_cruz_boardwalk_QGIS\\\\files\\\\classification_results.csv'"
      ]
     },
     "execution_count": 8,
     "metadata": {},
     "output_type": "execute_result"
    }
   ],
   "source": [
    "from coastseg_planet import model\n",
    "import os \n",
    "\n",
    "\n",
    "model_path = r\"C:\\development\\coastseg-planet\\CoastSeg-Planet\\models\\best_rgb.h5\"\n",
    "path_to_inference_imgs = r\"C:\\development\\coastseg-planet\\CoastSeg-Planet\\santa_cruz_boardwalk_QGIS\\files\"\n",
    "output_folder = r\"C:\\development\\coastseg-planet\\CoastSeg-Planet\\santa_cruz_boardwalk_QGIS\\files\"\n",
    "csv_path = os.path.join(output_folder, \"classification_results.csv\")\n",
    "regex = '*TOAR_model_format'\n",
    "model.run_classification_model(model_path, path_to_inference_imgs, output_folder, csv_path, regex, move_files=False)"
   ]
  },
  {
   "cell_type": "markdown",
   "metadata": {},
   "source": [
    "# Apply Cloud Masks to Planet\n",
    "Create a cloud and shadow mask for each image in the directory of planet images"
   ]
  },
  {
   "cell_type": "code",
   "execution_count": 9,
   "metadata": {},
   "outputs": [
    {
     "name": "stdout",
     "output_type": "stream",
     "text": [
      "Processing C:\\development\\coastseg-planet\\CoastSeg-Planet\\santa_cruz_boardwalk_QGIS\\files\\good\\20240313_180824_31_2423_3B_udm2_clip.tif\n",
      "Creating cloud and shadow mask from C:\\development\\coastseg-planet\\CoastSeg-Planet\\santa_cruz_boardwalk_QGIS\\files\\good\\20240313_180824_31_2423_3B_udm2_clip.tif\n",
      "Saving combined mask to C:\\development\\coastseg-planet\\CoastSeg-Planet\\santa_cruz_boardwalk_QGIS\\files\\good\\20240313_180824_31_2423_3B_udm2_clip_combined_mask.tif\n",
      "Processing C:\\development\\coastseg-planet\\CoastSeg-Planet\\santa_cruz_boardwalk_QGIS\\files\\good\\20240313_181345_71_242d_3B_udm2_clip.tif\n",
      "Creating cloud and shadow mask from C:\\development\\coastseg-planet\\CoastSeg-Planet\\santa_cruz_boardwalk_QGIS\\files\\good\\20240313_181345_71_242d_3B_udm2_clip.tif\n",
      "Saving combined mask to C:\\development\\coastseg-planet\\CoastSeg-Planet\\santa_cruz_boardwalk_QGIS\\files\\good\\20240313_181345_71_242d_3B_udm2_clip_combined_mask.tif\n",
      "Processing C:\\development\\coastseg-planet\\CoastSeg-Planet\\santa_cruz_boardwalk_QGIS\\files\\good\\20240315_190104_74_24c6_3B_udm2_clip.tif\n",
      "Creating cloud and shadow mask from C:\\development\\coastseg-planet\\CoastSeg-Planet\\santa_cruz_boardwalk_QGIS\\files\\good\\20240315_190104_74_24c6_3B_udm2_clip.tif\n",
      "Saving combined mask to C:\\development\\coastseg-planet\\CoastSeg-Planet\\santa_cruz_boardwalk_QGIS\\files\\good\\20240315_190104_74_24c6_3B_udm2_clip_combined_mask.tif\n",
      "Processing C:\\development\\coastseg-planet\\CoastSeg-Planet\\santa_cruz_boardwalk_QGIS\\files\\good\\20240316_181002_74_2420_3B_udm2_clip.tif\n",
      "Creating cloud and shadow mask from C:\\development\\coastseg-planet\\CoastSeg-Planet\\santa_cruz_boardwalk_QGIS\\files\\good\\20240316_181002_74_2420_3B_udm2_clip.tif\n",
      "Saving combined mask to C:\\development\\coastseg-planet\\CoastSeg-Planet\\santa_cruz_boardwalk_QGIS\\files\\good\\20240316_181002_74_2420_3B_udm2_clip_combined_mask.tif\n",
      "Processing C:\\development\\coastseg-planet\\CoastSeg-Planet\\santa_cruz_boardwalk_QGIS\\files\\good\\20240316_181004_66_2420_3B_udm2_clip.tif\n",
      "Creating cloud and shadow mask from C:\\development\\coastseg-planet\\CoastSeg-Planet\\santa_cruz_boardwalk_QGIS\\files\\good\\20240316_181004_66_2420_3B_udm2_clip.tif\n",
      "Saving combined mask to C:\\development\\coastseg-planet\\CoastSeg-Planet\\santa_cruz_boardwalk_QGIS\\files\\good\\20240316_181004_66_2420_3B_udm2_clip_combined_mask.tif\n",
      "Processing C:\\development\\coastseg-planet\\CoastSeg-Planet\\santa_cruz_boardwalk_QGIS\\files\\good\\20240317_180741_09_2460_3B_udm2_clip.tif\n",
      "Creating cloud and shadow mask from C:\\development\\coastseg-planet\\CoastSeg-Planet\\santa_cruz_boardwalk_QGIS\\files\\good\\20240317_180741_09_2460_3B_udm2_clip.tif\n",
      "Saving combined mask to C:\\development\\coastseg-planet\\CoastSeg-Planet\\santa_cruz_boardwalk_QGIS\\files\\good\\20240317_180741_09_2460_3B_udm2_clip_combined_mask.tif\n",
      "Processing C:\\development\\coastseg-planet\\CoastSeg-Planet\\santa_cruz_boardwalk_QGIS\\files\\good\\20240317_180743_00_2460_3B_udm2_clip.tif\n",
      "Creating cloud and shadow mask from C:\\development\\coastseg-planet\\CoastSeg-Planet\\santa_cruz_boardwalk_QGIS\\files\\good\\20240317_180743_00_2460_3B_udm2_clip.tif\n",
      "Saving combined mask to C:\\development\\coastseg-planet\\CoastSeg-Planet\\santa_cruz_boardwalk_QGIS\\files\\good\\20240317_180743_00_2460_3B_udm2_clip_combined_mask.tif\n",
      "Processing C:\\development\\coastseg-planet\\CoastSeg-Planet\\santa_cruz_boardwalk_QGIS\\files\\good\\20240317_181214_28_2459_3B_udm2_clip.tif\n",
      "Creating cloud and shadow mask from C:\\development\\coastseg-planet\\CoastSeg-Planet\\santa_cruz_boardwalk_QGIS\\files\\good\\20240317_181214_28_2459_3B_udm2_clip.tif\n",
      "Saving combined mask to C:\\development\\coastseg-planet\\CoastSeg-Planet\\santa_cruz_boardwalk_QGIS\\files\\good\\20240317_181214_28_2459_3B_udm2_clip_combined_mask.tif\n",
      "Processing C:\\development\\coastseg-planet\\CoastSeg-Planet\\santa_cruz_boardwalk_QGIS\\files\\good\\20240318_185725_57_247d_3B_udm2_clip.tif\n",
      "Creating cloud and shadow mask from C:\\development\\coastseg-planet\\CoastSeg-Planet\\santa_cruz_boardwalk_QGIS\\files\\good\\20240318_185725_57_247d_3B_udm2_clip.tif\n",
      "Saving combined mask to C:\\development\\coastseg-planet\\CoastSeg-Planet\\santa_cruz_boardwalk_QGIS\\files\\good\\20240318_185725_57_247d_3B_udm2_clip_combined_mask.tif\n",
      "Processing C:\\development\\coastseg-planet\\CoastSeg-Planet\\santa_cruz_boardwalk_QGIS\\files\\good\\20240319_190343_01_24fb_3B_udm2_clip.tif\n",
      "Creating cloud and shadow mask from C:\\development\\coastseg-planet\\CoastSeg-Planet\\santa_cruz_boardwalk_QGIS\\files\\good\\20240319_190343_01_24fb_3B_udm2_clip.tif\n",
      "Saving combined mask to C:\\development\\coastseg-planet\\CoastSeg-Planet\\santa_cruz_boardwalk_QGIS\\files\\good\\20240319_190343_01_24fb_3B_udm2_clip_combined_mask.tif\n",
      "Processing C:\\development\\coastseg-planet\\CoastSeg-Planet\\santa_cruz_boardwalk_QGIS\\files\\good\\20240401_180836_68_24b4_3B_udm2_clip.tif\n",
      "Creating cloud and shadow mask from C:\\development\\coastseg-planet\\CoastSeg-Planet\\santa_cruz_boardwalk_QGIS\\files\\good\\20240401_180836_68_24b4_3B_udm2_clip.tif\n",
      "Saving combined mask to C:\\development\\coastseg-planet\\CoastSeg-Planet\\santa_cruz_boardwalk_QGIS\\files\\good\\20240401_180836_68_24b4_3B_udm2_clip_combined_mask.tif\n",
      "Processing C:\\development\\coastseg-planet\\CoastSeg-Planet\\santa_cruz_boardwalk_QGIS\\files\\good\\20240401_180838_84_24b4_3B_udm2_clip.tif\n",
      "Creating cloud and shadow mask from C:\\development\\coastseg-planet\\CoastSeg-Planet\\santa_cruz_boardwalk_QGIS\\files\\good\\20240401_180838_84_24b4_3B_udm2_clip.tif\n",
      "Saving combined mask to C:\\development\\coastseg-planet\\CoastSeg-Planet\\santa_cruz_boardwalk_QGIS\\files\\good\\20240401_180838_84_24b4_3B_udm2_clip_combined_mask.tif\n",
      "Processing C:\\development\\coastseg-planet\\CoastSeg-Planet\\santa_cruz_boardwalk_QGIS\\files\\good\\20240401_190203_53_24f2_3B_udm2_clip.tif\n",
      "Creating cloud and shadow mask from C:\\development\\coastseg-planet\\CoastSeg-Planet\\santa_cruz_boardwalk_QGIS\\files\\good\\20240401_190203_53_24f2_3B_udm2_clip.tif\n",
      "Saving combined mask to C:\\development\\coastseg-planet\\CoastSeg-Planet\\santa_cruz_boardwalk_QGIS\\files\\good\\20240401_190203_53_24f2_3B_udm2_clip_combined_mask.tif\n",
      "Processing C:\\development\\coastseg-planet\\CoastSeg-Planet\\santa_cruz_boardwalk_QGIS\\files\\good\\20240402_182010_48_2432_3B_udm2_clip.tif\n",
      "Creating cloud and shadow mask from C:\\development\\coastseg-planet\\CoastSeg-Planet\\santa_cruz_boardwalk_QGIS\\files\\good\\20240402_182010_48_2432_3B_udm2_clip.tif\n",
      "Saving combined mask to C:\\development\\coastseg-planet\\CoastSeg-Planet\\santa_cruz_boardwalk_QGIS\\files\\good\\20240402_182010_48_2432_3B_udm2_clip_combined_mask.tif\n",
      "Processing C:\\development\\coastseg-planet\\CoastSeg-Planet\\santa_cruz_boardwalk_QGIS\\files\\good\\20240402_182012_35_2432_3B_udm2_clip.tif\n",
      "Creating cloud and shadow mask from C:\\development\\coastseg-planet\\CoastSeg-Planet\\santa_cruz_boardwalk_QGIS\\files\\good\\20240402_182012_35_2432_3B_udm2_clip.tif\n",
      "Saving combined mask to C:\\development\\coastseg-planet\\CoastSeg-Planet\\santa_cruz_boardwalk_QGIS\\files\\good\\20240402_182012_35_2432_3B_udm2_clip_combined_mask.tif\n",
      "Processing C:\\development\\coastseg-planet\\CoastSeg-Planet\\santa_cruz_boardwalk_QGIS\\files\\good\\20240408_190149_86_24e0_3B_udm2_clip.tif\n",
      "Creating cloud and shadow mask from C:\\development\\coastseg-planet\\CoastSeg-Planet\\santa_cruz_boardwalk_QGIS\\files\\good\\20240408_190149_86_24e0_3B_udm2_clip.tif\n",
      "Saving combined mask to C:\\development\\coastseg-planet\\CoastSeg-Planet\\santa_cruz_boardwalk_QGIS\\files\\good\\20240408_190149_86_24e0_3B_udm2_clip_combined_mask.tif\n",
      "Processing C:\\development\\coastseg-planet\\CoastSeg-Planet\\santa_cruz_boardwalk_QGIS\\files\\good\\20240409_180644_86_24b6_3B_udm2_clip.tif\n",
      "Creating cloud and shadow mask from C:\\development\\coastseg-planet\\CoastSeg-Planet\\santa_cruz_boardwalk_QGIS\\files\\good\\20240409_180644_86_24b6_3B_udm2_clip.tif\n",
      "Saving combined mask to C:\\development\\coastseg-planet\\CoastSeg-Planet\\santa_cruz_boardwalk_QGIS\\files\\good\\20240409_180644_86_24b6_3B_udm2_clip_combined_mask.tif\n",
      "Processing C:\\development\\coastseg-planet\\CoastSeg-Planet\\santa_cruz_boardwalk_QGIS\\files\\good\\20240409_190216_26_24fc_3B_udm2_clip.tif\n",
      "Creating cloud and shadow mask from C:\\development\\coastseg-planet\\CoastSeg-Planet\\santa_cruz_boardwalk_QGIS\\files\\good\\20240409_190216_26_24fc_3B_udm2_clip.tif\n",
      "Saving combined mask to C:\\development\\coastseg-planet\\CoastSeg-Planet\\santa_cruz_boardwalk_QGIS\\files\\good\\20240409_190216_26_24fc_3B_udm2_clip_combined_mask.tif\n",
      "Processing C:\\development\\coastseg-planet\\CoastSeg-Planet\\santa_cruz_boardwalk_QGIS\\files\\good\\20240410_185931_91_24f3_3B_udm2_clip.tif\n",
      "Creating cloud and shadow mask from C:\\development\\coastseg-planet\\CoastSeg-Planet\\santa_cruz_boardwalk_QGIS\\files\\good\\20240410_185931_91_24f3_3B_udm2_clip.tif\n",
      "Saving combined mask to C:\\development\\coastseg-planet\\CoastSeg-Planet\\santa_cruz_boardwalk_QGIS\\files\\good\\20240410_185931_91_24f3_3B_udm2_clip_combined_mask.tif\n",
      "Processing C:\\development\\coastseg-planet\\CoastSeg-Planet\\santa_cruz_boardwalk_QGIS\\files\\good\\20240411_190131_50_24e1_3B_udm2_clip.tif\n",
      "Creating cloud and shadow mask from C:\\development\\coastseg-planet\\CoastSeg-Planet\\santa_cruz_boardwalk_QGIS\\files\\good\\20240411_190131_50_24e1_3B_udm2_clip.tif\n",
      "Saving combined mask to C:\\development\\coastseg-planet\\CoastSeg-Planet\\santa_cruz_boardwalk_QGIS\\files\\good\\20240411_190131_50_24e1_3B_udm2_clip_combined_mask.tif\n"
     ]
    }
   ],
   "source": [
    "from coastseg_planet.masking import apply_cloudmask_to_dir\n",
    "# apply cloud mask to directory of planet images and generate cloud masks in that directory for each tif\n",
    "planet_dir = r\"C:\\development\\coastseg-planet\\CoastSeg-Planet\\santa_cruz_boardwalk_QGIS\\files\"\n",
    "good_dir = os.path.join(planet_dir, \"good\")\n",
    "apply_cloudmask_to_dir(good_dir)"
   ]
  },
  {
   "cell_type": "markdown",
   "metadata": {},
   "source": [
    "# Coregister the Planet Imagery to the LandSat Image\n",
    "- We will coregister each modified planet image to the landsat image that was modified to be in the zoo format"
   ]
  },
  {
   "cell_type": "code",
   "execution_count": 10,
   "metadata": {},
   "outputs": [
    {
     "name": "stderr",
     "output_type": "stream",
     "text": [
      "Polygonize progress     |==================================================| 100.0% Complete  => 0:00:00\n",
      "Polygonize progress     |==================================================| 100.0% Complete  => 0:00:00\n"
     ]
    },
    {
     "name": "stdout",
     "output_type": "stream",
     "text": [
      "Number of CPUs available: 20\n",
      "Processing C:\\development\\coastseg-planet\\CoastSeg-Planet\\santa_cruz_boardwalk_QGIS\\files\\20240319_190343_01_24fb_3B_AnalyticMS_clip.tif\n",
      "Number of CPUs available: 20\n",
      "{'max_shift': 30, 'align_grids': True, 'grid_res': 30, 'v': True, 'q': False, 'ignore_errors': False, 'progress': True, 'out_crea_options': ['COMPRESS=LZW'], 'fmt_out': 'GTIFF', 'CPUs': 10.0}\n",
      "Calculating footprint polygon and actual data corner coordinates for reference image...\n",
      "Bounding box of calculated footprint for reference image:\n",
      "\t(586582.5, 4090252.5, 589087.5, 4091902.5)\n",
      "Calculating footprint polygon and actual data corner coordinates for image to be shifted...\n",
      "Bounding box of calculated footprint for image to be shifted:\n",
      "\t(586587.0, 4090254.0, 589095.0, 4091901.0)\n",
      "resolutions:  15.0 3.0\n",
      "99.92 percent of the image to be shifted is covered by the reference image.\n",
      "Matching window position (X,Y): 587840.6848061499/4091078.3293753574\n",
      "Target window size (256, 256) not possible due to too small overlap area or window position too close to an image edge. New matching window size: (106, 106).\n",
      "Initializing tie points grid...\n",
      "Error processing C:\\development\\coastseg-planet\\CoastSeg-Planet\\santa_cruz_boardwalk_QGIS\\files\\20240319_190343_01_24fb_3B_AnalyticMS_clip.tif: The bad data mask must have only two pixel values (boolean) - 0 and 1 or False and True! The given mask for 2024-03-21-18-46-12_L9_ID_1_datetime05-21-24__01_55_42_mask contains the values [0, 21824, 21890, 21952, 22018, 22080, 22280, 23826, 23888, 24082, 24144].\n",
      "Processing C:\\development\\coastseg-planet\\CoastSeg-Planet\\santa_cruz_boardwalk_QGIS\\files\\20240409_190216_26_24fc_3B_AnalyticMS_clip.tif\n"
     ]
    },
    {
     "name": "stderr",
     "output_type": "stream",
     "text": [
      "Polygonize progress     |==================================================| 100.0% Complete  => 0:00:00\n",
      "Polygonize progress     |==================================================| 100.0% Complete  => 0:00:00\n"
     ]
    },
    {
     "name": "stdout",
     "output_type": "stream",
     "text": [
      "Number of CPUs available: 20\n",
      "{'max_shift': 30, 'align_grids': True, 'grid_res': 30, 'v': True, 'q': False, 'ignore_errors': False, 'progress': True, 'out_crea_options': ['COMPRESS=LZW'], 'fmt_out': 'GTIFF', 'CPUs': 10.0}\n",
      "Calculating footprint polygon and actual data corner coordinates for reference image...\n",
      "Bounding box of calculated footprint for reference image:\n",
      "\t(586582.5, 4090252.5, 589087.5, 4091902.5)\n",
      "Calculating footprint polygon and actual data corner coordinates for image to be shifted...\n",
      "Bounding box of calculated footprint for image to be shifted:\n",
      "\t(586587.0, 4090254.0, 589095.0, 4091901.0)\n",
      "resolutions:  15.0 3.0\n",
      "99.92 percent of the image to be shifted is covered by the reference image.\n",
      "Matching window position (X,Y): 587840.6848061499/4091078.3293753574\n",
      "Target window size (256, 256) not possible due to too small overlap area or window position too close to an image edge. New matching window size: (106, 106).\n",
      "Initializing tie points grid...\n",
      "Error processing C:\\development\\coastseg-planet\\CoastSeg-Planet\\santa_cruz_boardwalk_QGIS\\files\\20240409_190216_26_24fc_3B_AnalyticMS_clip.tif: The bad data mask must have only two pixel values (boolean) - 0 and 1 or False and True! The given mask for 2024-03-21-18-46-12_L9_ID_1_datetime05-21-24__01_55_42_mask contains the values [0, 21824, 21890, 21952, 22018, 22080, 22280, 23826, 23888, 24082, 24144].\n",
      "Processing C:\\development\\coastseg-planet\\CoastSeg-Planet\\santa_cruz_boardwalk_QGIS\\files\\20240313_180824_31_2423_3B_AnalyticMS_clip.tif\n",
      "Number of CPUs available: 20\n",
      "{'max_shift': 30, 'align_grids': True, 'grid_res': 30, 'v': True, 'q': False, 'ignore_errors': False, 'progress': True, 'out_crea_options': ['COMPRESS=LZW'], 'fmt_out': 'GTIFF', 'CPUs': 10.0}\n"
     ]
    },
    {
     "name": "stderr",
     "output_type": "stream",
     "text": [
      "Polygonize progress     |==================================================| 100.0% Complete  => 0:00:00\n",
      "Polygonize progress     |==================================================| 100.0% Complete  => 0:00:00\n"
     ]
    },
    {
     "name": "stdout",
     "output_type": "stream",
     "text": [
      "Calculating footprint polygon and actual data corner coordinates for reference image...\n",
      "Bounding box of calculated footprint for reference image:\n",
      "\t(586582.5, 4090252.5, 589087.5, 4091902.5)\n",
      "Calculating footprint polygon and actual data corner coordinates for image to be shifted...\n",
      "Bounding box of calculated footprint for image to be shifted:\n",
      "\t(586587.0, 4090254.0, 589095.0, 4091901.0)\n",
      "resolutions:  15.0 3.0\n",
      "99.92 percent of the image to be shifted is covered by the reference image.\n",
      "Matching window position (X,Y): 587840.6848061499/4091078.3293753574\n",
      "Target window size (256, 256) not possible due to too small overlap area or window position too close to an image edge. New matching window size: (106, 106).\n",
      "Initializing tie points grid...\n",
      "Error processing C:\\development\\coastseg-planet\\CoastSeg-Planet\\santa_cruz_boardwalk_QGIS\\files\\20240313_180824_31_2423_3B_AnalyticMS_clip.tif: The bad data mask must have only two pixel values (boolean) - 0 and 1 or False and True! The given mask for 2024-03-21-18-46-12_L9_ID_1_datetime05-21-24__01_55_42_mask contains the values [0, 21824, 21890, 21952, 22018, 22080, 22280, 23826, 23888, 24082, 24144].\n",
      "Processing C:\\development\\coastseg-planet\\CoastSeg-Planet\\santa_cruz_boardwalk_QGIS\\files\\20240402_182012_35_2432_3B_AnalyticMS_clip.tif\n",
      "Number of CPUs available: 20\n",
      "{'max_shift': 30, 'align_grids': True, 'grid_res': 30, 'v': True, 'q': False, 'ignore_errors': False, 'progress': True, 'out_crea_options': ['COMPRESS=LZW'], 'fmt_out': 'GTIFF', 'CPUs': 10.0}\n"
     ]
    },
    {
     "name": "stderr",
     "output_type": "stream",
     "text": [
      "Polygonize progress     |==================================================| 100.0% Complete  => 0:00:00\n",
      "Polygonize progress     |==================================================| 100.0% Complete  => 0:00:00\n",
      "Polygonize progress     |--------------------------------------------------| 0.1% Complete  => 0:00:00"
     ]
    },
    {
     "name": "stdout",
     "output_type": "stream",
     "text": [
      "Calculating footprint polygon and actual data corner coordinates for reference image...\n",
      "Bounding box of calculated footprint for reference image:\n",
      "\t(586582.5, 4090252.5, 589087.5, 4091902.5)\n",
      "Calculating footprint polygon and actual data corner coordinates for image to be shifted...\n",
      "Bounding box of calculated footprint for image to be shifted:\n",
      "\t(586587.0, 4090254.0, 589095.0, 4091901.0)\n",
      "resolutions:  15.0 3.0\n",
      "99.92 percent of the image to be shifted is covered by the reference image.\n",
      "Matching window position (X,Y): 587840.6848061499/4091078.3293753574\n",
      "Target window size (256, 256) not possible due to too small overlap area or window position too close to an image edge. New matching window size: (106, 106).\n",
      "Initializing tie points grid...\n",
      "Error processing C:\\development\\coastseg-planet\\CoastSeg-Planet\\santa_cruz_boardwalk_QGIS\\files\\20240402_182012_35_2432_3B_AnalyticMS_clip.tif: The bad data mask must have only two pixel values (boolean) - 0 and 1 or False and True! The given mask for 2024-03-21-18-46-12_L9_ID_1_datetime05-21-24__01_55_42_mask contains the values [0, 21824, 21890, 21952, 22018, 22080, 22280, 23826, 23888, 24082, 24144].\n",
      "Processing C:\\development\\coastseg-planet\\CoastSeg-Planet\\santa_cruz_boardwalk_QGIS\\files\\20240316_181002_74_2420_3B_AnalyticMS_clip.tif\n",
      "Number of CPUs available: 20\n",
      "{'max_shift': 30, 'align_grids': True, 'grid_res': 30, 'v': True, 'q': False, 'ignore_errors': False, 'progress': True, 'out_crea_options': ['COMPRESS=LZW'], 'fmt_out': 'GTIFF', 'CPUs': 10.0}\n",
      "Calculating footprint polygon and actual data corner coordinates for reference image...\n"
     ]
    },
    {
     "name": "stderr",
     "output_type": "stream",
     "text": [
      "Polygonize progress     |==================================================| 100.0% Complete  => 0:00:00\n",
      "Polygonize progress     |==================================================| 100.0% Complete  => 0:00:00\n",
      "Polygonize progress     |==============================================----| 91.0% Complete  => 0:00:00"
     ]
    },
    {
     "name": "stdout",
     "output_type": "stream",
     "text": [
      "Bounding box of calculated footprint for reference image:\n",
      "\t(586582.5, 4090252.5, 589087.5, 4091902.5)\n",
      "Calculating footprint polygon and actual data corner coordinates for image to be shifted...\n",
      "Bounding box of calculated footprint for image to be shifted:\n",
      "\t(586587.0, 4090815.0, 589089.0, 4091901.0)\n",
      "resolutions:  15.0 3.0\n",
      "99.98 percent of the image to be shifted is covered by the reference image.\n",
      "Matching window position (X,Y): 587959.2412705402/4091456.3232520674\n",
      "Target window size (256, 256) not possible due to too small overlap area or window position too close to an image edge. New matching window size: (48, 48).\n",
      "Initializing tie points grid...\n",
      "Error processing C:\\development\\coastseg-planet\\CoastSeg-Planet\\santa_cruz_boardwalk_QGIS\\files\\20240316_181002_74_2420_3B_AnalyticMS_clip.tif: The bad data mask must have only two pixel values (boolean) - 0 and 1 or False and True! The given mask for 2024-03-21-18-46-12_L9_ID_1_datetime05-21-24__01_55_42_mask contains the values [0, 21824, 21890, 21952, 22018, 22080, 22280, 23826, 23888, 24082, 24144].\n",
      "Processing C:\\development\\coastseg-planet\\CoastSeg-Planet\\santa_cruz_boardwalk_QGIS\\files\\20240402_182010_48_2432_3B_AnalyticMS_clip.tif\n",
      "Number of CPUs available: 20\n",
      "{'max_shift': 30, 'align_grids': True, 'grid_res': 30, 'v': True, 'q': False, 'ignore_errors': False, 'progress': True, 'out_crea_options': ['COMPRESS=LZW'], 'fmt_out': 'GTIFF', 'CPUs': 10.0}\n",
      "Calculating footprint polygon and actual data corner coordinates for reference image...\n"
     ]
    },
    {
     "name": "stderr",
     "output_type": "stream",
     "text": [
      "Polygonize progress     |==================================================| 100.0% Complete  => 0:00:00\n",
      "Polygonize progress     |==================================================| 100.0% Complete  => 0:00:00\n",
      "Polygonize progress     |=====================================-------------| 74.6% Complete  => 0:00:00"
     ]
    },
    {
     "name": "stdout",
     "output_type": "stream",
     "text": [
      "Bounding box of calculated footprint for reference image:\n",
      "\t(586582.5, 4090252.5, 589087.5, 4091902.5)\n",
      "Calculating footprint polygon and actual data corner coordinates for image to be shifted...\n",
      "Bounding box of calculated footprint for image to be shifted:\n",
      "\t(586587.0, 4090254.0, 589095.0, 4091901.0)\n",
      "resolutions:  15.0 3.0\n",
      "99.92 percent of the image to be shifted is covered by the reference image.\n",
      "Matching window position (X,Y): 587840.6848061499/4091078.3293753574\n",
      "Target window size (256, 256) not possible due to too small overlap area or window position too close to an image edge. New matching window size: (106, 106).\n",
      "Initializing tie points grid...\n",
      "Error processing C:\\development\\coastseg-planet\\CoastSeg-Planet\\santa_cruz_boardwalk_QGIS\\files\\20240402_182010_48_2432_3B_AnalyticMS_clip.tif: The bad data mask must have only two pixel values (boolean) - 0 and 1 or False and True! The given mask for 2024-03-21-18-46-12_L9_ID_1_datetime05-21-24__01_55_42_mask contains the values [0, 21824, 21890, 21952, 22018, 22080, 22280, 23826, 23888, 24082, 24144].\n",
      "Processing C:\\development\\coastseg-planet\\CoastSeg-Planet\\santa_cruz_boardwalk_QGIS\\files\\20240317_181214_28_2459_3B_AnalyticMS_clip.tif\n",
      "Number of CPUs available: 20\n",
      "{'max_shift': 30, 'align_grids': True, 'grid_res': 30, 'v': True, 'q': False, 'ignore_errors': False, 'progress': True, 'out_crea_options': ['COMPRESS=LZW'], 'fmt_out': 'GTIFF', 'CPUs': 10.0}\n",
      "Calculating footprint polygon and actual data corner coordinates for reference image...\n"
     ]
    },
    {
     "name": "stderr",
     "output_type": "stream",
     "text": [
      "Polygonize progress     |==================================================| 100.0% Complete  => 0:00:00\n",
      "Polygonize progress     |==================================================| 100.0% Complete  => 0:00:00\n",
      "Polygonize progress     |==============================================----| 92.6% Complete  => 0:00:00"
     ]
    },
    {
     "name": "stdout",
     "output_type": "stream",
     "text": [
      "Bounding box of calculated footprint for reference image:\n",
      "\t(586582.5, 4090252.5, 589087.5, 4091902.5)\n",
      "Calculating footprint polygon and actual data corner coordinates for image to be shifted...\n",
      "Bounding box of calculated footprint for image to be shifted:\n",
      "\t(586587.0, 4090254.0, 589095.0, 4091901.0)\n",
      "resolutions:  15.0 3.0\n",
      "99.92 percent of the image to be shifted is covered by the reference image.\n",
      "Matching window position (X,Y): 587840.6848061499/4091078.3293753574\n",
      "Target window size (256, 256) not possible due to too small overlap area or window position too close to an image edge. New matching window size: (106, 106).\n",
      "Initializing tie points grid...\n",
      "Error processing C:\\development\\coastseg-planet\\CoastSeg-Planet\\santa_cruz_boardwalk_QGIS\\files\\20240317_181214_28_2459_3B_AnalyticMS_clip.tif: The bad data mask must have only two pixel values (boolean) - 0 and 1 or False and True! The given mask for 2024-03-21-18-46-12_L9_ID_1_datetime05-21-24__01_55_42_mask contains the values [0, 21824, 21890, 21952, 22018, 22080, 22280, 23826, 23888, 24082, 24144].\n",
      "Processing C:\\development\\coastseg-planet\\CoastSeg-Planet\\santa_cruz_boardwalk_QGIS\\files\\20240317_180743_00_2460_3B_AnalyticMS_clip.tif\n",
      "Number of CPUs available: 20\n",
      "{'max_shift': 30, 'align_grids': True, 'grid_res': 30, 'v': True, 'q': False, 'ignore_errors': False, 'progress': True, 'out_crea_options': ['COMPRESS=LZW'], 'fmt_out': 'GTIFF', 'CPUs': 10.0}\n",
      "Calculating footprint polygon and actual data corner coordinates for reference image...\n"
     ]
    },
    {
     "name": "stderr",
     "output_type": "stream",
     "text": [
      "Polygonize progress     |==================================================| 100.0% Complete  => 0:00:00\n",
      "Polygonize progress     |==================================================| 100.0% Complete  => 0:00:00\n",
      "Polygonize progress     |================================================--| 95.1% Complete  => 0:00:00"
     ]
    },
    {
     "name": "stdout",
     "output_type": "stream",
     "text": [
      "Bounding box of calculated footprint for reference image:\n",
      "\t(586582.5, 4090252.5, 589087.5, 4091902.5)\n",
      "Calculating footprint polygon and actual data corner coordinates for image to be shifted...\n",
      "Bounding box of calculated footprint for image to be shifted:\n",
      "\t(586587.0, 4090254.0, 589095.0, 4091901.0)\n",
      "resolutions:  15.0 3.0\n",
      "99.92 percent of the image to be shifted is covered by the reference image.\n",
      "Matching window position (X,Y): 587840.6848061499/4091078.3293753574\n",
      "Target window size (256, 256) not possible due to too small overlap area or window position too close to an image edge. New matching window size: (106, 106).\n",
      "Initializing tie points grid...\n",
      "Error processing C:\\development\\coastseg-planet\\CoastSeg-Planet\\santa_cruz_boardwalk_QGIS\\files\\20240317_180743_00_2460_3B_AnalyticMS_clip.tif: The bad data mask must have only two pixel values (boolean) - 0 and 1 or False and True! The given mask for 2024-03-21-18-46-12_L9_ID_1_datetime05-21-24__01_55_42_mask contains the values [0, 21824, 21890, 21952, 22018, 22080, 22280, 23826, 23888, 24082, 24144].\n",
      "Processing C:\\development\\coastseg-planet\\CoastSeg-Planet\\santa_cruz_boardwalk_QGIS\\files\\20240317_180741_09_2460_3B_AnalyticMS_clip.tif\n",
      "Number of CPUs available: 20\n",
      "{'max_shift': 30, 'align_grids': True, 'grid_res': 30, 'v': True, 'q': False, 'ignore_errors': False, 'progress': True, 'out_crea_options': ['COMPRESS=LZW'], 'fmt_out': 'GTIFF', 'CPUs': 10.0}\n",
      "Calculating footprint polygon and actual data corner coordinates for reference image...\n"
     ]
    },
    {
     "name": "stderr",
     "output_type": "stream",
     "text": [
      "Polygonize progress     |==================================================| 100.0% Complete  => 0:00:00\n",
      "Polygonize progress     |==================================================| 100.0% Complete  => 0:00:00\n",
      "Polygonize progress     |==================================----------------| 67.3% Complete  => 0:00:00\r"
     ]
    },
    {
     "name": "stdout",
     "output_type": "stream",
     "text": [
      "Bounding box of calculated footprint for reference image:\n",
      "\t(586582.5, 4090252.5, 589087.5, 4091902.5)\n",
      "Calculating footprint polygon and actual data corner coordinates for image to be shifted...\n",
      "Bounding box of calculated footprint for image to be shifted:\n",
      "\t(586587.0, 4090254.0, 589095.0, 4091901.0)\n",
      "resolutions:  15.0 3.0\n",
      "99.92 percent of the image to be shifted is covered by the reference image.\n",
      "Matching window position (X,Y): 587840.6848061499/4091078.3293753574\n",
      "Target window size (256, 256) not possible due to too small overlap area or window position too close to an image edge. New matching window size: (106, 106).\n",
      "Initializing tie points grid...\n",
      "Error processing C:\\development\\coastseg-planet\\CoastSeg-Planet\\santa_cruz_boardwalk_QGIS\\files\\20240317_180741_09_2460_3B_AnalyticMS_clip.tif: The bad data mask must have only two pixel values (boolean) - 0 and 1 or False and True! The given mask for 2024-03-21-18-46-12_L9_ID_1_datetime05-21-24__01_55_42_mask contains the values [0, 21824, 21890, 21952, 22018, 22080, 22280, 23826, 23888, 24082, 24144].\n",
      "Processing C:\\development\\coastseg-planet\\CoastSeg-Planet\\santa_cruz_boardwalk_QGIS\\files\\20240401_180632_35_24c0_3B_AnalyticMS_clip.tif\n",
      "Could not find C:\\development\\coastseg-planet\\CoastSeg-Planet\\santa_cruz_boardwalk_QGIS\\files\\good\\20240401_180632_35_24c0_TOAR_model_format.tif\n",
      "Processing C:\\development\\coastseg-planet\\CoastSeg-Planet\\santa_cruz_boardwalk_QGIS\\files\\20240318_185725_57_247d_3B_AnalyticMS_clip.tif\n",
      "Number of CPUs available: 20\n",
      "{'max_shift': 30, 'align_grids': True, 'grid_res': 30, 'v': True, 'q': False, 'ignore_errors': False, 'progress': True, 'out_crea_options': ['COMPRESS=LZW'], 'fmt_out': 'GTIFF', 'CPUs': 10.0}\n",
      "Calculating footprint polygon and actual data corner coordinates for reference image...\n"
     ]
    },
    {
     "name": "stderr",
     "output_type": "stream",
     "text": [
      "Polygonize progress     |==================================================| 100.0% Complete  => 0:00:00\n",
      "Polygonize progress     |==================================================| 100.0% Complete  => 0:00:00\n",
      "Polygonize progress     |========================================----------| 79.5% Complete  => 0:00:00"
     ]
    },
    {
     "name": "stdout",
     "output_type": "stream",
     "text": [
      "Bounding box of calculated footprint for reference image:\n",
      "\t(586582.5, 4090252.5, 589087.5, 4091902.5)\n",
      "Calculating footprint polygon and actual data corner coordinates for image to be shifted...\n",
      "Bounding box of calculated footprint for image to be shifted:\n",
      "\t(586587.0, 4090254.0, 589095.0, 4091901.0)\n",
      "resolutions:  15.0 3.0\n",
      "99.92 percent of the image to be shifted is covered by the reference image.\n",
      "Matching window position (X,Y): 587840.6848061499/4091078.3293753574\n",
      "Target window size (256, 256) not possible due to too small overlap area or window position too close to an image edge. New matching window size: (106, 106).\n",
      "Initializing tie points grid...\n",
      "Error processing C:\\development\\coastseg-planet\\CoastSeg-Planet\\santa_cruz_boardwalk_QGIS\\files\\20240318_185725_57_247d_3B_AnalyticMS_clip.tif: The bad data mask must have only two pixel values (boolean) - 0 and 1 or False and True! The given mask for 2024-03-21-18-46-12_L9_ID_1_datetime05-21-24__01_55_42_mask contains the values [0, 21824, 21890, 21952, 22018, 22080, 22280, 23826, 23888, 24082, 24144].\n",
      "Processing C:\\development\\coastseg-planet\\CoastSeg-Planet\\santa_cruz_boardwalk_QGIS\\files\\20240408_190149_86_24e0_3B_AnalyticMS_clip.tif\n",
      "Number of CPUs available: 20\n",
      "{'max_shift': 30, 'align_grids': True, 'grid_res': 30, 'v': True, 'q': False, 'ignore_errors': False, 'progress': True, 'out_crea_options': ['COMPRESS=LZW'], 'fmt_out': 'GTIFF', 'CPUs': 10.0}\n",
      "Calculating footprint polygon and actual data corner coordinates for reference image...\n"
     ]
    },
    {
     "name": "stderr",
     "output_type": "stream",
     "text": [
      "Polygonize progress     |==================================================| 100.0% Complete  => 0:00:00\n",
      "Polygonize progress     |==================================================| 100.0% Complete  => 0:00:00\n",
      "Polygonize progress     |======================================------------| 75.5% Complete  => 0:00:00"
     ]
    },
    {
     "name": "stdout",
     "output_type": "stream",
     "text": [
      "Bounding box of calculated footprint for reference image:\n",
      "\t(586582.5, 4090252.5, 589087.5, 4091902.5)\n",
      "Calculating footprint polygon and actual data corner coordinates for image to be shifted...\n",
      "Bounding box of calculated footprint for image to be shifted:\n",
      "\t(586587.0, 4090254.0, 589095.0, 4091901.0)\n",
      "resolutions:  15.0 3.0\n",
      "99.92 percent of the image to be shifted is covered by the reference image.\n",
      "Matching window position (X,Y): 587840.6848061499/4091078.3293753574\n",
      "Target window size (256, 256) not possible due to too small overlap area or window position too close to an image edge. New matching window size: (106, 106).\n",
      "Initializing tie points grid...\n",
      "Error processing C:\\development\\coastseg-planet\\CoastSeg-Planet\\santa_cruz_boardwalk_QGIS\\files\\20240408_190149_86_24e0_3B_AnalyticMS_clip.tif: The bad data mask must have only two pixel values (boolean) - 0 and 1 or False and True! The given mask for 2024-03-21-18-46-12_L9_ID_1_datetime05-21-24__01_55_42_mask contains the values [0, 21824, 21890, 21952, 22018, 22080, 22280, 23826, 23888, 24082, 24144].\n",
      "Processing C:\\development\\coastseg-planet\\CoastSeg-Planet\\santa_cruz_boardwalk_QGIS\\files\\20240410_185931_91_24f3_3B_AnalyticMS_clip.tif\n",
      "Number of CPUs available: 20\n",
      "{'max_shift': 30, 'align_grids': True, 'grid_res': 30, 'v': True, 'q': False, 'ignore_errors': False, 'progress': True, 'out_crea_options': ['COMPRESS=LZW'], 'fmt_out': 'GTIFF', 'CPUs': 10.0}\n",
      "Calculating footprint polygon and actual data corner coordinates for reference image...\n"
     ]
    },
    {
     "name": "stderr",
     "output_type": "stream",
     "text": [
      "Polygonize progress     |==================================================| 100.0% Complete  => 0:00:00\n",
      "Polygonize progress     |==================================================| 100.0% Complete  => 0:00:00\n",
      "Polygonize progress     |=====---------------------------------------------| 10.0% Complete  => 0:00:00"
     ]
    },
    {
     "name": "stdout",
     "output_type": "stream",
     "text": [
      "Bounding box of calculated footprint for reference image:\n",
      "\t(586582.5, 4090252.5, 589087.5, 4091902.5)\n",
      "Calculating footprint polygon and actual data corner coordinates for image to be shifted...\n",
      "Bounding box of calculated footprint for image to be shifted:\n",
      "\t(586587.0, 4090254.0, 589095.0, 4091901.0)\n",
      "resolutions:  15.0 3.0\n",
      "99.92 percent of the image to be shifted is covered by the reference image.\n",
      "Matching window position (X,Y): 587840.6848061499/4091078.3293753574\n",
      "Target window size (256, 256) not possible due to too small overlap area or window position too close to an image edge. New matching window size: (106, 106).\n",
      "Initializing tie points grid...\n",
      "Error processing C:\\development\\coastseg-planet\\CoastSeg-Planet\\santa_cruz_boardwalk_QGIS\\files\\20240410_185931_91_24f3_3B_AnalyticMS_clip.tif: The bad data mask must have only two pixel values (boolean) - 0 and 1 or False and True! The given mask for 2024-03-21-18-46-12_L9_ID_1_datetime05-21-24__01_55_42_mask contains the values [0, 21824, 21890, 21952, 22018, 22080, 22280, 23826, 23888, 24082, 24144].\n",
      "Processing C:\\development\\coastseg-planet\\CoastSeg-Planet\\santa_cruz_boardwalk_QGIS\\files\\20240401_180838_84_24b4_3B_AnalyticMS_clip.tif\n",
      "Number of CPUs available: 20\n",
      "{'max_shift': 30, 'align_grids': True, 'grid_res': 30, 'v': True, 'q': False, 'ignore_errors': False, 'progress': True, 'out_crea_options': ['COMPRESS=LZW'], 'fmt_out': 'GTIFF', 'CPUs': 10.0}\n",
      "Calculating footprint polygon and actual data corner coordinates for reference image...\n"
     ]
    },
    {
     "name": "stderr",
     "output_type": "stream",
     "text": [
      "Polygonize progress     |==================================================| 100.0% Complete  => 0:00:00\n",
      "Polygonize progress     |==================================================| 100.0% Complete  => 0:00:00\n",
      "Polygonize progress     |=====================================-------------| 74.6% Complete  => 0:00:00"
     ]
    },
    {
     "name": "stdout",
     "output_type": "stream",
     "text": [
      "Bounding box of calculated footprint for reference image:\n",
      "\t(586582.5, 4090252.5, 589087.5, 4091902.5)\n",
      "Calculating footprint polygon and actual data corner coordinates for image to be shifted...\n",
      "Bounding box of calculated footprint for image to be shifted:\n",
      "\t(586587.0, 4090254.0, 589095.0, 4091901.0)\n",
      "resolutions:  15.0 3.0\n",
      "99.92 percent of the image to be shifted is covered by the reference image.\n",
      "Matching window position (X,Y): 587840.6848061499/4091078.3293753574\n",
      "Target window size (256, 256) not possible due to too small overlap area or window position too close to an image edge. New matching window size: (106, 106).\n",
      "Initializing tie points grid...\n",
      "Error processing C:\\development\\coastseg-planet\\CoastSeg-Planet\\santa_cruz_boardwalk_QGIS\\files\\20240401_180838_84_24b4_3B_AnalyticMS_clip.tif: The bad data mask must have only two pixel values (boolean) - 0 and 1 or False and True! The given mask for 2024-03-21-18-46-12_L9_ID_1_datetime05-21-24__01_55_42_mask contains the values [0, 21824, 21890, 21952, 22018, 22080, 22280, 23826, 23888, 24082, 24144].\n",
      "Processing C:\\development\\coastseg-planet\\CoastSeg-Planet\\santa_cruz_boardwalk_QGIS\\files\\20240401_180836_68_24b4_3B_AnalyticMS_clip.tif\n",
      "Number of CPUs available: 20\n",
      "{'max_shift': 30, 'align_grids': True, 'grid_res': 30, 'v': True, 'q': False, 'ignore_errors': False, 'progress': True, 'out_crea_options': ['COMPRESS=LZW'], 'fmt_out': 'GTIFF', 'CPUs': 10.0}\n",
      "Calculating footprint polygon and actual data corner coordinates for reference image...\n"
     ]
    },
    {
     "name": "stderr",
     "output_type": "stream",
     "text": [
      "Polygonize progress     |==================================================| 100.0% Complete  => 0:00:00\n",
      "Polygonize progress     |==================================================| 100.0% Complete  => 0:00:00\n",
      "Polygonize progress     |==========----------------------------------------| 19.0% Complete  => 0:00:00"
     ]
    },
    {
     "name": "stdout",
     "output_type": "stream",
     "text": [
      "Bounding box of calculated footprint for reference image:\n",
      "\t(586582.5, 4090252.5, 589087.5, 4091902.5)\n",
      "Calculating footprint polygon and actual data corner coordinates for image to be shifted...\n",
      "Bounding box of calculated footprint for image to be shifted:\n",
      "\t(586587.0, 4090254.0, 589095.0, 4091901.0)\n",
      "resolutions:  15.0 3.0\n",
      "99.92 percent of the image to be shifted is covered by the reference image.\n",
      "Matching window position (X,Y): 587840.6848061499/4091078.3293753574\n",
      "Target window size (256, 256) not possible due to too small overlap area or window position too close to an image edge. New matching window size: (106, 106).\n",
      "Initializing tie points grid...\n",
      "Error processing C:\\development\\coastseg-planet\\CoastSeg-Planet\\santa_cruz_boardwalk_QGIS\\files\\20240401_180836_68_24b4_3B_AnalyticMS_clip.tif: The bad data mask must have only two pixel values (boolean) - 0 and 1 or False and True! The given mask for 2024-03-21-18-46-12_L9_ID_1_datetime05-21-24__01_55_42_mask contains the values [0, 21824, 21890, 21952, 22018, 22080, 22280, 23826, 23888, 24082, 24144].\n",
      "Processing C:\\development\\coastseg-planet\\CoastSeg-Planet\\santa_cruz_boardwalk_QGIS\\files\\20240316_181004_66_2420_3B_AnalyticMS_clip.tif\n",
      "Number of CPUs available: 20\n",
      "{'max_shift': 30, 'align_grids': True, 'grid_res': 30, 'v': True, 'q': False, 'ignore_errors': False, 'progress': True, 'out_crea_options': ['COMPRESS=LZW'], 'fmt_out': 'GTIFF', 'CPUs': 10.0}\n",
      "Calculating footprint polygon and actual data corner coordinates for reference image...\n"
     ]
    },
    {
     "name": "stderr",
     "output_type": "stream",
     "text": [
      "Polygonize progress     |==================================================| 100.0% Complete  => 0:00:00\n",
      "Polygonize progress     |==================================================| 100.0% Complete  => 0:00:00\n",
      "Polygonize progress     |===================================---------------| 70.5% Complete  => 0:00:00"
     ]
    },
    {
     "name": "stdout",
     "output_type": "stream",
     "text": [
      "Bounding box of calculated footprint for reference image:\n",
      "\t(586582.5, 4090252.5, 589087.5, 4091902.5)\n",
      "Calculating footprint polygon and actual data corner coordinates for image to be shifted...\n",
      "Bounding box of calculated footprint for image to be shifted:\n",
      "\t(586587.0, 4090254.0, 589095.0, 4091901.0)\n",
      "resolutions:  15.0 3.0\n",
      "99.92 percent of the image to be shifted is covered by the reference image.\n",
      "Matching window position (X,Y): 587840.6848061499/4091078.3293753574\n",
      "Target window size (256, 256) not possible due to too small overlap area or window position too close to an image edge. New matching window size: (106, 106).\n",
      "Initializing tie points grid...\n",
      "Error processing C:\\development\\coastseg-planet\\CoastSeg-Planet\\santa_cruz_boardwalk_QGIS\\files\\20240316_181004_66_2420_3B_AnalyticMS_clip.tif: The bad data mask must have only two pixel values (boolean) - 0 and 1 or False and True! The given mask for 2024-03-21-18-46-12_L9_ID_1_datetime05-21-24__01_55_42_mask contains the values [0, 21824, 21890, 21952, 22018, 22080, 22280, 23826, 23888, 24082, 24144].\n",
      "Processing C:\\development\\coastseg-planet\\CoastSeg-Planet\\santa_cruz_boardwalk_QGIS\\files\\20240409_180644_86_24b6_3B_AnalyticMS_clip.tif\n",
      "Number of CPUs available: 20\n",
      "{'max_shift': 30, 'align_grids': True, 'grid_res': 30, 'v': True, 'q': False, 'ignore_errors': False, 'progress': True, 'out_crea_options': ['COMPRESS=LZW'], 'fmt_out': 'GTIFF', 'CPUs': 10.0}\n",
      "Calculating footprint polygon and actual data corner coordinates for reference image...\n"
     ]
    },
    {
     "name": "stderr",
     "output_type": "stream",
     "text": [
      "Polygonize progress     |==================================================| 100.0% Complete  => 0:00:00\n",
      "Polygonize progress     |==================================================| 100.0% Complete  => 0:00:00\n",
      "Polygonize progress     |=======-------------------------------------------| 14.1% Complete  => 0:00:00"
     ]
    },
    {
     "name": "stdout",
     "output_type": "stream",
     "text": [
      "Bounding box of calculated footprint for reference image:\n",
      "\t(586582.5, 4090252.5, 589087.5, 4091902.5)\n",
      "Calculating footprint polygon and actual data corner coordinates for image to be shifted...\n",
      "Bounding box of calculated footprint for image to be shifted:\n",
      "\t(586587.0, 4090254.0, 589095.0, 4091901.0)\n",
      "resolutions:  15.0 3.0\n",
      "99.92 percent of the image to be shifted is covered by the reference image.\n",
      "Matching window position (X,Y): 587840.6848061499/4091078.3293753574\n",
      "Target window size (256, 256) not possible due to too small overlap area or window position too close to an image edge. New matching window size: (106, 106).\n",
      "Initializing tie points grid...\n",
      "Error processing C:\\development\\coastseg-planet\\CoastSeg-Planet\\santa_cruz_boardwalk_QGIS\\files\\20240409_180644_86_24b6_3B_AnalyticMS_clip.tif: The bad data mask must have only two pixel values (boolean) - 0 and 1 or False and True! The given mask for 2024-03-21-18-46-12_L9_ID_1_datetime05-21-24__01_55_42_mask contains the values [0, 21824, 21890, 21952, 22018, 22080, 22280, 23826, 23888, 24082, 24144].\n",
      "Processing C:\\development\\coastseg-planet\\CoastSeg-Planet\\santa_cruz_boardwalk_QGIS\\files\\20240313_181345_71_242d_3B_AnalyticMS_clip.tif\n",
      "Number of CPUs available: 20\n",
      "{'max_shift': 30, 'align_grids': True, 'grid_res': 30, 'v': True, 'q': False, 'ignore_errors': False, 'progress': True, 'out_crea_options': ['COMPRESS=LZW'], 'fmt_out': 'GTIFF', 'CPUs': 10.0}\n",
      "Calculating footprint polygon and actual data corner coordinates for reference image...\n"
     ]
    },
    {
     "name": "stderr",
     "output_type": "stream",
     "text": [
      "Polygonize progress     |==================================================| 100.0% Complete  => 0:00:00\n",
      "Polygonize progress     |==================================================| 100.0% Complete  => 0:00:00\n",
      "Polygonize progress     |==================================================| 100.0% Complete  => 0:00:00\n",
      "Polygonize progress     |--------------------------------------------------| 0.0% Complete  => 0:00:00"
     ]
    },
    {
     "name": "stdout",
     "output_type": "stream",
     "text": [
      "Bounding box of calculated footprint for reference image:\n",
      "\t(586582.5, 4090252.5, 589087.5, 4091902.5)\n",
      "Calculating footprint polygon and actual data corner coordinates for image to be shifted...\n",
      "Bounding box of calculated footprint for image to be shifted:\n",
      "\t(586587.0, 4090254.0, 589095.0, 4091901.0)\n",
      "resolutions:  15.0 3.0\n",
      "99.92 percent of the image to be shifted is covered by the reference image.\n",
      "Matching window position (X,Y): 587840.6848061499/4091078.3293753574\n",
      "Target window size (256, 256) not possible due to too small overlap area or window position too close to an image edge. New matching window size: (106, 106).\n",
      "Initializing tie points grid...\n",
      "Error processing C:\\development\\coastseg-planet\\CoastSeg-Planet\\santa_cruz_boardwalk_QGIS\\files\\20240313_181345_71_242d_3B_AnalyticMS_clip.tif: The bad data mask must have only two pixel values (boolean) - 0 and 1 or False and True! The given mask for 2024-03-21-18-46-12_L9_ID_1_datetime05-21-24__01_55_42_mask contains the values [0, 21824, 21890, 21952, 22018, 22080, 22280, 23826, 23888, 24082, 24144].\n",
      "Processing C:\\development\\coastseg-planet\\CoastSeg-Planet\\santa_cruz_boardwalk_QGIS\\files\\20240401_190203_53_24f2_3B_AnalyticMS_clip.tif\n",
      "Number of CPUs available: 20\n",
      "{'max_shift': 30, 'align_grids': True, 'grid_res': 30, 'v': True, 'q': False, 'ignore_errors': False, 'progress': True, 'out_crea_options': ['COMPRESS=LZW'], 'fmt_out': 'GTIFF', 'CPUs': 10.0}\n",
      "Calculating footprint polygon and actual data corner coordinates for reference image...\n",
      "Bounding box of calculated footprint for reference image:\n",
      "\t(586582.5, 4090252.5, 589087.5, 4091902.5)\n",
      "Calculating footprint polygon and actual data corner coordinates for image to be shifted...\n"
     ]
    },
    {
     "name": "stderr",
     "output_type": "stream",
     "text": [
      "Polygonize progress     |==================================================| 100.0% Complete  => 0:00:00\n",
      "Polygonize progress     |==================================================| 100.0% Complete  => 0:00:00\n",
      "Polygonize progress     |===========---------------------------------------| 22.1% Complete  => 0:00:00"
     ]
    },
    {
     "name": "stdout",
     "output_type": "stream",
     "text": [
      "Bounding box of calculated footprint for image to be shifted:\n",
      "\t(586587.0, 4090254.0, 589095.0, 4091901.0)\n",
      "resolutions:  15.0 3.0\n",
      "99.92 percent of the image to be shifted is covered by the reference image.\n",
      "Matching window position (X,Y): 587840.6848061499/4091078.3293753574\n",
      "Target window size (256, 256) not possible due to too small overlap area or window position too close to an image edge. New matching window size: (106, 106).\n",
      "Initializing tie points grid...\n",
      "Error processing C:\\development\\coastseg-planet\\CoastSeg-Planet\\santa_cruz_boardwalk_QGIS\\files\\20240401_190203_53_24f2_3B_AnalyticMS_clip.tif: The bad data mask must have only two pixel values (boolean) - 0 and 1 or False and True! The given mask for 2024-03-21-18-46-12_L9_ID_1_datetime05-21-24__01_55_42_mask contains the values [0, 21824, 21890, 21952, 22018, 22080, 22280, 23826, 23888, 24082, 24144].\n",
      "Processing C:\\development\\coastseg-planet\\CoastSeg-Planet\\santa_cruz_boardwalk_QGIS\\files\\20240315_190104_74_24c6_3B_AnalyticMS_clip.tif\n",
      "Number of CPUs available: 20\n",
      "{'max_shift': 30, 'align_grids': True, 'grid_res': 30, 'v': True, 'q': False, 'ignore_errors': False, 'progress': True, 'out_crea_options': ['COMPRESS=LZW'], 'fmt_out': 'GTIFF', 'CPUs': 10.0}\n",
      "Calculating footprint polygon and actual data corner coordinates for reference image...\n",
      "Bounding box of calculated footprint for reference image:\n",
      "\t(586582.5, 4090252.5, 589087.5, 4091902.5)\n",
      "Calculating footprint polygon and actual data corner coordinates for image to be shifted...\n"
     ]
    },
    {
     "name": "stderr",
     "output_type": "stream",
     "text": [
      "Polygonize progress     |==================================================| 100.0% Complete  => 0:00:00\n",
      "Polygonize progress     |==================================================| 100.0% Complete  => 0:00:00\n",
      "Polygonize progress     |========================================----------| 80.0% Complete  => 0:00:00"
     ]
    },
    {
     "name": "stdout",
     "output_type": "stream",
     "text": [
      "Bounding box of calculated footprint for image to be shifted:\n",
      "\t(586587.0, 4090254.0, 589095.0, 4091901.0)\n",
      "resolutions:  15.0 3.0\n",
      "99.92 percent of the image to be shifted is covered by the reference image.\n",
      "Matching window position (X,Y): 587840.6848061499/4091078.3293753574\n",
      "Target window size (256, 256) not possible due to too small overlap area or window position too close to an image edge. New matching window size: (106, 106).\n",
      "Initializing tie points grid...\n",
      "Error processing C:\\development\\coastseg-planet\\CoastSeg-Planet\\santa_cruz_boardwalk_QGIS\\files\\20240315_190104_74_24c6_3B_AnalyticMS_clip.tif: The bad data mask must have only two pixel values (boolean) - 0 and 1 or False and True! The given mask for 2024-03-21-18-46-12_L9_ID_1_datetime05-21-24__01_55_42_mask contains the values [0, 21824, 21890, 21952, 22018, 22080, 22280, 23826, 23888, 24082, 24144].\n",
      "Processing C:\\development\\coastseg-planet\\CoastSeg-Planet\\santa_cruz_boardwalk_QGIS\\files\\20240411_190131_50_24e1_3B_AnalyticMS_clip.tif\n",
      "Number of CPUs available: 20\n",
      "{'max_shift': 30, 'align_grids': True, 'grid_res': 30, 'v': True, 'q': False, 'ignore_errors': False, 'progress': True, 'out_crea_options': ['COMPRESS=LZW'], 'fmt_out': 'GTIFF', 'CPUs': 10.0}\n",
      "Calculating footprint polygon and actual data corner coordinates for reference image...\n",
      "Bounding box of calculated footprint for reference image:\n",
      "\t(586582.5, 4090252.5, 589087.5, 4091902.5)\n",
      "Calculating footprint polygon and actual data corner coordinates for image to be shifted...\n"
     ]
    },
    {
     "name": "stderr",
     "output_type": "stream",
     "text": [
      "Polygonize progress     |==================================================| 100.0% Complete  => 0:00:00\n"
     ]
    },
    {
     "name": "stdout",
     "output_type": "stream",
     "text": [
      "Bounding box of calculated footprint for image to be shifted:\n",
      "\t(586587.0, 4090254.0, 589095.0, 4091901.0)\n",
      "resolutions:  15.0 3.0\n",
      "99.92 percent of the image to be shifted is covered by the reference image.\n",
      "Matching window position (X,Y): 587840.6848061499/4091078.3293753574\n",
      "Target window size (256, 256) not possible due to too small overlap area or window position too close to an image edge. New matching window size: (106, 106).\n",
      "Initializing tie points grid...\n",
      "Error processing C:\\development\\coastseg-planet\\CoastSeg-Planet\\santa_cruz_boardwalk_QGIS\\files\\20240411_190131_50_24e1_3B_AnalyticMS_clip.tif: The bad data mask must have only two pixel values (boolean) - 0 and 1 or False and True! The given mask for 2024-03-21-18-46-12_L9_ID_1_datetime05-21-24__01_55_42_mask contains the values [0, 21824, 21890, 21952, 22018, 22080, 22280, 23826, 23888, 24082, 24144].\n"
     ]
    }
   ],
   "source": [
    "from coastseg_planet.coregister import global_coregister_gw,get_cpus,coregister_arosics_local\n",
    "from coastseg_planet.processing import get_base_filename\n",
    "# try to coregister two planet images together that have clouds now that we can mask out clouds\n",
    "\n",
    "kwargs = {\n",
    "   'max_shift':30,\n",
    "   'align_grids':True,\n",
    "   'grid_res':30, # Grid points are 30 meters apart (the lower this value the longer it takes)\n",
    "   'v':True, #verbose mode\n",
    "   'q':False, #quiet mode\n",
    "   'ignore_errors':False, # Recommended to set to True for batch processing\n",
    "    'progress':True,\n",
    "    'out_crea_options':[\"COMPRESS=LZW\"], # otherwise if will use deflate which will not work well with our model\n",
    "    'fmt_out':'GTIFF',\n",
    "    'CPUs' : get_cpus()/2,\n",
    "}\n",
    "\n",
    "separator='_3B'\n",
    "for target_path in filtered_tiffs:\n",
    "    print(f\"Processing {target_path}\")\n",
    "    base_filename = get_base_filename(target_path, separator)\n",
    "    # C:\\development\\coastseg-planet\\CoastSeg-Planet\\santa_cruz_boardwalk_QGIS\\files\\20240317_181214_28_2459_TOAR_model_format.tif\n",
    "    input_path = os.path.join(good_dir, f\"{base_filename}_TOAR_model_format.tif\") # this is the planet image we want to coregister\n",
    "    if os.path.exists(input_path) == False:\n",
    "        print(f\"Could not find {input_path}\")\n",
    "        continue\n",
    "    # add a function to do this in case the cloud mask is not found\n",
    "    cloud_maks_found =  glob.glob(os.path.join(good_dir, f\"{base_filename}*udm2_clip_combined_mask.tif\")) # this is the cloud mask for the planet image\n",
    "    if cloud_maks_found:\n",
    "        target_cloud_mask_path = cloud_maks_found[0]\n",
    "    outfile_path = os.path.join(good_dir, f\"{ base_filename}{separator}_TOAR_processed_coregistered.tif\") # this is the output path for the coregistered planet image\n",
    "    \n",
    "    # @todo remove the intermediate model format file\n",
    "    \n",
    "    # add the reference cloud mask\n",
    "    \n",
    "    try:\n",
    "        # coregistered_target_path = coregister_arosics_local(input_path,landsat_processed_path, outfile_path, target_cloud_mask = target_cloud_mask_path,**kwargs) \n",
    "        coregistered_target_path = coregister_arosics_local(input_path,landsat_processed_path,landsat_cloud_mask_path, outfile_path, target_cloud_mask = target_cloud_mask_path,**kwargs) \n",
    "    except Exception as e:\n",
    "        print(f\"Error processing {target_path}: {e}\")\n",
    "        continue\n",
    "    print(f\"Coregistered planet image saved to: {coregistered_target_path}\")"
   ]
  },
  {
   "cell_type": "markdown",
   "metadata": {},
   "source": [
    "# Apply the Model to the Planet Imagery"
   ]
  },
  {
   "cell_type": "code",
   "execution_count": 12,
   "metadata": {},
   "outputs": [
    {
     "name": "stdout",
     "output_type": "stream",
     "text": [
      "32610\n",
      "Processing 20240319_190343_01_24fb\n",
      "Processing C:\\development\\coastseg-planet\\CoastSeg-Planet\\santa_cruz_boardwalk_QGIS\\files\\good\\20240319_190343_01_24fb_3B_TOAR_processed_coregistered.tif\n",
      "Using cloud mask: C:\\development\\coastseg-planet\\CoastSeg-Planet\\santa_cruz_boardwalk_QGIS\\files\\good\\20240319_190343_01_24fb_3B_udm2_clip_combined_mask.tif\n"
     ]
    },
    {
     "name": "stderr",
     "output_type": "stream",
     "text": [
      "Some layers from the model checkpoint at nvidia/mit-b0 were not used when initializing TFSegformerForSemanticSegmentation: ['classifier']\n",
      "- This IS expected if you are initializing TFSegformerForSemanticSegmentation from the checkpoint of a model trained on another task or with another architecture (e.g. initializing a BertForSequenceClassification model from a BertForPreTraining model).\n",
      "- This IS NOT expected if you are initializing TFSegformerForSemanticSegmentation from the checkpoint of a model that you expect to be exactly identical (initializing a BertForSequenceClassification model from a BertForSequenceClassification model).\n",
      "Some layers of TFSegformerForSemanticSegmentation were not initialized from the model checkpoint at nvidia/mit-b0 and are newly initialized: ['decode_head']\n",
      "You should probably TRAIN this model on a down-stream task to be able to use it for predictions and inference.\n"
     ]
    },
    {
     "name": "stdout",
     "output_type": "stream",
     "text": [
      "Processing image:  C:\\development\\coastseg-planet\\CoastSeg-Planet\\santa_cruz_boardwalk_QGIS\\files\\good\\20240319_190343_01_24fb_3B_TOAR_processed_coregistered.tif\n",
      "Output file:  C:\\development\\coastseg-planet\\CoastSeg-Planet\\santa_cruz_boardwalk_QGIS\\files\\good\\20240319_190343_01_24fb_3B_TOAR_processed_coregistered_predseg.png\n",
      "Output file:  C:\\development\\coastseg-planet\\CoastSeg-Planet\\santa_cruz_boardwalk_QGIS\\files\\good\\out\\20240319_190343_01_24fb_3B_TOAR_processed_coregistered_predseg.png\n",
      "NC: 4, NDB: 3, TS: [512, 512], TTA: False, OT: False\n",
      "N_DATA_BANDS: 3\n",
      "saving segmentation results to C:\\development\\coastseg-planet\\CoastSeg-Planet\\santa_cruz_boardwalk_QGIS\\files\\good\\out\\20240319_190343_01_24fb_3B_TOAR_processed_coregistered_predseg.png\n",
      "writing metadata to C:\\development\\coastseg-planet\\CoastSeg-Planet\\santa_cruz_boardwalk_QGIS\\files\\good\\out\\20240319_190343_01_24fb_3B_TOAR_processed_coregistered_res.npz\n",
      "32610\n",
      "image_epsg: 32610 type: <class 'int'>\n",
      "5647.3239148971725\n",
      "26.485281374238568\n",
      "632.808224589214\n",
      "775.050865276334\n",
      "1349.6101730552655\n",
      "100.97056274847715\n",
      "277.45584412271563\n",
      "Number of shorelines before removing shorelines < 100m: 7 shorelines. Number of shorelines after filtering shorelines: 6 shorelines\n",
      "class_mapping: {'0': 'water', '1': 'whitewater', '2': 'sediment', '3': 'other'}\n",
      "class_mapping: {'0': 'water', '1': 'whitewater', '2': 'sediment', '3': 'other'}\n",
      "all_class_color_mapping: {0: (0.0, 0.0, 0.5, 1.0), 1: (0.0, 0.8333333333333334, 1.0, 1.0), 2: (1.0, 0.9012345679012345, 0.0, 1.0), 3: (0.5, 0.0, 0.0, 1.0)}\n",
      "Saving figure to C:\\development\\coastseg-planet\\CoastSeg-Planet\\santa_cruz_boardwalk_QGIS\\files\\good\\out\\2024-03-19-19-03-43_planet.jpg\n",
      "Processing 20240409_190216_26_24fc\n",
      "Skipping C:\\development\\coastseg-planet\\CoastSeg-Planet\\santa_cruz_boardwalk_QGIS\\files\\good\\20240409_190216_26_24fc_3B_TOAR_processed_coregistered.tif because it does not exist\n",
      "Processing 20240313_180824_31_2423\n",
      "Processing C:\\development\\coastseg-planet\\CoastSeg-Planet\\santa_cruz_boardwalk_QGIS\\files\\good\\20240313_180824_31_2423_3B_TOAR_processed_coregistered.tif\n",
      "Using cloud mask: C:\\development\\coastseg-planet\\CoastSeg-Planet\\santa_cruz_boardwalk_QGIS\\files\\good\\20240313_180824_31_2423_3B_udm2_clip_combined_mask.tif\n"
     ]
    },
    {
     "name": "stderr",
     "output_type": "stream",
     "text": [
      "Some layers from the model checkpoint at nvidia/mit-b0 were not used when initializing TFSegformerForSemanticSegmentation: ['classifier']\n",
      "- This IS expected if you are initializing TFSegformerForSemanticSegmentation from the checkpoint of a model trained on another task or with another architecture (e.g. initializing a BertForSequenceClassification model from a BertForPreTraining model).\n",
      "- This IS NOT expected if you are initializing TFSegformerForSemanticSegmentation from the checkpoint of a model that you expect to be exactly identical (initializing a BertForSequenceClassification model from a BertForSequenceClassification model).\n",
      "Some layers of TFSegformerForSemanticSegmentation were not initialized from the model checkpoint at nvidia/mit-b0 and are newly initialized: ['decode_head']\n",
      "You should probably TRAIN this model on a down-stream task to be able to use it for predictions and inference.\n"
     ]
    },
    {
     "name": "stdout",
     "output_type": "stream",
     "text": [
      "Processing image:  C:\\development\\coastseg-planet\\CoastSeg-Planet\\santa_cruz_boardwalk_QGIS\\files\\good\\20240313_180824_31_2423_3B_TOAR_processed_coregistered.tif\n",
      "Output file:  C:\\development\\coastseg-planet\\CoastSeg-Planet\\santa_cruz_boardwalk_QGIS\\files\\good\\20240313_180824_31_2423_3B_TOAR_processed_coregistered_predseg.png\n",
      "Output file:  C:\\development\\coastseg-planet\\CoastSeg-Planet\\santa_cruz_boardwalk_QGIS\\files\\good\\out\\20240313_180824_31_2423_3B_TOAR_processed_coregistered_predseg.png\n",
      "NC: 4, NDB: 3, TS: [512, 512], TTA: False, OT: False\n",
      "N_DATA_BANDS: 3\n",
      "saving segmentation results to C:\\development\\coastseg-planet\\CoastSeg-Planet\\santa_cruz_boardwalk_QGIS\\files\\good\\out\\20240313_180824_31_2423_3B_TOAR_processed_coregistered_predseg.png\n",
      "writing metadata to C:\\development\\coastseg-planet\\CoastSeg-Planet\\santa_cruz_boardwalk_QGIS\\files\\good\\out\\20240313_180824_31_2423_3B_TOAR_processed_coregistered_res.npz\n",
      "32610\n",
      "image_epsg: 32610 type: <class 'int'>\n",
      "4220.118720688185\n",
      "82.97056274847715\n",
      "57.213203435596434\n",
      "14.485281374238568\n",
      "117.63961030678932\n",
      "1079.0651506262075\n",
      "1415.8858223313755\n",
      "Number of shorelines before removing shorelines < 100m: 7 shorelines. Number of shorelines after filtering shorelines: 4 shorelines\n",
      "class_mapping: {'0': 'water', '1': 'whitewater', '2': 'sediment', '3': 'other'}\n",
      "class_mapping: {'0': 'water', '1': 'whitewater', '2': 'sediment', '3': 'other'}\n",
      "all_class_color_mapping: {0: (0.0, 0.0, 0.5, 1.0), 1: (0.0, 0.8333333333333334, 1.0, 1.0), 2: (1.0, 0.9012345679012345, 0.0, 1.0), 3: (0.5, 0.0, 0.0, 1.0)}\n",
      "Saving figure to C:\\development\\coastseg-planet\\CoastSeg-Planet\\santa_cruz_boardwalk_QGIS\\files\\good\\out\\2024-03-13-18-08-24_planet.jpg\n",
      "Processing 20240402_182012_35_2432\n",
      "Processing C:\\development\\coastseg-planet\\CoastSeg-Planet\\santa_cruz_boardwalk_QGIS\\files\\good\\20240402_182012_35_2432_3B_TOAR_processed_coregistered.tif\n",
      "Using cloud mask: C:\\development\\coastseg-planet\\CoastSeg-Planet\\santa_cruz_boardwalk_QGIS\\files\\good\\20240402_182012_35_2432_3B_udm2_clip_combined_mask.tif\n"
     ]
    },
    {
     "name": "stderr",
     "output_type": "stream",
     "text": [
      "Some layers from the model checkpoint at nvidia/mit-b0 were not used when initializing TFSegformerForSemanticSegmentation: ['classifier']\n",
      "- This IS expected if you are initializing TFSegformerForSemanticSegmentation from the checkpoint of a model trained on another task or with another architecture (e.g. initializing a BertForSequenceClassification model from a BertForPreTraining model).\n",
      "- This IS NOT expected if you are initializing TFSegformerForSemanticSegmentation from the checkpoint of a model that you expect to be exactly identical (initializing a BertForSequenceClassification model from a BertForSequenceClassification model).\n",
      "Some layers of TFSegformerForSemanticSegmentation were not initialized from the model checkpoint at nvidia/mit-b0 and are newly initialized: ['decode_head']\n",
      "You should probably TRAIN this model on a down-stream task to be able to use it for predictions and inference.\n"
     ]
    },
    {
     "name": "stdout",
     "output_type": "stream",
     "text": [
      "Processing image:  C:\\development\\coastseg-planet\\CoastSeg-Planet\\santa_cruz_boardwalk_QGIS\\files\\good\\20240402_182012_35_2432_3B_TOAR_processed_coregistered.tif\n",
      "Output file:  C:\\development\\coastseg-planet\\CoastSeg-Planet\\santa_cruz_boardwalk_QGIS\\files\\good\\20240402_182012_35_2432_3B_TOAR_processed_coregistered_predseg.png\n",
      "Output file:  C:\\development\\coastseg-planet\\CoastSeg-Planet\\santa_cruz_boardwalk_QGIS\\files\\good\\out\\20240402_182012_35_2432_3B_TOAR_processed_coregistered_predseg.png\n",
      "NC: 4, NDB: 3, TS: [512, 512], TTA: False, OT: False\n",
      "N_DATA_BANDS: 3\n",
      "saving segmentation results to C:\\development\\coastseg-planet\\CoastSeg-Planet\\santa_cruz_boardwalk_QGIS\\files\\good\\out\\20240402_182012_35_2432_3B_TOAR_processed_coregistered_predseg.png\n",
      "writing metadata to C:\\development\\coastseg-planet\\CoastSeg-Planet\\santa_cruz_boardwalk_QGIS\\files\\good\\out\\20240402_182012_35_2432_3B_TOAR_processed_coregistered_res.npz\n",
      "32610\n",
      "image_epsg: 32610 type: <class 'int'>\n",
      "5638.345342921965\n",
      "1828.429978208661\n",
      "Number of shorelines before removing shorelines < 100m: 2 shorelines. Number of shorelines after filtering shorelines: 2 shorelines\n",
      "class_mapping: {'0': 'water', '1': 'whitewater', '2': 'sediment', '3': 'other'}\n",
      "class_mapping: {'0': 'water', '1': 'whitewater', '2': 'sediment', '3': 'other'}\n",
      "all_class_color_mapping: {0: (0.0, 0.0, 0.5, 1.0), 1: (0.0, 0.8333333333333334, 1.0, 1.0), 2: (1.0, 0.9012345679012345, 0.0, 1.0), 3: (0.5, 0.0, 0.0, 1.0)}\n",
      "Saving figure to C:\\development\\coastseg-planet\\CoastSeg-Planet\\santa_cruz_boardwalk_QGIS\\files\\good\\out\\2024-04-02-18-20-12_planet.jpg\n",
      "Processing 20240316_181002_74_2420\n",
      "Skipping C:\\development\\coastseg-planet\\CoastSeg-Planet\\santa_cruz_boardwalk_QGIS\\files\\good\\20240316_181002_74_2420_3B_TOAR_processed_coregistered.tif because it does not exist\n",
      "Processing 20240402_182010_48_2432\n",
      "Processing C:\\development\\coastseg-planet\\CoastSeg-Planet\\santa_cruz_boardwalk_QGIS\\files\\good\\20240402_182010_48_2432_3B_TOAR_processed_coregistered.tif\n",
      "Using cloud mask: C:\\development\\coastseg-planet\\CoastSeg-Planet\\santa_cruz_boardwalk_QGIS\\files\\good\\20240402_182010_48_2432_3B_udm2_clip_combined_mask.tif\n"
     ]
    },
    {
     "name": "stderr",
     "output_type": "stream",
     "text": [
      "Some layers from the model checkpoint at nvidia/mit-b0 were not used when initializing TFSegformerForSemanticSegmentation: ['classifier']\n",
      "- This IS expected if you are initializing TFSegformerForSemanticSegmentation from the checkpoint of a model trained on another task or with another architecture (e.g. initializing a BertForSequenceClassification model from a BertForPreTraining model).\n",
      "- This IS NOT expected if you are initializing TFSegformerForSemanticSegmentation from the checkpoint of a model that you expect to be exactly identical (initializing a BertForSequenceClassification model from a BertForSequenceClassification model).\n",
      "Some layers of TFSegformerForSemanticSegmentation were not initialized from the model checkpoint at nvidia/mit-b0 and are newly initialized: ['decode_head']\n",
      "You should probably TRAIN this model on a down-stream task to be able to use it for predictions and inference.\n"
     ]
    },
    {
     "name": "stdout",
     "output_type": "stream",
     "text": [
      "Processing image:  C:\\development\\coastseg-planet\\CoastSeg-Planet\\santa_cruz_boardwalk_QGIS\\files\\good\\20240402_182010_48_2432_3B_TOAR_processed_coregistered.tif\n",
      "Output file:  C:\\development\\coastseg-planet\\CoastSeg-Planet\\santa_cruz_boardwalk_QGIS\\files\\good\\20240402_182010_48_2432_3B_TOAR_processed_coregistered_predseg.png\n",
      "Output file:  C:\\development\\coastseg-planet\\CoastSeg-Planet\\santa_cruz_boardwalk_QGIS\\files\\good\\out\\20240402_182010_48_2432_3B_TOAR_processed_coregistered_predseg.png\n",
      "NC: 4, NDB: 3, TS: [512, 512], TTA: False, OT: False\n",
      "N_DATA_BANDS: 3\n",
      "saving segmentation results to C:\\development\\coastseg-planet\\CoastSeg-Planet\\santa_cruz_boardwalk_QGIS\\files\\good\\out\\20240402_182010_48_2432_3B_TOAR_processed_coregistered_predseg.png\n",
      "writing metadata to C:\\development\\coastseg-planet\\CoastSeg-Planet\\santa_cruz_boardwalk_QGIS\\files\\good\\out\\20240402_182010_48_2432_3B_TOAR_processed_coregistered_res.npz\n",
      "32610\n",
      "image_epsg: 32610 type: <class 'int'>\n",
      "5928.102702234854\n",
      "1670.9741340859441\n",
      "56.48528137423857\n",
      "Number of shorelines before removing shorelines < 100m: 3 shorelines. Number of shorelines after filtering shorelines: 2 shorelines\n",
      "class_mapping: {'0': 'water', '1': 'whitewater', '2': 'sediment', '3': 'other'}\n",
      "class_mapping: {'0': 'water', '1': 'whitewater', '2': 'sediment', '3': 'other'}\n",
      "all_class_color_mapping: {0: (0.0, 0.0, 0.5, 1.0), 1: (0.0, 0.8333333333333334, 1.0, 1.0), 2: (1.0, 0.9012345679012345, 0.0, 1.0), 3: (0.5, 0.0, 0.0, 1.0)}\n",
      "Saving figure to C:\\development\\coastseg-planet\\CoastSeg-Planet\\santa_cruz_boardwalk_QGIS\\files\\good\\out\\2024-04-02-18-20-10_planet.jpg\n",
      "Processing 20240317_181214_28_2459\n",
      "Processing C:\\development\\coastseg-planet\\CoastSeg-Planet\\santa_cruz_boardwalk_QGIS\\files\\good\\20240317_181214_28_2459_3B_TOAR_processed_coregistered.tif\n",
      "Using cloud mask: C:\\development\\coastseg-planet\\CoastSeg-Planet\\santa_cruz_boardwalk_QGIS\\files\\good\\20240317_181214_28_2459_3B_udm2_clip_combined_mask.tif\n"
     ]
    },
    {
     "name": "stderr",
     "output_type": "stream",
     "text": [
      "Some layers from the model checkpoint at nvidia/mit-b0 were not used when initializing TFSegformerForSemanticSegmentation: ['classifier']\n",
      "- This IS expected if you are initializing TFSegformerForSemanticSegmentation from the checkpoint of a model trained on another task or with another architecture (e.g. initializing a BertForSequenceClassification model from a BertForPreTraining model).\n",
      "- This IS NOT expected if you are initializing TFSegformerForSemanticSegmentation from the checkpoint of a model that you expect to be exactly identical (initializing a BertForSequenceClassification model from a BertForSequenceClassification model).\n",
      "Some layers of TFSegformerForSemanticSegmentation were not initialized from the model checkpoint at nvidia/mit-b0 and are newly initialized: ['decode_head']\n",
      "You should probably TRAIN this model on a down-stream task to be able to use it for predictions and inference.\n"
     ]
    },
    {
     "name": "stdout",
     "output_type": "stream",
     "text": [
      "Processing image:  C:\\development\\coastseg-planet\\CoastSeg-Planet\\santa_cruz_boardwalk_QGIS\\files\\good\\20240317_181214_28_2459_3B_TOAR_processed_coregistered.tif\n",
      "Output file:  C:\\development\\coastseg-planet\\CoastSeg-Planet\\santa_cruz_boardwalk_QGIS\\files\\good\\20240317_181214_28_2459_3B_TOAR_processed_coregistered_predseg.png\n",
      "Output file:  C:\\development\\coastseg-planet\\CoastSeg-Planet\\santa_cruz_boardwalk_QGIS\\files\\good\\out\\20240317_181214_28_2459_3B_TOAR_processed_coregistered_predseg.png\n",
      "NC: 4, NDB: 3, TS: [512, 512], TTA: False, OT: False\n",
      "N_DATA_BANDS: 3\n",
      "saving segmentation results to C:\\development\\coastseg-planet\\CoastSeg-Planet\\santa_cruz_boardwalk_QGIS\\files\\good\\out\\20240317_181214_28_2459_3B_TOAR_processed_coregistered_predseg.png\n",
      "writing metadata to C:\\development\\coastseg-planet\\CoastSeg-Planet\\santa_cruz_boardwalk_QGIS\\files\\good\\out\\20240317_181214_28_2459_3B_TOAR_processed_coregistered_res.npz\n",
      "32610\n",
      "image_epsg: 32610 type: <class 'int'>\n",
      "6120.08755033323\n",
      "24.72792206135785\n",
      "2359.5182899632277\n",
      "Number of shorelines before removing shorelines < 100m: 3 shorelines. Number of shorelines after filtering shorelines: 2 shorelines\n",
      "class_mapping: {'0': 'water', '1': 'whitewater', '2': 'sediment', '3': 'other'}\n",
      "class_mapping: {'0': 'water', '1': 'whitewater', '2': 'sediment', '3': 'other'}\n",
      "all_class_color_mapping: {0: (0.0, 0.0, 0.5, 1.0), 1: (0.0, 0.8333333333333334, 1.0, 1.0), 2: (1.0, 0.9012345679012345, 0.0, 1.0), 3: (0.5, 0.0, 0.0, 1.0)}\n",
      "Saving figure to C:\\development\\coastseg-planet\\CoastSeg-Planet\\santa_cruz_boardwalk_QGIS\\files\\good\\out\\2024-03-17-18-12-14_planet.jpg\n",
      "Processing 20240317_180743_00_2460\n",
      "Skipping C:\\development\\coastseg-planet\\CoastSeg-Planet\\santa_cruz_boardwalk_QGIS\\files\\good\\20240317_180743_00_2460_3B_TOAR_processed_coregistered.tif because it does not exist\n",
      "Processing 20240317_180741_09_2460\n",
      "Processing C:\\development\\coastseg-planet\\CoastSeg-Planet\\santa_cruz_boardwalk_QGIS\\files\\good\\20240317_180741_09_2460_3B_TOAR_processed_coregistered.tif\n",
      "Using cloud mask: C:\\development\\coastseg-planet\\CoastSeg-Planet\\santa_cruz_boardwalk_QGIS\\files\\good\\20240317_180741_09_2460_3B_udm2_clip_combined_mask.tif\n"
     ]
    },
    {
     "name": "stderr",
     "output_type": "stream",
     "text": [
      "Some layers from the model checkpoint at nvidia/mit-b0 were not used when initializing TFSegformerForSemanticSegmentation: ['classifier']\n",
      "- This IS expected if you are initializing TFSegformerForSemanticSegmentation from the checkpoint of a model trained on another task or with another architecture (e.g. initializing a BertForSequenceClassification model from a BertForPreTraining model).\n",
      "- This IS NOT expected if you are initializing TFSegformerForSemanticSegmentation from the checkpoint of a model that you expect to be exactly identical (initializing a BertForSequenceClassification model from a BertForSequenceClassification model).\n",
      "Some layers of TFSegformerForSemanticSegmentation were not initialized from the model checkpoint at nvidia/mit-b0 and are newly initialized: ['decode_head']\n",
      "You should probably TRAIN this model on a down-stream task to be able to use it for predictions and inference.\n"
     ]
    },
    {
     "name": "stdout",
     "output_type": "stream",
     "text": [
      "Processing image:  C:\\development\\coastseg-planet\\CoastSeg-Planet\\santa_cruz_boardwalk_QGIS\\files\\good\\20240317_180741_09_2460_3B_TOAR_processed_coregistered.tif\n",
      "Output file:  C:\\development\\coastseg-planet\\CoastSeg-Planet\\santa_cruz_boardwalk_QGIS\\files\\good\\20240317_180741_09_2460_3B_TOAR_processed_coregistered_predseg.png\n",
      "Output file:  C:\\development\\coastseg-planet\\CoastSeg-Planet\\santa_cruz_boardwalk_QGIS\\files\\good\\out\\20240317_180741_09_2460_3B_TOAR_processed_coregistered_predseg.png\n",
      "NC: 4, NDB: 3, TS: [512, 512], TTA: False, OT: False\n",
      "N_DATA_BANDS: 3\n",
      "saving segmentation results to C:\\development\\coastseg-planet\\CoastSeg-Planet\\santa_cruz_boardwalk_QGIS\\files\\good\\out\\20240317_180741_09_2460_3B_TOAR_processed_coregistered_predseg.png\n",
      "writing metadata to C:\\development\\coastseg-planet\\CoastSeg-Planet\\santa_cruz_boardwalk_QGIS\\files\\good\\out\\20240317_180741_09_2460_3B_TOAR_processed_coregistered_res.npz\n",
      "32610\n",
      "image_epsg: 32610 type: <class 'int'>\n",
      "6090.815472394579\n",
      "65.69848480983501\n",
      "20.485281374238568\n",
      "129.63961030678934\n",
      "93.94112549695431\n",
      "55.45584412271571\n",
      "Number of shorelines before removing shorelines < 100m: 6 shorelines. Number of shorelines after filtering shorelines: 2 shorelines\n",
      "class_mapping: {'0': 'water', '1': 'whitewater', '2': 'sediment', '3': 'other'}\n",
      "class_mapping: {'0': 'water', '1': 'whitewater', '2': 'sediment', '3': 'other'}\n",
      "all_class_color_mapping: {0: (0.0, 0.0, 0.5, 1.0), 1: (0.0, 0.8333333333333334, 1.0, 1.0), 2: (1.0, 0.9012345679012345, 0.0, 1.0), 3: (0.5, 0.0, 0.0, 1.0)}\n",
      "Saving figure to C:\\development\\coastseg-planet\\CoastSeg-Planet\\santa_cruz_boardwalk_QGIS\\files\\good\\out\\2024-03-17-18-07-41_planet.jpg\n",
      "Processing 20240401_180632_35_24c0\n",
      "Skipping C:\\development\\coastseg-planet\\CoastSeg-Planet\\santa_cruz_boardwalk_QGIS\\files\\good\\20240401_180632_35_24c0_3B_TOAR_processed_coregistered.tif because it does not exist\n",
      "Processing 20240318_185725_57_247d\n",
      "Skipping C:\\development\\coastseg-planet\\CoastSeg-Planet\\santa_cruz_boardwalk_QGIS\\files\\good\\20240318_185725_57_247d_3B_TOAR_processed_coregistered.tif because it does not exist\n",
      "Processing 20240408_190149_86_24e0\n",
      "Processing C:\\development\\coastseg-planet\\CoastSeg-Planet\\santa_cruz_boardwalk_QGIS\\files\\good\\20240408_190149_86_24e0_3B_TOAR_processed_coregistered.tif\n",
      "Using cloud mask: C:\\development\\coastseg-planet\\CoastSeg-Planet\\santa_cruz_boardwalk_QGIS\\files\\good\\20240408_190149_86_24e0_3B_udm2_clip_combined_mask.tif\n"
     ]
    },
    {
     "name": "stderr",
     "output_type": "stream",
     "text": [
      "Some layers from the model checkpoint at nvidia/mit-b0 were not used when initializing TFSegformerForSemanticSegmentation: ['classifier']\n",
      "- This IS expected if you are initializing TFSegformerForSemanticSegmentation from the checkpoint of a model trained on another task or with another architecture (e.g. initializing a BertForSequenceClassification model from a BertForPreTraining model).\n",
      "- This IS NOT expected if you are initializing TFSegformerForSemanticSegmentation from the checkpoint of a model that you expect to be exactly identical (initializing a BertForSequenceClassification model from a BertForSequenceClassification model).\n",
      "Some layers of TFSegformerForSemanticSegmentation were not initialized from the model checkpoint at nvidia/mit-b0 and are newly initialized: ['decode_head']\n",
      "You should probably TRAIN this model on a down-stream task to be able to use it for predictions and inference.\n"
     ]
    },
    {
     "name": "stdout",
     "output_type": "stream",
     "text": [
      "Processing image:  C:\\development\\coastseg-planet\\CoastSeg-Planet\\santa_cruz_boardwalk_QGIS\\files\\good\\20240408_190149_86_24e0_3B_TOAR_processed_coregistered.tif\n",
      "Output file:  C:\\development\\coastseg-planet\\CoastSeg-Planet\\santa_cruz_boardwalk_QGIS\\files\\good\\20240408_190149_86_24e0_3B_TOAR_processed_coregistered_predseg.png\n",
      "Output file:  C:\\development\\coastseg-planet\\CoastSeg-Planet\\santa_cruz_boardwalk_QGIS\\files\\good\\out\\20240408_190149_86_24e0_3B_TOAR_processed_coregistered_predseg.png\n",
      "NC: 4, NDB: 3, TS: [512, 512], TTA: False, OT: False\n",
      "N_DATA_BANDS: 3\n",
      "saving segmentation results to C:\\development\\coastseg-planet\\CoastSeg-Planet\\santa_cruz_boardwalk_QGIS\\files\\good\\out\\20240408_190149_86_24e0_3B_TOAR_processed_coregistered_predseg.png\n",
      "writing metadata to C:\\development\\coastseg-planet\\CoastSeg-Planet\\santa_cruz_boardwalk_QGIS\\files\\good\\out\\20240408_190149_86_24e0_3B_TOAR_processed_coregistered_res.npz\n",
      "32610\n",
      "image_epsg: 32610 type: <class 'int'>\n",
      "6266.874346897612\n",
      "1624.3050865276327\n",
      "112.97056274847715\n",
      "112.97056274847715\n",
      "Number of shorelines before removing shorelines < 100m: 4 shorelines. Number of shorelines after filtering shorelines: 4 shorelines\n",
      "class_mapping: {'0': 'water', '1': 'whitewater', '2': 'sediment', '3': 'other'}\n",
      "class_mapping: {'0': 'water', '1': 'whitewater', '2': 'sediment', '3': 'other'}\n",
      "all_class_color_mapping: {0: (0.0, 0.0, 0.5, 1.0), 1: (0.0, 0.8333333333333334, 1.0, 1.0), 2: (1.0, 0.9012345679012345, 0.0, 1.0), 3: (0.5, 0.0, 0.0, 1.0)}\n",
      "Saving figure to C:\\development\\coastseg-planet\\CoastSeg-Planet\\santa_cruz_boardwalk_QGIS\\files\\good\\out\\2024-04-08-19-01-49_planet.jpg\n",
      "Processing 20240410_185931_91_24f3\n",
      "Skipping C:\\development\\coastseg-planet\\CoastSeg-Planet\\santa_cruz_boardwalk_QGIS\\files\\good\\20240410_185931_91_24f3_3B_TOAR_processed_coregistered.tif because it does not exist\n",
      "Processing 20240401_180838_84_24b4\n",
      "Processing C:\\development\\coastseg-planet\\CoastSeg-Planet\\santa_cruz_boardwalk_QGIS\\files\\good\\20240401_180838_84_24b4_3B_TOAR_processed_coregistered.tif\n",
      "Using cloud mask: C:\\development\\coastseg-planet\\CoastSeg-Planet\\santa_cruz_boardwalk_QGIS\\files\\good\\20240401_180838_84_24b4_3B_udm2_clip_combined_mask.tif\n"
     ]
    },
    {
     "name": "stderr",
     "output_type": "stream",
     "text": [
      "Some layers from the model checkpoint at nvidia/mit-b0 were not used when initializing TFSegformerForSemanticSegmentation: ['classifier']\n",
      "- This IS expected if you are initializing TFSegformerForSemanticSegmentation from the checkpoint of a model trained on another task or with another architecture (e.g. initializing a BertForSequenceClassification model from a BertForPreTraining model).\n",
      "- This IS NOT expected if you are initializing TFSegformerForSemanticSegmentation from the checkpoint of a model that you expect to be exactly identical (initializing a BertForSequenceClassification model from a BertForSequenceClassification model).\n",
      "Some layers of TFSegformerForSemanticSegmentation were not initialized from the model checkpoint at nvidia/mit-b0 and are newly initialized: ['decode_head']\n",
      "You should probably TRAIN this model on a down-stream task to be able to use it for predictions and inference.\n"
     ]
    },
    {
     "name": "stdout",
     "output_type": "stream",
     "text": [
      "Processing image:  C:\\development\\coastseg-planet\\CoastSeg-Planet\\santa_cruz_boardwalk_QGIS\\files\\good\\20240401_180838_84_24b4_3B_TOAR_processed_coregistered.tif\n",
      "Output file:  C:\\development\\coastseg-planet\\CoastSeg-Planet\\santa_cruz_boardwalk_QGIS\\files\\good\\20240401_180838_84_24b4_3B_TOAR_processed_coregistered_predseg.png\n",
      "Output file:  C:\\development\\coastseg-planet\\CoastSeg-Planet\\santa_cruz_boardwalk_QGIS\\files\\good\\out\\20240401_180838_84_24b4_3B_TOAR_processed_coregistered_predseg.png\n",
      "NC: 4, NDB: 3, TS: [512, 512], TTA: False, OT: False\n",
      "N_DATA_BANDS: 3\n",
      "saving segmentation results to C:\\development\\coastseg-planet\\CoastSeg-Planet\\santa_cruz_boardwalk_QGIS\\files\\good\\out\\20240401_180838_84_24b4_3B_TOAR_processed_coregistered_predseg.png\n",
      "writing metadata to C:\\development\\coastseg-planet\\CoastSeg-Planet\\santa_cruz_boardwalk_QGIS\\files\\good\\out\\20240401_180838_84_24b4_3B_TOAR_processed_coregistered_res.npz\n",
      "32610\n",
      "image_epsg: 32610 type: <class 'int'>\n",
      "5850.654000787077\n",
      "32.48528137423857\n",
      "1907.672618895779\n",
      "Number of shorelines before removing shorelines < 100m: 3 shorelines. Number of shorelines after filtering shorelines: 2 shorelines\n",
      "class_mapping: {'0': 'water', '1': 'whitewater', '2': 'sediment', '3': 'other'}\n",
      "class_mapping: {'0': 'water', '1': 'whitewater', '2': 'sediment', '3': 'other'}\n",
      "all_class_color_mapping: {0: (0.0, 0.0, 0.5, 1.0), 1: (0.0, 0.8333333333333334, 1.0, 1.0), 2: (1.0, 0.9012345679012345, 0.0, 1.0), 3: (0.5, 0.0, 0.0, 1.0)}\n",
      "Saving figure to C:\\development\\coastseg-planet\\CoastSeg-Planet\\santa_cruz_boardwalk_QGIS\\files\\good\\out\\2024-04-01-18-08-38_planet.jpg\n",
      "Processing 20240401_180836_68_24b4\n",
      "Skipping C:\\development\\coastseg-planet\\CoastSeg-Planet\\santa_cruz_boardwalk_QGIS\\files\\good\\20240401_180836_68_24b4_3B_TOAR_processed_coregistered.tif because it does not exist\n",
      "Processing 20240316_181004_66_2420\n",
      "Processing C:\\development\\coastseg-planet\\CoastSeg-Planet\\santa_cruz_boardwalk_QGIS\\files\\good\\20240316_181004_66_2420_3B_TOAR_processed_coregistered.tif\n",
      "Using cloud mask: C:\\development\\coastseg-planet\\CoastSeg-Planet\\santa_cruz_boardwalk_QGIS\\files\\good\\20240316_181004_66_2420_3B_udm2_clip_combined_mask.tif\n"
     ]
    },
    {
     "name": "stderr",
     "output_type": "stream",
     "text": [
      "Some layers from the model checkpoint at nvidia/mit-b0 were not used when initializing TFSegformerForSemanticSegmentation: ['classifier']\n",
      "- This IS expected if you are initializing TFSegformerForSemanticSegmentation from the checkpoint of a model trained on another task or with another architecture (e.g. initializing a BertForSequenceClassification model from a BertForPreTraining model).\n",
      "- This IS NOT expected if you are initializing TFSegformerForSemanticSegmentation from the checkpoint of a model that you expect to be exactly identical (initializing a BertForSequenceClassification model from a BertForSequenceClassification model).\n",
      "Some layers of TFSegformerForSemanticSegmentation were not initialized from the model checkpoint at nvidia/mit-b0 and are newly initialized: ['decode_head']\n",
      "You should probably TRAIN this model on a down-stream task to be able to use it for predictions and inference.\n"
     ]
    },
    {
     "name": "stdout",
     "output_type": "stream",
     "text": [
      "Processing image:  C:\\development\\coastseg-planet\\CoastSeg-Planet\\santa_cruz_boardwalk_QGIS\\files\\good\\20240316_181004_66_2420_3B_TOAR_processed_coregistered.tif\n",
      "Output file:  C:\\development\\coastseg-planet\\CoastSeg-Planet\\santa_cruz_boardwalk_QGIS\\files\\good\\20240316_181004_66_2420_3B_TOAR_processed_coregistered_predseg.png\n",
      "Output file:  C:\\development\\coastseg-planet\\CoastSeg-Planet\\santa_cruz_boardwalk_QGIS\\files\\good\\out\\20240316_181004_66_2420_3B_TOAR_processed_coregistered_predseg.png\n",
      "NC: 4, NDB: 3, TS: [512, 512], TTA: False, OT: False\n",
      "N_DATA_BANDS: 3\n",
      "saving segmentation results to C:\\development\\coastseg-planet\\CoastSeg-Planet\\santa_cruz_boardwalk_QGIS\\files\\good\\out\\20240316_181004_66_2420_3B_TOAR_processed_coregistered_predseg.png\n",
      "writing metadata to C:\\development\\coastseg-planet\\CoastSeg-Planet\\santa_cruz_boardwalk_QGIS\\files\\good\\out\\20240316_181004_66_2420_3B_TOAR_processed_coregistered_res.npz\n",
      "32610\n",
      "image_epsg: 32610 type: <class 'int'>\n",
      "5690.779759019902\n",
      "61.455844122715725\n",
      "133.15432893255073\n",
      "1142.278354061802\n",
      "82.97056274847716\n",
      "158.48528137423855\n",
      "88.97056274847716\n",
      "2500.643181644255\n",
      "20.485281374238568\n",
      "14.485281374238568\n",
      "148.97056274847714\n",
      "76.97056274847715\n",
      "Number of shorelines before removing shorelines < 100m: 12 shorelines. Number of shorelines after filtering shorelines: 6 shorelines\n",
      "class_mapping: {'0': 'water', '1': 'whitewater', '2': 'sediment', '3': 'other'}\n",
      "class_mapping: {'0': 'water', '1': 'whitewater', '2': 'sediment', '3': 'other'}\n",
      "all_class_color_mapping: {0: (0.0, 0.0, 0.5, 1.0), 1: (0.0, 0.8333333333333334, 1.0, 1.0), 2: (1.0, 0.9012345679012345, 0.0, 1.0), 3: (0.5, 0.0, 0.0, 1.0)}\n",
      "Saving figure to C:\\development\\coastseg-planet\\CoastSeg-Planet\\santa_cruz_boardwalk_QGIS\\files\\good\\out\\2024-03-16-18-10-04_planet.jpg\n",
      "Processing 20240409_180644_86_24b6\n",
      "Processing C:\\development\\coastseg-planet\\CoastSeg-Planet\\santa_cruz_boardwalk_QGIS\\files\\good\\20240409_180644_86_24b6_3B_TOAR_processed_coregistered.tif\n",
      "Using cloud mask: C:\\development\\coastseg-planet\\CoastSeg-Planet\\santa_cruz_boardwalk_QGIS\\files\\good\\20240409_180644_86_24b6_3B_udm2_clip_combined_mask.tif\n"
     ]
    },
    {
     "name": "stderr",
     "output_type": "stream",
     "text": [
      "Some layers from the model checkpoint at nvidia/mit-b0 were not used when initializing TFSegformerForSemanticSegmentation: ['classifier']\n",
      "- This IS expected if you are initializing TFSegformerForSemanticSegmentation from the checkpoint of a model trained on another task or with another architecture (e.g. initializing a BertForSequenceClassification model from a BertForPreTraining model).\n",
      "- This IS NOT expected if you are initializing TFSegformerForSemanticSegmentation from the checkpoint of a model that you expect to be exactly identical (initializing a BertForSequenceClassification model from a BertForSequenceClassification model).\n",
      "Some layers of TFSegformerForSemanticSegmentation were not initialized from the model checkpoint at nvidia/mit-b0 and are newly initialized: ['decode_head']\n",
      "You should probably TRAIN this model on a down-stream task to be able to use it for predictions and inference.\n"
     ]
    },
    {
     "name": "stdout",
     "output_type": "stream",
     "text": [
      "Processing image:  C:\\development\\coastseg-planet\\CoastSeg-Planet\\santa_cruz_boardwalk_QGIS\\files\\good\\20240409_180644_86_24b6_3B_TOAR_processed_coregistered.tif\n",
      "Output file:  C:\\development\\coastseg-planet\\CoastSeg-Planet\\santa_cruz_boardwalk_QGIS\\files\\good\\20240409_180644_86_24b6_3B_TOAR_processed_coregistered_predseg.png\n",
      "Output file:  C:\\development\\coastseg-planet\\CoastSeg-Planet\\santa_cruz_boardwalk_QGIS\\files\\good\\out\\20240409_180644_86_24b6_3B_TOAR_processed_coregistered_predseg.png\n",
      "NC: 4, NDB: 3, TS: [512, 512], TTA: False, OT: False\n",
      "N_DATA_BANDS: 3\n",
      "saving segmentation results to C:\\development\\coastseg-planet\\CoastSeg-Planet\\santa_cruz_boardwalk_QGIS\\files\\good\\out\\20240409_180644_86_24b6_3B_TOAR_processed_coregistered_predseg.png\n",
      "writing metadata to C:\\development\\coastseg-planet\\CoastSeg-Planet\\santa_cruz_boardwalk_QGIS\\files\\good\\out\\20240409_180644_86_24b6_3B_TOAR_processed_coregistered_res.npz\n",
      "32610\n",
      "image_epsg: 32610 type: <class 'int'>\n",
      "7159.8814895725845\n",
      "1824.2756492761089\n",
      "118.97056274847715\n",
      "Number of shorelines before removing shorelines < 100m: 3 shorelines. Number of shorelines after filtering shorelines: 3 shorelines\n",
      "class_mapping: {'0': 'water', '1': 'whitewater', '2': 'sediment', '3': 'other'}\n",
      "class_mapping: {'0': 'water', '1': 'whitewater', '2': 'sediment', '3': 'other'}\n",
      "all_class_color_mapping: {0: (0.0, 0.0, 0.5, 1.0), 1: (0.0, 0.8333333333333334, 1.0, 1.0), 2: (1.0, 0.9012345679012345, 0.0, 1.0), 3: (0.5, 0.0, 0.0, 1.0)}\n",
      "Saving figure to C:\\development\\coastseg-planet\\CoastSeg-Planet\\santa_cruz_boardwalk_QGIS\\files\\good\\out\\2024-04-09-18-06-44_planet.jpg\n",
      "Processing 20240313_181345_71_242d\n",
      "Skipping C:\\development\\coastseg-planet\\CoastSeg-Planet\\santa_cruz_boardwalk_QGIS\\files\\good\\20240313_181345_71_242d_3B_TOAR_processed_coregistered.tif because it does not exist\n",
      "Processing 20240401_190203_53_24f2\n",
      "Processing C:\\development\\coastseg-planet\\CoastSeg-Planet\\santa_cruz_boardwalk_QGIS\\files\\good\\20240401_190203_53_24f2_3B_TOAR_processed_coregistered.tif\n",
      "Using cloud mask: C:\\development\\coastseg-planet\\CoastSeg-Planet\\santa_cruz_boardwalk_QGIS\\files\\good\\20240401_190203_53_24f2_3B_udm2_clip_combined_mask.tif\n"
     ]
    },
    {
     "name": "stderr",
     "output_type": "stream",
     "text": [
      "Some layers from the model checkpoint at nvidia/mit-b0 were not used when initializing TFSegformerForSemanticSegmentation: ['classifier']\n",
      "- This IS expected if you are initializing TFSegformerForSemanticSegmentation from the checkpoint of a model trained on another task or with another architecture (e.g. initializing a BertForSequenceClassification model from a BertForPreTraining model).\n",
      "- This IS NOT expected if you are initializing TFSegformerForSemanticSegmentation from the checkpoint of a model that you expect to be exactly identical (initializing a BertForSequenceClassification model from a BertForSequenceClassification model).\n",
      "Some layers of TFSegformerForSemanticSegmentation were not initialized from the model checkpoint at nvidia/mit-b0 and are newly initialized: ['decode_head']\n",
      "You should probably TRAIN this model on a down-stream task to be able to use it for predictions and inference.\n"
     ]
    },
    {
     "name": "stdout",
     "output_type": "stream",
     "text": [
      "Processing image:  C:\\development\\coastseg-planet\\CoastSeg-Planet\\santa_cruz_boardwalk_QGIS\\files\\good\\20240401_190203_53_24f2_3B_TOAR_processed_coregistered.tif\n",
      "Output file:  C:\\development\\coastseg-planet\\CoastSeg-Planet\\santa_cruz_boardwalk_QGIS\\files\\good\\20240401_190203_53_24f2_3B_TOAR_processed_coregistered_predseg.png\n",
      "Output file:  C:\\development\\coastseg-planet\\CoastSeg-Planet\\santa_cruz_boardwalk_QGIS\\files\\good\\out\\20240401_190203_53_24f2_3B_TOAR_processed_coregistered_predseg.png\n",
      "NC: 4, NDB: 3, TS: [512, 512], TTA: False, OT: False\n",
      "N_DATA_BANDS: 3\n",
      "saving segmentation results to C:\\development\\coastseg-planet\\CoastSeg-Planet\\santa_cruz_boardwalk_QGIS\\files\\good\\out\\20240401_190203_53_24f2_3B_TOAR_processed_coregistered_predseg.png\n",
      "writing metadata to C:\\development\\coastseg-planet\\CoastSeg-Planet\\santa_cruz_boardwalk_QGIS\\files\\good\\out\\20240401_190203_53_24f2_3B_TOAR_processed_coregistered_res.npz\n",
      "32610\n",
      "image_epsg: 32610 type: <class 'int'>\n",
      "5575.771749793165\n",
      "38.485281374238575\n",
      "88.97056274847716\n",
      "260.4852813742386\n",
      "26.485281374238568\n",
      "1874.8858223313748\n",
      "Number of shorelines before removing shorelines < 100m: 6 shorelines. Number of shorelines after filtering shorelines: 3 shorelines\n",
      "class_mapping: {'0': 'water', '1': 'whitewater', '2': 'sediment', '3': 'other'}\n",
      "class_mapping: {'0': 'water', '1': 'whitewater', '2': 'sediment', '3': 'other'}\n",
      "all_class_color_mapping: {0: (0.0, 0.0, 0.5, 1.0), 1: (0.0, 0.8333333333333334, 1.0, 1.0), 2: (1.0, 0.9012345679012345, 0.0, 1.0), 3: (0.5, 0.0, 0.0, 1.0)}\n",
      "Saving figure to C:\\development\\coastseg-planet\\CoastSeg-Planet\\santa_cruz_boardwalk_QGIS\\files\\good\\out\\2024-04-01-19-02-03_planet.jpg\n",
      "Processing 20240315_190104_74_24c6\n",
      "Skipping C:\\development\\coastseg-planet\\CoastSeg-Planet\\santa_cruz_boardwalk_QGIS\\files\\good\\20240315_190104_74_24c6_3B_TOAR_processed_coregistered.tif because it does not exist\n",
      "Processing 20240411_190131_50_24e1\n",
      "Skipping C:\\development\\coastseg-planet\\CoastSeg-Planet\\santa_cruz_boardwalk_QGIS\\files\\good\\20240411_190131_50_24e1_3B_TOAR_processed_coregistered.tif because it does not exist\n"
     ]
    }
   ],
   "source": [
    "from coastseg_planet.shoreline_extraction import get_shorelines_from_model\n",
    "from coastseg_planet.processing import get_date_from_path,TOA_conversion,get_epsg_from_tiff,get_base_filename,convert_planet_to_model_format\n",
    "from osgeo import gdal, osr\n",
    "from datetime import datetime\n",
    "from coastseg_planet.model import apply_model_to_image\n",
    "from coastseg.extracted_shoreline import load_image_labels, load_merged_image_labels, remove_small_objects_and_binarize, get_indices_of_classnames, get_class_mapping\n",
    "from coastseg import file_utilities\n",
    "\n",
    "# Future improvement will download & load the model from the coastseg_planet package\n",
    "# for now hard code the model path & weights directory\n",
    "model_card_path = r'C:\\development\\coastseg-planet\\CoastSeg-Planet\\output_zoo\\coastseg_planet\\coastseg_planet\\config\\model_card.yml'\n",
    "weights_directory = r'C:\\development\\doodleverse\\coastseg\\CoastSeg\\src\\coastseg\\downloaded_models\\segformer_RGB_4class_8190958'\n",
    "model_card_path = file_utilities.find_file_by_regex(\n",
    "    weights_directory, r\".*modelcard\\.json$\"\n",
    ")\n",
    "# all this is to create the settings dictionary needed to extract shorelines\n",
    "out_epsg = get_epsg_from_tiff(landsat_processed_path)\n",
    "# convert str to int\n",
    "out_epsg = int(out_epsg)\n",
    "settings = {\n",
    "    'output_epsg': out_epsg,\n",
    "    'min_length_sl': 100,\n",
    "    'dist_clouds': 50,\n",
    "    'min_beach_area': 1000,\n",
    "    'satname': 'planet',\n",
    "}\n",
    "\n",
    "separator = '_3B'\n",
    "for target_path in filtered_tiffs:\n",
    "    base_filename = get_base_filename(target_path, separator)\n",
    "    print(f\"Processing {base_filename}\")\n",
    "    # get the processed coregistered file, the cloud mask and the npz file\n",
    "    input_path = os.path.join(good_dir, f\"{ base_filename}{separator}_TOAR_processed_coregistered.tif\") # this is the input path for the coregistered planet image\n",
    "    if not os.path.exists(input_path):\n",
    "        print(f\"Skipping {input_path} because it does not exist\")\n",
    "        continue\n",
    "    found_cloud_masks =  glob.glob(os.path.join(good_dir, f\"{base_filename}*udm2_clip_combined_mask.tif\"))\n",
    "    if not found_cloud_masks:\n",
    "        print(f\"Skipping {input_path} because cloud mask not found\")\n",
    "        continue\n",
    "    cloud_mask_path = found_cloud_masks[0]\n",
    "    date=get_date_from_path(base_filename)\n",
    "    print(f\"Processing {input_path}\")\n",
    "    print(f\"Using cloud mask: {cloud_mask_path}\")\n",
    "    if not os.path.exists(input_path):\n",
    "        print(f\"Skipping {input_path} because it does not exist\")\n",
    "        continue\n",
    "    \n",
    "    \n",
    "    apply_model_to_image(input_path,good_dir,False,False)\n",
    "    # this is the file generated by the model\n",
    "    npz_path = os.path.join(good_dir, 'out', f\"{base_filename}_3B_TOAR_processed_coregistered_res.npz\")\n",
    "    if not os.path.exists(npz_path):\n",
    "        print(f\"Skipping {npz_path} because it does not exist\")\n",
    "    \n",
    "    save_path = os.path.join(good_dir, 'out')\n",
    "    shoreline = get_shorelines_from_model(cloud_mask_path,input_path,model_card_path,npz_path,date,satname= 'planet', settings = settings,save_path=save_path)\n",
    "    \n"
   ]
  }
 ],
 "metadata": {
  "kernelspec": {
   "display_name": "coastseg_planet",
   "language": "python",
   "name": "python3"
  },
  "language_info": {
   "codemirror_mode": {
    "name": "ipython",
    "version": 3
   },
   "file_extension": ".py",
   "mimetype": "text/x-python",
   "name": "python",
   "nbconvert_exporter": "python",
   "pygments_lexer": "ipython3",
   "version": "3.10.13"
  }
 },
 "nbformat": 4,
 "nbformat_minor": 2
}
