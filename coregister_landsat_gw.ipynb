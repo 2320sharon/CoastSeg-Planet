{
 "cells": [
  {
   "cell_type": "code",
   "execution_count": 1,
   "metadata": {},
   "outputs": [
    {
     "name": "stderr",
     "output_type": "stream",
     "text": [
      "c:\\Users\\sf230\\anaconda3\\envs\\geowombat\\lib\\site-packages\\tqdm\\auto.py:21: TqdmWarning: IProgress not found. Please update jupyter and ipywidgets. See https://ipywidgets.readthedocs.io/en/stable/user_install.html\n",
      "  from .autonotebook import tqdm as notebook_tqdm\n"
     ]
    }
   ],
   "source": [
    "# attempt to coresiger landsat bands together\n",
    "import geowombat as gw"
   ]
  },
  {
   "cell_type": "code",
   "execution_count": 14,
   "metadata": {},
   "outputs": [
    {
     "name": "stdout",
     "output_type": "stream",
     "text": [
      "(1, 2, 3, 4, 5)\n",
      "1 uint16 0.0\n",
      "0\n",
      "4019\n",
      "(300, 299)\n",
      "2 uint16 0.0\n",
      "0\n",
      "3790\n",
      "(300, 299)\n",
      "3 uint16 0.0\n",
      "0\n",
      "3873\n",
      "(300, 299)\n",
      "4 uint16 0.0\n",
      "0\n",
      "4009\n",
      "(300, 299)\n",
      "5 uint16 0.0\n",
      "0\n",
      "4562\n",
      "(300, 299)\n"
     ]
    }
   ],
   "source": [
    "import rasterio\n",
    "import numpy as np\n",
    "\n",
    "REFERENCE= \"ID_mqq51_sample_int3.tif\"\n",
    "INFILE = \"2023-02-14-10-33-43_L8_ID_mqq51_unit16.tif\"\n",
    "\n",
    "\n",
    "with rasterio.open(REFERENCE) as new_tif:\n",
    "    print(new_tif.indexes)\n",
    "    for i, dtype, nodataval in zip(new_tif.indexes, new_tif.dtypes, new_tif.nodatavals):\n",
    "        print(i, dtype, nodataval)\n",
    "        print(np.min(new_tif.read(i)))\n",
    "        print(np.max(new_tif.read(i)))\n",
    "        print(new_tif.read(i).shape)"
   ]
  },
  {
   "cell_type": "code",
   "execution_count": 7,
   "metadata": {},
   "outputs": [
    {
     "name": "stdout",
     "output_type": "stream",
     "text": [
      "(1, 2, 3, 4, 5)\n",
      "1 uint16 0.0\n",
      "0\n",
      "2576\n",
      "2 uint16 0.0\n",
      "0\n",
      "2557\n",
      "3 uint16 0.0\n",
      "0\n",
      "2846\n",
      "4 uint16 0.0\n",
      "0\n",
      "3596\n",
      "5 uint16 0.0\n",
      "0\n",
      "4071\n"
     ]
    }
   ],
   "source": [
    "import rasterio\n",
    "import numpy as np\n",
    "\n",
    "REFERENCE= \"ID_mqq51_sample_int3.tif\"\n",
    "INFILE = \"2023-02-14-10-33-43_L8_ID_mqq51_unit16.tif\"\n",
    "\n",
    "\n",
    "with rasterio.open(INFILE) as new_tif:\n",
    "    print(new_tif.indexes)\n",
    "    for i, dtype, nodataval in zip(new_tif.indexes, new_tif.dtypes, new_tif.nodatavals):\n",
    "        print(i, dtype, nodataval)\n",
    "        print(np.min(new_tif.read(i)))\n",
    "        print(np.max(new_tif.read(i)))"
   ]
  },
  {
   "cell_type": "code",
   "execution_count": 13,
   "metadata": {},
   "outputs": [
    {
     "name": "stdout",
     "output_type": "stream",
     "text": [
      "(1, 2, 3, 4, 5)\n",
      "('uint16', 'uint16', 'uint16', 'uint16', 'uint16')\n",
      "300\n",
      "299\n"
     ]
    }
   ],
   "source": [
    "import rasterio\n",
    "from rasterio.enums import Resampling\n",
    "\n",
    "REFERENCE= \"ID_mqq51_sample_int3.tif\"\n",
    "INFILE = \"2023-02-14-10-33-43_L8_ID_mqq51_unit16.tif\"\n",
    "\n",
    "with rasterio.open(INFILE) as dataset:\n",
    "    print(dataset.indexes)\n",
    "    print(dataset.dtypes)\n",
    "    print(dataset.height)\n",
    "    print(dataset.width)\n"
   ]
  },
  {
   "cell_type": "code",
   "execution_count": 5,
   "metadata": {},
   "outputs": [
    {
     "ename": "RasterBlockError",
     "evalue": "The height and width of dataset blocks must be multiples of 16",
     "output_type": "error",
     "traceback": [
      "\u001b[1;31m---------------------------------------------------------------------------\u001b[0m",
      "\u001b[1;31mRasterBlockError\u001b[0m                          Traceback (most recent call last)",
      "Cell \u001b[1;32mIn[5], line 7\u001b[0m\n\u001b[0;32m      2\u001b[0m INFILE \u001b[38;5;241m=\u001b[39m \u001b[38;5;124mr\u001b[39m\u001b[38;5;124m\"\u001b[39m\u001b[38;5;124mC:\u001b[39m\u001b[38;5;124m\\\u001b[39m\u001b[38;5;124mdevelopment\u001b[39m\u001b[38;5;124m\\\u001b[39m\u001b[38;5;124mco-reg-script\u001b[39m\u001b[38;5;124m\\\u001b[39m\u001b[38;5;124mAROSICS_coregistration\u001b[39m\u001b[38;5;124m\\\u001b[39m\u001b[38;5;124m2023-02-14-10-33-43_L8_ID_mqq51_unit16.tif\u001b[39m\u001b[38;5;124m\"\u001b[39m\n\u001b[0;32m      4\u001b[0m \u001b[38;5;28;01mwith\u001b[39;00m gw\u001b[38;5;241m.\u001b[39mopen(INFILE) \u001b[38;5;28;01mas\u001b[39;00m target, gw\u001b[38;5;241m.\u001b[39mopen(\n\u001b[0;32m      5\u001b[0m     REFERENCE\n\u001b[0;32m      6\u001b[0m ) \u001b[38;5;28;01mas\u001b[39;00m reference:\n\u001b[1;32m----> 7\u001b[0m     target_shifted \u001b[38;5;241m=\u001b[39m \u001b[43mgw\u001b[49m\u001b[38;5;241;43m.\u001b[39;49m\u001b[43mcoregister\u001b[49m\u001b[43m(\u001b[49m\n\u001b[0;32m      8\u001b[0m \u001b[43m        \u001b[49m\u001b[43mtarget\u001b[49m\u001b[38;5;241;43m=\u001b[39;49m\u001b[43mtarget\u001b[49m\u001b[43m,\u001b[49m\n\u001b[0;32m      9\u001b[0m \u001b[43m        \u001b[49m\u001b[43mreference\u001b[49m\u001b[38;5;241;43m=\u001b[39;49m\u001b[43mreference\u001b[49m\u001b[43m,\u001b[49m\n\u001b[0;32m     10\u001b[0m \u001b[43m        \u001b[49m\u001b[43mmax_shift\u001b[49m\u001b[38;5;241;43m=\u001b[39;49m\u001b[38;5;241;43m500\u001b[39;49m\u001b[43m,\u001b[49m\u001b[43m \u001b[49m\n\u001b[0;32m     11\u001b[0m \u001b[43m        \u001b[49m\u001b[43mq\u001b[49m\u001b[38;5;241;43m=\u001b[39;49m\u001b[38;5;28;43;01mFalse\u001b[39;49;00m\u001b[43m,\u001b[49m\u001b[43m \u001b[49m\u001b[38;5;66;43;03m#quiet mode (default: False)\u001b[39;49;00m\n\u001b[0;32m     12\u001b[0m \u001b[43m        \u001b[49m\u001b[43mCPUs\u001b[49m\u001b[38;5;241;43m=\u001b[39;49m\u001b[38;5;241;43m1\u001b[39;49m\u001b[43m,\u001b[49m\u001b[43m \u001b[49m\u001b[38;5;66;43;03m#  number of CPUs to use during pixel grid equalization (default: None, which means ‘all CPUs available’)\u001b[39;49;00m\n\u001b[0;32m     13\u001b[0m \u001b[43m    \u001b[49m\u001b[43m)\u001b[49m\n\u001b[0;32m     14\u001b[0m     \u001b[38;5;28mprint\u001b[39m(target_shifted)\n\u001b[0;32m     15\u001b[0m     target_shifted\n",
      "File \u001b[1;32mc:\\Users\\sf230\\anaconda3\\envs\\geowombat\\lib\\site-packages\\geowombat\\core\\sops.py:1476\u001b[0m, in \u001b[0;36mSpatialOperations.coregister\u001b[1;34m(target, reference, band_names_reference, band_names_target, wkt_version, **kwargs)\u001b[0m\n\u001b[0;32m   1472\u001b[0m     \u001b[38;5;28;01mif\u001b[39;00m \u001b[38;5;124m'\u001b[39m\u001b[38;5;124mnodata\u001b[39m\u001b[38;5;124m'\u001b[39m \u001b[38;5;129;01min\u001b[39;00m kwargs:\n\u001b[0;32m   1473\u001b[0m         ref_src \u001b[38;5;241m=\u001b[39m ref_src\u001b[38;5;241m.\u001b[39mfillna(\n\u001b[0;32m   1474\u001b[0m             kwargs[\u001b[38;5;124m'\u001b[39m\u001b[38;5;124mnodata\u001b[39m\u001b[38;5;124m'\u001b[39m][\u001b[38;5;241m0\u001b[39m]\n\u001b[0;32m   1475\u001b[0m         )\u001b[38;5;241m.\u001b[39mgw\u001b[38;5;241m.\u001b[39massign_nodata_attrs(kwargs[\u001b[38;5;124m'\u001b[39m\u001b[38;5;124mnodata\u001b[39m\u001b[38;5;124m'\u001b[39m][\u001b[38;5;241m0\u001b[39m])\n\u001b[1;32m-> 1476\u001b[0m     \u001b[43mref_src\u001b[49m\u001b[38;5;241;43m.\u001b[39;49m\u001b[43mgw\u001b[49m\u001b[38;5;241;43m.\u001b[39;49m\u001b[43msave\u001b[49m\u001b[43m(\u001b[49m\u001b[43mref_path\u001b[49m\u001b[43m,\u001b[49m\u001b[43m \u001b[49m\u001b[43moverwrite\u001b[49m\u001b[38;5;241;43m=\u001b[39;49m\u001b[38;5;28;43;01mTrue\u001b[39;49;00m\u001b[43m,\u001b[49m\u001b[43m \u001b[49m\u001b[43mlog_progress\u001b[49m\u001b[38;5;241;43m=\u001b[39;49m\u001b[38;5;28;43;01mFalse\u001b[39;49;00m\u001b[43m)\u001b[49m\n\u001b[0;32m   1477\u001b[0m tar_kwargs \u001b[38;5;241m=\u001b[39m (\n\u001b[0;32m   1478\u001b[0m     {\u001b[38;5;124m'\u001b[39m\u001b[38;5;124mengine\u001b[39m\u001b[38;5;124m'\u001b[39m: \u001b[38;5;124m'\u001b[39m\u001b[38;5;124mh5netcdf\u001b[39m\u001b[38;5;124m'\u001b[39m}\n\u001b[0;32m   1479\u001b[0m     \u001b[38;5;28;01mif\u001b[39;00m \u001b[38;5;28mstr\u001b[39m(target\u001b[38;5;241m.\u001b[39mfilename)\u001b[38;5;241m.\u001b[39mlower()\u001b[38;5;241m.\u001b[39mendswith(\u001b[38;5;124m'\u001b[39m\u001b[38;5;124m.nc\u001b[39m\u001b[38;5;124m'\u001b[39m)\n\u001b[0;32m   1480\u001b[0m     \u001b[38;5;28;01melse\u001b[39;00m {}\n\u001b[0;32m   1481\u001b[0m )\n\u001b[0;32m   1482\u001b[0m \u001b[38;5;28;01mwith\u001b[39;00m gw_\u001b[38;5;241m.\u001b[39mopen(\n\u001b[0;32m   1483\u001b[0m     target\u001b[38;5;241m.\u001b[39mfilename,\n\u001b[0;32m   1484\u001b[0m     band_names\u001b[38;5;241m=\u001b[39mband_names_target,\n\u001b[1;32m   (...)\u001b[0m\n\u001b[0;32m   1490\u001b[0m     \u001b[38;5;241m*\u001b[39m\u001b[38;5;241m*\u001b[39mtar_kwargs,\n\u001b[0;32m   1491\u001b[0m ) \u001b[38;5;28;01mas\u001b[39;00m tar_src:\n",
      "File \u001b[1;32mc:\\Users\\sf230\\anaconda3\\envs\\geowombat\\lib\\site-packages\\geowombat\\core\\geoxarray.py:786\u001b[0m, in \u001b[0;36mGeoWombatAccessor.save\u001b[1;34m(self, filename, mode, nodata, overwrite, client, compute, tags, compress, compression, num_workers, log_progress, tqdm_kwargs)\u001b[0m\n\u001b[0;32m    779\u001b[0m     warnings\u001b[38;5;241m.\u001b[39mwarn(\n\u001b[0;32m    780\u001b[0m         \u001b[38;5;124m\"\u001b[39m\u001b[38;5;124mThe argument \u001b[39m\u001b[38;5;124m'\u001b[39m\u001b[38;5;124mcompression\u001b[39m\u001b[38;5;124m'\u001b[39m\u001b[38;5;124m will be deprecated in >=2.2.0. Use \u001b[39m\u001b[38;5;124m'\u001b[39m\u001b[38;5;124mcompress\u001b[39m\u001b[38;5;124m'\u001b[39m\u001b[38;5;124m.\u001b[39m\u001b[38;5;124m\"\u001b[39m,\n\u001b[0;32m    781\u001b[0m         \u001b[38;5;167;01mDeprecationWarning\u001b[39;00m,\n\u001b[0;32m    782\u001b[0m         stacklevel\u001b[38;5;241m=\u001b[39m\u001b[38;5;241m2\u001b[39m,\n\u001b[0;32m    783\u001b[0m     )\n\u001b[0;32m    784\u001b[0m     compress \u001b[38;5;241m=\u001b[39m compression\n\u001b[1;32m--> 786\u001b[0m \u001b[38;5;28;01mreturn\u001b[39;00m \u001b[43msave\u001b[49m\u001b[43m(\u001b[49m\n\u001b[0;32m    787\u001b[0m \u001b[43m    \u001b[49m\u001b[38;5;28;43mself\u001b[39;49m\u001b[38;5;241;43m.\u001b[39;49m\u001b[43m_obj\u001b[49m\u001b[43m,\u001b[49m\n\u001b[0;32m    788\u001b[0m \u001b[43m    \u001b[49m\u001b[43mfilename\u001b[49m\u001b[38;5;241;43m=\u001b[39;49m\u001b[43mfilename\u001b[49m\u001b[43m,\u001b[49m\n\u001b[0;32m    789\u001b[0m \u001b[43m    \u001b[49m\u001b[43mmode\u001b[49m\u001b[38;5;241;43m=\u001b[39;49m\u001b[43mmode\u001b[49m\u001b[43m,\u001b[49m\n\u001b[0;32m    790\u001b[0m \u001b[43m    \u001b[49m\u001b[43mnodata\u001b[49m\u001b[38;5;241;43m=\u001b[39;49m\u001b[43mnodata\u001b[49m\u001b[43m,\u001b[49m\n\u001b[0;32m    791\u001b[0m \u001b[43m    \u001b[49m\u001b[43moverwrite\u001b[49m\u001b[38;5;241;43m=\u001b[39;49m\u001b[43moverwrite\u001b[49m\u001b[43m,\u001b[49m\n\u001b[0;32m    792\u001b[0m \u001b[43m    \u001b[49m\u001b[43mclient\u001b[49m\u001b[38;5;241;43m=\u001b[39;49m\u001b[43mclient\u001b[49m\u001b[43m,\u001b[49m\n\u001b[0;32m    793\u001b[0m \u001b[43m    \u001b[49m\u001b[43mcompute\u001b[49m\u001b[38;5;241;43m=\u001b[39;49m\u001b[43mcompute\u001b[49m\u001b[43m,\u001b[49m\n\u001b[0;32m    794\u001b[0m \u001b[43m    \u001b[49m\u001b[43mtags\u001b[49m\u001b[38;5;241;43m=\u001b[39;49m\u001b[43mtags\u001b[49m\u001b[43m,\u001b[49m\n\u001b[0;32m    795\u001b[0m \u001b[43m    \u001b[49m\u001b[43mcompress\u001b[49m\u001b[38;5;241;43m=\u001b[39;49m\u001b[43mcompress\u001b[49m\u001b[43m,\u001b[49m\n\u001b[0;32m    796\u001b[0m \u001b[43m    \u001b[49m\u001b[43mnum_workers\u001b[49m\u001b[38;5;241;43m=\u001b[39;49m\u001b[43mnum_workers\u001b[49m\u001b[43m,\u001b[49m\n\u001b[0;32m    797\u001b[0m \u001b[43m    \u001b[49m\u001b[43mlog_progress\u001b[49m\u001b[38;5;241;43m=\u001b[39;49m\u001b[43mlog_progress\u001b[49m\u001b[43m,\u001b[49m\n\u001b[0;32m    798\u001b[0m \u001b[43m    \u001b[49m\u001b[43mtqdm_kwargs\u001b[49m\u001b[38;5;241;43m=\u001b[39;49m\u001b[43mtqdm_kwargs\u001b[49m\u001b[43m,\u001b[49m\n\u001b[0;32m    799\u001b[0m \u001b[43m\u001b[49m\u001b[43m)\u001b[49m\n",
      "File \u001b[1;32mc:\\Users\\sf230\\anaconda3\\envs\\geowombat\\lib\\site-packages\\geowombat\\core\\io.py:801\u001b[0m, in \u001b[0;36msave\u001b[1;34m(data, filename, mode, nodata, overwrite, client, compute, tags, compress, compression, num_workers, log_progress, tqdm_kwargs)\u001b[0m\n\u001b[0;32m    794\u001b[0m     \u001b[38;5;28;01mreturn\u001b[39;00m (\n\u001b[0;32m    795\u001b[0m         RasterioStore(filename, mode\u001b[38;5;241m=\u001b[39mmode, tags\u001b[38;5;241m=\u001b[39mtags, \u001b[38;5;241m*\u001b[39m\u001b[38;5;241m*\u001b[39mkwargs)\n\u001b[0;32m    796\u001b[0m         \u001b[38;5;241m.\u001b[39mopen()\n\u001b[0;32m    797\u001b[0m         \u001b[38;5;241m.\u001b[39mwrite_delayed(data)\n\u001b[0;32m    798\u001b[0m     )\n\u001b[0;32m    800\u001b[0m \u001b[38;5;28;01melse\u001b[39;00m:\n\u001b[1;32m--> 801\u001b[0m     \u001b[38;5;28;01mwith\u001b[39;00m RasterioStore(\n\u001b[0;32m    802\u001b[0m         filename, mode\u001b[38;5;241m=\u001b[39mmode, tags\u001b[38;5;241m=\u001b[39mtags, \u001b[38;5;241m*\u001b[39m\u001b[38;5;241m*\u001b[39mkwargs\n\u001b[0;32m    803\u001b[0m     ) \u001b[38;5;28;01mas\u001b[39;00m rio_store:\n\u001b[0;32m    804\u001b[0m         \u001b[38;5;66;03m# Store the data and return a lazy evaluator\u001b[39;00m\n\u001b[0;32m    805\u001b[0m         res \u001b[38;5;241m=\u001b[39m rio_store\u001b[38;5;241m.\u001b[39mwrite(data)\n\u001b[0;32m    807\u001b[0m         \u001b[38;5;28;01mif\u001b[39;00m client \u001b[38;5;129;01mis\u001b[39;00m \u001b[38;5;129;01mnot\u001b[39;00m \u001b[38;5;28;01mNone\u001b[39;00m:\n",
      "File \u001b[1;32mc:\\Users\\sf230\\anaconda3\\envs\\geowombat\\lib\\site-packages\\geowombat\\backends\\rasterio_.py:206\u001b[0m, in \u001b[0;36mRasterioStore.__enter__\u001b[1;34m(self)\u001b[0m\n\u001b[0;32m    205\u001b[0m \u001b[38;5;28;01mdef\u001b[39;00m \u001b[38;5;21m__enter__\u001b[39m(\u001b[38;5;28mself\u001b[39m) \u001b[38;5;241m-\u001b[39m\u001b[38;5;241m>\u001b[39m \u001b[38;5;124m'\u001b[39m\u001b[38;5;124mRasterioStore\u001b[39m\u001b[38;5;124m'\u001b[39m:\n\u001b[1;32m--> 206\u001b[0m     \u001b[38;5;28;01mreturn\u001b[39;00m \u001b[38;5;28;43mself\u001b[39;49m\u001b[38;5;241;43m.\u001b[39;49m\u001b[43mopen\u001b[49m\u001b[43m(\u001b[49m\u001b[43m)\u001b[49m\n",
      "File \u001b[1;32mc:\\Users\\sf230\\anaconda3\\envs\\geowombat\\lib\\site-packages\\geowombat\\backends\\rasterio_.py:212\u001b[0m, in \u001b[0;36mRasterioStore.open\u001b[1;34m(self)\u001b[0m\n\u001b[0;32m    211\u001b[0m \u001b[38;5;28;01mdef\u001b[39;00m \u001b[38;5;21mopen\u001b[39m(\u001b[38;5;28mself\u001b[39m) \u001b[38;5;241m-\u001b[39m\u001b[38;5;241m>\u001b[39m \u001b[38;5;124m'\u001b[39m\u001b[38;5;124mRasterioStore\u001b[39m\u001b[38;5;124m'\u001b[39m:\n\u001b[1;32m--> 212\u001b[0m     \u001b[38;5;28mself\u001b[39m\u001b[38;5;241m.\u001b[39mdst \u001b[38;5;241m=\u001b[39m \u001b[38;5;28;43mself\u001b[39;49m\u001b[38;5;241;43m.\u001b[39;49m\u001b[43mrio_open\u001b[49m\u001b[43m(\u001b[49m\u001b[43m)\u001b[49m\n\u001b[0;32m    213\u001b[0m     \u001b[38;5;28mself\u001b[39m\u001b[38;5;241m.\u001b[39mupdate_tags()\n\u001b[0;32m    215\u001b[0m     \u001b[38;5;28;01mreturn\u001b[39;00m \u001b[38;5;28mself\u001b[39m\n",
      "File \u001b[1;32mc:\\Users\\sf230\\anaconda3\\envs\\geowombat\\lib\\site-packages\\geowombat\\backends\\rasterio_.py:218\u001b[0m, in \u001b[0;36mRasterioStore.rio_open\u001b[1;34m(self)\u001b[0m\n\u001b[0;32m    217\u001b[0m \u001b[38;5;28;01mdef\u001b[39;00m \u001b[38;5;21mrio_open\u001b[39m(\u001b[38;5;28mself\u001b[39m):\n\u001b[1;32m--> 218\u001b[0m     \u001b[38;5;28;01mreturn\u001b[39;00m rio\u001b[38;5;241m.\u001b[39mopen(\u001b[38;5;28mself\u001b[39m\u001b[38;5;241m.\u001b[39mfilename, mode\u001b[38;5;241m=\u001b[39m\u001b[38;5;28mself\u001b[39m\u001b[38;5;241m.\u001b[39mmode, \u001b[38;5;241m*\u001b[39m\u001b[38;5;241m*\u001b[39m\u001b[38;5;28mself\u001b[39m\u001b[38;5;241m.\u001b[39mkwargs)\n",
      "File \u001b[1;32mc:\\Users\\sf230\\anaconda3\\envs\\geowombat\\lib\\site-packages\\rasterio\\env.py:444\u001b[0m, in \u001b[0;36mensure_env_with_credentials.<locals>.wrapper\u001b[1;34m(*args, **kwds)\u001b[0m\n\u001b[0;32m    441\u001b[0m     session \u001b[38;5;241m=\u001b[39m DummySession()\n\u001b[0;32m    443\u001b[0m \u001b[38;5;28;01mwith\u001b[39;00m env_ctor(session\u001b[38;5;241m=\u001b[39msession):\n\u001b[1;32m--> 444\u001b[0m     \u001b[38;5;28;01mreturn\u001b[39;00m f(\u001b[38;5;241m*\u001b[39margs, \u001b[38;5;241m*\u001b[39m\u001b[38;5;241m*\u001b[39mkwds)\n",
      "File \u001b[1;32mc:\\Users\\sf230\\anaconda3\\envs\\geowombat\\lib\\site-packages\\rasterio\\__init__.py:314\u001b[0m, in \u001b[0;36mopen\u001b[1;34m(fp, mode, driver, width, height, count, crs, transform, dtype, nodata, sharing, **kwargs)\u001b[0m\n\u001b[0;32m    312\u001b[0m writer \u001b[38;5;241m=\u001b[39m get_writer_for_driver(driver)\n\u001b[0;32m    313\u001b[0m \u001b[38;5;28;01mif\u001b[39;00m writer \u001b[38;5;129;01mis\u001b[39;00m \u001b[38;5;129;01mnot\u001b[39;00m \u001b[38;5;28;01mNone\u001b[39;00m:\n\u001b[1;32m--> 314\u001b[0m     dataset \u001b[38;5;241m=\u001b[39m writer(\n\u001b[0;32m    315\u001b[0m         path,\n\u001b[0;32m    316\u001b[0m         mode,\n\u001b[0;32m    317\u001b[0m         driver\u001b[38;5;241m=\u001b[39mdriver,\n\u001b[0;32m    318\u001b[0m         width\u001b[38;5;241m=\u001b[39mwidth,\n\u001b[0;32m    319\u001b[0m         height\u001b[38;5;241m=\u001b[39mheight,\n\u001b[0;32m    320\u001b[0m         count\u001b[38;5;241m=\u001b[39mcount,\n\u001b[0;32m    321\u001b[0m         crs\u001b[38;5;241m=\u001b[39mcrs,\n\u001b[0;32m    322\u001b[0m         transform\u001b[38;5;241m=\u001b[39mtransform,\n\u001b[0;32m    323\u001b[0m         dtype\u001b[38;5;241m=\u001b[39mdtype,\n\u001b[0;32m    324\u001b[0m         nodata\u001b[38;5;241m=\u001b[39mnodata,\n\u001b[0;32m    325\u001b[0m         sharing\u001b[38;5;241m=\u001b[39msharing,\n\u001b[0;32m    326\u001b[0m         \u001b[38;5;241m*\u001b[39m\u001b[38;5;241m*\u001b[39mkwargs\n\u001b[0;32m    327\u001b[0m     )\n\u001b[0;32m    328\u001b[0m \u001b[38;5;28;01melse\u001b[39;00m:\n\u001b[0;32m    329\u001b[0m     \u001b[38;5;28;01mraise\u001b[39;00m DriverCapabilityError(\n\u001b[0;32m    330\u001b[0m         \u001b[38;5;124m\"\u001b[39m\u001b[38;5;124mWriter does not exist for driver: \u001b[39m\u001b[38;5;132;01m%s\u001b[39;00m\u001b[38;5;124m\"\u001b[39m \u001b[38;5;241m%\u001b[39m \u001b[38;5;28mstr\u001b[39m(driver)\n\u001b[0;32m    331\u001b[0m     )\n",
      "File \u001b[1;32mrasterio\\_io.pyx:1415\u001b[0m, in \u001b[0;36mrasterio._io.DatasetWriterBase.__init__\u001b[1;34m()\u001b[0m\n",
      "\u001b[1;31mRasterBlockError\u001b[0m: The height and width of dataset blocks must be multiples of 16"
     ]
    }
   ],
   "source": [
    "REFERENCE= \"ID_mqq51_sample_int3.tif\"\n",
    "INFILE = \"2023-02-14-10-33-43_L8_ID_mqq51_unit16.tif\"\n",
    "\n",
    "with gw.open(INFILE) as target, gw.open(\n",
    "    REFERENCE\n",
    ") as reference:\n",
    "    target_shifted = gw.coregister(\n",
    "        target=target,\n",
    "        reference=reference,\n",
    "        max_shift=500, \n",
    "        q=False, #quiet mode (default: False)\n",
    "        CPUs=1, #  number of CPUs to use during pixel grid equalization (default: None, which means ‘all CPUs available’)\n",
    "    )\n",
    "    print(target_shifted)\n",
    "    target_shifted\n",
    "    gw.save(target_shifted, 'shifted_landsat.tif', compress='lzw', num_workers=8)"
   ]
  }
 ],
 "metadata": {
  "kernelspec": {
   "display_name": "geowombat",
   "language": "python",
   "name": "python3"
  },
  "language_info": {
   "codemirror_mode": {
    "name": "ipython",
    "version": 3
   },
   "file_extension": ".py",
   "mimetype": "text/x-python",
   "name": "python",
   "nbconvert_exporter": "python",
   "pygments_lexer": "ipython3",
   "version": "3.10.14"
  }
 },
 "nbformat": 4,
 "nbformat_minor": 2
}
