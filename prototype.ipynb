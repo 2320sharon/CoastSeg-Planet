{
 "cells": [
  {
   "cell_type": "markdown",
   "metadata": {},
   "source": [
    "# Prototype Notebook\n",
    "\n",
    "## Required Inputs\n",
    "1. Directory of planet images\n",
    "2. Single LandSat image\n",
    "\n",
    "## What's applied in this notebook\n",
    "1. The landsat image is convert from float64 to unit16 & nodata values are set to 0\n",
    "2. Cloud masking is applied to planet + landsat\n",
    "3. All the planet images are co-registered via local co-reg to the landsat image\n",
    "4. The bands in the planet image are re-rodered from BGRNIR to RGBNIR to match the expected model input format\n",
    "5. The values in the planet tiff are scaled to be 0 - 255 to match the expected model input format\n",
    "6. The model is applied to the planet image\n",
    "7. Shorelines are extracted from the segmentation\n",
    "\n",
    "## Future Upgrades\n",
    "- Run the good/bad filters on the planet imagery\n",
    "- Filter out planet images that less than **threshold** size of the ROI\n",
    "- Filter out planet images by percentage of cloud and cloud shadow coverage\n",
    "- UPdate workflows to utilize Dask\n",
    "- Have a function that gets the landsat image with the highest georef and lowest RMSE"
   ]
  },
  {
   "cell_type": "code",
   "execution_count": 1,
   "metadata": {},
   "outputs": [],
   "source": [
    "import coastseg_planet"
   ]
  },
  {
   "cell_type": "markdown",
   "metadata": {},
   "source": [
    "## Sample Data for Demo"
   ]
  },
  {
   "cell_type": "code",
   "execution_count": 2,
   "metadata": {},
   "outputs": [],
   "source": [
    "sample_direc = r'C:\\development\\coastseg-planet\\CoastSeg-Planet\\output_zoo'\n",
    "file_to_seg = r\"C:\\development\\coastseg-planet\\floris_roi_TOAR_enabled\\d1c0c095-a00d-42f8-b6c5-7dbf1f21d3b6\\PSScene\\20230403_101844_81_247d_3B_AnalyticMS_toar_clip.tif\"\n",
    "landsat_image = r''"
   ]
  },
  {
   "cell_type": "markdown",
   "metadata": {},
   "source": [
    "# Prepare the LandSat Image \n",
    "Convert from float64 to unit16 & nodata values are set to 0"
   ]
  },
  {
   "cell_type": "code",
   "execution_count": 3,
   "metadata": {},
   "outputs": [
    {
     "name": "stdout",
     "output_type": "stream",
     "text": [
      "output_path: C:\\development\\coastseg-planet\\CoastSeg-Planet\\2023-02-14-10-33-43_L8_ID_mqq51_processed.tif\n",
      "Created a new tiled raster file with block size 256x256 at C:\\development\\coastseg-planet\\CoastSeg-Planet\\2023-02-14-10-33-43_L8_ID_mqq51_processed.tif\n"
     ]
    },
    {
     "data": {
      "text/plain": [
       "'C:\\\\development\\\\coastseg-planet\\\\CoastSeg-Planet\\\\2023-02-14-10-33-43_L8_ID_mqq51_processed.tif'"
      ]
     },
     "execution_count": 3,
     "metadata": {},
     "output_type": "execute_result"
    }
   ],
   "source": [
    "from coastseg_planet.processing import convert_from_float_to_unit16, create_tiled_raster\n",
    "\n",
    "# Source file path : input landsat image that's cloud free\n",
    "input_path= r\"C:\\development\\coastseg-planet\\CoastSeg-Planet\\2023-02-14-10-33-43_L8_ID_mqq51_datetime05-06-24__06_47_51_ms.tif\"\n",
    "# Output file path\n",
    "landsat_processed_path = r\"C:\\development\\coastseg-planet\\CoastSeg-Planet\\2023-02-14-10-33-43_L8_ID_mqq51_processed.tif\"\n",
    "\n",
    "landsat_processed_path =convert_from_float_to_unit16(input_path, landsat_processed_path)\n",
    "landsat_processed_path = create_tiled_raster(input_path, landsat_processed_path)\n",
    "landsat_processed_path"
   ]
  },
  {
   "cell_type": "markdown",
   "metadata": {},
   "source": [
    "# Apply Cloud Mask to LandSat"
   ]
  },
  {
   "cell_type": "code",
   "execution_count": 4,
   "metadata": {},
   "outputs": [],
   "source": [
    "# do this later...."
   ]
  },
  {
   "cell_type": "markdown",
   "metadata": {},
   "source": [
    "# Apply Cloud Masks to Planet\n",
    "Create a cloud and shadow mask for each image in the directory of planet images"
   ]
  },
  {
   "cell_type": "code",
   "execution_count": 5,
   "metadata": {},
   "outputs": [
    {
     "name": "stdout",
     "output_type": "stream",
     "text": [
      "Creating cloud and shadow mask from C:\\development\\coastseg-planet\\floris_roi_TOAR_enabled\\d1c0c095-a00d-42f8-b6c5-7dbf1f21d3b6\\PSScene\\20230401_102117_56_2488_3B_udm2_clip.tif\n",
      "Saving combined mask to C:\\development\\coastseg-planet\\floris_roi_TOAR_enabled\\d1c0c095-a00d-42f8-b6c5-7dbf1f21d3b6\\PSScene\\20230401_102117_56_2488_3B_udm2_clip_combined_mask_bool.tif\n",
      "Saving combined mask to C:\\development\\coastseg-planet\\floris_roi_TOAR_enabled\\d1c0c095-a00d-42f8-b6c5-7dbf1f21d3b6\\PSScene\\20230401_102117_56_2488_3B_udm2_clip_combined_mask.tif\n",
      "Creating cloud and shadow mask from C:\\development\\coastseg-planet\\floris_roi_TOAR_enabled\\d1c0c095-a00d-42f8-b6c5-7dbf1f21d3b6\\PSScene\\20230401_102119_76_2488_3B_udm2_clip.tif\n",
      "Saving combined mask to C:\\development\\coastseg-planet\\floris_roi_TOAR_enabled\\d1c0c095-a00d-42f8-b6c5-7dbf1f21d3b6\\PSScene\\20230401_102119_76_2488_3B_udm2_clip_combined_mask_bool.tif\n",
      "Saving combined mask to C:\\development\\coastseg-planet\\floris_roi_TOAR_enabled\\d1c0c095-a00d-42f8-b6c5-7dbf1f21d3b6\\PSScene\\20230401_102119_76_2488_3B_udm2_clip_combined_mask.tif\n",
      "Creating cloud and shadow mask from C:\\development\\coastseg-planet\\floris_roi_TOAR_enabled\\d1c0c095-a00d-42f8-b6c5-7dbf1f21d3b6\\PSScene\\20230403_101844_81_247d_3B_udm2_clip.tif\n",
      "Saving combined mask to C:\\development\\coastseg-planet\\floris_roi_TOAR_enabled\\d1c0c095-a00d-42f8-b6c5-7dbf1f21d3b6\\PSScene\\20230403_101844_81_247d_3B_udm2_clip_combined_mask_bool.tif\n",
      "Saving combined mask to C:\\development\\coastseg-planet\\floris_roi_TOAR_enabled\\d1c0c095-a00d-42f8-b6c5-7dbf1f21d3b6\\PSScene\\20230403_101844_81_247d_3B_udm2_clip_combined_mask.tif\n",
      "Creating cloud and shadow mask from C:\\development\\coastseg-planet\\floris_roi_TOAR_enabled\\d1c0c095-a00d-42f8-b6c5-7dbf1f21d3b6\\PSScene\\20230405_094403_08_2464_3B_udm2_clip.tif\n",
      "Saving combined mask to C:\\development\\coastseg-planet\\floris_roi_TOAR_enabled\\d1c0c095-a00d-42f8-b6c5-7dbf1f21d3b6\\PSScene\\20230405_094403_08_2464_3B_udm2_clip_combined_mask_bool.tif\n",
      "Saving combined mask to C:\\development\\coastseg-planet\\floris_roi_TOAR_enabled\\d1c0c095-a00d-42f8-b6c5-7dbf1f21d3b6\\PSScene\\20230405_094403_08_2464_3B_udm2_clip_combined_mask.tif\n",
      "Creating cloud and shadow mask from C:\\development\\coastseg-planet\\floris_roi_TOAR_enabled\\d1c0c095-a00d-42f8-b6c5-7dbf1f21d3b6\\PSScene\\20230406_093833_25_2449_3B_udm2_clip.tif\n",
      "Saving combined mask to C:\\development\\coastseg-planet\\floris_roi_TOAR_enabled\\d1c0c095-a00d-42f8-b6c5-7dbf1f21d3b6\\PSScene\\20230406_093833_25_2449_3B_udm2_clip_combined_mask_bool.tif\n",
      "Saving combined mask to C:\\development\\coastseg-planet\\floris_roi_TOAR_enabled\\d1c0c095-a00d-42f8-b6c5-7dbf1f21d3b6\\PSScene\\20230406_093833_25_2449_3B_udm2_clip_combined_mask.tif\n",
      "Creating cloud and shadow mask from C:\\development\\coastseg-planet\\floris_roi_TOAR_enabled\\d1c0c095-a00d-42f8-b6c5-7dbf1f21d3b6\\PSScene\\20230406_102117_20_249a_3B_udm2_clip.tif\n",
      "Saving combined mask to C:\\development\\coastseg-planet\\floris_roi_TOAR_enabled\\d1c0c095-a00d-42f8-b6c5-7dbf1f21d3b6\\PSScene\\20230406_102117_20_249a_3B_udm2_clip_combined_mask_bool.tif\n",
      "Saving combined mask to C:\\development\\coastseg-planet\\floris_roi_TOAR_enabled\\d1c0c095-a00d-42f8-b6c5-7dbf1f21d3b6\\PSScene\\20230406_102117_20_249a_3B_udm2_clip_combined_mask.tif\n",
      "Creating cloud and shadow mask from C:\\development\\coastseg-planet\\floris_roi_TOAR_enabled\\d1c0c095-a00d-42f8-b6c5-7dbf1f21d3b6\\PSScene\\20230406_102119_34_249a_3B_udm2_clip.tif\n",
      "Saving combined mask to C:\\development\\coastseg-planet\\floris_roi_TOAR_enabled\\d1c0c095-a00d-42f8-b6c5-7dbf1f21d3b6\\PSScene\\20230406_102119_34_249a_3B_udm2_clip_combined_mask_bool.tif\n",
      "Saving combined mask to C:\\development\\coastseg-planet\\floris_roi_TOAR_enabled\\d1c0c095-a00d-42f8-b6c5-7dbf1f21d3b6\\PSScene\\20230406_102119_34_249a_3B_udm2_clip_combined_mask.tif\n",
      "Creating cloud and shadow mask from C:\\development\\coastseg-planet\\floris_roi_TOAR_enabled\\d1c0c095-a00d-42f8-b6c5-7dbf1f21d3b6\\PSScene\\20230407_094946_37_24c2_3B_udm2_clip.tif\n",
      "Saving combined mask to C:\\development\\coastseg-planet\\floris_roi_TOAR_enabled\\d1c0c095-a00d-42f8-b6c5-7dbf1f21d3b6\\PSScene\\20230407_094946_37_24c2_3B_udm2_clip_combined_mask_bool.tif\n",
      "Saving combined mask to C:\\development\\coastseg-planet\\floris_roi_TOAR_enabled\\d1c0c095-a00d-42f8-b6c5-7dbf1f21d3b6\\PSScene\\20230407_094946_37_24c2_3B_udm2_clip_combined_mask.tif\n",
      "Creating cloud and shadow mask from C:\\development\\coastseg-planet\\floris_roi_TOAR_enabled\\d1c0c095-a00d-42f8-b6c5-7dbf1f21d3b6\\PSScene\\20230407_094948_71_24c2_3B_udm2_clip.tif\n",
      "Saving combined mask to C:\\development\\coastseg-planet\\floris_roi_TOAR_enabled\\d1c0c095-a00d-42f8-b6c5-7dbf1f21d3b6\\PSScene\\20230407_094948_71_24c2_3B_udm2_clip_combined_mask_bool.tif\n",
      "Saving combined mask to C:\\development\\coastseg-planet\\floris_roi_TOAR_enabled\\d1c0c095-a00d-42f8-b6c5-7dbf1f21d3b6\\PSScene\\20230407_094948_71_24c2_3B_udm2_clip_combined_mask.tif\n",
      "Creating cloud and shadow mask from C:\\development\\coastseg-planet\\floris_roi_TOAR_enabled\\d1c0c095-a00d-42f8-b6c5-7dbf1f21d3b6\\PSScene\\20230408_094148_90_241f_3B_udm2_clip.tif\n",
      "Saving combined mask to C:\\development\\coastseg-planet\\floris_roi_TOAR_enabled\\d1c0c095-a00d-42f8-b6c5-7dbf1f21d3b6\\PSScene\\20230408_094148_90_241f_3B_udm2_clip_combined_mask_bool.tif\n",
      "Saving combined mask to C:\\development\\coastseg-planet\\floris_roi_TOAR_enabled\\d1c0c095-a00d-42f8-b6c5-7dbf1f21d3b6\\PSScene\\20230408_094148_90_241f_3B_udm2_clip_combined_mask.tif\n",
      "Creating cloud and shadow mask from C:\\development\\coastseg-planet\\floris_roi_TOAR_enabled\\d1c0c095-a00d-42f8-b6c5-7dbf1f21d3b6\\PSScene\\20230408_102129_03_249e_3B_udm2_clip.tif\n",
      "Saving combined mask to C:\\development\\coastseg-planet\\floris_roi_TOAR_enabled\\d1c0c095-a00d-42f8-b6c5-7dbf1f21d3b6\\PSScene\\20230408_102129_03_249e_3B_udm2_clip_combined_mask_bool.tif\n",
      "Saving combined mask to C:\\development\\coastseg-planet\\floris_roi_TOAR_enabled\\d1c0c095-a00d-42f8-b6c5-7dbf1f21d3b6\\PSScene\\20230408_102129_03_249e_3B_udm2_clip_combined_mask.tif\n",
      "Creating cloud and shadow mask from C:\\development\\coastseg-planet\\floris_roi_TOAR_enabled\\d1c0c095-a00d-42f8-b6c5-7dbf1f21d3b6\\PSScene\\20230408_102131_21_249e_3B_udm2_clip.tif\n",
      "Saving combined mask to C:\\development\\coastseg-planet\\floris_roi_TOAR_enabled\\d1c0c095-a00d-42f8-b6c5-7dbf1f21d3b6\\PSScene\\20230408_102131_21_249e_3B_udm2_clip_combined_mask_bool.tif\n",
      "Saving combined mask to C:\\development\\coastseg-planet\\floris_roi_TOAR_enabled\\d1c0c095-a00d-42f8-b6c5-7dbf1f21d3b6\\PSScene\\20230408_102131_21_249e_3B_udm2_clip_combined_mask.tif\n",
      "Creating cloud and shadow mask from C:\\development\\coastseg-planet\\floris_roi_TOAR_enabled\\d1c0c095-a00d-42f8-b6c5-7dbf1f21d3b6\\PSScene\\20230409_094406_73_242d_3B_udm2_clip.tif\n",
      "Saving combined mask to C:\\development\\coastseg-planet\\floris_roi_TOAR_enabled\\d1c0c095-a00d-42f8-b6c5-7dbf1f21d3b6\\PSScene\\20230409_094406_73_242d_3B_udm2_clip_combined_mask_bool.tif\n",
      "Saving combined mask to C:\\development\\coastseg-planet\\floris_roi_TOAR_enabled\\d1c0c095-a00d-42f8-b6c5-7dbf1f21d3b6\\PSScene\\20230409_094406_73_242d_3B_udm2_clip_combined_mask.tif\n",
      "Creating cloud and shadow mask from C:\\development\\coastseg-planet\\floris_roi_TOAR_enabled\\d1c0c095-a00d-42f8-b6c5-7dbf1f21d3b6\\PSScene\\20230409_094930_60_24c8_3B_udm2_clip.tif\n",
      "Saving combined mask to C:\\development\\coastseg-planet\\floris_roi_TOAR_enabled\\d1c0c095-a00d-42f8-b6c5-7dbf1f21d3b6\\PSScene\\20230409_094930_60_24c8_3B_udm2_clip_combined_mask_bool.tif\n",
      "Saving combined mask to C:\\development\\coastseg-planet\\floris_roi_TOAR_enabled\\d1c0c095-a00d-42f8-b6c5-7dbf1f21d3b6\\PSScene\\20230409_094930_60_24c8_3B_udm2_clip_combined_mask.tif\n",
      "Creating cloud and shadow mask from C:\\development\\coastseg-planet\\floris_roi_TOAR_enabled\\d1c0c095-a00d-42f8-b6c5-7dbf1f21d3b6\\PSScene\\20230410_101858_53_2477_3B_udm2_clip.tif\n",
      "Saving combined mask to C:\\development\\coastseg-planet\\floris_roi_TOAR_enabled\\d1c0c095-a00d-42f8-b6c5-7dbf1f21d3b6\\PSScene\\20230410_101858_53_2477_3B_udm2_clip_combined_mask_bool.tif\n",
      "Saving combined mask to C:\\development\\coastseg-planet\\floris_roi_TOAR_enabled\\d1c0c095-a00d-42f8-b6c5-7dbf1f21d3b6\\PSScene\\20230410_101858_53_2477_3B_udm2_clip_combined_mask.tif\n",
      "Creating cloud and shadow mask from C:\\development\\coastseg-planet\\floris_roi_TOAR_enabled\\d1c0c095-a00d-42f8-b6c5-7dbf1f21d3b6\\PSScene\\20230410_101900_72_2477_3B_udm2_clip.tif\n",
      "Saving combined mask to C:\\development\\coastseg-planet\\floris_roi_TOAR_enabled\\d1c0c095-a00d-42f8-b6c5-7dbf1f21d3b6\\PSScene\\20230410_101900_72_2477_3B_udm2_clip_combined_mask_bool.tif\n",
      "Saving combined mask to C:\\development\\coastseg-planet\\floris_roi_TOAR_enabled\\d1c0c095-a00d-42f8-b6c5-7dbf1f21d3b6\\PSScene\\20230410_101900_72_2477_3B_udm2_clip_combined_mask.tif\n",
      "Creating cloud and shadow mask from C:\\development\\coastseg-planet\\floris_roi_TOAR_enabled\\d1c0c095-a00d-42f8-b6c5-7dbf1f21d3b6\\PSScene\\20230411_102320_04_2485_3B_udm2_clip.tif\n",
      "Saving combined mask to C:\\development\\coastseg-planet\\floris_roi_TOAR_enabled\\d1c0c095-a00d-42f8-b6c5-7dbf1f21d3b6\\PSScene\\20230411_102320_04_2485_3B_udm2_clip_combined_mask_bool.tif\n",
      "Saving combined mask to C:\\development\\coastseg-planet\\floris_roi_TOAR_enabled\\d1c0c095-a00d-42f8-b6c5-7dbf1f21d3b6\\PSScene\\20230411_102320_04_2485_3B_udm2_clip_combined_mask.tif\n",
      "Creating cloud and shadow mask from C:\\development\\coastseg-planet\\floris_roi_TOAR_enabled\\d1c0c095-a00d-42f8-b6c5-7dbf1f21d3b6\\PSScene\\20230411_102322_20_2485_3B_udm2_clip.tif\n",
      "Saving combined mask to C:\\development\\coastseg-planet\\floris_roi_TOAR_enabled\\d1c0c095-a00d-42f8-b6c5-7dbf1f21d3b6\\PSScene\\20230411_102322_20_2485_3B_udm2_clip_combined_mask_bool.tif\n",
      "Saving combined mask to C:\\development\\coastseg-planet\\floris_roi_TOAR_enabled\\d1c0c095-a00d-42f8-b6c5-7dbf1f21d3b6\\PSScene\\20230411_102322_20_2485_3B_udm2_clip_combined_mask.tif\n",
      "Creating cloud and shadow mask from C:\\development\\coastseg-planet\\floris_roi_TOAR_enabled\\d1c0c095-a00d-42f8-b6c5-7dbf1f21d3b6\\PSScene\\20230411_102322_92_247d_3B_udm2_clip.tif\n",
      "Saving combined mask to C:\\development\\coastseg-planet\\floris_roi_TOAR_enabled\\d1c0c095-a00d-42f8-b6c5-7dbf1f21d3b6\\PSScene\\20230411_102322_92_247d_3B_udm2_clip_combined_mask_bool.tif\n",
      "Saving combined mask to C:\\development\\coastseg-planet\\floris_roi_TOAR_enabled\\d1c0c095-a00d-42f8-b6c5-7dbf1f21d3b6\\PSScene\\20230411_102322_92_247d_3B_udm2_clip_combined_mask.tif\n",
      "Creating cloud and shadow mask from C:\\development\\coastseg-planet\\floris_roi_TOAR_enabled\\d1c0c095-a00d-42f8-b6c5-7dbf1f21d3b6\\PSScene\\20230411_102325_11_247d_3B_udm2_clip.tif\n",
      "Saving combined mask to C:\\development\\coastseg-planet\\floris_roi_TOAR_enabled\\d1c0c095-a00d-42f8-b6c5-7dbf1f21d3b6\\PSScene\\20230411_102325_11_247d_3B_udm2_clip_combined_mask_bool.tif\n",
      "Saving combined mask to C:\\development\\coastseg-planet\\floris_roi_TOAR_enabled\\d1c0c095-a00d-42f8-b6c5-7dbf1f21d3b6\\PSScene\\20230411_102325_11_247d_3B_udm2_clip_combined_mask.tif\n",
      "Creating cloud and shadow mask from C:\\development\\coastseg-planet\\floris_roi_TOAR_enabled\\d1c0c095-a00d-42f8-b6c5-7dbf1f21d3b6\\PSScene\\20230412_094432_88_2439_3B_udm2_clip.tif\n",
      "Saving combined mask to C:\\development\\coastseg-planet\\floris_roi_TOAR_enabled\\d1c0c095-a00d-42f8-b6c5-7dbf1f21d3b6\\PSScene\\20230412_094432_88_2439_3B_udm2_clip_combined_mask_bool.tif\n",
      "Saving combined mask to C:\\development\\coastseg-planet\\floris_roi_TOAR_enabled\\d1c0c095-a00d-42f8-b6c5-7dbf1f21d3b6\\PSScene\\20230412_094432_88_2439_3B_udm2_clip_combined_mask.tif\n",
      "Creating cloud and shadow mask from C:\\development\\coastseg-planet\\floris_roi_TOAR_enabled\\d1c0c095-a00d-42f8-b6c5-7dbf1f21d3b6\\PSScene\\20230414_102239_07_247b_3B_udm2_clip.tif\n",
      "Saving combined mask to C:\\development\\coastseg-planet\\floris_roi_TOAR_enabled\\d1c0c095-a00d-42f8-b6c5-7dbf1f21d3b6\\PSScene\\20230414_102239_07_247b_3B_udm2_clip_combined_mask_bool.tif\n",
      "Saving combined mask to C:\\development\\coastseg-planet\\floris_roi_TOAR_enabled\\d1c0c095-a00d-42f8-b6c5-7dbf1f21d3b6\\PSScene\\20230414_102239_07_247b_3B_udm2_clip_combined_mask.tif\n"
     ]
    }
   ],
   "source": [
    "from coastseg_planet.masking import apply_cloudmask_to_dir\n",
    "# apply cloud mask to directory of planet images and generate cloud masks in that directory for each tif\n",
    "input_dir = r\"C:\\development\\coastseg-planet\\floris_roi_TOAR_enabled\\d1c0c095-a00d-42f8-b6c5-7dbf1f21d3b6\\PSScene\"\n",
    "apply_cloudmask_to_dir(input_dir)"
   ]
  },
  {
   "cell_type": "markdown",
   "metadata": {},
   "source": [
    "# Coregister all the planet images to the landsat image\n",
    "All the planet images are co-registered via local co-reg to the landsat image"
   ]
  },
  {
   "cell_type": "code",
   "execution_count": 6,
   "metadata": {},
   "outputs": [
    {
     "name": "stdout",
     "output_type": "stream",
     "text": [
      "WARNING:tensorflow:From c:\\Users\\sf230\\anaconda3\\envs\\coastseg_planet\\lib\\site-packages\\keras\\src\\losses.py:2976: The name tf.losses.sparse_softmax_cross_entropy is deprecated. Please use tf.compat.v1.losses.sparse_softmax_cross_entropy instead.\n",
      "\n",
      "Number of CPUs available: 20\n"
     ]
    },
    {
     "name": "stderr",
     "output_type": "stream",
     "text": [
      "Polygonize progress     |==================================================| 100.0% Complete  => 0:00:00\n",
      "Polygonize progress     |--------------------------------------------------| 0.0% Complete  => 0:00:00"
     ]
    },
    {
     "name": "stdout",
     "output_type": "stream",
     "text": [
      "Calculating footprint polygon and actual data corner coordinates for reference image...\n",
      "Bounding box of calculated footprint for reference image:\n",
      "\t(662619.0, 5922558.0, 667092.0, 5927034.0)\n",
      "Calculating footprint polygon and actual data corner coordinates for image to be shifted...\n"
     ]
    },
    {
     "name": "stderr",
     "output_type": "stream",
     "text": [
      "Polygonize progress     |==================================================| 100.0% Complete  => 0:00:00\n"
     ]
    },
    {
     "name": "stdout",
     "output_type": "stream",
     "text": [
      "Bounding box of calculated footprint for image to be shifted:\n",
      "\t(662619.0, 5922558.0, 667092.0, 5927034.0)\n",
      "Matching window position (X,Y): 664855.4990364996/5924794.563420993\n",
      "No clear match found yet. Jumping to iteration 2...\n",
      "input shifts:  -41 -3\n",
      "No clear match found yet. Jumping to iteration 3...\n",
      "input shifts:  0 59\n",
      "Detected integer shifts (X/Y):                            0/0\n",
      "Detected subpixel shifts (X/Y):                           0.10465466820119154/0.3203018290162849\n",
      "Calculated total shifts in fft pixel units (X/Y):         0.10465466820119154/0.3203018290162849\n",
      "Calculated total shifts in reference pixel units (X/Y):   0.10465466820119154/0.3203018290162849\n",
      "Calculated total shifts in target pixel units (X/Y):      0.10465466820119154/0.3203018290162849\n",
      "Calculated map shifts (X,Y):\t\t\t\t  0.31396400462836027/-0.9609054867178202\n",
      "Calculated absolute shift vector length in map units:     1.0108970029665179\n",
      "Calculated angle of shift vector in degrees from North:   341.9058356051124\n",
      "Original map info: ['UTM', 1.0, 1.0, 662619.0, 5927034.0, 3.0, 3.0, 31, 'North', 'WGS-84']\n",
      "Updated map info:  ['UTM', 1.0, 1.0, '662619.3139640046', '5927033.039094513', 3.0, 3.0, 31, 'North', 'WGS-84']\n",
      "Image similarity within the matching window (SSIM before/after correction): 0.5230 => 0.5048\n",
      "Estimated reliability of the calculated shifts:  0.0 %\n",
      "Correcting geometric shifts...\n",
      "NOTE: The detected shift is corrected by updating the map info of the target image only, i.e., without any resampling. Set the 'align_grids' parameter to True if you need the target and the reference coordinate grids to be aligned.\n"
     ]
    },
    {
     "name": "stderr",
     "output_type": "stream",
     "text": [
      "09:44:55:WARNING:755:io.save:The file C:\\development\\coastseg-planet\\20230412_094432_88_2439_3B_coregister_with_combined_mask.tif already exists.\n"
     ]
    },
    {
     "name": "stdout",
     "output_type": "stream",
     "text": [
      "<xarray.DataArray 'array-1d77f6bd1eb563e5e7eb04fec63aad37' (band: 4, y: 1492,\n",
      "                                                            x: 1491)> Size: 71MB\n",
      "dask.array<array, shape=(4, 1492, 1491), dtype=float64, chunksize=(4, 256, 256), chunktype=numpy.ndarray>\n",
      "Coordinates:\n",
      "  * band     (band) int32 16B 1 2 3 4\n",
      "  * y        (y) float64 12kB 5.927e+06 5.927e+06 ... 5.923e+06 5.923e+06\n",
      "  * x        (x) float64 12kB 6.626e+05 6.626e+05 ... 6.671e+05 6.671e+05\n",
      "Attributes: (12/16)\n",
      "    transform:           (3.0, 0.0, 662619.3139640046, 0.0, -3.0, 5927033.039...\n",
      "    crs:                 32631\n",
      "    res:                 (3.0, 3.0)\n",
      "    is_tiled:            1\n",
      "    nodatavals:          (0.0, 0.0, 0.0, 0.0)\n",
      "    _FillValue:          0.0\n",
      "    ...                  ...\n",
      "    resampling:          nearest\n",
      "    AREA_OR_POINT:       Area\n",
      "    _data_are_separate:  0\n",
      "    _data_are_stacked:   0\n",
      "    x_shift_px:          0.10465466820119154\n",
      "    y_shift_px:          0.3203018290162849\n"
     ]
    },
    {
     "data": {
      "text/plain": [
       "'C:\\\\development\\\\coastseg-planet\\\\20230412_094432_88_2439_3B_coregister_with_combined_mask.tif'"
      ]
     },
     "execution_count": 6,
     "metadata": {},
     "output_type": "execute_result"
    }
   ],
   "source": [
    "from coastseg_planet.coregister import local_coregister_gw,get_cpus\n",
    "\n",
    "# try to coregister two planet images together that have clouds now that we can mask out clouds\n",
    "\n",
    "REFERENCE = r\"C:\\development\\coastseg-planet\\floris_roi_TOAR_enabled\\d1c0c095-a00d-42f8-b6c5-7dbf1f21d3b6\\PSScene\\20230403_101844_81_247d_3B_AnalyticMS_toar_clip.tif\"\n",
    "INFILE = r\"C:\\development\\coastseg-planet\\floris_roi_TOAR_enabled\\d1c0c095-a00d-42f8-b6c5-7dbf1f21d3b6\\PSScene\\20230412_094432_88_2439_3B_AnalyticMS_toar_clip.tif\"\n",
    "TARGET_CLOUD_MASK = r\"C:\\development\\coastseg-planet\\floris_roi_TOAR_enabled\\d1c0c095-a00d-42f8-b6c5-7dbf1f21d3b6\\PSScene\\20230412_094432_88_2439_3B_udm2_clip_combined_mask.tif\"\n",
    "\n",
    "outfile=r\"C:\\development\\coastseg-planet\\20230412_094432_88_2439_3B_coregister_with_combined_mask.tif\"\n",
    "\n",
    "num_cpus = get_cpus()\n",
    "coregistered_planet_path = local_coregister_gw(REFERENCE, INFILE, outfile, target_cloud_mask = TARGET_CLOUD_MASK,num_cpus=num_cpus) \n",
    "# this isn't working and I'll need to figure out why\n",
    "# coregistered_planet_path = local_coregister_gw(landsat_processed_path, INFILE, outfile, target_cloud_mask = TARGET_CLOUD_MASK,num_cpus=num_cpus) \n",
    "\n",
    "coregistered_planet_path"
   ]
  },
  {
   "cell_type": "markdown",
   "metadata": {},
   "source": [
    "# Convert Planet Imagery to Compatible Format for Model\n",
    "- reorder to bands to be  RGBNIR\n",
    "- scale the values to be 0 - 255 "
   ]
  },
  {
   "cell_type": "code",
   "execution_count": 7,
   "metadata": {},
   "outputs": [
    {
     "name": "stdout",
     "output_type": "stream",
     "text": [
      "red min: 0, red max: 3851\n",
      "green min: 0, green max: 3654\n",
      "blue min: 0, blue max: 3837\n",
      "red min: 0, red max: 255\n",
      "green min: 0, green max: 255\n",
      "blue min: 0, blue max: 255\n"
     ]
    },
    {
     "data": {
      "text/plain": [
       "'C:\\\\development\\\\coastseg-planet\\\\20230412_094432_88_2439_3B_coregistered_model_ready.tif'"
      ]
     },
     "execution_count": 7,
     "metadata": {},
     "output_type": "execute_result"
    }
   ],
   "source": [
    "from coastseg_planet.processing import convert_planet_to_model_format\n",
    "\n",
    "planet_model_img_path = coregistered_planet_path.replace('coregister_with_combined_mask.tif','coregistered_model_ready.tif')\n",
    "\n",
    "planet_model_img_path= convert_planet_to_model_format(coregistered_planet_path,planet_model_img_path)\n",
    "planet_model_img_path"
   ]
  },
  {
   "cell_type": "markdown",
   "metadata": {},
   "source": [
    "# Apply the Model to the Planet Imagery"
   ]
  },
  {
   "cell_type": "code",
   "execution_count": 8,
   "metadata": {},
   "outputs": [
    {
     "name": "stdout",
     "output_type": "stream",
     "text": [
      "Version:  2.15.0\n",
      "Eager mode:  True\n",
      "WARNING:tensorflow:From c:\\Users\\sf230\\anaconda3\\envs\\coastseg_planet\\lib\\site-packages\\keras\\src\\backend.py:873: The name tf.get_default_graph is deprecated. Please use tf.compat.v1.get_default_graph instead.\n",
      "\n"
     ]
    },
    {
     "name": "stderr",
     "output_type": "stream",
     "text": [
      "Some layers from the model checkpoint at nvidia/mit-b0 were not used when initializing TFSegformerForSemanticSegmentation: ['classifier']\n",
      "- This IS expected if you are initializing TFSegformerForSemanticSegmentation from the checkpoint of a model trained on another task or with another architecture (e.g. initializing a BertForSequenceClassification model from a BertForPreTraining model).\n",
      "- This IS NOT expected if you are initializing TFSegformerForSemanticSegmentation from the checkpoint of a model that you expect to be exactly identical (initializing a BertForSequenceClassification model from a BertForSequenceClassification model).\n",
      "Some layers of TFSegformerForSemanticSegmentation were not initialized from the model checkpoint at nvidia/mit-b0 and are newly initialized: ['decode_head']\n",
      "You should probably TRAIN this model on a down-stream task to be able to use it for predictions and inference.\n"
     ]
    },
    {
     "name": "stdout",
     "output_type": "stream",
     "text": [
      "WARNING:tensorflow:From c:\\Users\\sf230\\anaconda3\\envs\\coastseg_planet\\lib\\site-packages\\keras\\src\\optimizers\\__init__.py:309: The name tf.train.Optimizer is deprecated. Please use tf.compat.v1.train.Optimizer instead.\n",
      "\n",
      "Processing image:  C:\\development\\coastseg-planet\\20230412_094432_88_2439_3B_coregistered_model_ready.tif\n",
      "Output file:  C:\\development\\coastseg-planet\\20230412_094432_88_2439_3B_coregistered_model_ready_predseg.png\n",
      "Output file:  C:\\development\\coastseg-planet\\20230412_094432_88_2439_3B_coregistered_model_ready_predseg.png\n",
      "NC: 4, NDB: 3, TS: [512, 512], TTA: False, OT: False\n",
      "WARNING:tensorflow:5 out of the last 5 calls to <function Conv._jit_compiled_convolution_op at 0x0000019637681630> triggered tf.function retracing. Tracing is expensive and the excessive number of tracings could be due to (1) creating @tf.function repeatedly in a loop, (2) passing tensors with different shapes, (3) passing Python objects instead of tensors. For (1), please define your @tf.function outside of the loop. For (2), @tf.function has reduce_retracing=True option that can avoid unnecessary retracing. For (3), please refer to https://www.tensorflow.org/guide/function#controlling_retracing and https://www.tensorflow.org/api_docs/python/tf/function for  more details.\n",
      "WARNING:tensorflow:6 out of the last 6 calls to <function Conv._jit_compiled_convolution_op at 0x0000019637681D80> triggered tf.function retracing. Tracing is expensive and the excessive number of tracings could be due to (1) creating @tf.function repeatedly in a loop, (2) passing tensors with different shapes, (3) passing Python objects instead of tensors. For (1), please define your @tf.function outside of the loop. For (2), @tf.function has reduce_retracing=True option that can avoid unnecessary retracing. For (3), please refer to https://www.tensorflow.org/guide/function#controlling_retracing and https://www.tensorflow.org/api_docs/python/tf/function for  more details.\n",
      "WARNING:tensorflow:From c:\\Users\\sf230\\anaconda3\\envs\\coastseg_planet\\lib\\site-packages\\keras\\src\\layers\\normalization\\batch_normalization.py:979: The name tf.nn.fused_batch_norm is deprecated. Please use tf.compat.v1.nn.fused_batch_norm instead.\n",
      "\n",
      "saving segmentation results to C:\\development\\coastseg-planet\\20230412_094432_88_2439_3B_coregistered_model_ready_predseg.png\n",
      "writing metadata to C:\\development\\coastseg-planet\\20230412_094432_88_2439_3B_coregistered_model_ready_res.npz\n"
     ]
    }
   ],
   "source": [
    "from coastseg_planet.model import apply_model_to_image\n",
    "\n",
    "apply_model_to_image(planet_model_img_path)"
   ]
  },
  {
   "cell_type": "markdown",
   "metadata": {},
   "source": [
    "# Extract Shorelines from the Segmentation"
   ]
  },
  {
   "cell_type": "code",
   "execution_count": null,
   "metadata": {},
   "outputs": [],
   "source": []
  }
 ],
 "metadata": {
  "kernelspec": {
   "display_name": "coastseg_planet",
   "language": "python",
   "name": "python3"
  },
  "language_info": {
   "codemirror_mode": {
    "name": "ipython",
    "version": 3
   },
   "file_extension": ".py",
   "mimetype": "text/x-python",
   "name": "python",
   "nbconvert_exporter": "python",
   "pygments_lexer": "ipython3",
   "version": "3.10.13"
  }
 },
 "nbformat": 4,
 "nbformat_minor": 2
}
