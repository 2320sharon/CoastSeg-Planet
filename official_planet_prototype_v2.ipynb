{
 "cells": [
  {
   "cell_type": "markdown",
   "metadata": {},
   "source": [
    "# Planet Painter\n",
    "Planet Painter is able to download imagery from Planet."
   ]
  },
  {
   "cell_type": "code",
   "execution_count": 1,
   "metadata": {},
   "outputs": [
    {
     "name": "stderr",
     "output_type": "stream",
     "text": [
      "c:\\Users\\sf230\\anaconda3\\envs\\coastseg_planet\\Lib\\site-packages\\h5py\\__init__.py:36: UserWarning: h5py is running against HDF5 1.14.3 when it was built against 1.14.2, this may cause problems\n",
      "  _warn((\"h5py is running against HDF5 {0} when it was built against {1}, \"\n"
     ]
    },
    {
     "name": "stdout",
     "output_type": "stream",
     "text": [
      "WARNING:tensorflow:From c:\\Users\\sf230\\anaconda3\\envs\\coastseg_planet\\Lib\\site-packages\\keras\\src\\losses.py:2976: The name tf.losses.sparse_softmax_cross_entropy is deprecated. Please use tf.compat.v1.losses.sparse_softmax_cross_entropy instead.\n",
      "\n"
     ]
    },
    {
     "name": "stderr",
     "output_type": "stream",
     "text": [
      "Transformers is only compatible with Keras 2, but you have explicitly set `TF_USE_LEGACY_KERAS` to `0`. This may result in unexpected behaviour or errors if Keras 3 objects are passed to Transformers models.\n"
     ]
    },
    {
     "name": "stdout",
     "output_type": "stream",
     "text": [
      "Version:  2.15.0\n",
      "Eager mode:  True\n"
     ]
    }
   ],
   "source": [
    "# Standard Library Imports\n",
    "import os\n",
    "import glob\n",
    "\n",
    "# Third-party Library Imports\n",
    "import warnings\n",
    "\n",
    "import geopandas as gpd\n",
    "\n",
    "# Project-specific Imports\n",
    "from coastseg_planet import processing\n",
    "from coastseg_planet import download\n",
    "from coastseg_planet.download import download_topobathy\n",
    "from coastseg_planet import visualize\n",
    "from coastseg_planet import model\n",
    "from coastseg_planet import coregister\n",
    "from coastseg_planet.masking import apply_cloudmask_to_dir\n",
    "from coastseg_planet.utils import filter_files_by_area\n",
    "from coastseg_planet import transects\n",
    "from coastseg_planet import shoreline_extraction\n",
    "from coastseg_planet.processing import create_elevation_mask_utm\n",
    "\n",
    "from coastseg import file_utilities\n",
    "\n",
    "warnings.filterwarnings('ignore', category=UserWarning, module='tensorflow')"
   ]
  },
  {
   "cell_type": "markdown",
   "metadata": {},
   "source": [
    "# Inputs\n",
    "1. Provide directory of downloaded Planet imagery\n",
    "2. provide the location of the ROI used to download the Planet imagery\n",
    "3. "
   ]
  },
  {
   "cell_type": "code",
   "execution_count": 2,
   "metadata": {},
   "outputs": [
    {
     "name": "stdout",
     "output_type": "stream",
     "text": [
      "Number of CPUs available: 20\n"
     ]
    }
   ],
   "source": [
    "download_settings = {}\n",
    "\n",
    "extract_shorelines_settings = {\n",
    "    'output_epsg': 4326,\n",
    "    'min_length_sl': 100,\n",
    "    'dist_clouds': 50,\n",
    "    'min_beach_area': 1000,\n",
    "    'satname': 'planet',\n",
    "}\n",
    "\n",
    "coregister_settings = {\n",
    "   'max_shift':2,\n",
    "   'align_grids':True,\n",
    "    \"tieP_filter_level\": 3,\n",
    "    \"min_reliability\": 50,\n",
    "    \"grid_res\": 100,  # tie point grid resolution in pixels of the target image (x-direction) (the lower this value the longer it takes)\n",
    "   'v':True, #verbose mode\n",
    "   'q':False, #quiet mode\n",
    "    \"r_b4match\": 1,  # band of reference image to be used for matching (starts with 1; default: 1)\n",
    "    \"s_b4match\": 1,  # band of source image to be used for matching (starts with 1; default: 1)\n",
    "   'ignore_errors':False, # Recommended to set to True for batch processing\n",
    "    'progress':True,\n",
    "    'out_crea_options':[\"COMPRESS=LZW\"], # otherwise if will use deflate which will not work well with our model\n",
    "    'fmt_out':'GTIFF',\n",
    "    'CPUs' : coregister.get_cpus()/2,\n",
    "}\n",
    "model_settings = {}\n",
    "\n",
    "# Feature inputs\n",
    "# ----------------\n",
    "# ROI = Region of Interest\n",
    "ROI_location = r\"C:\\development\\coastseg-planet\\downloads\\Alaska_TOAR_enabled\\roi.geojson\"\n",
    "transects_path = r\"C:\\development\\coastseg-planet\\downloads\\Alaska_TOAR_enabled\\42444c87-d914-4330-ba4b-3c948829db3f\\PSScene\\transects.geojson\"\n",
    "sitename = 'AK'\n",
    "# location of directory containing the downloaded imagery from Planet\n",
    "planet_dir = ''\n",
    "planet_dir = r\"C:\\development\\coastseg-planet\\downloads\\Alaska_TOAR_enabled\\42444c87-d914-4330-ba4b-3c948829db3f\\PSScene\"\n",
    "good_dir = os.path.join(planet_dir, 'good')\n",
    "# Optional Inputs\n",
    "#----------------\n",
    "# location of the file containing the reference landsat or planet image to coregister to\n",
    "reference_path = ''\n",
    "# location of the cloud mask of the reference landsat or planet image to coregister to\n",
    "reference_bad_mask_path = ''\n",
    "\n",
    "# Model Inputs\n",
    "model_path = r\"C:\\development\\coastseg-planet\\CoastSeg-Planet\\models\\best_rgb.h5\"\n",
    "model_card_path = r'C:\\development\\coastseg-planet\\CoastSeg-Planet\\output_zoo\\coastseg_planet\\coastseg_planet\\config\\model_card.yml'\n",
    "weights_directory = r'C:\\development\\doodleverse\\coastseg\\CoastSeg\\src\\coastseg\\downloaded_models\\segformer_RGB_4class_8190958'\n",
    "model_card_path = file_utilities.find_file_by_regex(\n",
    "    weights_directory, r\".*modelcard\\.json$\"\n",
    ")"
   ]
  },
  {
   "cell_type": "markdown",
   "metadata": {},
   "source": [
    "## Controls"
   ]
  },
  {
   "cell_type": "code",
   "execution_count": 3,
   "metadata": {},
   "outputs": [],
   "source": [
    "CONVERT_TOAR = False # If downloaded with TOAR tool was applied don't convert to TOAR again (set this to False)\n",
    "RUN_GOOD_BAD_CLASSIFER = False  # Whether to run the classification model or not to sort the images into good and bad directories\n",
    "APPLY_COREGISTER = False  # Whether to apply coregistration or not"
   ]
  },
  {
   "cell_type": "markdown",
   "metadata": {},
   "source": [
    "## Filter the Files by Area"
   ]
  },
  {
   "cell_type": "code",
   "execution_count": 4,
   "metadata": {},
   "outputs": [
    {
     "name": "stdout",
     "output_type": "stream",
     "text": [
      "Moving 0 bad tifs to a new folder called bad in the directory: C:\\development\\coastseg-planet\\downloads\\Alaska_TOAR_enabled\\42444c87-d914-4330-ba4b-3c948829db3f\\PSScene\n"
     ]
    }
   ],
   "source": [
    "# Filter out the files that are less than 90% of the ROI area\n",
    "filter_files_by_area(planet_dir,threshold=0.90,roi_path=ROI_location,verbose=True)"
   ]
  },
  {
   "cell_type": "markdown",
   "metadata": {},
   "source": [
    "# Convert the Planet Images to TOAR if not already TOAR\n",
    "-todo use the fact the tifs generated by Toar clip in the name to set the value of CONVERT_TOAR"
   ]
  },
  {
   "cell_type": "code",
   "execution_count": 5,
   "metadata": {},
   "outputs": [],
   "source": [
    "# convert the files in the directory to TOAR (Top of Atmosphere Reflectance) \n",
    "if CONVERT_TOAR:\n",
    "    processing.convert_directory_to_TOAR(planet_dir,input_suffix='AnalyticMS_clip.tif',output_suffix='_TOAR.tif',separator='_3B')\n"
   ]
  },
  {
   "cell_type": "markdown",
   "metadata": {},
   "source": [
    "# Convert Planet Imagery to Same Format as LandSat\n",
    "- reorder to bands to be  RGBNIR\n",
    "- scale the values to be 0 - 255 "
   ]
  },
  {
   "cell_type": "code",
   "execution_count": 6,
   "metadata": {},
   "outputs": [
    {
     "name": "stderr",
     "output_type": "stream",
     "text": [
      "Converting files to model format: 100%|██████████| 91/91 [00:10<00:00,  8.70it/s]\n"
     ]
    }
   ],
   "source": [
    "# convert to RGB format that is compatible with the model. Range of values is 0-255\n",
    "if CONVERT_TOAR:\n",
    "    input_suffix='3B_TOAR.tif'\n",
    "else:\n",
    "    input_suffix='_3B_AnalyticMS_toar_clip.tif'\n",
    "processing.convert_directory_to_model_format(planet_dir,input_suffix=input_suffix,output_suffix='_TOAR_model_format.tif',separator='_3B')"
   ]
  },
  {
   "cell_type": "markdown",
   "metadata": {},
   "source": [
    "## Filter the Planet Imagery\n",
    "Use a model to sort the images as good or bad"
   ]
  },
  {
   "cell_type": "code",
   "execution_count": 7,
   "metadata": {},
   "outputs": [],
   "source": [
    "# use a parameter to control if the good bad classification should run again\n",
    "if RUN_GOOD_BAD_CLASSIFER:\n",
    "    model.run_classification_model(model_path, planet_dir, planet_dir, regex= '*TOAR_model_format', move_files=False)\n",
    "# if the classification model was not run then \n",
    "if not os.path.exists(good_dir):\n",
    "    good_dir = planet_dir"
   ]
  },
  {
   "cell_type": "markdown",
   "metadata": {},
   "source": [
    "# Coregister the Planet Imagery to the Reference Image\n",
    "- We will coregister each modified planet image to the selected image that was modified to be in the zoo format"
   ]
  },
  {
   "cell_type": "code",
   "execution_count": 8,
   "metadata": {},
   "outputs": [],
   "source": [
    "if APPLY_COREGISTER: \n",
    "    if not os.path.exists(reference_path):\n",
    "        raise ValueError('Reference path to coregister all the imagery to does not exist. Please provide a reference path to coregister to.')\n",
    "    if not os.path.exists(reference_bad_mask_path):\n",
    "        raise ValueError('Reference bad mask path to coregister all the imagery to does not exist. Please provide a reference path to coregister to.')\n",
    "    coregister.coregister_directory(good_dir,\n",
    "                                    reference_path,\n",
    "                                    reference_bad_mask_path,\n",
    "                                    output_suffix='_TOAR_processed_coregistered_local.tif',\n",
    "                                    bad_mask_suffix='_combined_mask.tif',\n",
    "                                    use_local=True,  # if True, use local coregistration, otherwise use global coregistration\n",
    "                                    overwrite=False, # if True, will overwrite the existing coregistered files, otherwise they will be skipped\n",
    "                                    **coregister_settings)"
   ]
  },
  {
   "cell_type": "markdown",
   "metadata": {},
   "source": [
    "# Apply the Model to the Planet Imagery"
   ]
  },
  {
   "cell_type": "markdown",
   "metadata": {},
   "source": [
    "## Create an Elevation Mask from the Topobathy Data\n",
    "- We will use this as our reference shoreline buffer\n",
    "- This code is a bit of a placeholder eventually we will use the code to download the topobathy for the region \n",
    "- For now manually provide the topobathy tiff"
   ]
  },
  {
   "cell_type": "code",
   "execution_count": 9,
   "metadata": {},
   "outputs": [
    {
     "name": "stdout",
     "output_type": "stream",
     "text": [
      "File already exists: C:\\development\\coastseg-planet\\downloads\\Alaska_TOAR_enabled\\42444c87-d914-4330-ba4b-3c948829db3f\\PSScene\\AK_topobathy.tif\n"
     ]
    },
    {
     "data": {
      "application/vnd.jupyter.widget-view+json": {
       "model_id": "8b71c58c047b469ca2983304b8a71379",
       "version_major": 2,
       "version_minor": 0
      },
      "text/plain": [
       "VBox(children=(Map(center=[63.87972183544263, -160.80393441480038], controls=(ZoomControl(options=['position',…"
      ]
     },
     "execution_count": 9,
     "metadata": {},
     "output_type": "execute_result"
    }
   ],
   "source": [
    "from coastseg_planet.download import download_topobathy\n",
    "import geopandas as gpd\n",
    "# get the roi used to download the planet data\n",
    "roi_gdf = gpd.read_file(ROI_location)\n",
    "topobathy_tiff = download_topobathy(sitename,roi_gdf,planet_dir)\n",
    "\n",
    "# Render the topobathy data on the map and have the user select a threshold to create a shoreline buffer\n",
    "map_widget, get_low_threshold, get_high_threshold = visualize.create_interactive_map(topobathy_tiff)\n",
    "map_widget"
   ]
  },
  {
   "cell_type": "markdown",
   "metadata": {},
   "source": [
    "# Extract Shorelines\n",
    "- Create a shoreline buffer in which to extract shorelines by setting a low and high threshold for the topobathy data. Shorelines will only be extracted within this region."
   ]
  },
  {
   "cell_type": "code",
   "execution_count": 10,
   "metadata": {},
   "outputs": [
    {
     "name": "stdout",
     "output_type": "stream",
     "text": [
      "WARNING:tensorflow:From c:\\Users\\sf230\\anaconda3\\envs\\coastseg_planet\\Lib\\site-packages\\keras\\src\\backend.py:873: The name tf.get_default_graph is deprecated. Please use tf.compat.v1.get_default_graph instead.\n",
      "\n"
     ]
    },
    {
     "name": "stderr",
     "output_type": "stream",
     "text": [
      "Some layers from the model checkpoint at nvidia/mit-b0 were not used when initializing TFSegformerForSemanticSegmentation: ['classifier']\n",
      "- This IS expected if you are initializing TFSegformerForSemanticSegmentation from the checkpoint of a model trained on another task or with another architecture (e.g. initializing a BertForSequenceClassification model from a BertForPreTraining model).\n",
      "- This IS NOT expected if you are initializing TFSegformerForSemanticSegmentation from the checkpoint of a model that you expect to be exactly identical (initializing a BertForSequenceClassification model from a BertForSequenceClassification model).\n",
      "Some layers of TFSegformerForSemanticSegmentation were not initialized from the model checkpoint at nvidia/mit-b0 and are newly initialized: ['decode_head']\n",
      "You should probably TRAIN this model on a down-stream task to be able to use it for predictions and inference.\n"
     ]
    },
    {
     "name": "stdout",
     "output_type": "stream",
     "text": [
      "WARNING:tensorflow:From c:\\Users\\sf230\\anaconda3\\envs\\coastseg_planet\\Lib\\site-packages\\keras\\src\\optimizers\\__init__.py:309: The name tf.train.Optimizer is deprecated. Please use tf.compat.v1.train.Optimizer instead.\n",
      "\n",
      "N_DATA_BANDS: 3\n",
      "WARNING:tensorflow:5 out of the last 5 calls to <function Conv._jit_compiled_convolution_op at 0x00000298E5628CC0> triggered tf.function retracing. Tracing is expensive and the excessive number of tracings could be due to (1) creating @tf.function repeatedly in a loop, (2) passing tensors with different shapes, (3) passing Python objects instead of tensors. For (1), please define your @tf.function outside of the loop. For (2), @tf.function has reduce_retracing=True option that can avoid unnecessary retracing. For (3), please refer to https://www.tensorflow.org/guide/function#controlling_retracing and https://www.tensorflow.org/api_docs/python/tf/function for  more details.\n",
      "WARNING:tensorflow:6 out of the last 6 calls to <function Conv._jit_compiled_convolution_op at 0x00000298E5629080> triggered tf.function retracing. Tracing is expensive and the excessive number of tracings could be due to (1) creating @tf.function repeatedly in a loop, (2) passing tensors with different shapes, (3) passing Python objects instead of tensors. For (1), please define your @tf.function outside of the loop. For (2), @tf.function has reduce_retracing=True option that can avoid unnecessary retracing. For (3), please refer to https://www.tensorflow.org/guide/function#controlling_retracing and https://www.tensorflow.org/api_docs/python/tf/function for  more details.\n",
      "WARNING:tensorflow:From c:\\Users\\sf230\\anaconda3\\envs\\coastseg_planet\\Lib\\site-packages\\keras\\src\\layers\\normalization\\batch_normalization.py:979: The name tf.nn.fused_batch_norm is deprecated. Please use tf.compat.v1.nn.fused_batch_norm instead.\n",
      "\n",
      "saving segmentation results to C:\\development\\coastseg-planet\\downloads\\Alaska_TOAR_enabled\\42444c87-d914-4330-ba4b-3c948829db3f\\PSScene\\good\\out\\20230927_211936_77_24c3_3B_TOAR_model_format_predseg.png\n",
      "writing metadata to C:\\development\\coastseg-planet\\downloads\\Alaska_TOAR_enabled\\42444c87-d914-4330-ba4b-3c948829db3f\\PSScene\\good\\out\\20230927_211936_77_24c3_3B_TOAR_model_format_res.npz\n",
      "32604\n",
      "Saving figure to C:\\development\\coastseg-planet\\downloads\\Alaska_TOAR_enabled\\42444c87-d914-4330-ba4b-3c948829db3f\\PSScene\\good\\shoreline_detection_figures\\2023-09-27-21-19-36_planet.jpg\n"
     ]
    },
    {
     "name": "stderr",
     "output_type": "stream",
     "text": [
      "Some layers from the model checkpoint at nvidia/mit-b0 were not used when initializing TFSegformerForSemanticSegmentation: ['classifier']\n",
      "- This IS expected if you are initializing TFSegformerForSemanticSegmentation from the checkpoint of a model trained on another task or with another architecture (e.g. initializing a BertForSequenceClassification model from a BertForPreTraining model).\n",
      "- This IS NOT expected if you are initializing TFSegformerForSemanticSegmentation from the checkpoint of a model that you expect to be exactly identical (initializing a BertForSequenceClassification model from a BertForSequenceClassification model).\n",
      "Some layers of TFSegformerForSemanticSegmentation were not initialized from the model checkpoint at nvidia/mit-b0 and are newly initialized: ['decode_head']\n",
      "You should probably TRAIN this model on a down-stream task to be able to use it for predictions and inference.\n"
     ]
    },
    {
     "name": "stdout",
     "output_type": "stream",
     "text": [
      "N_DATA_BANDS: 3\n",
      "saving segmentation results to C:\\development\\coastseg-planet\\downloads\\Alaska_TOAR_enabled\\42444c87-d914-4330-ba4b-3c948829db3f\\PSScene\\good\\out\\20230927_211939_09_24c3_3B_TOAR_model_format_predseg.png\n",
      "writing metadata to C:\\development\\coastseg-planet\\downloads\\Alaska_TOAR_enabled\\42444c87-d914-4330-ba4b-3c948829db3f\\PSScene\\good\\out\\20230927_211939_09_24c3_3B_TOAR_model_format_res.npz\n",
      "32604\n",
      "Saving figure to C:\\development\\coastseg-planet\\downloads\\Alaska_TOAR_enabled\\42444c87-d914-4330-ba4b-3c948829db3f\\PSScene\\good\\shoreline_detection_figures\\2023-09-27-21-19-39_planet.jpg\n"
     ]
    },
    {
     "name": "stderr",
     "output_type": "stream",
     "text": [
      "Some layers from the model checkpoint at nvidia/mit-b0 were not used when initializing TFSegformerForSemanticSegmentation: ['classifier']\n",
      "- This IS expected if you are initializing TFSegformerForSemanticSegmentation from the checkpoint of a model trained on another task or with another architecture (e.g. initializing a BertForSequenceClassification model from a BertForPreTraining model).\n",
      "- This IS NOT expected if you are initializing TFSegformerForSemanticSegmentation from the checkpoint of a model that you expect to be exactly identical (initializing a BertForSequenceClassification model from a BertForSequenceClassification model).\n",
      "Some layers of TFSegformerForSemanticSegmentation were not initialized from the model checkpoint at nvidia/mit-b0 and are newly initialized: ['decode_head']\n",
      "You should probably TRAIN this model on a down-stream task to be able to use it for predictions and inference.\n"
     ]
    },
    {
     "name": "stdout",
     "output_type": "stream",
     "text": [
      "N_DATA_BANDS: 3\n",
      "saving segmentation results to C:\\development\\coastseg-planet\\downloads\\Alaska_TOAR_enabled\\42444c87-d914-4330-ba4b-3c948829db3f\\PSScene\\good\\out\\20230930_212106_60_2439_3B_TOAR_model_format_predseg.png\n",
      "writing metadata to C:\\development\\coastseg-planet\\downloads\\Alaska_TOAR_enabled\\42444c87-d914-4330-ba4b-3c948829db3f\\PSScene\\good\\out\\20230930_212106_60_2439_3B_TOAR_model_format_res.npz\n",
      "32604\n",
      "Saving figure to C:\\development\\coastseg-planet\\downloads\\Alaska_TOAR_enabled\\42444c87-d914-4330-ba4b-3c948829db3f\\PSScene\\good\\shoreline_detection_figures\\2023-09-30-21-21-06_planet.jpg\n"
     ]
    },
    {
     "name": "stderr",
     "output_type": "stream",
     "text": [
      "Some layers from the model checkpoint at nvidia/mit-b0 were not used when initializing TFSegformerForSemanticSegmentation: ['classifier']\n",
      "- This IS expected if you are initializing TFSegformerForSemanticSegmentation from the checkpoint of a model trained on another task or with another architecture (e.g. initializing a BertForSequenceClassification model from a BertForPreTraining model).\n",
      "- This IS NOT expected if you are initializing TFSegformerForSemanticSegmentation from the checkpoint of a model that you expect to be exactly identical (initializing a BertForSequenceClassification model from a BertForSequenceClassification model).\n",
      "Some layers of TFSegformerForSemanticSegmentation were not initialized from the model checkpoint at nvidia/mit-b0 and are newly initialized: ['decode_head']\n",
      "You should probably TRAIN this model on a down-stream task to be able to use it for predictions and inference.\n"
     ]
    },
    {
     "name": "stdout",
     "output_type": "stream",
     "text": [
      "N_DATA_BANDS: 3\n",
      "saving segmentation results to C:\\development\\coastseg-planet\\downloads\\Alaska_TOAR_enabled\\42444c87-d914-4330-ba4b-3c948829db3f\\PSScene\\good\\out\\20230930_212108_67_2439_3B_TOAR_model_format_predseg.png\n",
      "writing metadata to C:\\development\\coastseg-planet\\downloads\\Alaska_TOAR_enabled\\42444c87-d914-4330-ba4b-3c948829db3f\\PSScene\\good\\out\\20230930_212108_67_2439_3B_TOAR_model_format_res.npz\n",
      "32604\n",
      "Saving figure to C:\\development\\coastseg-planet\\downloads\\Alaska_TOAR_enabled\\42444c87-d914-4330-ba4b-3c948829db3f\\PSScene\\good\\shoreline_detection_figures\\2023-09-30-21-21-08_planet.jpg\n"
     ]
    },
    {
     "name": "stderr",
     "output_type": "stream",
     "text": [
      "Some layers from the model checkpoint at nvidia/mit-b0 were not used when initializing TFSegformerForSemanticSegmentation: ['classifier']\n",
      "- This IS expected if you are initializing TFSegformerForSemanticSegmentation from the checkpoint of a model trained on another task or with another architecture (e.g. initializing a BertForSequenceClassification model from a BertForPreTraining model).\n",
      "- This IS NOT expected if you are initializing TFSegformerForSemanticSegmentation from the checkpoint of a model that you expect to be exactly identical (initializing a BertForSequenceClassification model from a BertForSequenceClassification model).\n",
      "Some layers of TFSegformerForSemanticSegmentation were not initialized from the model checkpoint at nvidia/mit-b0 and are newly initialized: ['decode_head']\n",
      "You should probably TRAIN this model on a down-stream task to be able to use it for predictions and inference.\n"
     ]
    },
    {
     "name": "stdout",
     "output_type": "stream",
     "text": [
      "N_DATA_BANDS: 3\n",
      "saving segmentation results to C:\\development\\coastseg-planet\\downloads\\Alaska_TOAR_enabled\\42444c87-d914-4330-ba4b-3c948829db3f\\PSScene\\good\\out\\20230930_215330_30_247d_3B_TOAR_model_format_predseg.png\n",
      "writing metadata to C:\\development\\coastseg-planet\\downloads\\Alaska_TOAR_enabled\\42444c87-d914-4330-ba4b-3c948829db3f\\PSScene\\good\\out\\20230930_215330_30_247d_3B_TOAR_model_format_res.npz\n",
      "32604\n",
      "Saving figure to C:\\development\\coastseg-planet\\downloads\\Alaska_TOAR_enabled\\42444c87-d914-4330-ba4b-3c948829db3f\\PSScene\\good\\shoreline_detection_figures\\2023-09-30-21-53-30_planet.jpg\n"
     ]
    },
    {
     "name": "stderr",
     "output_type": "stream",
     "text": [
      "Some layers from the model checkpoint at nvidia/mit-b0 were not used when initializing TFSegformerForSemanticSegmentation: ['classifier']\n",
      "- This IS expected if you are initializing TFSegformerForSemanticSegmentation from the checkpoint of a model trained on another task or with another architecture (e.g. initializing a BertForSequenceClassification model from a BertForPreTraining model).\n",
      "- This IS NOT expected if you are initializing TFSegformerForSemanticSegmentation from the checkpoint of a model that you expect to be exactly identical (initializing a BertForSequenceClassification model from a BertForSequenceClassification model).\n",
      "Some layers of TFSegformerForSemanticSegmentation were not initialized from the model checkpoint at nvidia/mit-b0 and are newly initialized: ['decode_head']\n",
      "You should probably TRAIN this model on a down-stream task to be able to use it for predictions and inference.\n"
     ]
    },
    {
     "name": "stdout",
     "output_type": "stream",
     "text": [
      "N_DATA_BANDS: 3\n",
      "saving segmentation results to C:\\development\\coastseg-planet\\downloads\\Alaska_TOAR_enabled\\42444c87-d914-4330-ba4b-3c948829db3f\\PSScene\\good\\out\\20231003_211449_43_2465_3B_TOAR_model_format_predseg.png\n",
      "writing metadata to C:\\development\\coastseg-planet\\downloads\\Alaska_TOAR_enabled\\42444c87-d914-4330-ba4b-3c948829db3f\\PSScene\\good\\out\\20231003_211449_43_2465_3B_TOAR_model_format_res.npz\n",
      "32604\n",
      "Saving figure to C:\\development\\coastseg-planet\\downloads\\Alaska_TOAR_enabled\\42444c87-d914-4330-ba4b-3c948829db3f\\PSScene\\good\\shoreline_detection_figures\\2023-10-03-21-14-49_planet.jpg\n"
     ]
    },
    {
     "name": "stderr",
     "output_type": "stream",
     "text": [
      "Some layers from the model checkpoint at nvidia/mit-b0 were not used when initializing TFSegformerForSemanticSegmentation: ['classifier']\n",
      "- This IS expected if you are initializing TFSegformerForSemanticSegmentation from the checkpoint of a model trained on another task or with another architecture (e.g. initializing a BertForSequenceClassification model from a BertForPreTraining model).\n",
      "- This IS NOT expected if you are initializing TFSegformerForSemanticSegmentation from the checkpoint of a model that you expect to be exactly identical (initializing a BertForSequenceClassification model from a BertForSequenceClassification model).\n",
      "Some layers of TFSegformerForSemanticSegmentation were not initialized from the model checkpoint at nvidia/mit-b0 and are newly initialized: ['decode_head']\n",
      "You should probably TRAIN this model on a down-stream task to be able to use it for predictions and inference.\n"
     ]
    },
    {
     "name": "stdout",
     "output_type": "stream",
     "text": [
      "N_DATA_BANDS: 3\n",
      "saving segmentation results to C:\\development\\coastseg-planet\\downloads\\Alaska_TOAR_enabled\\42444c87-d914-4330-ba4b-3c948829db3f\\PSScene\\good\\out\\20231003_211451_50_2465_3B_TOAR_model_format_predseg.png\n",
      "writing metadata to C:\\development\\coastseg-planet\\downloads\\Alaska_TOAR_enabled\\42444c87-d914-4330-ba4b-3c948829db3f\\PSScene\\good\\out\\20231003_211451_50_2465_3B_TOAR_model_format_res.npz\n",
      "32604\n",
      "Saving figure to C:\\development\\coastseg-planet\\downloads\\Alaska_TOAR_enabled\\42444c87-d914-4330-ba4b-3c948829db3f\\PSScene\\good\\shoreline_detection_figures\\2023-10-03-21-14-51_planet.jpg\n"
     ]
    },
    {
     "name": "stderr",
     "output_type": "stream",
     "text": [
      "Some layers from the model checkpoint at nvidia/mit-b0 were not used when initializing TFSegformerForSemanticSegmentation: ['classifier']\n",
      "- This IS expected if you are initializing TFSegformerForSemanticSegmentation from the checkpoint of a model trained on another task or with another architecture (e.g. initializing a BertForSequenceClassification model from a BertForPreTraining model).\n",
      "- This IS NOT expected if you are initializing TFSegformerForSemanticSegmentation from the checkpoint of a model that you expect to be exactly identical (initializing a BertForSequenceClassification model from a BertForSequenceClassification model).\n",
      "Some layers of TFSegformerForSemanticSegmentation were not initialized from the model checkpoint at nvidia/mit-b0 and are newly initialized: ['decode_head']\n",
      "You should probably TRAIN this model on a down-stream task to be able to use it for predictions and inference.\n"
     ]
    },
    {
     "name": "stdout",
     "output_type": "stream",
     "text": [
      "N_DATA_BANDS: 3\n",
      "saving segmentation results to C:\\development\\coastseg-planet\\downloads\\Alaska_TOAR_enabled\\42444c87-d914-4330-ba4b-3c948829db3f\\PSScene\\good\\out\\20231003_211648_61_2440_3B_TOAR_model_format_predseg.png\n",
      "writing metadata to C:\\development\\coastseg-planet\\downloads\\Alaska_TOAR_enabled\\42444c87-d914-4330-ba4b-3c948829db3f\\PSScene\\good\\out\\20231003_211648_61_2440_3B_TOAR_model_format_res.npz\n",
      "32604\n",
      "Saving figure to C:\\development\\coastseg-planet\\downloads\\Alaska_TOAR_enabled\\42444c87-d914-4330-ba4b-3c948829db3f\\PSScene\\good\\shoreline_detection_figures\\2023-10-03-21-16-48_planet.jpg\n"
     ]
    },
    {
     "name": "stderr",
     "output_type": "stream",
     "text": [
      "Some layers from the model checkpoint at nvidia/mit-b0 were not used when initializing TFSegformerForSemanticSegmentation: ['classifier']\n",
      "- This IS expected if you are initializing TFSegformerForSemanticSegmentation from the checkpoint of a model trained on another task or with another architecture (e.g. initializing a BertForSequenceClassification model from a BertForPreTraining model).\n",
      "- This IS NOT expected if you are initializing TFSegformerForSemanticSegmentation from the checkpoint of a model that you expect to be exactly identical (initializing a BertForSequenceClassification model from a BertForSequenceClassification model).\n",
      "Some layers of TFSegformerForSemanticSegmentation were not initialized from the model checkpoint at nvidia/mit-b0 and are newly initialized: ['decode_head']\n",
      "You should probably TRAIN this model on a down-stream task to be able to use it for predictions and inference.\n"
     ]
    },
    {
     "name": "stdout",
     "output_type": "stream",
     "text": [
      "N_DATA_BANDS: 3\n",
      "saving segmentation results to C:\\development\\coastseg-planet\\downloads\\Alaska_TOAR_enabled\\42444c87-d914-4330-ba4b-3c948829db3f\\PSScene\\good\\out\\20231003_211928_14_24a9_3B_TOAR_model_format_predseg.png\n",
      "writing metadata to C:\\development\\coastseg-planet\\downloads\\Alaska_TOAR_enabled\\42444c87-d914-4330-ba4b-3c948829db3f\\PSScene\\good\\out\\20231003_211928_14_24a9_3B_TOAR_model_format_res.npz\n",
      "32604\n",
      "Saving figure to C:\\development\\coastseg-planet\\downloads\\Alaska_TOAR_enabled\\42444c87-d914-4330-ba4b-3c948829db3f\\PSScene\\good\\shoreline_detection_figures\\2023-10-03-21-19-28_planet.jpg\n"
     ]
    },
    {
     "name": "stderr",
     "output_type": "stream",
     "text": [
      "Some layers from the model checkpoint at nvidia/mit-b0 were not used when initializing TFSegformerForSemanticSegmentation: ['classifier']\n",
      "- This IS expected if you are initializing TFSegformerForSemanticSegmentation from the checkpoint of a model trained on another task or with another architecture (e.g. initializing a BertForSequenceClassification model from a BertForPreTraining model).\n",
      "- This IS NOT expected if you are initializing TFSegformerForSemanticSegmentation from the checkpoint of a model that you expect to be exactly identical (initializing a BertForSequenceClassification model from a BertForSequenceClassification model).\n",
      "Some layers of TFSegformerForSemanticSegmentation were not initialized from the model checkpoint at nvidia/mit-b0 and are newly initialized: ['decode_head']\n",
      "You should probably TRAIN this model on a down-stream task to be able to use it for predictions and inference.\n"
     ]
    },
    {
     "name": "stdout",
     "output_type": "stream",
     "text": [
      "N_DATA_BANDS: 3\n",
      "saving segmentation results to C:\\development\\coastseg-planet\\downloads\\Alaska_TOAR_enabled\\42444c87-d914-4330-ba4b-3c948829db3f\\PSScene\\good\\out\\20231004_215523_27_2488_3B_TOAR_model_format_predseg.png\n",
      "writing metadata to C:\\development\\coastseg-planet\\downloads\\Alaska_TOAR_enabled\\42444c87-d914-4330-ba4b-3c948829db3f\\PSScene\\good\\out\\20231004_215523_27_2488_3B_TOAR_model_format_res.npz\n",
      "32604\n",
      "Saving figure to C:\\development\\coastseg-planet\\downloads\\Alaska_TOAR_enabled\\42444c87-d914-4330-ba4b-3c948829db3f\\PSScene\\good\\shoreline_detection_figures\\2023-10-04-21-55-23_planet.jpg\n"
     ]
    },
    {
     "name": "stderr",
     "output_type": "stream",
     "text": [
      "Some layers from the model checkpoint at nvidia/mit-b0 were not used when initializing TFSegformerForSemanticSegmentation: ['classifier']\n",
      "- This IS expected if you are initializing TFSegformerForSemanticSegmentation from the checkpoint of a model trained on another task or with another architecture (e.g. initializing a BertForSequenceClassification model from a BertForPreTraining model).\n",
      "- This IS NOT expected if you are initializing TFSegformerForSemanticSegmentation from the checkpoint of a model that you expect to be exactly identical (initializing a BertForSequenceClassification model from a BertForSequenceClassification model).\n",
      "Some layers of TFSegformerForSemanticSegmentation were not initialized from the model checkpoint at nvidia/mit-b0 and are newly initialized: ['decode_head']\n",
      "You should probably TRAIN this model on a down-stream task to be able to use it for predictions and inference.\n"
     ]
    },
    {
     "name": "stdout",
     "output_type": "stream",
     "text": [
      "N_DATA_BANDS: 3\n",
      "saving segmentation results to C:\\development\\coastseg-planet\\downloads\\Alaska_TOAR_enabled\\42444c87-d914-4330-ba4b-3c948829db3f\\PSScene\\good\\out\\20231004_215525_38_2488_3B_TOAR_model_format_predseg.png\n",
      "writing metadata to C:\\development\\coastseg-planet\\downloads\\Alaska_TOAR_enabled\\42444c87-d914-4330-ba4b-3c948829db3f\\PSScene\\good\\out\\20231004_215525_38_2488_3B_TOAR_model_format_res.npz\n",
      "32604\n",
      "Saving figure to C:\\development\\coastseg-planet\\downloads\\Alaska_TOAR_enabled\\42444c87-d914-4330-ba4b-3c948829db3f\\PSScene\\good\\shoreline_detection_figures\\2023-10-04-21-55-25_planet.jpg\n"
     ]
    },
    {
     "name": "stderr",
     "output_type": "stream",
     "text": [
      "Some layers from the model checkpoint at nvidia/mit-b0 were not used when initializing TFSegformerForSemanticSegmentation: ['classifier']\n",
      "- This IS expected if you are initializing TFSegformerForSemanticSegmentation from the checkpoint of a model trained on another task or with another architecture (e.g. initializing a BertForSequenceClassification model from a BertForPreTraining model).\n",
      "- This IS NOT expected if you are initializing TFSegformerForSemanticSegmentation from the checkpoint of a model that you expect to be exactly identical (initializing a BertForSequenceClassification model from a BertForSequenceClassification model).\n",
      "Some layers of TFSegformerForSemanticSegmentation were not initialized from the model checkpoint at nvidia/mit-b0 and are newly initialized: ['decode_head']\n",
      "You should probably TRAIN this model on a down-stream task to be able to use it for predictions and inference.\n"
     ]
    },
    {
     "name": "stdout",
     "output_type": "stream",
     "text": [
      "N_DATA_BANDS: 3\n",
      "saving segmentation results to C:\\development\\coastseg-planet\\downloads\\Alaska_TOAR_enabled\\42444c87-d914-4330-ba4b-3c948829db3f\\PSScene\\good\\out\\20231005_215411_33_2461_3B_TOAR_model_format_predseg.png\n",
      "writing metadata to C:\\development\\coastseg-planet\\downloads\\Alaska_TOAR_enabled\\42444c87-d914-4330-ba4b-3c948829db3f\\PSScene\\good\\out\\20231005_215411_33_2461_3B_TOAR_model_format_res.npz\n",
      "32604\n",
      "Saving figure to C:\\development\\coastseg-planet\\downloads\\Alaska_TOAR_enabled\\42444c87-d914-4330-ba4b-3c948829db3f\\PSScene\\good\\shoreline_detection_figures\\2023-10-05-21-54-11_planet.jpg\n"
     ]
    },
    {
     "name": "stderr",
     "output_type": "stream",
     "text": [
      "Some layers from the model checkpoint at nvidia/mit-b0 were not used when initializing TFSegformerForSemanticSegmentation: ['classifier']\n",
      "- This IS expected if you are initializing TFSegformerForSemanticSegmentation from the checkpoint of a model trained on another task or with another architecture (e.g. initializing a BertForSequenceClassification model from a BertForPreTraining model).\n",
      "- This IS NOT expected if you are initializing TFSegformerForSemanticSegmentation from the checkpoint of a model that you expect to be exactly identical (initializing a BertForSequenceClassification model from a BertForSequenceClassification model).\n",
      "Some layers of TFSegformerForSemanticSegmentation were not initialized from the model checkpoint at nvidia/mit-b0 and are newly initialized: ['decode_head']\n",
      "You should probably TRAIN this model on a down-stream task to be able to use it for predictions and inference.\n"
     ]
    },
    {
     "name": "stdout",
     "output_type": "stream",
     "text": [
      "N_DATA_BANDS: 3\n",
      "saving segmentation results to C:\\development\\coastseg-planet\\downloads\\Alaska_TOAR_enabled\\42444c87-d914-4330-ba4b-3c948829db3f\\PSScene\\good\\out\\20231008_212143_84_24a9_3B_TOAR_model_format_predseg.png\n",
      "writing metadata to C:\\development\\coastseg-planet\\downloads\\Alaska_TOAR_enabled\\42444c87-d914-4330-ba4b-3c948829db3f\\PSScene\\good\\out\\20231008_212143_84_24a9_3B_TOAR_model_format_res.npz\n",
      "32604\n",
      "Saving figure to C:\\development\\coastseg-planet\\downloads\\Alaska_TOAR_enabled\\42444c87-d914-4330-ba4b-3c948829db3f\\PSScene\\good\\shoreline_detection_figures\\2023-10-08-21-21-43_planet.jpg\n"
     ]
    },
    {
     "name": "stderr",
     "output_type": "stream",
     "text": [
      "Some layers from the model checkpoint at nvidia/mit-b0 were not used when initializing TFSegformerForSemanticSegmentation: ['classifier']\n",
      "- This IS expected if you are initializing TFSegformerForSemanticSegmentation from the checkpoint of a model trained on another task or with another architecture (e.g. initializing a BertForSequenceClassification model from a BertForPreTraining model).\n",
      "- This IS NOT expected if you are initializing TFSegformerForSemanticSegmentation from the checkpoint of a model that you expect to be exactly identical (initializing a BertForSequenceClassification model from a BertForSequenceClassification model).\n",
      "Some layers of TFSegformerForSemanticSegmentation were not initialized from the model checkpoint at nvidia/mit-b0 and are newly initialized: ['decode_head']\n",
      "You should probably TRAIN this model on a down-stream task to be able to use it for predictions and inference.\n"
     ]
    },
    {
     "name": "stdout",
     "output_type": "stream",
     "text": [
      "N_DATA_BANDS: 3\n",
      "saving segmentation results to C:\\development\\coastseg-planet\\downloads\\Alaska_TOAR_enabled\\42444c87-d914-4330-ba4b-3c948829db3f\\PSScene\\good\\out\\20231009_215916_19_2478_3B_TOAR_model_format_predseg.png\n",
      "writing metadata to C:\\development\\coastseg-planet\\downloads\\Alaska_TOAR_enabled\\42444c87-d914-4330-ba4b-3c948829db3f\\PSScene\\good\\out\\20231009_215916_19_2478_3B_TOAR_model_format_res.npz\n",
      "32604\n",
      "Saving figure to C:\\development\\coastseg-planet\\downloads\\Alaska_TOAR_enabled\\42444c87-d914-4330-ba4b-3c948829db3f\\PSScene\\good\\shoreline_detection_figures\\2023-10-09-21-59-16_planet.jpg\n"
     ]
    },
    {
     "name": "stderr",
     "output_type": "stream",
     "text": [
      "Some layers from the model checkpoint at nvidia/mit-b0 were not used when initializing TFSegformerForSemanticSegmentation: ['classifier']\n",
      "- This IS expected if you are initializing TFSegformerForSemanticSegmentation from the checkpoint of a model trained on another task or with another architecture (e.g. initializing a BertForSequenceClassification model from a BertForPreTraining model).\n",
      "- This IS NOT expected if you are initializing TFSegformerForSemanticSegmentation from the checkpoint of a model that you expect to be exactly identical (initializing a BertForSequenceClassification model from a BertForSequenceClassification model).\n",
      "Some layers of TFSegformerForSemanticSegmentation were not initialized from the model checkpoint at nvidia/mit-b0 and are newly initialized: ['decode_head']\n",
      "You should probably TRAIN this model on a down-stream task to be able to use it for predictions and inference.\n"
     ]
    },
    {
     "name": "stdout",
     "output_type": "stream",
     "text": [
      "N_DATA_BANDS: 3\n",
      "saving segmentation results to C:\\development\\coastseg-planet\\downloads\\Alaska_TOAR_enabled\\42444c87-d914-4330-ba4b-3c948829db3f\\PSScene\\good\\out\\20231009_215918_25_2478_3B_TOAR_model_format_predseg.png\n",
      "writing metadata to C:\\development\\coastseg-planet\\downloads\\Alaska_TOAR_enabled\\42444c87-d914-4330-ba4b-3c948829db3f\\PSScene\\good\\out\\20231009_215918_25_2478_3B_TOAR_model_format_res.npz\n",
      "32604\n",
      "Saving figure to C:\\development\\coastseg-planet\\downloads\\Alaska_TOAR_enabled\\42444c87-d914-4330-ba4b-3c948829db3f\\PSScene\\good\\shoreline_detection_figures\\2023-10-09-21-59-18_planet.jpg\n"
     ]
    },
    {
     "name": "stderr",
     "output_type": "stream",
     "text": [
      "Some layers from the model checkpoint at nvidia/mit-b0 were not used when initializing TFSegformerForSemanticSegmentation: ['classifier']\n",
      "- This IS expected if you are initializing TFSegformerForSemanticSegmentation from the checkpoint of a model trained on another task or with another architecture (e.g. initializing a BertForSequenceClassification model from a BertForPreTraining model).\n",
      "- This IS NOT expected if you are initializing TFSegformerForSemanticSegmentation from the checkpoint of a model that you expect to be exactly identical (initializing a BertForSequenceClassification model from a BertForSequenceClassification model).\n",
      "Some layers of TFSegformerForSemanticSegmentation were not initialized from the model checkpoint at nvidia/mit-b0 and are newly initialized: ['decode_head']\n",
      "You should probably TRAIN this model on a down-stream task to be able to use it for predictions and inference.\n"
     ]
    },
    {
     "name": "stdout",
     "output_type": "stream",
     "text": [
      "N_DATA_BANDS: 3\n",
      "saving segmentation results to C:\\development\\coastseg-planet\\downloads\\Alaska_TOAR_enabled\\42444c87-d914-4330-ba4b-3c948829db3f\\PSScene\\good\\out\\20231029_212230_99_2427_3B_TOAR_model_format_predseg.png\n",
      "writing metadata to C:\\development\\coastseg-planet\\downloads\\Alaska_TOAR_enabled\\42444c87-d914-4330-ba4b-3c948829db3f\\PSScene\\good\\out\\20231029_212230_99_2427_3B_TOAR_model_format_res.npz\n",
      "32604\n",
      "Saving figure to C:\\development\\coastseg-planet\\downloads\\Alaska_TOAR_enabled\\42444c87-d914-4330-ba4b-3c948829db3f\\PSScene\\good\\shoreline_detection_figures\\2023-10-29-21-22-30_planet.jpg\n"
     ]
    },
    {
     "name": "stderr",
     "output_type": "stream",
     "text": [
      "Some layers from the model checkpoint at nvidia/mit-b0 were not used when initializing TFSegformerForSemanticSegmentation: ['classifier']\n",
      "- This IS expected if you are initializing TFSegformerForSemanticSegmentation from the checkpoint of a model trained on another task or with another architecture (e.g. initializing a BertForSequenceClassification model from a BertForPreTraining model).\n",
      "- This IS NOT expected if you are initializing TFSegformerForSemanticSegmentation from the checkpoint of a model that you expect to be exactly identical (initializing a BertForSequenceClassification model from a BertForSequenceClassification model).\n",
      "Some layers of TFSegformerForSemanticSegmentation were not initialized from the model checkpoint at nvidia/mit-b0 and are newly initialized: ['decode_head']\n",
      "You should probably TRAIN this model on a down-stream task to be able to use it for predictions and inference.\n"
     ]
    },
    {
     "name": "stdout",
     "output_type": "stream",
     "text": [
      "N_DATA_BANDS: 3\n",
      "saving segmentation results to C:\\development\\coastseg-planet\\downloads\\Alaska_TOAR_enabled\\42444c87-d914-4330-ba4b-3c948829db3f\\PSScene\\good\\out\\20231102_212052_38_24ce_3B_TOAR_model_format_predseg.png\n",
      "writing metadata to C:\\development\\coastseg-planet\\downloads\\Alaska_TOAR_enabled\\42444c87-d914-4330-ba4b-3c948829db3f\\PSScene\\good\\out\\20231102_212052_38_24ce_3B_TOAR_model_format_res.npz\n",
      "32604\n",
      "Saving figure to C:\\development\\coastseg-planet\\downloads\\Alaska_TOAR_enabled\\42444c87-d914-4330-ba4b-3c948829db3f\\PSScene\\good\\shoreline_detection_figures\\2023-11-02-21-20-52_planet.jpg\n",
      "saved extracted shorelines to C:\\development\\coastseg-planet\\downloads\\Alaska_TOAR_enabled\\42444c87-d914-4330-ba4b-3c948829db3f\\PSScene\\good\\raw_extracted_shorelines.geojson\n"
     ]
    }
   ],
   "source": [
    "low_threshold = get_low_threshold()\n",
    "high_threshold = get_high_threshold()\n",
    "masked_elevation_tif_path = create_elevation_mask_utm(topobathy_tiff,low_threshold,high_threshold)\n",
    "# get the output epsg from the roi\n",
    "out_epsg = roi_gdf.estimate_utm_crs().to_epsg()\n",
    "extract_shorelines_settings['output_epsg'] = out_epsg\n",
    "\n",
    "# suffix of the tif files to extract shorelines from\n",
    "separator = '_3B'\n",
    "suffix = f\"{separator}_TOAR_model_format\"\n",
    "if APPLY_COREGISTER:\n",
    "    suffix = f\"{separator}_TOAR_processed_coregistered_global\"\n",
    "\n",
    "filtered_tiffs = glob.glob(os.path.join(good_dir, f\"*{suffix}.tif\"))\n",
    "if len(filtered_tiffs) == 0:\n",
    "    print(\"No tiffs found in the directory\")\n",
    "\n",
    "# then intersect these shorelines with the transects\n",
    "shorelines_dict = shoreline_extraction.extract_shorelines(good_dir,\n",
    "                                                          suffix,\n",
    "                                                          model_card_path,\n",
    "                                                        extract_shorelines_settings,\n",
    "                                                        masked_elevation_tif_path)"
   ]
  },
  {
   "cell_type": "markdown",
   "metadata": {},
   "source": [
    "# Intersect Extracted Shorelines with Transects (OPTIONAL)\n",
    "- You will need to provide transects as a geojson file in CRS epsg 4326 in order to run this"
   ]
  },
  {
   "cell_type": "code",
   "execution_count": 11,
   "metadata": {},
   "outputs": [
    {
     "name": "stderr",
     "output_type": "stream",
     "text": [
      "Computing transect shoreline intersections: 100%|██████████| 9/9 [00:00<00:00, 214.88it/s]"
     ]
    },
    {
     "name": "stdout",
     "output_type": "stream",
     "text": [
      "Raw timeseries saved to C:\\development\\coastseg-planet\\downloads\\Alaska_TOAR_enabled\\42444c87-d914-4330-ba4b-3c948829db3f\\PSScene\\good\\raw_transect_time_series.csv\n"
     ]
    },
    {
     "name": "stderr",
     "output_type": "stream",
     "text": [
      "\n"
     ]
    }
   ],
   "source": [
    "# INTERSECT SHORELINES WITH TRANSECTS\n",
    "if not os.path.exists(transects_path):\n",
    "    raise ValueError('Transects path does not exist. Please provide a path to the transects to intersect with the shorelines.')\n",
    "transects.intersect_transects(transects_path,shorelines_dict,extract_shorelines_settings['output_epsg'], save_location=good_dir)"
   ]
  }
 ],
 "metadata": {
  "kernelspec": {
   "display_name": "coastseg_planet",
   "language": "python",
   "name": "python3"
  },
  "language_info": {
   "codemirror_mode": {
    "name": "ipython",
    "version": 3
   },
   "file_extension": ".py",
   "mimetype": "text/x-python",
   "name": "python",
   "nbconvert_exporter": "python",
   "pygments_lexer": "ipython3",
   "version": "3.11.9"
  }
 },
 "nbformat": 4,
 "nbformat_minor": 2
}
