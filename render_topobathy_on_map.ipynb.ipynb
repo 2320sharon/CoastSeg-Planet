{
 "cells": [
  {
   "cell_type": "code",
   "execution_count": 2,
   "metadata": {},
   "outputs": [
    {
     "data": {
      "application/vnd.jupyter.widget-view+json": {
       "model_id": "a435ce8fc00d481486439bb831349f49",
       "version_major": 2,
       "version_minor": 0
      },
      "text/plain": [
       "VBox(children=(Map(center=[36.96164333889902, -122.0133061585743], controls=(ZoomControl(options=['position', …"
      ]
     },
     "metadata": {},
     "output_type": "display_data"
    }
   ],
   "source": [
    "import rasterio\n",
    "from ipyleaflet import Map, ImageOverlay\n",
    "from ipywidgets import  VBox, FloatRangeSlider\n",
    "import numpy as np\n",
    "import PIL.Image\n",
    "from io import BytesIO\n",
    "import base64\n",
    "\n",
    "# Read the TIFF file\n",
    "tiff_file = r\"C:\\development\\coastseg-planet\\CoastSeg-Planet\\Santa Cruz Boardwalk_topobathy.tif\"\n",
    "with rasterio.open(tiff_file) as src:\n",
    "    mask_data = src.read(1)  # Read the first band\n",
    "    bounds = src.bounds\n",
    "    transform = src.transform\n",
    "\n",
    "# Function to create a base64 PNG image from mask data with transparency\n",
    "def create_masked_image(mask_data, alpha=128):\n",
    "    # Normalize the mask data to 0-255\n",
    "    mask_data = (mask_data / mask_data.max() * 255).astype(np.uint8)\n",
    "    # Create an RGBA image with the red channel filled and alpha channel set by the mask\n",
    "    rgba_image = np.zeros((mask_data.shape[0], mask_data.shape[1], 4), dtype=np.uint8)\n",
    "    rgba_image[..., 0] = mask_data  # Red channel\n",
    "    # Set alpha to the specified value for the masked regions, 0 for the unmasked regions\n",
    "    rgba_image[..., 3] = np.where(mask_data > 0, alpha, 0)  # Alpha channel (transparency)\n",
    "    img = PIL.Image.fromarray(rgba_image)\n",
    "    with BytesIO() as buffer:\n",
    "        img.save(buffer, format=\"png\")\n",
    "        return base64.b64encode(buffer.getvalue()).decode('utf-8')\n",
    "\n",
    "# Create the initial masked image overlay\n",
    "mask_data = np.flipud(mask_data)  # Flip the mask data vertically\n",
    "masked_image = create_masked_image(mask_data)\n",
    "image_overlay = ImageOverlay(\n",
    "    url=\"data:image/png;base64,\" + masked_image,\n",
    "    bounds=[[bounds.bottom, bounds.left], [bounds.top, bounds.right]]\n",
    ")\n",
    "\n",
    "# Create the map\n",
    "m = Map(center=[(bounds.top + bounds.bottom) / 2, (bounds.left + bounds.right) / 2], zoom=15)\n",
    "m.add_layer(image_overlay)\n",
    "\n",
    "# Function to update the mask (simulated here for demonstration purposes)\n",
    "def update_mask(change):\n",
    "    global image_overlay\n",
    "    if not isinstance(change, tuple):\n",
    "        mask = mask_data < change\n",
    "        masked_image = create_masked_image(mask)\n",
    "        image_overlay.url = \"data:image/png;base64,\" + masked_image\n",
    "    else:\n",
    "        lower, upper = change\n",
    "        mask = np.logical_and(mask_data > lower, mask_data < upper)\n",
    "        masked_image = create_masked_image(mask)\n",
    "        image_overlay.url = \"data:image/png;base64,\" + masked_image\n",
    "\n",
    "\n",
    "\n",
    "# Create a bounded slider with two handles\n",
    "threshold_slider = FloatRangeSlider(\n",
    "    description='Elevation (m)',\n",
    "    value=[default_value[0], default_value[1]],\n",
    "    min=mask_data.min(),\n",
    "    max=mask_data.max(),\n",
    "    step=0.1,\n",
    ")\n",
    "\n",
    "# Link the slider to the update function\n",
    "threshold_slider.observe(lambda change: update_mask(change['new']), names='value')\n",
    "\n",
    "# Display the map and the slider\n",
    "display(VBox([m, threshold_slider]))\n",
    "\n",
    "default_value = (-10, 10)\n",
    "# Initial display\n",
    "update_mask(default_value)\n"
   ]
  }
 ],
 "metadata": {
  "kernelspec": {
   "display_name": "coastseg_planet",
   "language": "python",
   "name": "python3"
  },
  "language_info": {
   "codemirror_mode": {
    "name": "ipython",
    "version": 3
   },
   "file_extension": ".py",
   "mimetype": "text/x-python",
   "name": "python",
   "nbconvert_exporter": "python",
   "pygments_lexer": "ipython3",
   "version": "3.10.13"
  }
 },
 "nbformat": 4,
 "nbformat_minor": 2
}
