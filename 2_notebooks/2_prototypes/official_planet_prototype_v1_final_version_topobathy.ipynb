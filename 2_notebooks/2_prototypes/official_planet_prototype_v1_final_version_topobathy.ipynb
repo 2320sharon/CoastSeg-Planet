{
 "cells": [
  {
   "cell_type": "markdown",
   "metadata": {},
   "source": [
    "# Prepare the LandSat Image \n",
    "Convert from float64 to unit16 & nodata values are set to 0\n",
    "\n",
    "Note to self the landsat directory currently being used is not the correct one. We need the one that was at the planet location.."
   ]
  },
  {
   "cell_type": "code",
   "execution_count": 1,
   "metadata": {},
   "outputs": [
    {
     "name": "stderr",
     "output_type": "stream",
     "text": [
      "c:\\Users\\sf230\\anaconda3\\envs\\coastseg_planet\\Lib\\site-packages\\h5py\\__init__.py:36: UserWarning: h5py is running against HDF5 1.14.3 when it was built against 1.14.2, this may cause problems\n",
      "  _warn((\"h5py is running against HDF5 {0} when it was built against {1}, \"\n"
     ]
    },
    {
     "name": "stdout",
     "output_type": "stream",
     "text": [
      "WARNING:tensorflow:From c:\\Users\\sf230\\anaconda3\\envs\\coastseg_planet\\Lib\\site-packages\\keras\\src\\losses.py:2976: The name tf.losses.sparse_softmax_cross_entropy is deprecated. Please use tf.compat.v1.losses.sparse_softmax_cross_entropy instead.\n",
      "\n"
     ]
    },
    {
     "name": "stderr",
     "output_type": "stream",
     "text": [
      "Transformers is only compatible with Keras 2, but you have explicitly set `TF_USE_LEGACY_KERAS` to `0`. This may result in unexpected behaviour or errors if Keras 3 objects are passed to Transformers models.\n"
     ]
    },
    {
     "name": "stdout",
     "output_type": "stream",
     "text": [
      "Version:  2.15.0\n",
      "Eager mode:  True\n"
     ]
    }
   ],
   "source": [
    "# Standard Library Imports\n",
    "import os\n",
    "import shutil\n",
    "import glob\n",
    "\n",
    "# Third-party Library Imports\n",
    "import numpy as np\n",
    "import rasterio\n",
    "from rasterio.plot import show\n",
    "from skimage.io import imsave\n",
    "from skimage import img_as_ubyte\n",
    "\n",
    "# Project-specific Imports\n",
    "from coastseg_planet import processing\n",
    "from coastseg_planet import masking\n",
    "from coastseg_planet import download\n",
    "from coastseg_planet import model\n",
    "from coastseg_planet import coregister\n",
    "from coastseg_planet import visualize\n",
    "\n",
    "# Specific functions from project-specific modules\n",
    "from coastseg_planet.processing import (\n",
    "    convert_from_float_to_unit16,\n",
    "    create_tiled_raster,\n",
    "    convert_landsat_to_model_format,\n",
    "    get_best_landsat_from_dir,\n",
    "    get_best_landsat_tifs,\n",
    "    get_tiffs_with_bad_area\n",
    ")\n",
    "from coastseg_planet.masking import apply_cloudmask_to_dir\n"
   ]
  },
  {
   "cell_type": "markdown",
   "metadata": {},
   "source": [
    "## Global Variables"
   ]
  },
  {
   "cell_type": "code",
   "execution_count": 2,
   "metadata": {},
   "outputs": [],
   "source": [
    "# If downloaded with TOAR tool applied don't convert to TOAR again (set this to False)\n",
    "convert_to_TOAR = False\n",
    "# Whether to run the classification model or not to sort the images into good and bad directories\n",
    "run_good_bad_classification = False #@todo make this true"
   ]
  },
  {
   "cell_type": "markdown",
   "metadata": {},
   "source": [
    "## Initialization\n",
    "1. Provide directory of CoastSeg downloaded session\n",
    "2. The directory of planet images"
   ]
  },
  {
   "cell_type": "code",
   "execution_count": 3,
   "metadata": {},
   "outputs": [],
   "source": [
    "# input the coastseg session with landsat data downloaded\n",
    "downloaded_directory = r\"C:\\development\\doodleverse\\coastseg\\CoastSeg\\data\\ID_1_datetime06-07-24__02_01_53\" # this is a custom roi thats the same as the planet roi\n",
    "# this is where we would download the ROI with planet or load it if it was already downloaded\n",
    "planet_dir = r\"C:\\development\\coastseg-planet\\downloads\\Alaska_TOAR_enabled\\42444c87-d914-4330-ba4b-3c948829db3f\\PSScene\"\n",
    "good_dir = os.path.join(planet_dir, \"good\")\n",
    "model_path = r\"C:\\development\\coastseg-planet\\CoastSeg-Planet\\models\\best_rgb.h5\"\n",
    "csv_path = os.path.join(planet_dir, \"classification_results.csv\")\n",
    "output_folder = planet_dir\n",
    "path_to_inference_imgs = planet_dir"
   ]
  },
  {
   "cell_type": "markdown",
   "metadata": {},
   "source": [
    "## Get the Best LandSat Raster"
   ]
  },
  {
   "cell_type": "code",
   "execution_count": 4,
   "metadata": {},
   "outputs": [
    {
     "name": "stdout",
     "output_type": "stream",
     "text": [
      "54\n",
      "The best satellite is L9\n",
      "The best landsat tiff is at : C:\\development\\doodleverse\\coastseg\\CoastSeg\\data\\ID_1_datetime06-07-24__02_01_53\\L9\\ms\\2023-07-23-22-08-13_L9_ID_1_datetime06-07-24__02_01_53_ms.tif\n",
      "The best landsat cloud mask is at : C:\\development\\doodleverse\\coastseg\\CoastSeg\\data\\ID_1_datetime06-07-24__02_01_53\\L9\\mask\\2023-07-23-22-08-13_L9_ID_1_datetime06-07-24__02_01_53_mask.tif\n"
     ]
    }
   ],
   "source": [
    "# get the landsat with the lowest RMSE and the cloud cover mask\n",
    "landsat_dir=get_best_landsat_from_dir(downloaded_directory)\n",
    "landsat_path, raw_landsat_cloud_mask_path=get_best_landsat_tifs(downloaded_directory)\n",
    "print(f\"The best satellite is {landsat_dir}\")\n",
    "print(f\"The best landsat tiff is at : {landsat_path}\")\n",
    "print(f\"The best landsat cloud mask is at : {raw_landsat_cloud_mask_path}\")"
   ]
  },
  {
   "cell_type": "markdown",
   "metadata": {},
   "source": [
    "## Convert the LandSat to RGB Tiff Model Compatible Format"
   ]
  },
  {
   "cell_type": "code",
   "execution_count": 5,
   "metadata": {},
   "outputs": [
    {
     "name": "stdout",
     "output_type": "stream",
     "text": [
      "dtype: uint8, shape: (280, 280, 3), count: 3\n",
      "Saving image to C:\\development\\doodleverse\\coastseg\\CoastSeg\\data\\ID_1_datetime06-07-24__02_01_53\\L9\\ms\\2023-07-23-22-08-13_L9_ID_1_datetime06-07-24__02_01_53_processed.jpg\n",
      "The landsat image that will be used for the model is at : C:\\development\\doodleverse\\coastseg\\CoastSeg\\data\\ID_1_datetime06-07-24__02_01_53\\L9\\ms\\2023-07-23-22-08-13_L9_ID_1_datetime06-07-24__02_01_53_processed_model_format.tif\n"
     ]
    }
   ],
   "source": [
    "landsat_processed_path  = processing.format_landsat_tiff(landsat_path)\n",
    "print(f\"The landsat image that will be used for the model is at : {landsat_processed_path}\")"
   ]
  },
  {
   "cell_type": "markdown",
   "metadata": {},
   "source": [
    "## Convert the LandSat Cloud Mask to a Boolean Format\n"
   ]
  },
  {
   "cell_type": "code",
   "execution_count": 6,
   "metadata": {},
   "outputs": [
    {
     "data": {
      "text/plain": [
       "'C:\\\\development\\\\doodleverse\\\\coastseg\\\\CoastSeg\\\\data\\\\ID_1_datetime06-07-24__02_01_53\\\\L9\\\\mask\\\\2023-07-23-22-08-13_L9_ID_1_datetime06-07-24__02_01_53_mask_processed.tif'"
      ]
     },
     "execution_count": 6,
     "metadata": {},
     "output_type": "execute_result"
    }
   ],
   "source": [
    "landsat_cloud_mask_path =  raw_landsat_cloud_mask_path.replace(\".tif\",\"_processed.tif\")\n",
    "masking.save_landsat_cloud_mask(raw_landsat_cloud_mask_path, landsat_cloud_mask_path)"
   ]
  },
  {
   "cell_type": "markdown",
   "metadata": {},
   "source": [
    "# Filter the Planet Images By Area\n",
    "- Remove images that are less than 80% of the expected area & move them to the bad directory"
   ]
  },
  {
   "cell_type": "code",
   "execution_count": 7,
   "metadata": {},
   "outputs": [
    {
     "name": "stdout",
     "output_type": "stream",
     "text": [
      "Number of TIFFs: 97\n",
      "Number of bad TIFFs: 0\n"
     ]
    }
   ],
   "source": [
    "# get the tiffs in the directory depending on whether the TOAR tool was applied or not\n",
    "tiff_paths= []\n",
    "if convert_to_TOAR:\n",
    "    tiff_paths = glob.glob(os.path.join(planet_dir,\"*AnalyticMS_clip.tif\"))\n",
    "else: # if the TOAR tool was already applied\n",
    "    tiff_paths = glob.glob(os.path.join(planet_dir,\"*3B_AnalyticMS_toar_clip.tif\"))\n",
    "    if len(tiff_paths) == 0:\n",
    "        print(\"No TIFFs found in the directory\")\n",
    "    \n",
    "print(f\"Number of TIFFs: {len(tiff_paths)}\")\n",
    "# improvement get the planet tiff with the largest area and use that as the expected area\n",
    "expected_area_km = 4.5  # 4.1 square kilometers\n",
    "threshold = 0.90\n",
    "bad_tiff_paths = get_tiffs_with_bad_area(tiff_paths, expected_area_km, threshold, use_threads=True)\n",
    "print(f\"Number of bad TIFFs: {len(bad_tiff_paths)}\")\n",
    "# for each bad tiff move it a new folder called bad\n",
    "bad_path = os.path.join(planet_dir,\"bad\")\n",
    "os.makedirs(bad_path,exist_ok=True)\n",
    "for bad_tiff in bad_tiff_paths:\n",
    "    # move the file to the bad folder\n",
    "    shutil.move(bad_tiff,bad_path)"
   ]
  },
  {
   "cell_type": "markdown",
   "metadata": {},
   "source": [
    "# Convert the Planet Images to TOAR if not already TOAR\n",
    "-todo use the fact the tifs generated by Toar clip in the name to set the value of convert_to_TOAR"
   ]
  },
  {
   "cell_type": "code",
   "execution_count": 8,
   "metadata": {},
   "outputs": [],
   "source": [
    "# convert the files in the directory to TOAR (Top of Atmosphere Reflectance) \n",
    "if convert_to_TOAR:\n",
    "    processing.convert_directory_to_TOAR(planet_dir,input_suffix='AnalyticMS_clip.tif',output_suffix='_TOAR.tif',separator='_3B')\n"
   ]
  },
  {
   "cell_type": "markdown",
   "metadata": {},
   "source": [
    "# Convert Planet Imagery to Same Format as LandSat\n",
    "- reorder to bands to be  RGBNIR\n",
    "- scale the values to be 0 - 255 "
   ]
  },
  {
   "cell_type": "code",
   "execution_count": 9,
   "metadata": {},
   "outputs": [],
   "source": [
    "# convert to RGB format that is compatible with the model. Range of values is 0-255\n",
    "if convert_to_TOAR:\n",
    "    input_suffix='3B_TOAR.tif'\n",
    "else:\n",
    "    input_suffix='_3B_AnalyticMS_toar_clip.tif'\n",
    "processing.convert_directory_to_model_format(planet_dir,input_suffix=input_suffix,output_suffix='_TOAR_model_format.tif',separator='_3B')"
   ]
  },
  {
   "cell_type": "markdown",
   "metadata": {},
   "source": [
    "## Filter the Planet Imagery\n",
    "Use a model to sort the images as good or bad"
   ]
  },
  {
   "cell_type": "code",
   "execution_count": 10,
   "metadata": {},
   "outputs": [],
   "source": [
    "run_good_bad_classification = True"
   ]
  },
  {
   "cell_type": "code",
   "execution_count": 11,
   "metadata": {},
   "outputs": [
    {
     "name": "stdout",
     "output_type": "stream",
     "text": [
      "WARNING:tensorflow:From c:\\Users\\sf230\\anaconda3\\envs\\coastseg_planet\\Lib\\site-packages\\keras\\src\\backend.py:1398: The name tf.executing_eagerly_outside_functions is deprecated. Please use tf.compat.v1.executing_eagerly_outside_functions instead.\n",
      "\n",
      "WARNING:tensorflow:From c:\\Users\\sf230\\anaconda3\\envs\\coastseg_planet\\Lib\\site-packages\\keras\\src\\layers\\pooling\\max_pooling2d.py:161: The name tf.nn.max_pool is deprecated. Please use tf.nn.max_pool2d instead.\n",
      "\n",
      "1/1 [==============================] - 0s 253ms/step\n",
      "1/1 [==============================] - 0s 28ms/step\n",
      "1/1 [==============================] - 0s 28ms/step\n",
      "1/1 [==============================] - 0s 27ms/step\n",
      "1/1 [==============================] - 0s 31ms/step\n",
      "1/1 [==============================] - 0s 28ms/step\n",
      "1/1 [==============================] - 0s 28ms/step\n",
      "1/1 [==============================] - 0s 28ms/step\n",
      "1/1 [==============================] - 0s 27ms/step\n",
      "1/1 [==============================] - 0s 26ms/step\n",
      "1/1 [==============================] - 0s 25ms/step\n",
      "1/1 [==============================] - 0s 27ms/step\n",
      "1/1 [==============================] - 0s 27ms/step\n",
      "1/1 [==============================] - 0s 28ms/step\n",
      "1/1 [==============================] - 0s 31ms/step\n",
      "1/1 [==============================] - 0s 28ms/step\n",
      "1/1 [==============================] - 0s 30ms/step\n",
      "1/1 [==============================] - 0s 26ms/step\n",
      "1/1 [==============================] - 0s 29ms/step\n",
      "1/1 [==============================] - 0s 28ms/step\n",
      "1/1 [==============================] - 0s 29ms/step\n",
      "1/1 [==============================] - 0s 27ms/step\n",
      "1/1 [==============================] - 0s 27ms/step\n",
      "1/1 [==============================] - 0s 28ms/step\n",
      "1/1 [==============================] - 0s 27ms/step\n",
      "1/1 [==============================] - 0s 27ms/step\n",
      "1/1 [==============================] - 0s 29ms/step\n",
      "1/1 [==============================] - 0s 29ms/step\n",
      "1/1 [==============================] - 0s 27ms/step\n",
      "1/1 [==============================] - 0s 29ms/step\n",
      "1/1 [==============================] - 0s 28ms/step\n",
      "1/1 [==============================] - 0s 28ms/step\n",
      "1/1 [==============================] - 0s 27ms/step\n",
      "1/1 [==============================] - 0s 29ms/step\n",
      "1/1 [==============================] - 0s 28ms/step\n",
      "1/1 [==============================] - 0s 27ms/step\n",
      "1/1 [==============================] - 0s 27ms/step\n",
      "1/1 [==============================] - 0s 27ms/step\n",
      "1/1 [==============================] - 0s 26ms/step\n",
      "1/1 [==============================] - 0s 29ms/step\n",
      "1/1 [==============================] - 0s 28ms/step\n",
      "1/1 [==============================] - 0s 27ms/step\n",
      "1/1 [==============================] - 0s 27ms/step\n",
      "1/1 [==============================] - 0s 26ms/step\n",
      "1/1 [==============================] - 0s 27ms/step\n",
      "1/1 [==============================] - 0s 28ms/step\n",
      "1/1 [==============================] - 0s 27ms/step\n",
      "1/1 [==============================] - 0s 27ms/step\n",
      "1/1 [==============================] - 0s 27ms/step\n",
      "1/1 [==============================] - 0s 27ms/step\n",
      "1/1 [==============================] - 0s 30ms/step\n",
      "1/1 [==============================] - 0s 30ms/step\n",
      "1/1 [==============================] - 0s 28ms/step\n",
      "1/1 [==============================] - 0s 27ms/step\n",
      "1/1 [==============================] - 0s 27ms/step\n",
      "1/1 [==============================] - 0s 28ms/step\n",
      "1/1 [==============================] - 0s 26ms/step\n",
      "1/1 [==============================] - 0s 26ms/step\n",
      "1/1 [==============================] - 0s 27ms/step\n",
      "1/1 [==============================] - 0s 27ms/step\n",
      "1/1 [==============================] - 0s 28ms/step\n",
      "1/1 [==============================] - 0s 28ms/step\n",
      "1/1 [==============================] - 0s 28ms/step\n",
      "1/1 [==============================] - 0s 30ms/step\n",
      "1/1 [==============================] - 0s 31ms/step\n",
      "1/1 [==============================] - 0s 28ms/step\n",
      "1/1 [==============================] - 0s 28ms/step\n",
      "1/1 [==============================] - 0s 28ms/step\n",
      "1/1 [==============================] - 0s 27ms/step\n",
      "1/1 [==============================] - 0s 27ms/step\n",
      "1/1 [==============================] - 0s 26ms/step\n",
      "1/1 [==============================] - 0s 27ms/step\n",
      "1/1 [==============================] - 0s 33ms/step\n",
      "1/1 [==============================] - 0s 27ms/step\n",
      "1/1 [==============================] - 0s 27ms/step\n",
      "1/1 [==============================] - 0s 28ms/step\n",
      "1/1 [==============================] - 0s 27ms/step\n",
      "1/1 [==============================] - 0s 26ms/step\n",
      "1/1 [==============================] - 0s 30ms/step\n",
      "1/1 [==============================] - 0s 26ms/step\n",
      "1/1 [==============================] - 0s 28ms/step\n",
      "1/1 [==============================] - 0s 27ms/step\n",
      "1/1 [==============================] - 0s 37ms/step\n",
      "1/1 [==============================] - 0s 32ms/step\n",
      "1/1 [==============================] - 0s 27ms/step\n",
      "1/1 [==============================] - 0s 28ms/step\n",
      "1/1 [==============================] - 0s 31ms/step\n",
      "1/1 [==============================] - 0s 30ms/step\n",
      "1/1 [==============================] - 0s 27ms/step\n",
      "1/1 [==============================] - 0s 31ms/step\n",
      "1/1 [==============================] - 0s 25ms/step\n",
      "1/1 [==============================] - 0s 28ms/step\n",
      "1/1 [==============================] - 0s 29ms/step\n",
      "1/1 [==============================] - 0s 27ms/step\n",
      "1/1 [==============================] - 0s 29ms/step\n",
      "1/1 [==============================] - 0s 27ms/step\n",
      "1/1 [==============================] - 0s 27ms/step\n"
     ]
    }
   ],
   "source": [
    "\n",
    "regex = '*TOAR_model_format'\n",
    "# use a parameter to control if the good bad classification should run again\n",
    "if run_good_bad_classification:\n",
    "    model.run_classification_model(model_path, path_to_inference_imgs, output_folder, csv_path, regex, move_files=False)\n",
    "# if the classification model was not run then \n",
    "if not os.path.exists(good_dir):\n",
    "    good_dir = planet_dir"
   ]
  },
  {
   "cell_type": "markdown",
   "metadata": {},
   "source": [
    "# Apply Cloud Masks to Planet\n",
    "Create a cloud and shadow mask for each image in the directory of planet images"
   ]
  },
  {
   "cell_type": "code",
   "execution_count": 12,
   "metadata": {},
   "outputs": [
    {
     "name": "stdout",
     "output_type": "stream",
     "text": [
      "Processing C:\\development\\coastseg-planet\\downloads\\Alaska_TOAR_enabled\\42444c87-d914-4330-ba4b-3c948829db3f\\PSScene\\good\\20230927_211936_77_24c3_3B_udm2_clip.tif\n",
      "Creating cloud and shadow mask from C:\\development\\coastseg-planet\\downloads\\Alaska_TOAR_enabled\\42444c87-d914-4330-ba4b-3c948829db3f\\PSScene\\good\\20230927_211936_77_24c3_3B_udm2_clip.tif\n",
      "Saving combined mask to C:\\development\\coastseg-planet\\downloads\\Alaska_TOAR_enabled\\42444c87-d914-4330-ba4b-3c948829db3f\\PSScene\\good\\20230927_211936_77_24c3_3B_udm2_clip_combined_mask.tif\n",
      "Processing C:\\development\\coastseg-planet\\downloads\\Alaska_TOAR_enabled\\42444c87-d914-4330-ba4b-3c948829db3f\\PSScene\\good\\20230927_211939_09_24c3_3B_udm2_clip.tif\n",
      "Creating cloud and shadow mask from C:\\development\\coastseg-planet\\downloads\\Alaska_TOAR_enabled\\42444c87-d914-4330-ba4b-3c948829db3f\\PSScene\\good\\20230927_211939_09_24c3_3B_udm2_clip.tif\n",
      "Saving combined mask to C:\\development\\coastseg-planet\\downloads\\Alaska_TOAR_enabled\\42444c87-d914-4330-ba4b-3c948829db3f\\PSScene\\good\\20230927_211939_09_24c3_3B_udm2_clip_combined_mask.tif\n",
      "Processing C:\\development\\coastseg-planet\\downloads\\Alaska_TOAR_enabled\\42444c87-d914-4330-ba4b-3c948829db3f\\PSScene\\good\\20230930_212106_60_2439_3B_udm2_clip.tif\n",
      "Creating cloud and shadow mask from C:\\development\\coastseg-planet\\downloads\\Alaska_TOAR_enabled\\42444c87-d914-4330-ba4b-3c948829db3f\\PSScene\\good\\20230930_212106_60_2439_3B_udm2_clip.tif\n",
      "Saving combined mask to C:\\development\\coastseg-planet\\downloads\\Alaska_TOAR_enabled\\42444c87-d914-4330-ba4b-3c948829db3f\\PSScene\\good\\20230930_212106_60_2439_3B_udm2_clip_combined_mask.tif\n",
      "Processing C:\\development\\coastseg-planet\\downloads\\Alaska_TOAR_enabled\\42444c87-d914-4330-ba4b-3c948829db3f\\PSScene\\good\\20230930_212108_67_2439_3B_udm2_clip.tif\n",
      "Creating cloud and shadow mask from C:\\development\\coastseg-planet\\downloads\\Alaska_TOAR_enabled\\42444c87-d914-4330-ba4b-3c948829db3f\\PSScene\\good\\20230930_212108_67_2439_3B_udm2_clip.tif\n",
      "Saving combined mask to C:\\development\\coastseg-planet\\downloads\\Alaska_TOAR_enabled\\42444c87-d914-4330-ba4b-3c948829db3f\\PSScene\\good\\20230930_212108_67_2439_3B_udm2_clip_combined_mask.tif\n",
      "Processing C:\\development\\coastseg-planet\\downloads\\Alaska_TOAR_enabled\\42444c87-d914-4330-ba4b-3c948829db3f\\PSScene\\good\\20230930_215330_30_247d_3B_udm2_clip.tif\n",
      "Creating cloud and shadow mask from C:\\development\\coastseg-planet\\downloads\\Alaska_TOAR_enabled\\42444c87-d914-4330-ba4b-3c948829db3f\\PSScene\\good\\20230930_215330_30_247d_3B_udm2_clip.tif\n",
      "Saving combined mask to C:\\development\\coastseg-planet\\downloads\\Alaska_TOAR_enabled\\42444c87-d914-4330-ba4b-3c948829db3f\\PSScene\\good\\20230930_215330_30_247d_3B_udm2_clip_combined_mask.tif\n",
      "Processing C:\\development\\coastseg-planet\\downloads\\Alaska_TOAR_enabled\\42444c87-d914-4330-ba4b-3c948829db3f\\PSScene\\good\\20231003_211449_43_2465_3B_udm2_clip.tif\n",
      "Creating cloud and shadow mask from C:\\development\\coastseg-planet\\downloads\\Alaska_TOAR_enabled\\42444c87-d914-4330-ba4b-3c948829db3f\\PSScene\\good\\20231003_211449_43_2465_3B_udm2_clip.tif\n",
      "Saving combined mask to C:\\development\\coastseg-planet\\downloads\\Alaska_TOAR_enabled\\42444c87-d914-4330-ba4b-3c948829db3f\\PSScene\\good\\20231003_211449_43_2465_3B_udm2_clip_combined_mask.tif\n",
      "Processing C:\\development\\coastseg-planet\\downloads\\Alaska_TOAR_enabled\\42444c87-d914-4330-ba4b-3c948829db3f\\PSScene\\good\\20231003_211451_50_2465_3B_udm2_clip.tif\n",
      "Creating cloud and shadow mask from C:\\development\\coastseg-planet\\downloads\\Alaska_TOAR_enabled\\42444c87-d914-4330-ba4b-3c948829db3f\\PSScene\\good\\20231003_211451_50_2465_3B_udm2_clip.tif\n",
      "Saving combined mask to C:\\development\\coastseg-planet\\downloads\\Alaska_TOAR_enabled\\42444c87-d914-4330-ba4b-3c948829db3f\\PSScene\\good\\20231003_211451_50_2465_3B_udm2_clip_combined_mask.tif\n",
      "Processing C:\\development\\coastseg-planet\\downloads\\Alaska_TOAR_enabled\\42444c87-d914-4330-ba4b-3c948829db3f\\PSScene\\good\\20231003_211648_61_2440_3B_udm2_clip.tif\n",
      "Creating cloud and shadow mask from C:\\development\\coastseg-planet\\downloads\\Alaska_TOAR_enabled\\42444c87-d914-4330-ba4b-3c948829db3f\\PSScene\\good\\20231003_211648_61_2440_3B_udm2_clip.tif\n",
      "Saving combined mask to C:\\development\\coastseg-planet\\downloads\\Alaska_TOAR_enabled\\42444c87-d914-4330-ba4b-3c948829db3f\\PSScene\\good\\20231003_211648_61_2440_3B_udm2_clip_combined_mask.tif\n",
      "Processing C:\\development\\coastseg-planet\\downloads\\Alaska_TOAR_enabled\\42444c87-d914-4330-ba4b-3c948829db3f\\PSScene\\good\\20231003_211928_14_24a9_3B_udm2_clip.tif\n",
      "Creating cloud and shadow mask from C:\\development\\coastseg-planet\\downloads\\Alaska_TOAR_enabled\\42444c87-d914-4330-ba4b-3c948829db3f\\PSScene\\good\\20231003_211928_14_24a9_3B_udm2_clip.tif\n",
      "Saving combined mask to C:\\development\\coastseg-planet\\downloads\\Alaska_TOAR_enabled\\42444c87-d914-4330-ba4b-3c948829db3f\\PSScene\\good\\20231003_211928_14_24a9_3B_udm2_clip_combined_mask.tif\n",
      "Processing C:\\development\\coastseg-planet\\downloads\\Alaska_TOAR_enabled\\42444c87-d914-4330-ba4b-3c948829db3f\\PSScene\\good\\20231004_215523_27_2488_3B_udm2_clip.tif\n",
      "Creating cloud and shadow mask from C:\\development\\coastseg-planet\\downloads\\Alaska_TOAR_enabled\\42444c87-d914-4330-ba4b-3c948829db3f\\PSScene\\good\\20231004_215523_27_2488_3B_udm2_clip.tif\n",
      "Saving combined mask to C:\\development\\coastseg-planet\\downloads\\Alaska_TOAR_enabled\\42444c87-d914-4330-ba4b-3c948829db3f\\PSScene\\good\\20231004_215523_27_2488_3B_udm2_clip_combined_mask.tif\n",
      "Processing C:\\development\\coastseg-planet\\downloads\\Alaska_TOAR_enabled\\42444c87-d914-4330-ba4b-3c948829db3f\\PSScene\\good\\20231004_215525_38_2488_3B_udm2_clip.tif\n",
      "Creating cloud and shadow mask from C:\\development\\coastseg-planet\\downloads\\Alaska_TOAR_enabled\\42444c87-d914-4330-ba4b-3c948829db3f\\PSScene\\good\\20231004_215525_38_2488_3B_udm2_clip.tif\n",
      "Saving combined mask to C:\\development\\coastseg-planet\\downloads\\Alaska_TOAR_enabled\\42444c87-d914-4330-ba4b-3c948829db3f\\PSScene\\good\\20231004_215525_38_2488_3B_udm2_clip_combined_mask.tif\n",
      "Processing C:\\development\\coastseg-planet\\downloads\\Alaska_TOAR_enabled\\42444c87-d914-4330-ba4b-3c948829db3f\\PSScene\\good\\20231005_215411_33_2461_3B_udm2_clip.tif\n",
      "Creating cloud and shadow mask from C:\\development\\coastseg-planet\\downloads\\Alaska_TOAR_enabled\\42444c87-d914-4330-ba4b-3c948829db3f\\PSScene\\good\\20231005_215411_33_2461_3B_udm2_clip.tif\n",
      "Saving combined mask to C:\\development\\coastseg-planet\\downloads\\Alaska_TOAR_enabled\\42444c87-d914-4330-ba4b-3c948829db3f\\PSScene\\good\\20231005_215411_33_2461_3B_udm2_clip_combined_mask.tif\n",
      "Processing C:\\development\\coastseg-planet\\downloads\\Alaska_TOAR_enabled\\42444c87-d914-4330-ba4b-3c948829db3f\\PSScene\\good\\20231008_212143_84_24a9_3B_udm2_clip.tif\n",
      "Creating cloud and shadow mask from C:\\development\\coastseg-planet\\downloads\\Alaska_TOAR_enabled\\42444c87-d914-4330-ba4b-3c948829db3f\\PSScene\\good\\20231008_212143_84_24a9_3B_udm2_clip.tif\n",
      "Saving combined mask to C:\\development\\coastseg-planet\\downloads\\Alaska_TOAR_enabled\\42444c87-d914-4330-ba4b-3c948829db3f\\PSScene\\good\\20231008_212143_84_24a9_3B_udm2_clip_combined_mask.tif\n",
      "Processing C:\\development\\coastseg-planet\\downloads\\Alaska_TOAR_enabled\\42444c87-d914-4330-ba4b-3c948829db3f\\PSScene\\good\\20231009_215916_19_2478_3B_udm2_clip.tif\n",
      "Creating cloud and shadow mask from C:\\development\\coastseg-planet\\downloads\\Alaska_TOAR_enabled\\42444c87-d914-4330-ba4b-3c948829db3f\\PSScene\\good\\20231009_215916_19_2478_3B_udm2_clip.tif\n",
      "Saving combined mask to C:\\development\\coastseg-planet\\downloads\\Alaska_TOAR_enabled\\42444c87-d914-4330-ba4b-3c948829db3f\\PSScene\\good\\20231009_215916_19_2478_3B_udm2_clip_combined_mask.tif\n",
      "Processing C:\\development\\coastseg-planet\\downloads\\Alaska_TOAR_enabled\\42444c87-d914-4330-ba4b-3c948829db3f\\PSScene\\good\\20231009_215918_25_2478_3B_udm2_clip.tif\n",
      "Creating cloud and shadow mask from C:\\development\\coastseg-planet\\downloads\\Alaska_TOAR_enabled\\42444c87-d914-4330-ba4b-3c948829db3f\\PSScene\\good\\20231009_215918_25_2478_3B_udm2_clip.tif\n",
      "Saving combined mask to C:\\development\\coastseg-planet\\downloads\\Alaska_TOAR_enabled\\42444c87-d914-4330-ba4b-3c948829db3f\\PSScene\\good\\20231009_215918_25_2478_3B_udm2_clip_combined_mask.tif\n",
      "Processing C:\\development\\coastseg-planet\\downloads\\Alaska_TOAR_enabled\\42444c87-d914-4330-ba4b-3c948829db3f\\PSScene\\good\\20231029_212230_99_2427_3B_udm2_clip.tif\n",
      "Creating cloud and shadow mask from C:\\development\\coastseg-planet\\downloads\\Alaska_TOAR_enabled\\42444c87-d914-4330-ba4b-3c948829db3f\\PSScene\\good\\20231029_212230_99_2427_3B_udm2_clip.tif\n",
      "Saving combined mask to C:\\development\\coastseg-planet\\downloads\\Alaska_TOAR_enabled\\42444c87-d914-4330-ba4b-3c948829db3f\\PSScene\\good\\20231029_212230_99_2427_3B_udm2_clip_combined_mask.tif\n",
      "Processing C:\\development\\coastseg-planet\\downloads\\Alaska_TOAR_enabled\\42444c87-d914-4330-ba4b-3c948829db3f\\PSScene\\good\\20231102_212052_38_24ce_3B_udm2_clip.tif\n",
      "Creating cloud and shadow mask from C:\\development\\coastseg-planet\\downloads\\Alaska_TOAR_enabled\\42444c87-d914-4330-ba4b-3c948829db3f\\PSScene\\good\\20231102_212052_38_24ce_3B_udm2_clip.tif\n",
      "Saving combined mask to C:\\development\\coastseg-planet\\downloads\\Alaska_TOAR_enabled\\42444c87-d914-4330-ba4b-3c948829db3f\\PSScene\\good\\20231102_212052_38_24ce_3B_udm2_clip_combined_mask.tif\n"
     ]
    }
   ],
   "source": [
    "# apply cloud mask to directory of planet images and generate cloud masks in that directory for each tif\n",
    "apply_cloudmask_to_dir(good_dir)"
   ]
  },
  {
   "cell_type": "markdown",
   "metadata": {},
   "source": [
    "# Coregister the Planet Imagery to the LandSat Image\n",
    "- We will coregister each modified planet image to the landsat image that was modified to be in the zoo format"
   ]
  },
  {
   "cell_type": "code",
   "execution_count": 13,
   "metadata": {},
   "outputs": [
    {
     "name": "stdout",
     "output_type": "stream",
     "text": [
      "Number of CPUs available: 20\n"
     ]
    }
   ],
   "source": [
    "kwargs = {\n",
    "   'max_shift':1,\n",
    "   'align_grids':True,\n",
    "   'tieP_filter_level':1,\n",
    "   'min_reliability':0.40,\n",
    "   'grid_res':30, # Grid points are 30 meters apart (the lower this value the longer it takes)\n",
    "   'v':True, #verbose mode\n",
    "   'q':False, #quiet mode\n",
    "   'ignore_errors':True, # Recommended to set to True for batch processing\n",
    "    'progress':True,\n",
    "    'out_crea_options':[\"COMPRESS=LZW\"], # otherwise if will use deflate which will not work well with our model\n",
    "    'fmt_out':'GTIFF',\n",
    "    'CPUs' : coregister.get_cpus()/2,\n",
    "}"
   ]
  },
  {
   "cell_type": "code",
   "execution_count": 14,
   "metadata": {},
   "outputs": [
    {
     "name": "stdout",
     "output_type": "stream",
     "text": [
      "Number of CPUs available: 20\n",
      "input_path: C:\\development\\coastseg-planet\\downloads\\Alaska_TOAR_enabled\\42444c87-d914-4330-ba4b-3c948829db3f\\PSScene\\good\\20230927_211936_77_24c3_3B_TOAR_model_format.tif\n",
      "Parent directory: C:\\development\\coastseg-planet\\downloads\\Alaska_TOAR_enabled\\42444c87-d914-4330-ba4b-3c948829db3f\\PSScene\\good\n",
      "Coregistered planet image saved to: C:\\development\\coastseg-planet\\downloads\\Alaska_TOAR_enabled\\42444c87-d914-4330-ba4b-3c948829db3f\\PSScene\\good\\20230927_211936_77_24c3_3B_TOAR_processed_coregistered_global.tif\n",
      "input_path: C:\\development\\coastseg-planet\\downloads\\Alaska_TOAR_enabled\\42444c87-d914-4330-ba4b-3c948829db3f\\PSScene\\good\\20230927_211939_09_24c3_3B_TOAR_model_format.tif\n",
      "Parent directory: C:\\development\\coastseg-planet\\downloads\\Alaska_TOAR_enabled\\42444c87-d914-4330-ba4b-3c948829db3f\\PSScene\\good\n",
      "Coregistered planet image saved to: C:\\development\\coastseg-planet\\downloads\\Alaska_TOAR_enabled\\42444c87-d914-4330-ba4b-3c948829db3f\\PSScene\\good\\20230927_211939_09_24c3_3B_TOAR_processed_coregistered_global.tif\n",
      "input_path: C:\\development\\coastseg-planet\\downloads\\Alaska_TOAR_enabled\\42444c87-d914-4330-ba4b-3c948829db3f\\PSScene\\good\\20230930_212106_60_2439_3B_TOAR_model_format.tif\n",
      "Parent directory: C:\\development\\coastseg-planet\\downloads\\Alaska_TOAR_enabled\\42444c87-d914-4330-ba4b-3c948829db3f\\PSScene\\good\n",
      "Coregistered planet image saved to: C:\\development\\coastseg-planet\\downloads\\Alaska_TOAR_enabled\\42444c87-d914-4330-ba4b-3c948829db3f\\PSScene\\good\\20230930_212106_60_2439_3B_TOAR_processed_coregistered_global.tif\n",
      "input_path: C:\\development\\coastseg-planet\\downloads\\Alaska_TOAR_enabled\\42444c87-d914-4330-ba4b-3c948829db3f\\PSScene\\good\\20230930_212108_67_2439_3B_TOAR_model_format.tif\n",
      "Parent directory: C:\\development\\coastseg-planet\\downloads\\Alaska_TOAR_enabled\\42444c87-d914-4330-ba4b-3c948829db3f\\PSScene\\good\n",
      "Coregistered planet image saved to: C:\\development\\coastseg-planet\\downloads\\Alaska_TOAR_enabled\\42444c87-d914-4330-ba4b-3c948829db3f\\PSScene\\good\\20230930_212108_67_2439_3B_TOAR_processed_coregistered_global.tif\n",
      "input_path: C:\\development\\coastseg-planet\\downloads\\Alaska_TOAR_enabled\\42444c87-d914-4330-ba4b-3c948829db3f\\PSScene\\good\\20230930_215330_30_247d_3B_TOAR_model_format.tif\n",
      "Parent directory: C:\\development\\coastseg-planet\\downloads\\Alaska_TOAR_enabled\\42444c87-d914-4330-ba4b-3c948829db3f\\PSScene\\good\n",
      "Coregistered planet image saved to: C:\\development\\coastseg-planet\\downloads\\Alaska_TOAR_enabled\\42444c87-d914-4330-ba4b-3c948829db3f\\PSScene\\good\\20230930_215330_30_247d_3B_TOAR_processed_coregistered_global.tif\n",
      "input_path: C:\\development\\coastseg-planet\\downloads\\Alaska_TOAR_enabled\\42444c87-d914-4330-ba4b-3c948829db3f\\PSScene\\good\\20231003_211449_43_2465_3B_TOAR_model_format.tif\n",
      "Parent directory: C:\\development\\coastseg-planet\\downloads\\Alaska_TOAR_enabled\\42444c87-d914-4330-ba4b-3c948829db3f\\PSScene\\good\n",
      "Coregistered planet image saved to: C:\\development\\coastseg-planet\\downloads\\Alaska_TOAR_enabled\\42444c87-d914-4330-ba4b-3c948829db3f\\PSScene\\good\\20231003_211449_43_2465_3B_TOAR_processed_coregistered_global.tif\n",
      "input_path: C:\\development\\coastseg-planet\\downloads\\Alaska_TOAR_enabled\\42444c87-d914-4330-ba4b-3c948829db3f\\PSScene\\good\\20231003_211451_50_2465_3B_TOAR_model_format.tif\n",
      "Parent directory: C:\\development\\coastseg-planet\\downloads\\Alaska_TOAR_enabled\\42444c87-d914-4330-ba4b-3c948829db3f\\PSScene\\good\n",
      "Coregistered planet image saved to: C:\\development\\coastseg-planet\\downloads\\Alaska_TOAR_enabled\\42444c87-d914-4330-ba4b-3c948829db3f\\PSScene\\good\\20231003_211451_50_2465_3B_TOAR_processed_coregistered_global.tif\n",
      "input_path: C:\\development\\coastseg-planet\\downloads\\Alaska_TOAR_enabled\\42444c87-d914-4330-ba4b-3c948829db3f\\PSScene\\good\\20231003_211648_61_2440_3B_TOAR_model_format.tif\n",
      "Parent directory: C:\\development\\coastseg-planet\\downloads\\Alaska_TOAR_enabled\\42444c87-d914-4330-ba4b-3c948829db3f\\PSScene\\good\n",
      "Coregistered planet image saved to: C:\\development\\coastseg-planet\\downloads\\Alaska_TOAR_enabled\\42444c87-d914-4330-ba4b-3c948829db3f\\PSScene\\good\\20231003_211648_61_2440_3B_TOAR_processed_coregistered_global.tif\n",
      "input_path: C:\\development\\coastseg-planet\\downloads\\Alaska_TOAR_enabled\\42444c87-d914-4330-ba4b-3c948829db3f\\PSScene\\good\\20231003_211928_14_24a9_3B_TOAR_model_format.tif\n",
      "Parent directory: C:\\development\\coastseg-planet\\downloads\\Alaska_TOAR_enabled\\42444c87-d914-4330-ba4b-3c948829db3f\\PSScene\\good\n",
      "Coregistered planet image saved to: C:\\development\\coastseg-planet\\downloads\\Alaska_TOAR_enabled\\42444c87-d914-4330-ba4b-3c948829db3f\\PSScene\\good\\20231003_211928_14_24a9_3B_TOAR_processed_coregistered_global.tif\n",
      "input_path: C:\\development\\coastseg-planet\\downloads\\Alaska_TOAR_enabled\\42444c87-d914-4330-ba4b-3c948829db3f\\PSScene\\good\\20231004_215523_27_2488_3B_TOAR_model_format.tif\n",
      "Parent directory: C:\\development\\coastseg-planet\\downloads\\Alaska_TOAR_enabled\\42444c87-d914-4330-ba4b-3c948829db3f\\PSScene\\good\n",
      "Coregistered planet image saved to: C:\\development\\coastseg-planet\\downloads\\Alaska_TOAR_enabled\\42444c87-d914-4330-ba4b-3c948829db3f\\PSScene\\good\\20231004_215523_27_2488_3B_TOAR_processed_coregistered_global.tif\n",
      "input_path: C:\\development\\coastseg-planet\\downloads\\Alaska_TOAR_enabled\\42444c87-d914-4330-ba4b-3c948829db3f\\PSScene\\good\\20231004_215525_38_2488_3B_TOAR_model_format.tif\n",
      "Parent directory: C:\\development\\coastseg-planet\\downloads\\Alaska_TOAR_enabled\\42444c87-d914-4330-ba4b-3c948829db3f\\PSScene\\good\n",
      "Coregistered planet image saved to: C:\\development\\coastseg-planet\\downloads\\Alaska_TOAR_enabled\\42444c87-d914-4330-ba4b-3c948829db3f\\PSScene\\good\\20231004_215525_38_2488_3B_TOAR_processed_coregistered_global.tif\n",
      "input_path: C:\\development\\coastseg-planet\\downloads\\Alaska_TOAR_enabled\\42444c87-d914-4330-ba4b-3c948829db3f\\PSScene\\good\\20231005_215411_33_2461_3B_TOAR_model_format.tif\n",
      "Parent directory: C:\\development\\coastseg-planet\\downloads\\Alaska_TOAR_enabled\\42444c87-d914-4330-ba4b-3c948829db3f\\PSScene\\good\n",
      "Coregistered planet image saved to: C:\\development\\coastseg-planet\\downloads\\Alaska_TOAR_enabled\\42444c87-d914-4330-ba4b-3c948829db3f\\PSScene\\good\\20231005_215411_33_2461_3B_TOAR_processed_coregistered_global.tif\n",
      "input_path: C:\\development\\coastseg-planet\\downloads\\Alaska_TOAR_enabled\\42444c87-d914-4330-ba4b-3c948829db3f\\PSScene\\good\\20231008_212143_84_24a9_3B_TOAR_model_format.tif\n",
      "Parent directory: C:\\development\\coastseg-planet\\downloads\\Alaska_TOAR_enabled\\42444c87-d914-4330-ba4b-3c948829db3f\\PSScene\\good\n",
      "Coregistered planet image saved to: C:\\development\\coastseg-planet\\downloads\\Alaska_TOAR_enabled\\42444c87-d914-4330-ba4b-3c948829db3f\\PSScene\\good\\20231008_212143_84_24a9_3B_TOAR_processed_coregistered_global.tif\n",
      "input_path: C:\\development\\coastseg-planet\\downloads\\Alaska_TOAR_enabled\\42444c87-d914-4330-ba4b-3c948829db3f\\PSScene\\good\\20231009_215916_19_2478_3B_TOAR_model_format.tif\n",
      "Parent directory: C:\\development\\coastseg-planet\\downloads\\Alaska_TOAR_enabled\\42444c87-d914-4330-ba4b-3c948829db3f\\PSScene\\good\n",
      "Coregistered planet image saved to: C:\\development\\coastseg-planet\\downloads\\Alaska_TOAR_enabled\\42444c87-d914-4330-ba4b-3c948829db3f\\PSScene\\good\\20231009_215916_19_2478_3B_TOAR_processed_coregistered_global.tif\n",
      "input_path: C:\\development\\coastseg-planet\\downloads\\Alaska_TOAR_enabled\\42444c87-d914-4330-ba4b-3c948829db3f\\PSScene\\good\\20231009_215918_25_2478_3B_TOAR_model_format.tif\n",
      "Parent directory: C:\\development\\coastseg-planet\\downloads\\Alaska_TOAR_enabled\\42444c87-d914-4330-ba4b-3c948829db3f\\PSScene\\good\n",
      "Coregistered planet image saved to: C:\\development\\coastseg-planet\\downloads\\Alaska_TOAR_enabled\\42444c87-d914-4330-ba4b-3c948829db3f\\PSScene\\good\\20231009_215918_25_2478_3B_TOAR_processed_coregistered_global.tif\n",
      "input_path: C:\\development\\coastseg-planet\\downloads\\Alaska_TOAR_enabled\\42444c87-d914-4330-ba4b-3c948829db3f\\PSScene\\good\\20231029_212230_99_2427_3B_TOAR_model_format.tif\n",
      "Parent directory: C:\\development\\coastseg-planet\\downloads\\Alaska_TOAR_enabled\\42444c87-d914-4330-ba4b-3c948829db3f\\PSScene\\good\n",
      "Coregistered planet image saved to: C:\\development\\coastseg-planet\\downloads\\Alaska_TOAR_enabled\\42444c87-d914-4330-ba4b-3c948829db3f\\PSScene\\good\\20231029_212230_99_2427_3B_TOAR_processed_coregistered_global.tif\n",
      "input_path: C:\\development\\coastseg-planet\\downloads\\Alaska_TOAR_enabled\\42444c87-d914-4330-ba4b-3c948829db3f\\PSScene\\good\\20231102_212052_38_24ce_3B_TOAR_model_format.tif\n",
      "Parent directory: C:\\development\\coastseg-planet\\downloads\\Alaska_TOAR_enabled\\42444c87-d914-4330-ba4b-3c948829db3f\\PSScene\\good\n",
      "Coregistered planet image saved to: C:\\development\\coastseg-planet\\downloads\\Alaska_TOAR_enabled\\42444c87-d914-4330-ba4b-3c948829db3f\\PSScene\\good\\20231102_212052_38_24ce_3B_TOAR_processed_coregistered_global.tif\n"
     ]
    }
   ],
   "source": [
    "coregister.coregister_directory(good_dir,landsat_processed_path,landsat_cloud_mask_path,output_suffix='_TOAR_processed_coregistered_global.tif',use_local=False,overwrite=False,**kwargs)"
   ]
  },
  {
   "cell_type": "markdown",
   "metadata": {},
   "source": [
    "# Apply the Model to the Planet Imagery"
   ]
  },
  {
   "cell_type": "markdown",
   "metadata": {},
   "source": [
    "## Create an Elevation Mask from the Topobathy Data\n",
    "- We will use this as our reference shoreline buffer\n",
    "- This code is a bit of a placeholder eventually we will use the code to download the topobathy for the region \n",
    "- For now manually provide the topobathy tiff"
   ]
  },
  {
   "cell_type": "code",
   "execution_count": 15,
   "metadata": {},
   "outputs": [
    {
     "name": "stdout",
     "output_type": "stream",
     "text": [
      "Reading the ROI from C:\\development\\doodleverse\\coastseg\\CoastSeg\\data\\ID_1_datetime06-07-24__02_01_53\\config_gdf.geojson\n",
      "File already exists: C:\\development\\coastseg-planet\\downloads\\Alaska_TOAR_enabled\\42444c87-d914-4330-ba4b-3c948829db3f\\PSScene\\Ak_site_topobathy.tif\n"
     ]
    }
   ],
   "source": [
    "from coastseg_planet.download import download_topobathy\n",
    "# get the roi used to download the planet data\n",
    "config_gdf_path = os.path.join(downloaded_directory,\"config_gdf.geojson\")\n",
    "print(f\"Reading the ROI from {config_gdf_path}\")\n",
    "roi_gdf = processing.read_roi_from_config(config_gdf_path)\n",
    "# print(roi_gdf)\n",
    "sitename = 'Ak_site'\n",
    "topobathy_tiff = download_topobathy(sitename,roi_gdf,planet_dir)"
   ]
  },
  {
   "cell_type": "code",
   "execution_count": 16,
   "metadata": {},
   "outputs": [
    {
     "data": {
      "application/vnd.jupyter.widget-view+json": {
       "model_id": "5ef6b4f2f36a40ff9fc6d63b27b20d96",
       "version_major": 2,
       "version_minor": 0
      },
      "text/plain": [
       "VBox(children=(Map(center=[63.87972183544263, -160.80393441480038], controls=(ZoomControl(options=['position',…"
      ]
     },
     "metadata": {},
     "output_type": "display_data"
    }
   ],
   "source": [
    "import rasterio\n",
    "from ipyleaflet import Map, ImageOverlay\n",
    "from ipywidgets import  VBox, FloatRangeSlider\n",
    "import numpy as np\n",
    "import PIL.Image\n",
    "from io import BytesIO\n",
    "import base64\n",
    "\n",
    "with rasterio.open(topobathy_tiff) as src:\n",
    "    mask_data = src.read(1)  # Read the first band\n",
    "    bounds = src.bounds\n",
    "    transform = src.transform\n",
    "\n",
    "# Function to create a base64 PNG image from mask data with transparency\n",
    "def create_masked_image(mask_data, alpha=128):\n",
    "    # Normalize the mask data to 0-255\n",
    "    mask_data = (mask_data / mask_data.max() * 255).astype(np.uint8)\n",
    "    # Create an RGBA image with the red channel filled and alpha channel set by the mask\n",
    "    rgba_image = np.zeros((mask_data.shape[0], mask_data.shape[1], 4), dtype=np.uint8)\n",
    "    rgba_image[..., 0] = mask_data  # Red channel\n",
    "    # Set alpha to the specified value for the masked regions, 0 for the unmasked regions\n",
    "    rgba_image[..., 3] = np.where(mask_data > 0, alpha, 0)  # Alpha channel (transparency)\n",
    "    img = PIL.Image.fromarray(rgba_image)\n",
    "    with BytesIO() as buffer:\n",
    "        img.save(buffer, format=\"png\")\n",
    "        return base64.b64encode(buffer.getvalue()).decode('utf-8')\n",
    "\n",
    "# Create the initial masked image overlay\n",
    "mask_data = np.flipud(mask_data)  # Flip the mask data vertically\n",
    "masked_image = create_masked_image(mask_data)\n",
    "image_overlay = ImageOverlay(\n",
    "    url=\"data:image/png;base64,\" + masked_image,\n",
    "    bounds=[[bounds.bottom, bounds.left], [bounds.top, bounds.right]]\n",
    ")\n",
    "\n",
    "# Create the map\n",
    "m = Map(center=[(bounds.top + bounds.bottom) / 2, (bounds.left + bounds.right) / 2], zoom=15)\n",
    "m.add_layer(image_overlay)\n",
    "\n",
    "# Function to update the mask (simulated here for demonstration purposes)\n",
    "def update_mask(change):\n",
    "    global image_overlay\n",
    "    if not isinstance(change, tuple):\n",
    "        mask = mask_data < change\n",
    "        masked_image = create_masked_image(mask)\n",
    "        image_overlay.url = \"data:image/png;base64,\" + masked_image\n",
    "    else:\n",
    "        lower, upper = change\n",
    "        mask = np.logical_and(mask_data > lower, mask_data < upper)\n",
    "        masked_image = create_masked_image(mask)\n",
    "        image_overlay.url = \"data:image/png;base64,\" + masked_image\n",
    "\n",
    "\n",
    "default_value = (-10, 10)\n",
    "# Create a bounded slider with two handles\n",
    "threshold_slider = FloatRangeSlider(\n",
    "    description='Elevation (m)',\n",
    "    value=[default_value[0], default_value[1]],\n",
    "    min=mask_data.min(),\n",
    "    max=mask_data.max(),\n",
    "    step=0.1,\n",
    ")\n",
    "\n",
    "# Link the slider to the update function\n",
    "threshold_slider.observe(lambda change: update_mask(change['new']), names='value')\n",
    "\n",
    "# Display the map and the slider\n",
    "display(VBox([m, threshold_slider]))\n",
    "\n",
    "# Initial display\n",
    "update_mask(default_value)"
   ]
  },
  {
   "cell_type": "code",
   "execution_count": 17,
   "metadata": {},
   "outputs": [
    {
     "name": "stdout",
     "output_type": "stream",
     "text": [
      "masked_tif_path: C:\\development\\coastseg-planet\\downloads\\Alaska_TOAR_enabled\\42444c87-d914-4330-ba4b-3c948829db3f\\PSScene\\Ak_site_topobathy_mask.tif\n",
      "output_path: C:\\development\\coastseg-planet\\downloads\\Alaska_TOAR_enabled\\42444c87-d914-4330-ba4b-3c948829db3f\\PSScene\\Ak_site_topobathy_mask_utm.tif\n"
     ]
    }
   ],
   "source": [
    "from coastseg_planet.processing import create_elevation_mask\n",
    "from coastseg_planet.processing import match_resolution_and_grid,reproject_to_utm\n",
    "\n",
    "# defaults if you don't want to use the slider for this example\n",
    "# -2.86,16.032718467712403\n",
    "low_threshold = threshold_slider.value[0]\n",
    "high_threshold = threshold_slider.value[1]\n",
    "\n",
    "masked_tif_path = create_elevation_mask(topobathy_tiff,topobathy_tiff.replace(\".tif\",\"_mask.tif\"),low_threshold,high_threshold)\n",
    "print(f\"masked_tif_path: {masked_tif_path}\")\n",
    "# convert the mask to the UTM projection (this is the same as the landsat image)\n",
    "masked_projected_topobathy_tiff = reproject_to_utm(masked_tif_path, masked_tif_path.replace('.tif', '_utm.tif'))\n",
    "print(f\"output_path: {masked_projected_topobathy_tiff }\")"
   ]
  },
  {
   "cell_type": "code",
   "execution_count": 18,
   "metadata": {},
   "outputs": [
    {
     "data": {
      "text/plain": [
       "{'0': array([[-160.79630563,   63.87952743],\n",
       "        [-160.80648451,   63.8785501 ]]),\n",
       " '1': array([[-160.79527692,   63.87740586],\n",
       "        [-160.80529336,   63.87647613]]),\n",
       " '2': array([[-160.79744264,   63.88167268],\n",
       "        [-160.80772979,   63.88100529]]),\n",
       " '3': array([[-160.79407314,   63.87556876],\n",
       "        [-160.80446881,   63.87453384]]),\n",
       " '4': array([[-160.79748654,   63.88541099],\n",
       "        [-160.80905736,   63.88461518]]),\n",
       " '5': array([[-160.79956567,   63.88899185],\n",
       "        [-160.81050371,   63.88835529]]),\n",
       " '6': array([[-160.79181954,   63.87375116],\n",
       "        [-160.80257679,   63.87251713]]),\n",
       " '7': array([[-160.78974041,   63.8728754 ],\n",
       "        [-160.79435066,   63.86869529]]),\n",
       " '8': array([[-160.78739008,   63.86813789],\n",
       "        [-160.79263311,   63.86793882]])}"
      ]
     },
     "execution_count": 18,
     "metadata": {},
     "output_type": "execute_result"
    }
   ],
   "source": [
    "import geopandas as gpd\n",
    "from coastseg_planet import transects\n",
    "transects_path =r\"C:\\development\\coastseg-planet\\downloads\\Alaska_TOAR_enabled\\42444c87-d914-4330-ba4b-3c948829db3f\\PSScene\\transects.geojson\"\n",
    "transects_gdf = gpd.read_file(transects_path)\n",
    "# assign an id column to each transect\n",
    "transects_gdf['id'] = transects_gdf.index\n",
    "transects.get_transect_points_dict(transects_gdf)"
   ]
  },
  {
   "cell_type": "code",
   "execution_count": null,
   "metadata": {},
   "outputs": [],
   "source": []
  },
  {
   "cell_type": "code",
   "execution_count": 19,
   "metadata": {},
   "outputs": [
    {
     "name": "stdout",
     "output_type": "stream",
     "text": [
      "32604\n",
      "_3B_TOAR_processed_coregistered_global.tif\n",
      "Processing 20230927_211936_77_24c3\n",
      "date 2023-09-27-21-19-36\n",
      "Processing C:\\development\\coastseg-planet\\downloads\\Alaska_TOAR_enabled\\42444c87-d914-4330-ba4b-3c948829db3f\\PSScene\\good\\20230927_211936_77_24c3_3B_TOAR_processed_coregistered_global.tif\n",
      "Using cloud mask: C:\\development\\coastseg-planet\\downloads\\Alaska_TOAR_enabled\\42444c87-d914-4330-ba4b-3c948829db3f\\PSScene\\good\\20230927_211936_77_24c3_3B_udm2_clip.tif\n"
     ]
    },
    {
     "name": "stderr",
     "output_type": "stream",
     "text": [
      "Some layers from the model checkpoint at nvidia/mit-b0 were not used when initializing TFSegformerForSemanticSegmentation: ['classifier']\n",
      "- This IS expected if you are initializing TFSegformerForSemanticSegmentation from the checkpoint of a model trained on another task or with another architecture (e.g. initializing a BertForSequenceClassification model from a BertForPreTraining model).\n",
      "- This IS NOT expected if you are initializing TFSegformerForSemanticSegmentation from the checkpoint of a model that you expect to be exactly identical (initializing a BertForSequenceClassification model from a BertForSequenceClassification model).\n",
      "Some layers of TFSegformerForSemanticSegmentation were not initialized from the model checkpoint at nvidia/mit-b0 and are newly initialized: ['decode_head']\n",
      "You should probably TRAIN this model on a down-stream task to be able to use it for predictions and inference.\n"
     ]
    },
    {
     "name": "stdout",
     "output_type": "stream",
     "text": [
      "WARNING:tensorflow:From c:\\Users\\sf230\\anaconda3\\envs\\coastseg_planet\\Lib\\site-packages\\keras\\src\\optimizers\\__init__.py:309: The name tf.train.Optimizer is deprecated. Please use tf.compat.v1.train.Optimizer instead.\n",
      "\n",
      "Processing image:  C:\\development\\coastseg-planet\\downloads\\Alaska_TOAR_enabled\\42444c87-d914-4330-ba4b-3c948829db3f\\PSScene\\good\\20230927_211936_77_24c3_3B_TOAR_processed_coregistered_global.tif\n",
      "Output file:  C:\\development\\coastseg-planet\\downloads\\Alaska_TOAR_enabled\\42444c87-d914-4330-ba4b-3c948829db3f\\PSScene\\good\\20230927_211936_77_24c3_3B_TOAR_processed_coregistered_global_predseg.png\n",
      "Output file:  C:\\development\\coastseg-planet\\downloads\\Alaska_TOAR_enabled\\42444c87-d914-4330-ba4b-3c948829db3f\\PSScene\\good\\out\\20230927_211936_77_24c3_3B_TOAR_processed_coregistered_global_predseg.png\n",
      "NC: 4, NDB: 3, TS: [512, 512], TTA: False, OT: False\n",
      "N_DATA_BANDS: 3\n",
      "WARNING:tensorflow:5 out of the last 5 calls to <function Conv._jit_compiled_convolution_op at 0x00000290A6D6EC00> triggered tf.function retracing. Tracing is expensive and the excessive number of tracings could be due to (1) creating @tf.function repeatedly in a loop, (2) passing tensors with different shapes, (3) passing Python objects instead of tensors. For (1), please define your @tf.function outside of the loop. For (2), @tf.function has reduce_retracing=True option that can avoid unnecessary retracing. For (3), please refer to https://www.tensorflow.org/guide/function#controlling_retracing and https://www.tensorflow.org/api_docs/python/tf/function for  more details.\n",
      "WARNING:tensorflow:6 out of the last 6 calls to <function Conv._jit_compiled_convolution_op at 0x00000290A495D260> triggered tf.function retracing. Tracing is expensive and the excessive number of tracings could be due to (1) creating @tf.function repeatedly in a loop, (2) passing tensors with different shapes, (3) passing Python objects instead of tensors. For (1), please define your @tf.function outside of the loop. For (2), @tf.function has reduce_retracing=True option that can avoid unnecessary retracing. For (3), please refer to https://www.tensorflow.org/guide/function#controlling_retracing and https://www.tensorflow.org/api_docs/python/tf/function for  more details.\n",
      "saving segmentation results to C:\\development\\coastseg-planet\\downloads\\Alaska_TOAR_enabled\\42444c87-d914-4330-ba4b-3c948829db3f\\PSScene\\good\\out\\20230927_211936_77_24c3_3B_TOAR_processed_coregistered_global_predseg.png\n",
      "writing metadata to C:\\development\\coastseg-planet\\downloads\\Alaska_TOAR_enabled\\42444c87-d914-4330-ba4b-3c948829db3f\\PSScene\\good\\out\\20230927_211936_77_24c3_3B_TOAR_processed_coregistered_global_res.npz\n",
      "32604\n",
      "class_mapping: {'0': 'water', '1': 'whitewater', '2': 'sediment', '3': 'other'}\n",
      "all_class_color_mapping: {0: (0.0, 0.0, 0.5, 1.0), 1: (0.0, 0.8333333333333334, 1.0, 1.0), 2: (1.0, 0.9012345679012345, 0.0, 1.0), 3: (0.5, 0.0, 0.0, 1.0)}\n",
      "Saving figure to c:\\development\\coastseg-planet\\CoastSeg-Planet\\2_notebooks\\2_prototypes\\2023-09-27-21-19-36_planet.jpg\n",
      "Processing 20230927_211939_09_24c3\n",
      "date 2023-09-27-21-19-39\n",
      "Processing C:\\development\\coastseg-planet\\downloads\\Alaska_TOAR_enabled\\42444c87-d914-4330-ba4b-3c948829db3f\\PSScene\\good\\20230927_211939_09_24c3_3B_TOAR_processed_coregistered_global.tif\n",
      "Using cloud mask: C:\\development\\coastseg-planet\\downloads\\Alaska_TOAR_enabled\\42444c87-d914-4330-ba4b-3c948829db3f\\PSScene\\good\\20230927_211939_09_24c3_3B_udm2_clip.tif\n"
     ]
    },
    {
     "name": "stderr",
     "output_type": "stream",
     "text": [
      "Some layers from the model checkpoint at nvidia/mit-b0 were not used when initializing TFSegformerForSemanticSegmentation: ['classifier']\n",
      "- This IS expected if you are initializing TFSegformerForSemanticSegmentation from the checkpoint of a model trained on another task or with another architecture (e.g. initializing a BertForSequenceClassification model from a BertForPreTraining model).\n",
      "- This IS NOT expected if you are initializing TFSegformerForSemanticSegmentation from the checkpoint of a model that you expect to be exactly identical (initializing a BertForSequenceClassification model from a BertForSequenceClassification model).\n",
      "Some layers of TFSegformerForSemanticSegmentation were not initialized from the model checkpoint at nvidia/mit-b0 and are newly initialized: ['decode_head']\n",
      "You should probably TRAIN this model on a down-stream task to be able to use it for predictions and inference.\n"
     ]
    },
    {
     "name": "stdout",
     "output_type": "stream",
     "text": [
      "Processing image:  C:\\development\\coastseg-planet\\downloads\\Alaska_TOAR_enabled\\42444c87-d914-4330-ba4b-3c948829db3f\\PSScene\\good\\20230927_211939_09_24c3_3B_TOAR_processed_coregistered_global.tif\n",
      "Output file:  C:\\development\\coastseg-planet\\downloads\\Alaska_TOAR_enabled\\42444c87-d914-4330-ba4b-3c948829db3f\\PSScene\\good\\20230927_211939_09_24c3_3B_TOAR_processed_coregistered_global_predseg.png\n",
      "Output file:  C:\\development\\coastseg-planet\\downloads\\Alaska_TOAR_enabled\\42444c87-d914-4330-ba4b-3c948829db3f\\PSScene\\good\\out\\20230927_211939_09_24c3_3B_TOAR_processed_coregistered_global_predseg.png\n",
      "NC: 4, NDB: 3, TS: [512, 512], TTA: False, OT: False\n",
      "N_DATA_BANDS: 3\n",
      "saving segmentation results to C:\\development\\coastseg-planet\\downloads\\Alaska_TOAR_enabled\\42444c87-d914-4330-ba4b-3c948829db3f\\PSScene\\good\\out\\20230927_211939_09_24c3_3B_TOAR_processed_coregistered_global_predseg.png\n",
      "writing metadata to C:\\development\\coastseg-planet\\downloads\\Alaska_TOAR_enabled\\42444c87-d914-4330-ba4b-3c948829db3f\\PSScene\\good\\out\\20230927_211939_09_24c3_3B_TOAR_processed_coregistered_global_res.npz\n",
      "32604\n",
      "class_mapping: {'0': 'water', '1': 'whitewater', '2': 'sediment', '3': 'other'}\n",
      "all_class_color_mapping: {0: (0.0, 0.0, 0.5, 1.0), 1: (0.4838709677419355, 1.0, 0.4838709677419356, 1.0), 3: (0.5, 0.0, 0.0, 1.0)}\n",
      "Saving figure to c:\\development\\coastseg-planet\\CoastSeg-Planet\\2_notebooks\\2_prototypes\\2023-09-27-21-19-39_planet.jpg\n",
      "Processing 20230930_212106_60_2439\n",
      "date 2023-09-30-21-21-06\n",
      "Processing C:\\development\\coastseg-planet\\downloads\\Alaska_TOAR_enabled\\42444c87-d914-4330-ba4b-3c948829db3f\\PSScene\\good\\20230930_212106_60_2439_3B_TOAR_processed_coregistered_global.tif\n",
      "Using cloud mask: C:\\development\\coastseg-planet\\downloads\\Alaska_TOAR_enabled\\42444c87-d914-4330-ba4b-3c948829db3f\\PSScene\\good\\20230930_212106_60_2439_3B_udm2_clip.tif\n"
     ]
    },
    {
     "name": "stderr",
     "output_type": "stream",
     "text": [
      "Some layers from the model checkpoint at nvidia/mit-b0 were not used when initializing TFSegformerForSemanticSegmentation: ['classifier']\n",
      "- This IS expected if you are initializing TFSegformerForSemanticSegmentation from the checkpoint of a model trained on another task or with another architecture (e.g. initializing a BertForSequenceClassification model from a BertForPreTraining model).\n",
      "- This IS NOT expected if you are initializing TFSegformerForSemanticSegmentation from the checkpoint of a model that you expect to be exactly identical (initializing a BertForSequenceClassification model from a BertForSequenceClassification model).\n",
      "Some layers of TFSegformerForSemanticSegmentation were not initialized from the model checkpoint at nvidia/mit-b0 and are newly initialized: ['decode_head']\n",
      "You should probably TRAIN this model on a down-stream task to be able to use it for predictions and inference.\n"
     ]
    },
    {
     "name": "stdout",
     "output_type": "stream",
     "text": [
      "Processing image:  C:\\development\\coastseg-planet\\downloads\\Alaska_TOAR_enabled\\42444c87-d914-4330-ba4b-3c948829db3f\\PSScene\\good\\20230930_212106_60_2439_3B_TOAR_processed_coregistered_global.tif\n",
      "Output file:  C:\\development\\coastseg-planet\\downloads\\Alaska_TOAR_enabled\\42444c87-d914-4330-ba4b-3c948829db3f\\PSScene\\good\\20230930_212106_60_2439_3B_TOAR_processed_coregistered_global_predseg.png\n",
      "Output file:  C:\\development\\coastseg-planet\\downloads\\Alaska_TOAR_enabled\\42444c87-d914-4330-ba4b-3c948829db3f\\PSScene\\good\\out\\20230930_212106_60_2439_3B_TOAR_processed_coregistered_global_predseg.png\n",
      "NC: 4, NDB: 3, TS: [512, 512], TTA: False, OT: False\n",
      "N_DATA_BANDS: 3\n",
      "saving segmentation results to C:\\development\\coastseg-planet\\downloads\\Alaska_TOAR_enabled\\42444c87-d914-4330-ba4b-3c948829db3f\\PSScene\\good\\out\\20230930_212106_60_2439_3B_TOAR_processed_coregistered_global_predseg.png\n",
      "writing metadata to C:\\development\\coastseg-planet\\downloads\\Alaska_TOAR_enabled\\42444c87-d914-4330-ba4b-3c948829db3f\\PSScene\\good\\out\\20230930_212106_60_2439_3B_TOAR_processed_coregistered_global_res.npz\n",
      "32604\n",
      "class_mapping: {'0': 'water', '1': 'whitewater', '2': 'sediment', '3': 'other'}\n",
      "all_class_color_mapping: {0: (0.0, 0.0, 0.5, 1.0), 1: (0.0, 0.8333333333333334, 1.0, 1.0), 2: (1.0, 0.9012345679012345, 0.0, 1.0), 3: (0.5, 0.0, 0.0, 1.0)}\n",
      "Saving figure to c:\\development\\coastseg-planet\\CoastSeg-Planet\\2_notebooks\\2_prototypes\\2023-09-30-21-21-06_planet.jpg\n",
      "Processing 20230930_212108_67_2439\n",
      "date 2023-09-30-21-21-08\n",
      "Processing C:\\development\\coastseg-planet\\downloads\\Alaska_TOAR_enabled\\42444c87-d914-4330-ba4b-3c948829db3f\\PSScene\\good\\20230930_212108_67_2439_3B_TOAR_processed_coregistered_global.tif\n",
      "Using cloud mask: C:\\development\\coastseg-planet\\downloads\\Alaska_TOAR_enabled\\42444c87-d914-4330-ba4b-3c948829db3f\\PSScene\\good\\20230930_212108_67_2439_3B_udm2_clip.tif\n"
     ]
    },
    {
     "name": "stderr",
     "output_type": "stream",
     "text": [
      "Some layers from the model checkpoint at nvidia/mit-b0 were not used when initializing TFSegformerForSemanticSegmentation: ['classifier']\n",
      "- This IS expected if you are initializing TFSegformerForSemanticSegmentation from the checkpoint of a model trained on another task or with another architecture (e.g. initializing a BertForSequenceClassification model from a BertForPreTraining model).\n",
      "- This IS NOT expected if you are initializing TFSegformerForSemanticSegmentation from the checkpoint of a model that you expect to be exactly identical (initializing a BertForSequenceClassification model from a BertForSequenceClassification model).\n",
      "Some layers of TFSegformerForSemanticSegmentation were not initialized from the model checkpoint at nvidia/mit-b0 and are newly initialized: ['decode_head']\n",
      "You should probably TRAIN this model on a down-stream task to be able to use it for predictions and inference.\n"
     ]
    },
    {
     "name": "stdout",
     "output_type": "stream",
     "text": [
      "Processing image:  C:\\development\\coastseg-planet\\downloads\\Alaska_TOAR_enabled\\42444c87-d914-4330-ba4b-3c948829db3f\\PSScene\\good\\20230930_212108_67_2439_3B_TOAR_processed_coregistered_global.tif\n",
      "Output file:  C:\\development\\coastseg-planet\\downloads\\Alaska_TOAR_enabled\\42444c87-d914-4330-ba4b-3c948829db3f\\PSScene\\good\\20230930_212108_67_2439_3B_TOAR_processed_coregistered_global_predseg.png\n",
      "Output file:  C:\\development\\coastseg-planet\\downloads\\Alaska_TOAR_enabled\\42444c87-d914-4330-ba4b-3c948829db3f\\PSScene\\good\\out\\20230930_212108_67_2439_3B_TOAR_processed_coregistered_global_predseg.png\n",
      "NC: 4, NDB: 3, TS: [512, 512], TTA: False, OT: False\n",
      "N_DATA_BANDS: 3\n",
      "saving segmentation results to C:\\development\\coastseg-planet\\downloads\\Alaska_TOAR_enabled\\42444c87-d914-4330-ba4b-3c948829db3f\\PSScene\\good\\out\\20230930_212108_67_2439_3B_TOAR_processed_coregistered_global_predseg.png\n",
      "writing metadata to C:\\development\\coastseg-planet\\downloads\\Alaska_TOAR_enabled\\42444c87-d914-4330-ba4b-3c948829db3f\\PSScene\\good\\out\\20230930_212108_67_2439_3B_TOAR_processed_coregistered_global_res.npz\n",
      "32604\n",
      "class_mapping: {'0': 'water', '1': 'whitewater', '2': 'sediment', '3': 'other'}\n",
      "all_class_color_mapping: {0: (0.0, 0.0, 0.5, 1.0), 1: (0.0, 0.8333333333333334, 1.0, 1.0), 2: (1.0, 0.9012345679012345, 0.0, 1.0), 3: (0.5, 0.0, 0.0, 1.0)}\n",
      "Saving figure to c:\\development\\coastseg-planet\\CoastSeg-Planet\\2_notebooks\\2_prototypes\\2023-09-30-21-21-08_planet.jpg\n",
      "Processing 20230930_215330_30_247d\n",
      "date 2023-09-30-21-53-30\n",
      "Processing C:\\development\\coastseg-planet\\downloads\\Alaska_TOAR_enabled\\42444c87-d914-4330-ba4b-3c948829db3f\\PSScene\\good\\20230930_215330_30_247d_3B_TOAR_processed_coregistered_global.tif\n",
      "Using cloud mask: C:\\development\\coastseg-planet\\downloads\\Alaska_TOAR_enabled\\42444c87-d914-4330-ba4b-3c948829db3f\\PSScene\\good\\20230930_215330_30_247d_3B_udm2_clip.tif\n"
     ]
    },
    {
     "name": "stderr",
     "output_type": "stream",
     "text": [
      "Some layers from the model checkpoint at nvidia/mit-b0 were not used when initializing TFSegformerForSemanticSegmentation: ['classifier']\n",
      "- This IS expected if you are initializing TFSegformerForSemanticSegmentation from the checkpoint of a model trained on another task or with another architecture (e.g. initializing a BertForSequenceClassification model from a BertForPreTraining model).\n",
      "- This IS NOT expected if you are initializing TFSegformerForSemanticSegmentation from the checkpoint of a model that you expect to be exactly identical (initializing a BertForSequenceClassification model from a BertForSequenceClassification model).\n",
      "Some layers of TFSegformerForSemanticSegmentation were not initialized from the model checkpoint at nvidia/mit-b0 and are newly initialized: ['decode_head']\n",
      "You should probably TRAIN this model on a down-stream task to be able to use it for predictions and inference.\n"
     ]
    },
    {
     "name": "stdout",
     "output_type": "stream",
     "text": [
      "Processing image:  C:\\development\\coastseg-planet\\downloads\\Alaska_TOAR_enabled\\42444c87-d914-4330-ba4b-3c948829db3f\\PSScene\\good\\20230930_215330_30_247d_3B_TOAR_processed_coregistered_global.tif\n",
      "Output file:  C:\\development\\coastseg-planet\\downloads\\Alaska_TOAR_enabled\\42444c87-d914-4330-ba4b-3c948829db3f\\PSScene\\good\\20230930_215330_30_247d_3B_TOAR_processed_coregistered_global_predseg.png\n",
      "Output file:  C:\\development\\coastseg-planet\\downloads\\Alaska_TOAR_enabled\\42444c87-d914-4330-ba4b-3c948829db3f\\PSScene\\good\\out\\20230930_215330_30_247d_3B_TOAR_processed_coregistered_global_predseg.png\n",
      "NC: 4, NDB: 3, TS: [512, 512], TTA: False, OT: False\n",
      "N_DATA_BANDS: 3\n",
      "saving segmentation results to C:\\development\\coastseg-planet\\downloads\\Alaska_TOAR_enabled\\42444c87-d914-4330-ba4b-3c948829db3f\\PSScene\\good\\out\\20230930_215330_30_247d_3B_TOAR_processed_coregistered_global_predseg.png\n",
      "writing metadata to C:\\development\\coastseg-planet\\downloads\\Alaska_TOAR_enabled\\42444c87-d914-4330-ba4b-3c948829db3f\\PSScene\\good\\out\\20230930_215330_30_247d_3B_TOAR_processed_coregistered_global_res.npz\n",
      "32604\n",
      "class_mapping: {'0': 'water', '1': 'whitewater', '2': 'sediment', '3': 'other'}\n",
      "all_class_color_mapping: {0: (0.0, 0.0, 0.5, 1.0), 1: (0.0, 0.8333333333333334, 1.0, 1.0), 2: (1.0, 0.9012345679012345, 0.0, 1.0), 3: (0.5, 0.0, 0.0, 1.0)}\n",
      "Saving figure to c:\\development\\coastseg-planet\\CoastSeg-Planet\\2_notebooks\\2_prototypes\\2023-09-30-21-53-30_planet.jpg\n"
     ]
    },
    {
     "ename": "KeyboardInterrupt",
     "evalue": "",
     "output_type": "error",
     "traceback": [
      "\u001b[1;31m---------------------------------------------------------------------------\u001b[0m",
      "\u001b[1;31mKeyboardInterrupt\u001b[0m                         Traceback (most recent call last)",
      "Cell \u001b[1;32mIn[19], line 76\u001b[0m\n\u001b[0;32m     74\u001b[0m     save_path \u001b[38;5;241m=\u001b[39m os\u001b[38;5;241m.\u001b[39mpath\u001b[38;5;241m.\u001b[39mjoin(good_dir, \u001b[38;5;124m'\u001b[39m\u001b[38;5;124mout\u001b[39m\u001b[38;5;124m'\u001b[39m)\n\u001b[0;32m     75\u001b[0m     \u001b[38;5;66;03m# this shoreline is in the UTM projection\u001b[39;00m\n\u001b[1;32m---> 76\u001b[0m     shoreline_gdf \u001b[38;5;241m=\u001b[39m \u001b[43mget_shorelines_from_model\u001b[49m\u001b[43m(\u001b[49m\u001b[43mcloud_mask_path\u001b[49m\u001b[43m,\u001b[49m\u001b[43mtarget_path\u001b[49m\u001b[43m,\u001b[49m\u001b[43mmodel_card_path\u001b[49m\u001b[43m,\u001b[49m\u001b[43mnpz_path\u001b[49m\u001b[43m,\u001b[49m\u001b[43mdate\u001b[49m\u001b[43m,\u001b[49m\u001b[43msatname\u001b[49m\u001b[38;5;241;43m=\u001b[39;49m\u001b[43m \u001b[49m\u001b[38;5;124;43m'\u001b[39;49m\u001b[38;5;124;43mplanet\u001b[39;49m\u001b[38;5;124;43m'\u001b[39;49m\u001b[43m,\u001b[49m\u001b[43m \u001b[49m\u001b[43msettings\u001b[49m\u001b[43m \u001b[49m\u001b[38;5;241;43m=\u001b[39;49m\u001b[43m \u001b[49m\u001b[43msettings\u001b[49m\u001b[43m,\u001b[49m\u001b[43mtopobathy_path\u001b[49m\u001b[43m \u001b[49m\u001b[38;5;241;43m=\u001b[39;49m\u001b[43m \u001b[49m\u001b[43mmasked_projected_resolution_topobathy_tiff\u001b[49m\u001b[43m,\u001b[49m\n\u001b[0;32m     77\u001b[0m \u001b[43m                                          \u001b[49m\u001b[43msave_path\u001b[49m\u001b[38;5;241;43m=\u001b[39;49m\u001b[43msave_path\u001b[49m\u001b[43m)\u001b[49m\n\u001b[0;32m     78\u001b[0m     all_extracted_shorelines\u001b[38;5;241m.\u001b[39mappend(shoreline_gdf)\n\u001b[0;32m     80\u001b[0m shorelines_gdf \u001b[38;5;241m=\u001b[39m shoreline_extraction\u001b[38;5;241m.\u001b[39mconcat_and_sort_geodataframes(all_extracted_shorelines, \u001b[38;5;124m\"\u001b[39m\u001b[38;5;124mdate\u001b[39m\u001b[38;5;124m\"\u001b[39m)\n",
      "File \u001b[1;32mC:\\development\\coastseg-planet\\CoastSeg-Planet\\src\\coastseg_planet\\shoreline_extraction.py:190\u001b[0m, in \u001b[0;36mget_shorelines_from_model\u001b[1;34m(planet_cloud_mask_path, planet_path, model_card_path, npz_file, date, satname, settings, topobathy_path, save_path)\u001b[0m\n\u001b[0;32m    187\u001b[0m     single_shoreline\u001b[38;5;241m.\u001b[39mappend(np\u001b[38;5;241m.\u001b[39marray(geom\u001b[38;5;241m.\u001b[39mcoords))\n\u001b[0;32m    188\u001b[0m shoreline \u001b[38;5;241m=\u001b[39m extract_contours(single_shoreline)\n\u001b[1;32m--> 190\u001b[0m \u001b[43mshoreline_detection_figures\u001b[49m\u001b[43m(\u001b[49m\n\u001b[0;32m    191\u001b[0m \u001b[43m    \u001b[49m\u001b[43mplanet_RGB\u001b[49m\u001b[43m,\u001b[49m\n\u001b[0;32m    192\u001b[0m \u001b[43m    \u001b[49m\u001b[43mcloud_and_shadow_mask\u001b[49m\u001b[43m,\u001b[49m\n\u001b[0;32m    193\u001b[0m \u001b[43m    \u001b[49m\u001b[43mland_mask\u001b[49m\u001b[43m,\u001b[49m\n\u001b[0;32m    194\u001b[0m \u001b[43m    \u001b[49m\u001b[43mall_labels\u001b[49m\u001b[43m,\u001b[49m\n\u001b[0;32m    195\u001b[0m \u001b[43m    \u001b[49m\u001b[43mshoreline\u001b[49m\u001b[43m,\u001b[49m\n\u001b[0;32m    196\u001b[0m \u001b[43m    \u001b[49m\u001b[43mimage_epsg\u001b[49m\u001b[43m,\u001b[49m\n\u001b[0;32m    197\u001b[0m \u001b[43m    \u001b[49m\u001b[43mgeoref\u001b[49m\u001b[43m,\u001b[49m\n\u001b[0;32m    198\u001b[0m \u001b[43m    \u001b[49m\u001b[43mdate\u001b[49m\u001b[43m,\u001b[49m\n\u001b[0;32m    199\u001b[0m \u001b[43m    \u001b[49m\u001b[38;5;124;43m\"\u001b[39;49m\u001b[38;5;124;43mplanet\u001b[39;49m\u001b[38;5;124;43m\"\u001b[39;49m\u001b[43m,\u001b[49m\n\u001b[0;32m    200\u001b[0m \u001b[43m    \u001b[49m\u001b[43mclass_mapping\u001b[49m\u001b[43m,\u001b[49m\n\u001b[0;32m    201\u001b[0m \u001b[43m    \u001b[49m\u001b[43msettings\u001b[49m\u001b[43m[\u001b[49m\u001b[38;5;124;43m\"\u001b[39;49m\u001b[38;5;124;43moutput_epsg\u001b[39;49m\u001b[38;5;124;43m\"\u001b[39;49m\u001b[43m]\u001b[49m\u001b[43m,\u001b[49m\n\u001b[0;32m    202\u001b[0m \u001b[43m    \u001b[49m\u001b[43msave_path\u001b[49m\u001b[38;5;241;43m=\u001b[39;49m\u001b[43mos\u001b[49m\u001b[38;5;241;43m.\u001b[39;49m\u001b[43mgetcwd\u001b[49m\u001b[43m(\u001b[49m\u001b[43m)\u001b[49m\u001b[43m,\u001b[49m\n\u001b[0;32m    203\u001b[0m \u001b[43m    \u001b[49m\u001b[43mreference_shoreline_buffer\u001b[49m\u001b[38;5;241;43m=\u001b[39;49m\u001b[43mmask_data\u001b[49m\u001b[43m,\u001b[49m\n\u001b[0;32m    204\u001b[0m \u001b[43m\u001b[49m\u001b[43m)\u001b[49m\n\u001b[0;32m    205\u001b[0m \u001b[38;5;28;01mreturn\u001b[39;00m filtered_shoreline_gdf\n",
      "File \u001b[1;32mC:\\development\\coastseg-planet\\CoastSeg-Planet\\src\\coastseg_planet\\shoreline_extraction.py:527\u001b[0m, in \u001b[0;36mshoreline_detection_figures\u001b[1;34m(im_ms, cloud_mask, merged_labels, all_labels, shoreline, image_epsg, georef, date, satname, class_mapping, output_epsg, save_path, reference_shoreline_buffer)\u001b[0m\n\u001b[0;32m    525\u001b[0m \u001b[38;5;28;01mif\u001b[39;00m os\u001b[38;5;241m.\u001b[39mpath\u001b[38;5;241m.\u001b[39mexists(save_path) \u001b[38;5;241m==\u001b[39m \u001b[38;5;28;01mFalse\u001b[39;00m:\n\u001b[0;32m    526\u001b[0m     os\u001b[38;5;241m.\u001b[39mmakedirs(save_path)\n\u001b[1;32m--> 527\u001b[0m \u001b[43msave_detection_figure\u001b[49m\u001b[43m(\u001b[49m\u001b[43mfig\u001b[49m\u001b[43m,\u001b[49m\u001b[43m \u001b[49m\u001b[43msave_path\u001b[49m\u001b[43m,\u001b[49m\u001b[43m \u001b[49m\u001b[43mdate\u001b[49m\u001b[43m,\u001b[49m\u001b[43m \u001b[49m\u001b[43msatname\u001b[49m\u001b[43m)\u001b[49m\n\u001b[0;32m    528\u001b[0m plt\u001b[38;5;241m.\u001b[39mclose(fig)\n",
      "File \u001b[1;32mC:\\development\\coastseg-planet\\CoastSeg-Planet\\src\\coastseg_planet\\plotting.py:146\u001b[0m, in \u001b[0;36msave_detection_figure\u001b[1;34m(fig, filepath, date, satname)\u001b[0m\n\u001b[0;32m    133\u001b[0m \u001b[38;5;250m\u001b[39m\u001b[38;5;124;03m\"\"\"\u001b[39;00m\n\u001b[0;32m    134\u001b[0m \u001b[38;5;124;03mSave the given figure as a jpg file with a specified dpi.\u001b[39;00m\n\u001b[0;32m    135\u001b[0m \n\u001b[1;32m   (...)\u001b[0m\n\u001b[0;32m    143\u001b[0m \u001b[38;5;124;03mNone\u001b[39;00m\n\u001b[0;32m    144\u001b[0m \u001b[38;5;124;03m\"\"\"\u001b[39;00m\n\u001b[0;32m    145\u001b[0m \u001b[38;5;28mprint\u001b[39m(\u001b[38;5;124mf\u001b[39m\u001b[38;5;124m\"\u001b[39m\u001b[38;5;124mSaving figure to \u001b[39m\u001b[38;5;132;01m{\u001b[39;00mos\u001b[38;5;241m.\u001b[39mpath\u001b[38;5;241m.\u001b[39mjoin(filepath,\u001b[38;5;250m \u001b[39mdate\u001b[38;5;250m \u001b[39m\u001b[38;5;241m+\u001b[39m\u001b[38;5;250m \u001b[39m\u001b[38;5;124m'\u001b[39m\u001b[38;5;124m_\u001b[39m\u001b[38;5;124m'\u001b[39m\u001b[38;5;250m \u001b[39m\u001b[38;5;241m+\u001b[39m\u001b[38;5;250m \u001b[39msatname\u001b[38;5;250m \u001b[39m\u001b[38;5;241m+\u001b[39m\u001b[38;5;250m \u001b[39m\u001b[38;5;124m'\u001b[39m\u001b[38;5;124m.jpg\u001b[39m\u001b[38;5;124m'\u001b[39m)\u001b[38;5;132;01m}\u001b[39;00m\u001b[38;5;124m\"\u001b[39m)\n\u001b[1;32m--> 146\u001b[0m \u001b[43mfig\u001b[49m\u001b[38;5;241;43m.\u001b[39;49m\u001b[43msavefig\u001b[49m\u001b[43m(\u001b[49m\n\u001b[0;32m    147\u001b[0m \u001b[43m    \u001b[49m\u001b[43mos\u001b[49m\u001b[38;5;241;43m.\u001b[39;49m\u001b[43mpath\u001b[49m\u001b[38;5;241;43m.\u001b[39;49m\u001b[43mjoin\u001b[49m\u001b[43m(\u001b[49m\u001b[43mfilepath\u001b[49m\u001b[43m,\u001b[49m\u001b[43m \u001b[49m\u001b[43mdate\u001b[49m\u001b[43m \u001b[49m\u001b[38;5;241;43m+\u001b[39;49m\u001b[43m \u001b[49m\u001b[38;5;124;43m\"\u001b[39;49m\u001b[38;5;124;43m_\u001b[39;49m\u001b[38;5;124;43m\"\u001b[39;49m\u001b[43m \u001b[49m\u001b[38;5;241;43m+\u001b[39;49m\u001b[43m \u001b[49m\u001b[43msatname\u001b[49m\u001b[43m \u001b[49m\u001b[38;5;241;43m+\u001b[39;49m\u001b[43m \u001b[49m\u001b[38;5;124;43m\"\u001b[39;49m\u001b[38;5;124;43m.jpg\u001b[39;49m\u001b[38;5;124;43m\"\u001b[39;49m\u001b[43m)\u001b[49m\u001b[43m,\u001b[49m\n\u001b[0;32m    148\u001b[0m \u001b[43m    \u001b[49m\u001b[43mdpi\u001b[49m\u001b[38;5;241;43m=\u001b[39;49m\u001b[38;5;241;43m150\u001b[39;49m\u001b[43m,\u001b[49m\n\u001b[0;32m    149\u001b[0m \u001b[43m    \u001b[49m\u001b[43mbbox_inches\u001b[49m\u001b[38;5;241;43m=\u001b[39;49m\u001b[38;5;124;43m\"\u001b[39;49m\u001b[38;5;124;43mtight\u001b[39;49m\u001b[38;5;124;43m\"\u001b[39;49m\u001b[43m,\u001b[49m\n\u001b[0;32m    150\u001b[0m \u001b[43m\u001b[49m\u001b[43m)\u001b[49m\n\u001b[0;32m    151\u001b[0m plt\u001b[38;5;241m.\u001b[39mclose(fig)  \u001b[38;5;66;03m# Close the figure after saving\u001b[39;00m\n\u001b[0;32m    152\u001b[0m plt\u001b[38;5;241m.\u001b[39mclose(\u001b[38;5;124m\"\u001b[39m\u001b[38;5;124mall\u001b[39m\u001b[38;5;124m\"\u001b[39m)\n",
      "File \u001b[1;32mc:\\Users\\sf230\\anaconda3\\envs\\coastseg_planet\\Lib\\site-packages\\matplotlib\\figure.py:3390\u001b[0m, in \u001b[0;36mFigure.savefig\u001b[1;34m(self, fname, transparent, **kwargs)\u001b[0m\n\u001b[0;32m   3388\u001b[0m     \u001b[38;5;28;01mfor\u001b[39;00m ax \u001b[38;5;129;01min\u001b[39;00m \u001b[38;5;28mself\u001b[39m\u001b[38;5;241m.\u001b[39maxes:\n\u001b[0;32m   3389\u001b[0m         _recursively_make_axes_transparent(stack, ax)\n\u001b[1;32m-> 3390\u001b[0m \u001b[38;5;28;43mself\u001b[39;49m\u001b[38;5;241;43m.\u001b[39;49m\u001b[43mcanvas\u001b[49m\u001b[38;5;241;43m.\u001b[39;49m\u001b[43mprint_figure\u001b[49m\u001b[43m(\u001b[49m\u001b[43mfname\u001b[49m\u001b[43m,\u001b[49m\u001b[43m \u001b[49m\u001b[38;5;241;43m*\u001b[39;49m\u001b[38;5;241;43m*\u001b[39;49m\u001b[43mkwargs\u001b[49m\u001b[43m)\u001b[49m\n",
      "File \u001b[1;32mc:\\Users\\sf230\\anaconda3\\envs\\coastseg_planet\\Lib\\site-packages\\matplotlib\\backend_bases.py:2193\u001b[0m, in \u001b[0;36mFigureCanvasBase.print_figure\u001b[1;34m(self, filename, dpi, facecolor, edgecolor, orientation, format, bbox_inches, pad_inches, bbox_extra_artists, backend, **kwargs)\u001b[0m\n\u001b[0;32m   2189\u001b[0m \u001b[38;5;28;01mtry\u001b[39;00m:\n\u001b[0;32m   2190\u001b[0m     \u001b[38;5;66;03m# _get_renderer may change the figure dpi (as vector formats\u001b[39;00m\n\u001b[0;32m   2191\u001b[0m     \u001b[38;5;66;03m# force the figure dpi to 72), so we need to set it again here.\u001b[39;00m\n\u001b[0;32m   2192\u001b[0m     \u001b[38;5;28;01mwith\u001b[39;00m cbook\u001b[38;5;241m.\u001b[39m_setattr_cm(\u001b[38;5;28mself\u001b[39m\u001b[38;5;241m.\u001b[39mfigure, dpi\u001b[38;5;241m=\u001b[39mdpi):\n\u001b[1;32m-> 2193\u001b[0m         result \u001b[38;5;241m=\u001b[39m \u001b[43mprint_method\u001b[49m\u001b[43m(\u001b[49m\n\u001b[0;32m   2194\u001b[0m \u001b[43m            \u001b[49m\u001b[43mfilename\u001b[49m\u001b[43m,\u001b[49m\n\u001b[0;32m   2195\u001b[0m \u001b[43m            \u001b[49m\u001b[43mfacecolor\u001b[49m\u001b[38;5;241;43m=\u001b[39;49m\u001b[43mfacecolor\u001b[49m\u001b[43m,\u001b[49m\n\u001b[0;32m   2196\u001b[0m \u001b[43m            \u001b[49m\u001b[43medgecolor\u001b[49m\u001b[38;5;241;43m=\u001b[39;49m\u001b[43medgecolor\u001b[49m\u001b[43m,\u001b[49m\n\u001b[0;32m   2197\u001b[0m \u001b[43m            \u001b[49m\u001b[43morientation\u001b[49m\u001b[38;5;241;43m=\u001b[39;49m\u001b[43morientation\u001b[49m\u001b[43m,\u001b[49m\n\u001b[0;32m   2198\u001b[0m \u001b[43m            \u001b[49m\u001b[43mbbox_inches_restore\u001b[49m\u001b[38;5;241;43m=\u001b[39;49m\u001b[43m_bbox_inches_restore\u001b[49m\u001b[43m,\u001b[49m\n\u001b[0;32m   2199\u001b[0m \u001b[43m            \u001b[49m\u001b[38;5;241;43m*\u001b[39;49m\u001b[38;5;241;43m*\u001b[39;49m\u001b[43mkwargs\u001b[49m\u001b[43m)\u001b[49m\n\u001b[0;32m   2200\u001b[0m \u001b[38;5;28;01mfinally\u001b[39;00m:\n\u001b[0;32m   2201\u001b[0m     \u001b[38;5;28;01mif\u001b[39;00m bbox_inches \u001b[38;5;129;01mand\u001b[39;00m restore_bbox:\n",
      "File \u001b[1;32mc:\\Users\\sf230\\anaconda3\\envs\\coastseg_planet\\Lib\\site-packages\\matplotlib\\backend_bases.py:2043\u001b[0m, in \u001b[0;36mFigureCanvasBase._switch_canvas_and_return_print_method.<locals>.<lambda>\u001b[1;34m(*args, **kwargs)\u001b[0m\n\u001b[0;32m   2039\u001b[0m     optional_kws \u001b[38;5;241m=\u001b[39m {  \u001b[38;5;66;03m# Passed by print_figure for other renderers.\u001b[39;00m\n\u001b[0;32m   2040\u001b[0m         \u001b[38;5;124m\"\u001b[39m\u001b[38;5;124mdpi\u001b[39m\u001b[38;5;124m\"\u001b[39m, \u001b[38;5;124m\"\u001b[39m\u001b[38;5;124mfacecolor\u001b[39m\u001b[38;5;124m\"\u001b[39m, \u001b[38;5;124m\"\u001b[39m\u001b[38;5;124medgecolor\u001b[39m\u001b[38;5;124m\"\u001b[39m, \u001b[38;5;124m\"\u001b[39m\u001b[38;5;124morientation\u001b[39m\u001b[38;5;124m\"\u001b[39m,\n\u001b[0;32m   2041\u001b[0m         \u001b[38;5;124m\"\u001b[39m\u001b[38;5;124mbbox_inches_restore\u001b[39m\u001b[38;5;124m\"\u001b[39m}\n\u001b[0;32m   2042\u001b[0m     skip \u001b[38;5;241m=\u001b[39m optional_kws \u001b[38;5;241m-\u001b[39m {\u001b[38;5;241m*\u001b[39minspect\u001b[38;5;241m.\u001b[39msignature(meth)\u001b[38;5;241m.\u001b[39mparameters}\n\u001b[1;32m-> 2043\u001b[0m     print_method \u001b[38;5;241m=\u001b[39m functools\u001b[38;5;241m.\u001b[39mwraps(meth)(\u001b[38;5;28;01mlambda\u001b[39;00m \u001b[38;5;241m*\u001b[39margs, \u001b[38;5;241m*\u001b[39m\u001b[38;5;241m*\u001b[39mkwargs: \u001b[43mmeth\u001b[49m\u001b[43m(\u001b[49m\n\u001b[0;32m   2044\u001b[0m \u001b[43m        \u001b[49m\u001b[38;5;241;43m*\u001b[39;49m\u001b[43margs\u001b[49m\u001b[43m,\u001b[49m\u001b[43m \u001b[49m\u001b[38;5;241;43m*\u001b[39;49m\u001b[38;5;241;43m*\u001b[39;49m\u001b[43m{\u001b[49m\u001b[43mk\u001b[49m\u001b[43m:\u001b[49m\u001b[43m \u001b[49m\u001b[43mv\u001b[49m\u001b[43m \u001b[49m\u001b[38;5;28;43;01mfor\u001b[39;49;00m\u001b[43m \u001b[49m\u001b[43mk\u001b[49m\u001b[43m,\u001b[49m\u001b[43m \u001b[49m\u001b[43mv\u001b[49m\u001b[43m \u001b[49m\u001b[38;5;129;43;01min\u001b[39;49;00m\u001b[43m \u001b[49m\u001b[43mkwargs\u001b[49m\u001b[38;5;241;43m.\u001b[39;49m\u001b[43mitems\u001b[49m\u001b[43m(\u001b[49m\u001b[43m)\u001b[49m\u001b[43m \u001b[49m\u001b[38;5;28;43;01mif\u001b[39;49;00m\u001b[43m \u001b[49m\u001b[43mk\u001b[49m\u001b[43m \u001b[49m\u001b[38;5;129;43;01mnot\u001b[39;49;00m\u001b[43m \u001b[49m\u001b[38;5;129;43;01min\u001b[39;49;00m\u001b[43m \u001b[49m\u001b[43mskip\u001b[49m\u001b[43m}\u001b[49m\u001b[43m)\u001b[49m)\n\u001b[0;32m   2045\u001b[0m \u001b[38;5;28;01melse\u001b[39;00m:  \u001b[38;5;66;03m# Let third-parties do as they see fit.\u001b[39;00m\n\u001b[0;32m   2046\u001b[0m     print_method \u001b[38;5;241m=\u001b[39m meth\n",
      "File \u001b[1;32mc:\\Users\\sf230\\anaconda3\\envs\\coastseg_planet\\Lib\\site-packages\\matplotlib\\backends\\backend_agg.py:514\u001b[0m, in \u001b[0;36mFigureCanvasAgg.print_jpg\u001b[1;34m(self, filename_or_obj, metadata, pil_kwargs)\u001b[0m\n\u001b[0;32m    509\u001b[0m \u001b[38;5;28;01mdef\u001b[39;00m \u001b[38;5;21mprint_jpg\u001b[39m(\u001b[38;5;28mself\u001b[39m, filename_or_obj, \u001b[38;5;241m*\u001b[39m, metadata\u001b[38;5;241m=\u001b[39m\u001b[38;5;28;01mNone\u001b[39;00m, pil_kwargs\u001b[38;5;241m=\u001b[39m\u001b[38;5;28;01mNone\u001b[39;00m):\n\u001b[0;32m    510\u001b[0m     \u001b[38;5;66;03m# savefig() has already applied savefig.facecolor; we now set it to\u001b[39;00m\n\u001b[0;32m    511\u001b[0m     \u001b[38;5;66;03m# white to make imsave() blend semi-transparent figures against an\u001b[39;00m\n\u001b[0;32m    512\u001b[0m     \u001b[38;5;66;03m# assumed white background.\u001b[39;00m\n\u001b[0;32m    513\u001b[0m     \u001b[38;5;28;01mwith\u001b[39;00m mpl\u001b[38;5;241m.\u001b[39mrc_context({\u001b[38;5;124m\"\u001b[39m\u001b[38;5;124msavefig.facecolor\u001b[39m\u001b[38;5;124m\"\u001b[39m: \u001b[38;5;124m\"\u001b[39m\u001b[38;5;124mwhite\u001b[39m\u001b[38;5;124m\"\u001b[39m}):\n\u001b[1;32m--> 514\u001b[0m         \u001b[38;5;28;43mself\u001b[39;49m\u001b[38;5;241;43m.\u001b[39;49m\u001b[43m_print_pil\u001b[49m\u001b[43m(\u001b[49m\u001b[43mfilename_or_obj\u001b[49m\u001b[43m,\u001b[49m\u001b[43m \u001b[49m\u001b[38;5;124;43m\"\u001b[39;49m\u001b[38;5;124;43mjpeg\u001b[39;49m\u001b[38;5;124;43m\"\u001b[39;49m\u001b[43m,\u001b[49m\u001b[43m \u001b[49m\u001b[43mpil_kwargs\u001b[49m\u001b[43m,\u001b[49m\u001b[43m \u001b[49m\u001b[43mmetadata\u001b[49m\u001b[43m)\u001b[49m\n",
      "File \u001b[1;32mc:\\Users\\sf230\\anaconda3\\envs\\coastseg_planet\\Lib\\site-packages\\matplotlib\\backends\\backend_agg.py:445\u001b[0m, in \u001b[0;36mFigureCanvasAgg._print_pil\u001b[1;34m(self, filename_or_obj, fmt, pil_kwargs, metadata)\u001b[0m\n\u001b[0;32m    440\u001b[0m \u001b[38;5;28;01mdef\u001b[39;00m \u001b[38;5;21m_print_pil\u001b[39m(\u001b[38;5;28mself\u001b[39m, filename_or_obj, fmt, pil_kwargs, metadata\u001b[38;5;241m=\u001b[39m\u001b[38;5;28;01mNone\u001b[39;00m):\n\u001b[0;32m    441\u001b[0m \u001b[38;5;250m    \u001b[39m\u001b[38;5;124;03m\"\"\"\u001b[39;00m\n\u001b[0;32m    442\u001b[0m \u001b[38;5;124;03m    Draw the canvas, then save it using `.image.imsave` (to which\u001b[39;00m\n\u001b[0;32m    443\u001b[0m \u001b[38;5;124;03m    *pil_kwargs* and *metadata* are forwarded).\u001b[39;00m\n\u001b[0;32m    444\u001b[0m \u001b[38;5;124;03m    \"\"\"\u001b[39;00m\n\u001b[1;32m--> 445\u001b[0m     \u001b[43mFigureCanvasAgg\u001b[49m\u001b[38;5;241;43m.\u001b[39;49m\u001b[43mdraw\u001b[49m\u001b[43m(\u001b[49m\u001b[38;5;28;43mself\u001b[39;49m\u001b[43m)\u001b[49m\n\u001b[0;32m    446\u001b[0m     mpl\u001b[38;5;241m.\u001b[39mimage\u001b[38;5;241m.\u001b[39mimsave(\n\u001b[0;32m    447\u001b[0m         filename_or_obj, \u001b[38;5;28mself\u001b[39m\u001b[38;5;241m.\u001b[39mbuffer_rgba(), \u001b[38;5;28mformat\u001b[39m\u001b[38;5;241m=\u001b[39mfmt, origin\u001b[38;5;241m=\u001b[39m\u001b[38;5;124m\"\u001b[39m\u001b[38;5;124mupper\u001b[39m\u001b[38;5;124m\"\u001b[39m,\n\u001b[0;32m    448\u001b[0m         dpi\u001b[38;5;241m=\u001b[39m\u001b[38;5;28mself\u001b[39m\u001b[38;5;241m.\u001b[39mfigure\u001b[38;5;241m.\u001b[39mdpi, metadata\u001b[38;5;241m=\u001b[39mmetadata, pil_kwargs\u001b[38;5;241m=\u001b[39mpil_kwargs)\n",
      "File \u001b[1;32mc:\\Users\\sf230\\anaconda3\\envs\\coastseg_planet\\Lib\\site-packages\\matplotlib\\backends\\backend_agg.py:388\u001b[0m, in \u001b[0;36mFigureCanvasAgg.draw\u001b[1;34m(self)\u001b[0m\n\u001b[0;32m    385\u001b[0m \u001b[38;5;66;03m# Acquire a lock on the shared font cache.\u001b[39;00m\n\u001b[0;32m    386\u001b[0m \u001b[38;5;28;01mwith\u001b[39;00m (\u001b[38;5;28mself\u001b[39m\u001b[38;5;241m.\u001b[39mtoolbar\u001b[38;5;241m.\u001b[39m_wait_cursor_for_draw_cm() \u001b[38;5;28;01mif\u001b[39;00m \u001b[38;5;28mself\u001b[39m\u001b[38;5;241m.\u001b[39mtoolbar\n\u001b[0;32m    387\u001b[0m       \u001b[38;5;28;01melse\u001b[39;00m nullcontext()):\n\u001b[1;32m--> 388\u001b[0m     \u001b[38;5;28;43mself\u001b[39;49m\u001b[38;5;241;43m.\u001b[39;49m\u001b[43mfigure\u001b[49m\u001b[38;5;241;43m.\u001b[39;49m\u001b[43mdraw\u001b[49m\u001b[43m(\u001b[49m\u001b[38;5;28;43mself\u001b[39;49m\u001b[38;5;241;43m.\u001b[39;49m\u001b[43mrenderer\u001b[49m\u001b[43m)\u001b[49m\n\u001b[0;32m    389\u001b[0m     \u001b[38;5;66;03m# A GUI class may be need to update a window using this draw, so\u001b[39;00m\n\u001b[0;32m    390\u001b[0m     \u001b[38;5;66;03m# don't forget to call the superclass.\u001b[39;00m\n\u001b[0;32m    391\u001b[0m     \u001b[38;5;28msuper\u001b[39m()\u001b[38;5;241m.\u001b[39mdraw()\n",
      "File \u001b[1;32mc:\\Users\\sf230\\anaconda3\\envs\\coastseg_planet\\Lib\\site-packages\\matplotlib\\artist.py:95\u001b[0m, in \u001b[0;36m_finalize_rasterization.<locals>.draw_wrapper\u001b[1;34m(artist, renderer, *args, **kwargs)\u001b[0m\n\u001b[0;32m     93\u001b[0m \u001b[38;5;129m@wraps\u001b[39m(draw)\n\u001b[0;32m     94\u001b[0m \u001b[38;5;28;01mdef\u001b[39;00m \u001b[38;5;21mdraw_wrapper\u001b[39m(artist, renderer, \u001b[38;5;241m*\u001b[39margs, \u001b[38;5;241m*\u001b[39m\u001b[38;5;241m*\u001b[39mkwargs):\n\u001b[1;32m---> 95\u001b[0m     result \u001b[38;5;241m=\u001b[39m \u001b[43mdraw\u001b[49m\u001b[43m(\u001b[49m\u001b[43martist\u001b[49m\u001b[43m,\u001b[49m\u001b[43m \u001b[49m\u001b[43mrenderer\u001b[49m\u001b[43m,\u001b[49m\u001b[43m \u001b[49m\u001b[38;5;241;43m*\u001b[39;49m\u001b[43margs\u001b[49m\u001b[43m,\u001b[49m\u001b[43m \u001b[49m\u001b[38;5;241;43m*\u001b[39;49m\u001b[38;5;241;43m*\u001b[39;49m\u001b[43mkwargs\u001b[49m\u001b[43m)\u001b[49m\n\u001b[0;32m     96\u001b[0m     \u001b[38;5;28;01mif\u001b[39;00m renderer\u001b[38;5;241m.\u001b[39m_rasterizing:\n\u001b[0;32m     97\u001b[0m         renderer\u001b[38;5;241m.\u001b[39mstop_rasterizing()\n",
      "File \u001b[1;32mc:\\Users\\sf230\\anaconda3\\envs\\coastseg_planet\\Lib\\site-packages\\matplotlib\\artist.py:72\u001b[0m, in \u001b[0;36mallow_rasterization.<locals>.draw_wrapper\u001b[1;34m(artist, renderer)\u001b[0m\n\u001b[0;32m     69\u001b[0m     \u001b[38;5;28;01mif\u001b[39;00m artist\u001b[38;5;241m.\u001b[39mget_agg_filter() \u001b[38;5;129;01mis\u001b[39;00m \u001b[38;5;129;01mnot\u001b[39;00m \u001b[38;5;28;01mNone\u001b[39;00m:\n\u001b[0;32m     70\u001b[0m         renderer\u001b[38;5;241m.\u001b[39mstart_filter()\n\u001b[1;32m---> 72\u001b[0m     \u001b[38;5;28;01mreturn\u001b[39;00m \u001b[43mdraw\u001b[49m\u001b[43m(\u001b[49m\u001b[43martist\u001b[49m\u001b[43m,\u001b[49m\u001b[43m \u001b[49m\u001b[43mrenderer\u001b[49m\u001b[43m)\u001b[49m\n\u001b[0;32m     73\u001b[0m \u001b[38;5;28;01mfinally\u001b[39;00m:\n\u001b[0;32m     74\u001b[0m     \u001b[38;5;28;01mif\u001b[39;00m artist\u001b[38;5;241m.\u001b[39mget_agg_filter() \u001b[38;5;129;01mis\u001b[39;00m \u001b[38;5;129;01mnot\u001b[39;00m \u001b[38;5;28;01mNone\u001b[39;00m:\n",
      "File \u001b[1;32mc:\\Users\\sf230\\anaconda3\\envs\\coastseg_planet\\Lib\\site-packages\\matplotlib\\figure.py:3154\u001b[0m, in \u001b[0;36mFigure.draw\u001b[1;34m(self, renderer)\u001b[0m\n\u001b[0;32m   3151\u001b[0m         \u001b[38;5;66;03m# ValueError can occur when resizing a window.\u001b[39;00m\n\u001b[0;32m   3153\u001b[0m \u001b[38;5;28mself\u001b[39m\u001b[38;5;241m.\u001b[39mpatch\u001b[38;5;241m.\u001b[39mdraw(renderer)\n\u001b[1;32m-> 3154\u001b[0m \u001b[43mmimage\u001b[49m\u001b[38;5;241;43m.\u001b[39;49m\u001b[43m_draw_list_compositing_images\u001b[49m\u001b[43m(\u001b[49m\n\u001b[0;32m   3155\u001b[0m \u001b[43m    \u001b[49m\u001b[43mrenderer\u001b[49m\u001b[43m,\u001b[49m\u001b[43m \u001b[49m\u001b[38;5;28;43mself\u001b[39;49m\u001b[43m,\u001b[49m\u001b[43m \u001b[49m\u001b[43martists\u001b[49m\u001b[43m,\u001b[49m\u001b[43m \u001b[49m\u001b[38;5;28;43mself\u001b[39;49m\u001b[38;5;241;43m.\u001b[39;49m\u001b[43msuppressComposite\u001b[49m\u001b[43m)\u001b[49m\n\u001b[0;32m   3157\u001b[0m \u001b[38;5;28;01mfor\u001b[39;00m sfig \u001b[38;5;129;01min\u001b[39;00m \u001b[38;5;28mself\u001b[39m\u001b[38;5;241m.\u001b[39msubfigs:\n\u001b[0;32m   3158\u001b[0m     sfig\u001b[38;5;241m.\u001b[39mdraw(renderer)\n",
      "File \u001b[1;32mc:\\Users\\sf230\\anaconda3\\envs\\coastseg_planet\\Lib\\site-packages\\matplotlib\\image.py:132\u001b[0m, in \u001b[0;36m_draw_list_compositing_images\u001b[1;34m(renderer, parent, artists, suppress_composite)\u001b[0m\n\u001b[0;32m    130\u001b[0m \u001b[38;5;28;01mif\u001b[39;00m not_composite \u001b[38;5;129;01mor\u001b[39;00m \u001b[38;5;129;01mnot\u001b[39;00m has_images:\n\u001b[0;32m    131\u001b[0m     \u001b[38;5;28;01mfor\u001b[39;00m a \u001b[38;5;129;01min\u001b[39;00m artists:\n\u001b[1;32m--> 132\u001b[0m         \u001b[43ma\u001b[49m\u001b[38;5;241;43m.\u001b[39;49m\u001b[43mdraw\u001b[49m\u001b[43m(\u001b[49m\u001b[43mrenderer\u001b[49m\u001b[43m)\u001b[49m\n\u001b[0;32m    133\u001b[0m \u001b[38;5;28;01melse\u001b[39;00m:\n\u001b[0;32m    134\u001b[0m     \u001b[38;5;66;03m# Composite any adjacent images together\u001b[39;00m\n\u001b[0;32m    135\u001b[0m     image_group \u001b[38;5;241m=\u001b[39m []\n",
      "File \u001b[1;32mc:\\Users\\sf230\\anaconda3\\envs\\coastseg_planet\\Lib\\site-packages\\matplotlib\\artist.py:72\u001b[0m, in \u001b[0;36mallow_rasterization.<locals>.draw_wrapper\u001b[1;34m(artist, renderer)\u001b[0m\n\u001b[0;32m     69\u001b[0m     \u001b[38;5;28;01mif\u001b[39;00m artist\u001b[38;5;241m.\u001b[39mget_agg_filter() \u001b[38;5;129;01mis\u001b[39;00m \u001b[38;5;129;01mnot\u001b[39;00m \u001b[38;5;28;01mNone\u001b[39;00m:\n\u001b[0;32m     70\u001b[0m         renderer\u001b[38;5;241m.\u001b[39mstart_filter()\n\u001b[1;32m---> 72\u001b[0m     \u001b[38;5;28;01mreturn\u001b[39;00m \u001b[43mdraw\u001b[49m\u001b[43m(\u001b[49m\u001b[43martist\u001b[49m\u001b[43m,\u001b[49m\u001b[43m \u001b[49m\u001b[43mrenderer\u001b[49m\u001b[43m)\u001b[49m\n\u001b[0;32m     73\u001b[0m \u001b[38;5;28;01mfinally\u001b[39;00m:\n\u001b[0;32m     74\u001b[0m     \u001b[38;5;28;01mif\u001b[39;00m artist\u001b[38;5;241m.\u001b[39mget_agg_filter() \u001b[38;5;129;01mis\u001b[39;00m \u001b[38;5;129;01mnot\u001b[39;00m \u001b[38;5;28;01mNone\u001b[39;00m:\n",
      "File \u001b[1;32mc:\\Users\\sf230\\anaconda3\\envs\\coastseg_planet\\Lib\\site-packages\\matplotlib\\axes\\_base.py:3070\u001b[0m, in \u001b[0;36m_AxesBase.draw\u001b[1;34m(self, renderer)\u001b[0m\n\u001b[0;32m   3067\u001b[0m \u001b[38;5;28;01mif\u001b[39;00m artists_rasterized:\n\u001b[0;32m   3068\u001b[0m     _draw_rasterized(\u001b[38;5;28mself\u001b[39m\u001b[38;5;241m.\u001b[39mfigure, artists_rasterized, renderer)\n\u001b[1;32m-> 3070\u001b[0m \u001b[43mmimage\u001b[49m\u001b[38;5;241;43m.\u001b[39;49m\u001b[43m_draw_list_compositing_images\u001b[49m\u001b[43m(\u001b[49m\n\u001b[0;32m   3071\u001b[0m \u001b[43m    \u001b[49m\u001b[43mrenderer\u001b[49m\u001b[43m,\u001b[49m\u001b[43m \u001b[49m\u001b[38;5;28;43mself\u001b[39;49m\u001b[43m,\u001b[49m\u001b[43m \u001b[49m\u001b[43martists\u001b[49m\u001b[43m,\u001b[49m\u001b[43m \u001b[49m\u001b[38;5;28;43mself\u001b[39;49m\u001b[38;5;241;43m.\u001b[39;49m\u001b[43mfigure\u001b[49m\u001b[38;5;241;43m.\u001b[39;49m\u001b[43msuppressComposite\u001b[49m\u001b[43m)\u001b[49m\n\u001b[0;32m   3073\u001b[0m renderer\u001b[38;5;241m.\u001b[39mclose_group(\u001b[38;5;124m'\u001b[39m\u001b[38;5;124maxes\u001b[39m\u001b[38;5;124m'\u001b[39m)\n\u001b[0;32m   3074\u001b[0m \u001b[38;5;28mself\u001b[39m\u001b[38;5;241m.\u001b[39mstale \u001b[38;5;241m=\u001b[39m \u001b[38;5;28;01mFalse\u001b[39;00m\n",
      "File \u001b[1;32mc:\\Users\\sf230\\anaconda3\\envs\\coastseg_planet\\Lib\\site-packages\\matplotlib\\image.py:132\u001b[0m, in \u001b[0;36m_draw_list_compositing_images\u001b[1;34m(renderer, parent, artists, suppress_composite)\u001b[0m\n\u001b[0;32m    130\u001b[0m \u001b[38;5;28;01mif\u001b[39;00m not_composite \u001b[38;5;129;01mor\u001b[39;00m \u001b[38;5;129;01mnot\u001b[39;00m has_images:\n\u001b[0;32m    131\u001b[0m     \u001b[38;5;28;01mfor\u001b[39;00m a \u001b[38;5;129;01min\u001b[39;00m artists:\n\u001b[1;32m--> 132\u001b[0m         \u001b[43ma\u001b[49m\u001b[38;5;241;43m.\u001b[39;49m\u001b[43mdraw\u001b[49m\u001b[43m(\u001b[49m\u001b[43mrenderer\u001b[49m\u001b[43m)\u001b[49m\n\u001b[0;32m    133\u001b[0m \u001b[38;5;28;01melse\u001b[39;00m:\n\u001b[0;32m    134\u001b[0m     \u001b[38;5;66;03m# Composite any adjacent images together\u001b[39;00m\n\u001b[0;32m    135\u001b[0m     image_group \u001b[38;5;241m=\u001b[39m []\n",
      "File \u001b[1;32mc:\\Users\\sf230\\anaconda3\\envs\\coastseg_planet\\Lib\\site-packages\\matplotlib\\artist.py:72\u001b[0m, in \u001b[0;36mallow_rasterization.<locals>.draw_wrapper\u001b[1;34m(artist, renderer)\u001b[0m\n\u001b[0;32m     69\u001b[0m     \u001b[38;5;28;01mif\u001b[39;00m artist\u001b[38;5;241m.\u001b[39mget_agg_filter() \u001b[38;5;129;01mis\u001b[39;00m \u001b[38;5;129;01mnot\u001b[39;00m \u001b[38;5;28;01mNone\u001b[39;00m:\n\u001b[0;32m     70\u001b[0m         renderer\u001b[38;5;241m.\u001b[39mstart_filter()\n\u001b[1;32m---> 72\u001b[0m     \u001b[38;5;28;01mreturn\u001b[39;00m \u001b[43mdraw\u001b[49m\u001b[43m(\u001b[49m\u001b[43martist\u001b[49m\u001b[43m,\u001b[49m\u001b[43m \u001b[49m\u001b[43mrenderer\u001b[49m\u001b[43m)\u001b[49m\n\u001b[0;32m     73\u001b[0m \u001b[38;5;28;01mfinally\u001b[39;00m:\n\u001b[0;32m     74\u001b[0m     \u001b[38;5;28;01mif\u001b[39;00m artist\u001b[38;5;241m.\u001b[39mget_agg_filter() \u001b[38;5;129;01mis\u001b[39;00m \u001b[38;5;129;01mnot\u001b[39;00m \u001b[38;5;28;01mNone\u001b[39;00m:\n",
      "File \u001b[1;32mc:\\Users\\sf230\\anaconda3\\envs\\coastseg_planet\\Lib\\site-packages\\matplotlib\\image.py:649\u001b[0m, in \u001b[0;36m_ImageBase.draw\u001b[1;34m(self, renderer, *args, **kwargs)\u001b[0m\n\u001b[0;32m    647\u001b[0m         renderer\u001b[38;5;241m.\u001b[39mdraw_image(gc, l, b, im, trans)\n\u001b[0;32m    648\u001b[0m \u001b[38;5;28;01melse\u001b[39;00m:\n\u001b[1;32m--> 649\u001b[0m     im, l, b, trans \u001b[38;5;241m=\u001b[39m \u001b[38;5;28;43mself\u001b[39;49m\u001b[38;5;241;43m.\u001b[39;49m\u001b[43mmake_image\u001b[49m\u001b[43m(\u001b[49m\n\u001b[0;32m    650\u001b[0m \u001b[43m        \u001b[49m\u001b[43mrenderer\u001b[49m\u001b[43m,\u001b[49m\u001b[43m \u001b[49m\u001b[43mrenderer\u001b[49m\u001b[38;5;241;43m.\u001b[39;49m\u001b[43mget_image_magnification\u001b[49m\u001b[43m(\u001b[49m\u001b[43m)\u001b[49m\u001b[43m)\u001b[49m\n\u001b[0;32m    651\u001b[0m     \u001b[38;5;28;01mif\u001b[39;00m im \u001b[38;5;129;01mis\u001b[39;00m \u001b[38;5;129;01mnot\u001b[39;00m \u001b[38;5;28;01mNone\u001b[39;00m:\n\u001b[0;32m    652\u001b[0m         renderer\u001b[38;5;241m.\u001b[39mdraw_image(gc, l, b, im)\n",
      "File \u001b[1;32mc:\\Users\\sf230\\anaconda3\\envs\\coastseg_planet\\Lib\\site-packages\\matplotlib\\image.py:939\u001b[0m, in \u001b[0;36mAxesImage.make_image\u001b[1;34m(self, renderer, magnification, unsampled)\u001b[0m\n\u001b[0;32m    936\u001b[0m transformed_bbox \u001b[38;5;241m=\u001b[39m TransformedBbox(bbox, trans)\n\u001b[0;32m    937\u001b[0m clip \u001b[38;5;241m=\u001b[39m ((\u001b[38;5;28mself\u001b[39m\u001b[38;5;241m.\u001b[39mget_clip_box() \u001b[38;5;129;01mor\u001b[39;00m \u001b[38;5;28mself\u001b[39m\u001b[38;5;241m.\u001b[39maxes\u001b[38;5;241m.\u001b[39mbbox) \u001b[38;5;28;01mif\u001b[39;00m \u001b[38;5;28mself\u001b[39m\u001b[38;5;241m.\u001b[39mget_clip_on()\n\u001b[0;32m    938\u001b[0m         \u001b[38;5;28;01melse\u001b[39;00m \u001b[38;5;28mself\u001b[39m\u001b[38;5;241m.\u001b[39mfigure\u001b[38;5;241m.\u001b[39mbbox)\n\u001b[1;32m--> 939\u001b[0m \u001b[38;5;28;01mreturn\u001b[39;00m \u001b[38;5;28;43mself\u001b[39;49m\u001b[38;5;241;43m.\u001b[39;49m\u001b[43m_make_image\u001b[49m\u001b[43m(\u001b[49m\u001b[38;5;28;43mself\u001b[39;49m\u001b[38;5;241;43m.\u001b[39;49m\u001b[43m_A\u001b[49m\u001b[43m,\u001b[49m\u001b[43m \u001b[49m\u001b[43mbbox\u001b[49m\u001b[43m,\u001b[49m\u001b[43m \u001b[49m\u001b[43mtransformed_bbox\u001b[49m\u001b[43m,\u001b[49m\u001b[43m \u001b[49m\u001b[43mclip\u001b[49m\u001b[43m,\u001b[49m\n\u001b[0;32m    940\u001b[0m \u001b[43m                        \u001b[49m\u001b[43mmagnification\u001b[49m\u001b[43m,\u001b[49m\u001b[43m \u001b[49m\u001b[43munsampled\u001b[49m\u001b[38;5;241;43m=\u001b[39;49m\u001b[43munsampled\u001b[49m\u001b[43m)\u001b[49m\n",
      "File \u001b[1;32mc:\\Users\\sf230\\anaconda3\\envs\\coastseg_planet\\Lib\\site-packages\\matplotlib\\image.py:569\u001b[0m, in \u001b[0;36m_ImageBase._make_image\u001b[1;34m(self, A, in_bbox, out_bbox, clip_bbox, magnification, unsampled, round_to_pixel_border)\u001b[0m\n\u001b[0;32m    565\u001b[0m     output[\u001b[38;5;241m.\u001b[39m\u001b[38;5;241m.\u001b[39m\u001b[38;5;241m.\u001b[39m, \u001b[38;5;241m3\u001b[39m] \u001b[38;5;241m=\u001b[39m output_alpha  \u001b[38;5;66;03m# recombine rgb and alpha\u001b[39;00m\n\u001b[0;32m    567\u001b[0m \u001b[38;5;66;03m# output is now either a 2D array of normed (int or float) data\u001b[39;00m\n\u001b[0;32m    568\u001b[0m \u001b[38;5;66;03m# or an RGBA array of re-sampled input\u001b[39;00m\n\u001b[1;32m--> 569\u001b[0m output \u001b[38;5;241m=\u001b[39m \u001b[38;5;28;43mself\u001b[39;49m\u001b[38;5;241;43m.\u001b[39;49m\u001b[43mto_rgba\u001b[49m\u001b[43m(\u001b[49m\u001b[43moutput\u001b[49m\u001b[43m,\u001b[49m\u001b[43m \u001b[49m\u001b[38;5;28;43mbytes\u001b[39;49m\u001b[38;5;241;43m=\u001b[39;49m\u001b[38;5;28;43;01mTrue\u001b[39;49;00m\u001b[43m,\u001b[49m\u001b[43m \u001b[49m\u001b[43mnorm\u001b[49m\u001b[38;5;241;43m=\u001b[39;49m\u001b[38;5;28;43;01mFalse\u001b[39;49;00m\u001b[43m)\u001b[49m\n\u001b[0;32m    570\u001b[0m \u001b[38;5;66;03m# output is now a correctly sized RGBA array of uint8\u001b[39;00m\n\u001b[0;32m    571\u001b[0m \n\u001b[0;32m    572\u001b[0m \u001b[38;5;66;03m# Apply alpha *after* if the input was greyscale without a mask\u001b[39;00m\n\u001b[0;32m    573\u001b[0m \u001b[38;5;28;01mif\u001b[39;00m A\u001b[38;5;241m.\u001b[39mndim \u001b[38;5;241m==\u001b[39m \u001b[38;5;241m2\u001b[39m:\n",
      "File \u001b[1;32mc:\\Users\\sf230\\anaconda3\\envs\\coastseg_planet\\Lib\\site-packages\\matplotlib\\cm.py:494\u001b[0m, in \u001b[0;36mScalarMappable.to_rgba\u001b[1;34m(self, x, alpha, bytes, norm)\u001b[0m\n\u001b[0;32m    491\u001b[0m         \u001b[38;5;28;01mraise\u001b[39;00m \u001b[38;5;167;01mValueError\u001b[39;00m(\u001b[38;5;124m\"\u001b[39m\u001b[38;5;124mFloating point image RGB values \u001b[39m\u001b[38;5;124m\"\u001b[39m\n\u001b[0;32m    492\u001b[0m                          \u001b[38;5;124m\"\u001b[39m\u001b[38;5;124mmust be in the 0..1 range.\u001b[39m\u001b[38;5;124m\"\u001b[39m)\n\u001b[0;32m    493\u001b[0m     \u001b[38;5;28;01mif\u001b[39;00m \u001b[38;5;28mbytes\u001b[39m:\n\u001b[1;32m--> 494\u001b[0m         xx \u001b[38;5;241m=\u001b[39m (xx \u001b[38;5;241m*\u001b[39m \u001b[38;5;241m255\u001b[39m)\u001b[38;5;241m.\u001b[39mastype(np\u001b[38;5;241m.\u001b[39muint8)\n\u001b[0;32m    495\u001b[0m \u001b[38;5;28;01melif\u001b[39;00m xx\u001b[38;5;241m.\u001b[39mdtype \u001b[38;5;241m==\u001b[39m np\u001b[38;5;241m.\u001b[39muint8:\n\u001b[0;32m    496\u001b[0m     \u001b[38;5;28;01mif\u001b[39;00m \u001b[38;5;129;01mnot\u001b[39;00m \u001b[38;5;28mbytes\u001b[39m:\n",
      "\u001b[1;31mKeyboardInterrupt\u001b[0m: "
     ]
    }
   ],
   "source": [
    "from coastseg_planet.shoreline_extraction import get_shorelines_from_model\n",
    "from coastseg_planet.processing import get_date_from_path,TOA_conversion,get_epsg_from_tiff,get_base_filename,convert_planet_to_model_format\n",
    "from datetime import datetime\n",
    "from coastseg_planet.model import apply_model_to_image\n",
    "from coastseg.extracted_shoreline import load_image_labels, load_merged_image_labels, remove_small_objects_and_binarize, get_indices_of_classnames, get_class_mapping\n",
    "from coastseg import file_utilities\n",
    "from coastseg_planet import utils\n",
    "from coastseg_planet import transects\n",
    "from coastseg_planet import shoreline_extraction\n",
    "\n",
    "# Future improvement will download & load the model from the coastseg_planet package\n",
    "# for now hard code the model path & weights directory\n",
    "model_card_path = r'C:\\development\\coastseg-planet\\CoastSeg-Planet\\output_zoo\\coastseg_planet\\coastseg_planet\\config\\model_card.yml'\n",
    "weights_directory = r'C:\\development\\doodleverse\\coastseg\\CoastSeg\\src\\coastseg\\downloaded_models\\segformer_RGB_4class_8190958'\n",
    "model_card_path = file_utilities.find_file_by_regex(\n",
    "    weights_directory, r\".*modelcard\\.json$\"\n",
    ")\n",
    "# all this is to create the settings dictionary needed to extract shorelines\n",
    "out_epsg = get_epsg_from_tiff(landsat_processed_path)\n",
    "# convert str to int\n",
    "out_epsg = int(out_epsg)\n",
    "settings = {\n",
    "    'output_epsg': out_epsg,\n",
    "    'min_length_sl': 100,\n",
    "    'dist_clouds': 50,\n",
    "    'min_beach_area': 1000,\n",
    "    'satname': 'planet',\n",
    "}\n",
    "\n",
    "separator = '_3B'\n",
    "count = 0\n",
    "suffix = f\"{separator}_TOAR_processed_coregistered_global\"\n",
    "print(f\"{suffix}.tif\")\n",
    "filtered_tiffs = glob.glob(os.path.join(good_dir, f\"*{suffix}.tif\"))\n",
    "if len(filtered_tiffs) == 0:\n",
    "    print(\"No tiffs found in the directory\")\n",
    "#@todo\n",
    "# if length is 1 then call a single function to do all this stuff\n",
    "all_extracted_shorelines = []\n",
    "# for target_path in filtered_tiffs:\n",
    "for file_idx, target_path in enumerate(\n",
    "        glob.glob(os.path.join(good_dir, f\"*{suffix}.tif\"))\n",
    "    ):\n",
    "    count += 1\n",
    "    if not os.path.exists(target_path):\n",
    "        print(f\"Skipping {target_path} because it does not exist\")\n",
    "        continue\n",
    "    base_filename = get_base_filename(target_path, separator)\n",
    "    print(f\"Processing {base_filename}\")\n",
    "    # get the processed coregistered file, the cloud mask and the npz file\n",
    "        \n",
    "    cloud_mask_path = utils.get_file_path(good_dir, base_filename, \"*3B_udm2_clip.tif\")\n",
    "    if not cloud_mask_path:\n",
    "        print(f\"Skipping {target_path} because cloud mask not found\")\n",
    "        continue\n",
    "    date=get_date_from_path(base_filename)\n",
    "    print(f\"date {date}\")\n",
    "    print(f\"Processing {target_path}\")\n",
    "    print(f\"Using cloud mask: {cloud_mask_path}\")\n",
    "    if not os.path.exists(target_path):\n",
    "        print(f\"Skipping {target_path} because it does not exist\")\n",
    "        continue\n",
    "    \n",
    "    apply_model_to_image(target_path,good_dir,False,False)\n",
    "    # this is the file generated by the model\n",
    "    # npz_path = os.path.join(good_dir, 'out', f\"{base_filename}_3B_TOAR_processed_coregistered_res.npz\")\n",
    "    npz_path = os.path.join(good_dir, 'out', f\"{base_filename}{suffix}_res.npz\")\n",
    "    if not os.path.exists(npz_path):\n",
    "        print(f\"Skipping {npz_path} because it does not exist\")\n",
    "        \n",
    "    masked_projected_resolution_topobathy_tiff=masked_projected_topobathy_tiff.replace('.tif', f'_matched_resolution_{count}.tif')\n",
    "    match_resolution_and_grid(masked_projected_topobathy_tiff , target_path,masked_projected_resolution_topobathy_tiff)\n",
    "    \n",
    "    save_path = os.path.join(good_dir, 'out')\n",
    "    # this shoreline is in the UTM projection\n",
    "    shoreline_gdf = get_shorelines_from_model(cloud_mask_path,target_path,model_card_path,npz_path,date,satname= 'planet', settings = settings,topobathy_path = masked_projected_resolution_topobathy_tiff,\n",
    "                                          save_path=save_path)\n",
    "    all_extracted_shorelines.append(shoreline_gdf)\n",
    "\n",
    "shorelines_gdf = shoreline_extraction.concat_and_sort_geodataframes(all_extracted_shorelines, \"date\")\n",
    "shorelines_gdf\n",
    "    # # switch the shoreline_gdf to image crs\n",
    "    # image_epsg = get_epsg_from_tiff(target_path)\n",
    "    # projected_shoreline_gdf = shoreline_gdf.to_crs(image_epsg)\n",
    "    # # then intersect these shorelines with the transects\n",
    "    # shorelines_dict = transects.convert_shoreline_gdf_to_dict(projected_shoreline_gdf)\n",
    "    # transform the transects to the image crs\n",
    "    \n",
    "    # transform the transects to a dict\n",
    "    \n",
    "    # run compute_intersection_QC"
   ]
  },
  {
   "cell_type": "code",
   "execution_count": null,
   "metadata": {},
   "outputs": [],
   "source": [
    "shorelines_gdf"
   ]
  },
  {
   "cell_type": "code",
   "execution_count": null,
   "metadata": {},
   "outputs": [],
   "source": [
    "transects_path = r\"C:\\development\\coastseg-planet\\downloads\\Alaska_TOAR_enabled\\42444c87-d914-4330-ba4b-3c948829db3f\\PSScene\\transects.geojson\"\n",
    "transects_gdf = gpd.read_file(transects_path)\n",
    "transects_gdf.to_crs(settings['output_epsg'], inplace=True)\n",
    "transects_gdf[\"id\"] = transects_gdf.index\n",
    "transects_gdf[\"id\"] = transects_gdf[\"id\"].astype(str)\n",
    "transects_dict = transects.get_transect_points_dict(transects_gdf)"
   ]
  },
  {
   "cell_type": "code",
   "execution_count": null,
   "metadata": {},
   "outputs": [],
   "source": [
    "shoreline_dict = {'shorelines':[]}\n",
    "for date, group in shorelines_gdf.groupby('date'):\n",
    "    print(f\"Processing {date}\")\n",
    "    shorelines = [np.array(geom.coords) for geom in group.geometry]\n",
    "    contours_array = shoreline_extraction.extract_contours(shorelines)\n",
    "    shoreline_dict['shorelines'].append(contours_array)\n",
    "len(shoreline_dict['shorelines'])"
   ]
  },
  {
   "cell_type": "code",
   "execution_count": null,
   "metadata": {},
   "outputs": [],
   "source": [
    "transects.compute_intersection_QC(shoreline_dict, transects_dict)\n"
   ]
  },
  {
   "cell_type": "code",
   "execution_count": null,
   "metadata": {},
   "outputs": [],
   "source": [
    "# I'm looking over the planet documentation for PSScene which is the image type we download. https://developers.planet.com/docs/data/psscene/\n",
    "# It gets data from instruments  PS2, PS2.SD, and PSB.SB which are all the available dove images\n",
    "\n",
    "# PS2.SD is the second gen of PLanet Scope satelltie launched in Nov 2018\n",
    "# PSB.SB is the newest launched in mid march 2020\n",
    "# I added this to our code\n",
    "# instrument_filter = data_filter.string_in_filter(\"instrument\", [\"PS2\", \"PSB.SD\",\"PS2.SD\"])\n",
    "\n",
    "# In my download for unalakleet I've encountered both PS2.SD and PSB.SB in the downloaded data which goes back to 2019"
   ]
  },
  {
   "cell_type": "code",
   "execution_count": null,
   "metadata": {},
   "outputs": [],
   "source": []
  }
 ],
 "metadata": {
  "kernelspec": {
   "display_name": "coastseg_planet",
   "language": "python",
   "name": "python3"
  },
  "language_info": {
   "codemirror_mode": {
    "name": "ipython",
    "version": 3
   },
   "file_extension": ".py",
   "mimetype": "text/x-python",
   "name": "python",
   "nbconvert_exporter": "python",
   "pygments_lexer": "ipython3",
   "version": "3.11.9"
  }
 },
 "nbformat": 4,
 "nbformat_minor": 2
}
