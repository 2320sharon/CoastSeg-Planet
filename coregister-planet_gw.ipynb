{
 "cells": [
  {
   "cell_type": "code",
   "execution_count": 2,
   "metadata": {},
   "outputs": [
    {
     "name": "stdout",
     "output_type": "stream",
     "text": [
      "(1, 2, 3, 4)\n",
      "1 uint16 0.0\n",
      "0\n",
      "10531\n",
      "(1490, 1506)\n",
      "2 uint16 0.0\n",
      "0\n",
      "9558\n",
      "(1490, 1506)\n",
      "3 uint16 0.0\n",
      "0\n",
      "9300\n",
      "(1490, 1506)\n",
      "4 uint16 0.0\n",
      "0\n",
      "7105\n",
      "(1490, 1506)\n"
     ]
    }
   ],
   "source": [
    "import rasterio\n",
    "import numpy as np\n",
    "import geowombat as gw\n",
    "\n",
    "REFERENCE= r\"C:\\development\\doodleverse\\geowombat\\floris_4-band_multispectral_Analytic_Ortho_Scene_QGIS\\files\\20240217_095622_49_2455_3B_AnalyticMS_clip.tif\"\n",
    "INFILE = r\"C:\\development\\doodleverse\\geowombat\\floris_4-band_multispectral_Analytic_Ortho_Scene_QGIS\\files\\20240227_104111_46_247d_3B_AnalyticMS_clip.tif\"\n",
    "\n",
    "\n",
    "with rasterio.open(INFILE) as new_tif:\n",
    "    print(new_tif.indexes)\n",
    "    for i, dtype, nodataval in zip(new_tif.indexes, new_tif.dtypes, new_tif.nodatavals):\n",
    "        print(i, dtype, nodataval)\n",
    "        print(np.min(new_tif.read(i)))\n",
    "        print(np.max(new_tif.read(i)))\n",
    "        print(new_tif.read(i).shape)"
   ]
  },
  {
   "cell_type": "code",
   "execution_count": 4,
   "metadata": {},
   "outputs": [
    {
     "name": "stdout",
     "output_type": "stream",
     "text": [
      "(1, 2, 3, 4)\n",
      "1 uint16 0.0\n",
      "0\n",
      "11994\n",
      "(1490, 1506)\n",
      "2 uint16 0.0\n",
      "0\n",
      "10715\n",
      "(1490, 1506)\n",
      "3 uint16 0.0\n",
      "0\n",
      "10384\n",
      "(1490, 1506)\n",
      "4 uint16 0.0\n",
      "0\n",
      "7989\n",
      "(1490, 1506)\n"
     ]
    }
   ],
   "source": [
    "import rasterio\n",
    "import numpy as np\n",
    "import geowombat as gw\n",
    "\n",
    "REFERENCE= r\"C:\\development\\doodleverse\\geowombat\\floris_4-band_multispectral_Analytic_Ortho_Scene_QGIS\\files\\20240217_095622_49_2455_3B_AnalyticMS_clip.tif\"\n",
    "INFILE = r\"C:\\development\\doodleverse\\geowombat\\floris_4-band_multispectral_Analytic_Ortho_Scene_QGIS\\files\\20240227_104111_46_247d_3B_AnalyticMS_clip.tif\"\n",
    "\n",
    "\n",
    "with rasterio.open(REFERENCE) as new_tif:\n",
    "    print(new_tif.indexes)\n",
    "    for i, dtype, nodataval in zip(new_tif.indexes, new_tif.dtypes, new_tif.nodatavals):\n",
    "        print(i, dtype, nodataval)\n",
    "        print(np.min(new_tif.read(i)))\n",
    "        print(np.max(new_tif.read(i)))\n",
    "        print(new_tif.read(i).shape)"
   ]
  },
  {
   "cell_type": "code",
   "execution_count": 3,
   "metadata": {},
   "outputs": [
    {
     "name": "stderr",
     "output_type": "stream",
     "text": [
      "Polygonize progress     |==================================================| 100.0% Complete  => 0:00:00\n",
      "Polygonize progress     |--------------------------------------------------| 0.0% Complete  => 0:00:00"
     ]
    },
    {
     "name": "stdout",
     "output_type": "stream",
     "text": [
      "Calculating footprint polygon and actual data corner coordinates for reference image...\n",
      "Bounding box of calculated footprint for reference image:\n",
      "\t(662601.0, 5922564.0, 667119.0, 5927034.0)\n",
      "Calculating footprint polygon and actual data corner coordinates for image to be shifted...\n"
     ]
    },
    {
     "name": "stderr",
     "output_type": "stream",
     "text": [
      "Polygonize progress     |==================================================| 100.0% Complete  => 0:00:00\n"
     ]
    },
    {
     "name": "stdout",
     "output_type": "stream",
     "text": [
      "Bounding box of calculated footprint for image to be shifted:\n",
      "\t(662601.0, 5922564.0, 667119.0, 5924703.0)\n",
      "Matching window position (X,Y): 664632.9014400373/5923418.912510695\n",
      "Detected integer shifts (X/Y):                            0/-1\n",
      "Detected subpixel shifts (X/Y):                           -0.3433103903376347/0.2917924348504631\n",
      "Calculated total shifts in fft pixel units (X/Y):         -0.3433103903376347/-0.708207565149537\n",
      "Calculated total shifts in reference pixel units (X/Y):   -0.3433103903376347/-0.708207565149537\n",
      "Calculated total shifts in target pixel units (X/Y):      -0.3433103903376347/-0.708207565149537\n",
      "Calculated map shifts (X,Y):\t\t\t\t  -1.0299311709823087/2.124622695147991\n",
      "Calculated absolute shift vector length in map units:     2.361097163121184\n",
      "Calculated angle of shift vector in degrees from North:   154.13776843553677\n",
      "Original map info: ['UTM', 1.0, 1.0, 662601.0, 5927034.0, 3.0, 3.0, 31, 'North', 'WGS-84']\n",
      "Updated map info:  ['UTM', 1.0, 1.0, '662599.970068829', '5927036.124622695', 3.0, 3.0, 31, 'North', 'WGS-84']\n",
      "Image similarity within the matching window (SSIM before/after correction): 0.3529 => 0.3637\n",
      "Estimated reliability of the calculated shifts:  72.9 %\n",
      "Correcting geometric shifts...\n",
      "NOTE: The detected shift is corrected by updating the map info of the target image only, i.e., without any resampling. Set the 'align_grids' parameter to True if you need the target and the reference coordinate grids to be aligned.\n",
      "<xarray.DataArray 'array-8c4a604276e57a67fe3f069eb5079dd5' (band: 4, y: 1490,\n",
      "                                                            x: 1506)> Size: 72MB\n",
      "dask.array<array, shape=(4, 1490, 1506), dtype=float64, chunksize=(4, 256, 256), chunktype=numpy.ndarray>\n",
      "Coordinates:\n",
      "  * band     (band) int32 16B 1 2 3 4\n",
      "  * y        (y) float64 12kB 5.927e+06 5.927e+06 ... 5.923e+06 5.923e+06\n",
      "  * x        (x) float64 12kB 6.626e+05 6.626e+05 ... 6.671e+05 6.671e+05\n",
      "Attributes: (12/17)\n",
      "    transform:           (3.0, 0.0, 662599.970068829, 0.0, -3.0, 5927036.1246...\n",
      "    crs:                 32631\n",
      "    res:                 (3.0, 3.0)\n",
      "    is_tiled:            1\n",
      "    nodatavals:          (0.0, 0.0, 0.0, 0.0)\n",
      "    _FillValue:          0.0\n",
      "    ...                  ...\n",
      "    filename:            C:\\development\\doodleverse\\geowombat\\floris_4-band_m...\n",
      "    resampling:          nearest\n",
      "    _data_are_separate:  0\n",
      "    _data_are_stacked:   0\n",
      "    x_shift_px:          -0.3433103903376347\n",
      "    y_shift_px:          -0.708207565149537\n"
     ]
    },
    {
     "name": "stderr",
     "output_type": "stream",
     "text": [
      "100%|██████████| 37/37 [00:00<00:00, 681.92it/s]\n"
     ]
    }
   ],
   "source": [
    "REFERENCE= r\"C:\\development\\doodleverse\\geowombat\\floris_4-band_multispectral_Analytic_Ortho_Scene_QGIS\\files\\20240217_095622_49_2455_3B_AnalyticMS_clip.tif\"\n",
    "INFILE = r\"C:\\development\\doodleverse\\geowombat\\floris_4-band_multispectral_Analytic_Ortho_Scene_QGIS\\files\\20240227_104111_46_247d_3B_AnalyticMS_clip.tif\"\n",
    "\n",
    "with gw.open(INFILE) as target, gw.open(\n",
    "    REFERENCE\n",
    ") as reference:\n",
    "    target_shifted = gw.coregister(\n",
    "        target=target,\n",
    "        reference=reference,\n",
    "        max_shift=500, \n",
    "        q=False, #quiet mode (default: False)\n",
    "        CPUs=1, #  number of CPUs to use during pixel grid equalization (default: None, which means ‘all CPUs available’)\n",
    "    )\n",
    "    print(target_shifted)\n",
    "    target_shifted\n",
    "    gw.save(target_shifted, 'shifted_test.tif', compress='lzw', num_workers=8)"
   ]
  },
  {
   "cell_type": "code",
   "execution_count": null,
   "metadata": {},
   "outputs": [],
   "source": []
  }
 ],
 "metadata": {
  "kernelspec": {
   "display_name": "geowombat",
   "language": "python",
   "name": "python3"
  },
  "language_info": {
   "codemirror_mode": {
    "name": "ipython",
    "version": 3
   },
   "file_extension": ".py",
   "mimetype": "text/x-python",
   "name": "python",
   "nbconvert_exporter": "python",
   "pygments_lexer": "ipython3",
   "version": "3.10.14"
  }
 },
 "nbformat": 4,
 "nbformat_minor": 2
}
