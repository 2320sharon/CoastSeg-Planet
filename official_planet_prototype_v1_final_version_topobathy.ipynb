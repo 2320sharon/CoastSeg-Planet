{
 "cells": [
  {
   "cell_type": "markdown",
   "metadata": {},
   "source": [
    "# Prepare the LandSat Image \n",
    "Convert from float64 to unit16 & nodata values are set to 0\n",
    "\n",
    "Note to self the landsat directory currently being used is not the correct one. We need the one that was at the planet location.."
   ]
  },
  {
   "cell_type": "code",
   "execution_count": 1,
   "metadata": {},
   "outputs": [
    {
     "name": "stderr",
     "output_type": "stream",
     "text": [
      "c:\\Users\\sf230\\anaconda3\\envs\\coastseg_planet\\Lib\\site-packages\\h5py\\__init__.py:36: UserWarning: h5py is running against HDF5 1.14.3 when it was built against 1.14.2, this may cause problems\n",
      "  _warn((\"h5py is running against HDF5 {0} when it was built against {1}, \"\n"
     ]
    },
    {
     "name": "stdout",
     "output_type": "stream",
     "text": [
      "WARNING:tensorflow:From c:\\Users\\sf230\\anaconda3\\envs\\coastseg_planet\\Lib\\site-packages\\keras\\src\\losses.py:2976: The name tf.losses.sparse_softmax_cross_entropy is deprecated. Please use tf.compat.v1.losses.sparse_softmax_cross_entropy instead.\n",
      "\n"
     ]
    },
    {
     "name": "stderr",
     "output_type": "stream",
     "text": [
      "Transformers is only compatible with Keras 2, but you have explicitly set `TF_USE_LEGACY_KERAS` to `0`. This may result in unexpected behaviour or errors if Keras 3 objects are passed to Transformers models.\n"
     ]
    },
    {
     "name": "stdout",
     "output_type": "stream",
     "text": [
      "Version:  2.15.0\n",
      "Eager mode:  True\n"
     ]
    }
   ],
   "source": [
    "# Standard Library Imports\n",
    "import os\n",
    "import shutil\n",
    "import glob\n",
    "\n",
    "# Third-party Library Imports\n",
    "import numpy as np\n",
    "import rasterio\n",
    "from rasterio.plot import show\n",
    "from skimage.io import imsave\n",
    "from skimage import img_as_ubyte\n",
    "\n",
    "# Project-specific Imports\n",
    "from coastseg_planet import processing\n",
    "from coastseg_planet import masking\n",
    "from coastseg_planet import download\n",
    "from coastseg_planet import model\n",
    "from coastseg_planet import coregister\n",
    "from coastseg_planet import visualize\n",
    "\n",
    "# Specific functions from project-specific modules\n",
    "from coastseg_planet.processing import (\n",
    "    convert_from_float_to_unit16,\n",
    "    create_tiled_raster,\n",
    "    convert_landsat_to_model_format,\n",
    "    get_best_landsat_from_dir,\n",
    "    get_best_landsat_tifs,\n",
    "    get_tiffs_with_bad_area\n",
    ")\n",
    "from coastseg_planet.masking import apply_cloudmask_to_dir\n"
   ]
  },
  {
   "cell_type": "markdown",
   "metadata": {},
   "source": [
    "## Global Variables"
   ]
  },
  {
   "cell_type": "code",
   "execution_count": 2,
   "metadata": {},
   "outputs": [],
   "source": [
    "# If downloaded with TOAR tool applied don't convert to TOAR again (set this to False)\n",
    "convert_to_TOAR = False\n",
    "# Whether to run the classification model or not to sort the images into good and bad directories\n",
    "run_good_bad_classification = False #@todo make this true"
   ]
  },
  {
   "cell_type": "markdown",
   "metadata": {},
   "source": [
    "## Initialization\n",
    "1. Provide directory of CoastSeg downloaded session\n",
    "2. The directory of planet images"
   ]
  },
  {
   "cell_type": "code",
   "execution_count": 3,
   "metadata": {},
   "outputs": [],
   "source": [
    "# input the coastseg session with landsat data downloaded\n",
    "downloaded_directory = r\"C:\\development\\doodleverse\\coastseg\\CoastSeg\\data\\ID_1_datetime06-07-24__02_01_53\" # this is a custom roi thats the same as the planet roi\n",
    "# this is where we would download the ROI with planet or load it if it was already downloaded\n",
    "planet_dir = r\"C:\\development\\coastseg-planet\\downloads\\Alaska_TOAR_enabled\\42444c87-d914-4330-ba4b-3c948829db3f\\PSScene\"\n",
    "good_dir = os.path.join(planet_dir, \"good\")\n",
    "model_path = r\"C:\\development\\coastseg-planet\\CoastSeg-Planet\\models\\best_rgb.h5\"\n",
    "csv_path = os.path.join(planet_dir, \"classification_results.csv\")\n",
    "output_folder = planet_dir\n",
    "path_to_inference_imgs = planet_dir"
   ]
  },
  {
   "cell_type": "markdown",
   "metadata": {},
   "source": [
    "## Get the Best LandSat Raster"
   ]
  },
  {
   "cell_type": "code",
   "execution_count": 4,
   "metadata": {},
   "outputs": [
    {
     "name": "stdout",
     "output_type": "stream",
     "text": [
      "54\n",
      "The best satellite is L9\n",
      "The best landsat tiff is at : C:\\development\\doodleverse\\coastseg\\CoastSeg\\data\\ID_1_datetime06-07-24__02_01_53\\L9\\ms\\2023-07-23-22-08-13_L9_ID_1_datetime06-07-24__02_01_53_ms.tif\n",
      "The best landsat cloud mask is at : C:\\development\\doodleverse\\coastseg\\CoastSeg\\data\\ID_1_datetime06-07-24__02_01_53\\L9\\mask\\2023-07-23-22-08-13_L9_ID_1_datetime06-07-24__02_01_53_mask.tif\n"
     ]
    }
   ],
   "source": [
    "# get the landsat with the lowest RMSE and the cloud cover mask\n",
    "landsat_dir=get_best_landsat_from_dir(downloaded_directory)\n",
    "landsat_path, raw_landsat_cloud_mask_path=get_best_landsat_tifs(downloaded_directory)\n",
    "print(f\"The best satellite is {landsat_dir}\")\n",
    "print(f\"The best landsat tiff is at : {landsat_path}\")\n",
    "print(f\"The best landsat cloud mask is at : {raw_landsat_cloud_mask_path}\")"
   ]
  },
  {
   "cell_type": "markdown",
   "metadata": {},
   "source": [
    "## Convert the LandSat to RGB Tiff Model Compatible Format"
   ]
  },
  {
   "cell_type": "code",
   "execution_count": 5,
   "metadata": {},
   "outputs": [
    {
     "name": "stdout",
     "output_type": "stream",
     "text": [
      "dtype: uint8, shape: (280, 280, 3), count: 3\n",
      "Saving image to C:\\development\\doodleverse\\coastseg\\CoastSeg\\data\\ID_1_datetime06-07-24__02_01_53\\L9\\ms\\2023-07-23-22-08-13_L9_ID_1_datetime06-07-24__02_01_53_processed.jpg\n",
      "The landsat image that will be used for the model is at : C:\\development\\doodleverse\\coastseg\\CoastSeg\\data\\ID_1_datetime06-07-24__02_01_53\\L9\\ms\\2023-07-23-22-08-13_L9_ID_1_datetime06-07-24__02_01_53_processed_model_format.tif\n"
     ]
    }
   ],
   "source": [
    "landsat_processed_path  = processing.format_landsat_tiff(landsat_path)\n",
    "print(f\"The landsat image that will be used for the model is at : {landsat_processed_path}\")"
   ]
  },
  {
   "cell_type": "markdown",
   "metadata": {},
   "source": [
    "## Convert the LandSat Cloud Mask to a Boolean Format\n"
   ]
  },
  {
   "cell_type": "code",
   "execution_count": 6,
   "metadata": {},
   "outputs": [
    {
     "data": {
      "text/plain": [
       "'C:\\\\development\\\\doodleverse\\\\coastseg\\\\CoastSeg\\\\data\\\\ID_1_datetime06-07-24__02_01_53\\\\L9\\\\mask\\\\2023-07-23-22-08-13_L9_ID_1_datetime06-07-24__02_01_53_mask_processed.tif'"
      ]
     },
     "execution_count": 6,
     "metadata": {},
     "output_type": "execute_result"
    }
   ],
   "source": [
    "landsat_cloud_mask_path =  raw_landsat_cloud_mask_path.replace(\".tif\",\"_processed.tif\")\n",
    "masking.save_landsat_cloud_mask(raw_landsat_cloud_mask_path, landsat_cloud_mask_path)"
   ]
  },
  {
   "cell_type": "markdown",
   "metadata": {},
   "source": [
    "# Filter the Planet Images By Area\n",
    "- Remove images that are less than 80% of the expected area & move them to the bad directory"
   ]
  },
  {
   "cell_type": "code",
   "execution_count": 7,
   "metadata": {},
   "outputs": [
    {
     "name": "stdout",
     "output_type": "stream",
     "text": [
      "Number of TIFFs: 97\n",
      "Number of bad TIFFs: 0\n"
     ]
    }
   ],
   "source": [
    "# get the tiffs in the directory depending on whether the TOAR tool was applied or not\n",
    "tiff_paths= []\n",
    "if convert_to_TOAR:\n",
    "    tiff_paths = glob.glob(os.path.join(planet_dir,\"*AnalyticMS_clip.tif\"))\n",
    "else: # if the TOAR tool was already applied\n",
    "    tiff_paths = glob.glob(os.path.join(planet_dir,\"*3B_AnalyticMS_toar_clip.tif\"))\n",
    "    if len(tiff_paths) == 0:\n",
    "        print(\"No TIFFs found in the directory\")\n",
    "    \n",
    "print(f\"Number of TIFFs: {len(tiff_paths)}\")\n",
    "# improvement get the planet tiff with the largest area and use that as the expected area\n",
    "expected_area_km = 4.5  # 4.1 square kilometers\n",
    "threshold = 0.90\n",
    "bad_tiff_paths = get_tiffs_with_bad_area(tiff_paths, expected_area_km, threshold, use_threads=True)\n",
    "print(f\"Number of bad TIFFs: {len(bad_tiff_paths)}\")\n",
    "# for each bad tiff move it a new folder called bad\n",
    "bad_path = os.path.join(planet_dir,\"bad\")\n",
    "os.makedirs(bad_path,exist_ok=True)\n",
    "for bad_tiff in bad_tiff_paths:\n",
    "    # move the file to the bad folder\n",
    "    shutil.move(bad_tiff,bad_path)"
   ]
  },
  {
   "cell_type": "markdown",
   "metadata": {},
   "source": [
    "# Convert the Planet Images to TOAR if not already TOAR\n",
    "-todo use the fact the tifs generated by Toar clip in the name to set the value of convert_to_TOAR"
   ]
  },
  {
   "cell_type": "code",
   "execution_count": 8,
   "metadata": {},
   "outputs": [],
   "source": [
    "# convert the files in the directory to TOAR (Top of Atmosphere Reflectance) \n",
    "if convert_to_TOAR:\n",
    "    processing.convert_directory_to_TOAR(planet_dir,input_suffix='AnalyticMS_clip.tif',output_suffix='_TOAR.tif',separator='_3B')\n"
   ]
  },
  {
   "cell_type": "markdown",
   "metadata": {},
   "source": [
    "# Convert Planet Imagery to Same Format as LandSat\n",
    "- reorder to bands to be  RGBNIR\n",
    "- scale the values to be 0 - 255 "
   ]
  },
  {
   "cell_type": "code",
   "execution_count": 9,
   "metadata": {},
   "outputs": [],
   "source": [
    "# convert to RGB format that is compatible with the model. Range of values is 0-255\n",
    "if convert_to_TOAR:\n",
    "    input_suffix='3B_TOAR.tif'\n",
    "else:\n",
    "    input_suffix='_3B_AnalyticMS_toar_clip.tif'\n",
    "processing.convert_directory_to_model_format(planet_dir,input_suffix=input_suffix,output_suffix='_TOAR_model_format.tif',separator='_3B')"
   ]
  },
  {
   "cell_type": "markdown",
   "metadata": {},
   "source": [
    "## Filter the Planet Imagery\n",
    "Use a model to sort the images as good or bad"
   ]
  },
  {
   "cell_type": "code",
   "execution_count": null,
   "metadata": {},
   "outputs": [],
   "source": [
    "run_good_bad_classification = True"
   ]
  },
  {
   "cell_type": "code",
   "execution_count": 10,
   "metadata": {},
   "outputs": [],
   "source": [
    "\n",
    "regex = '*TOAR_model_format'\n",
    "# use a parameter to control if the good bad classification should run again\n",
    "if run_good_bad_classification:\n",
    "    model.run_classification_model(model_path, path_to_inference_imgs, output_folder, csv_path, regex, move_files=False)\n",
    "# if the classification model was not run then \n",
    "if not os.path.exists(good_dir):\n",
    "    good_dir = planet_dir"
   ]
  },
  {
   "cell_type": "markdown",
   "metadata": {},
   "source": [
    "# Apply Cloud Masks to Planet\n",
    "Create a cloud and shadow mask for each image in the directory of planet images"
   ]
  },
  {
   "cell_type": "code",
   "execution_count": 11,
   "metadata": {},
   "outputs": [
    {
     "name": "stdout",
     "output_type": "stream",
     "text": [
      "Processing C:\\development\\coastseg-planet\\downloads\\Alaska_TOAR_enabled\\42444c87-d914-4330-ba4b-3c948829db3f\\PSScene\\good\\20230927_211936_77_24c3_3B_udm2_clip.tif\n",
      "Creating cloud and shadow mask from C:\\development\\coastseg-planet\\downloads\\Alaska_TOAR_enabled\\42444c87-d914-4330-ba4b-3c948829db3f\\PSScene\\good\\20230927_211936_77_24c3_3B_udm2_clip.tif\n",
      "Saving combined mask to C:\\development\\coastseg-planet\\downloads\\Alaska_TOAR_enabled\\42444c87-d914-4330-ba4b-3c948829db3f\\PSScene\\good\\20230927_211936_77_24c3_3B_udm2_clip_combined_mask.tif\n",
      "Processing C:\\development\\coastseg-planet\\downloads\\Alaska_TOAR_enabled\\42444c87-d914-4330-ba4b-3c948829db3f\\PSScene\\good\\20230927_211939_09_24c3_3B_udm2_clip.tif\n",
      "Creating cloud and shadow mask from C:\\development\\coastseg-planet\\downloads\\Alaska_TOAR_enabled\\42444c87-d914-4330-ba4b-3c948829db3f\\PSScene\\good\\20230927_211939_09_24c3_3B_udm2_clip.tif\n",
      "Saving combined mask to C:\\development\\coastseg-planet\\downloads\\Alaska_TOAR_enabled\\42444c87-d914-4330-ba4b-3c948829db3f\\PSScene\\good\\20230927_211939_09_24c3_3B_udm2_clip_combined_mask.tif\n",
      "Processing C:\\development\\coastseg-planet\\downloads\\Alaska_TOAR_enabled\\42444c87-d914-4330-ba4b-3c948829db3f\\PSScene\\good\\20230930_212106_60_2439_3B_udm2_clip.tif\n",
      "Creating cloud and shadow mask from C:\\development\\coastseg-planet\\downloads\\Alaska_TOAR_enabled\\42444c87-d914-4330-ba4b-3c948829db3f\\PSScene\\good\\20230930_212106_60_2439_3B_udm2_clip.tif\n",
      "Saving combined mask to C:\\development\\coastseg-planet\\downloads\\Alaska_TOAR_enabled\\42444c87-d914-4330-ba4b-3c948829db3f\\PSScene\\good\\20230930_212106_60_2439_3B_udm2_clip_combined_mask.tif\n",
      "Processing C:\\development\\coastseg-planet\\downloads\\Alaska_TOAR_enabled\\42444c87-d914-4330-ba4b-3c948829db3f\\PSScene\\good\\20230930_212108_67_2439_3B_udm2_clip.tif\n",
      "Creating cloud and shadow mask from C:\\development\\coastseg-planet\\downloads\\Alaska_TOAR_enabled\\42444c87-d914-4330-ba4b-3c948829db3f\\PSScene\\good\\20230930_212108_67_2439_3B_udm2_clip.tif\n",
      "Saving combined mask to C:\\development\\coastseg-planet\\downloads\\Alaska_TOAR_enabled\\42444c87-d914-4330-ba4b-3c948829db3f\\PSScene\\good\\20230930_212108_67_2439_3B_udm2_clip_combined_mask.tif\n",
      "Processing C:\\development\\coastseg-planet\\downloads\\Alaska_TOAR_enabled\\42444c87-d914-4330-ba4b-3c948829db3f\\PSScene\\good\\20230930_215330_30_247d_3B_udm2_clip.tif\n",
      "Creating cloud and shadow mask from C:\\development\\coastseg-planet\\downloads\\Alaska_TOAR_enabled\\42444c87-d914-4330-ba4b-3c948829db3f\\PSScene\\good\\20230930_215330_30_247d_3B_udm2_clip.tif\n",
      "Saving combined mask to C:\\development\\coastseg-planet\\downloads\\Alaska_TOAR_enabled\\42444c87-d914-4330-ba4b-3c948829db3f\\PSScene\\good\\20230930_215330_30_247d_3B_udm2_clip_combined_mask.tif\n",
      "Processing C:\\development\\coastseg-planet\\downloads\\Alaska_TOAR_enabled\\42444c87-d914-4330-ba4b-3c948829db3f\\PSScene\\good\\20231003_211449_43_2465_3B_udm2_clip.tif\n",
      "Creating cloud and shadow mask from C:\\development\\coastseg-planet\\downloads\\Alaska_TOAR_enabled\\42444c87-d914-4330-ba4b-3c948829db3f\\PSScene\\good\\20231003_211449_43_2465_3B_udm2_clip.tif\n",
      "Saving combined mask to C:\\development\\coastseg-planet\\downloads\\Alaska_TOAR_enabled\\42444c87-d914-4330-ba4b-3c948829db3f\\PSScene\\good\\20231003_211449_43_2465_3B_udm2_clip_combined_mask.tif\n",
      "Processing C:\\development\\coastseg-planet\\downloads\\Alaska_TOAR_enabled\\42444c87-d914-4330-ba4b-3c948829db3f\\PSScene\\good\\20231003_211451_50_2465_3B_udm2_clip.tif\n",
      "Creating cloud and shadow mask from C:\\development\\coastseg-planet\\downloads\\Alaska_TOAR_enabled\\42444c87-d914-4330-ba4b-3c948829db3f\\PSScene\\good\\20231003_211451_50_2465_3B_udm2_clip.tif\n",
      "Saving combined mask to C:\\development\\coastseg-planet\\downloads\\Alaska_TOAR_enabled\\42444c87-d914-4330-ba4b-3c948829db3f\\PSScene\\good\\20231003_211451_50_2465_3B_udm2_clip_combined_mask.tif\n",
      "Processing C:\\development\\coastseg-planet\\downloads\\Alaska_TOAR_enabled\\42444c87-d914-4330-ba4b-3c948829db3f\\PSScene\\good\\20231003_211648_61_2440_3B_udm2_clip.tif\n",
      "Creating cloud and shadow mask from C:\\development\\coastseg-planet\\downloads\\Alaska_TOAR_enabled\\42444c87-d914-4330-ba4b-3c948829db3f\\PSScene\\good\\20231003_211648_61_2440_3B_udm2_clip.tif\n",
      "Saving combined mask to C:\\development\\coastseg-planet\\downloads\\Alaska_TOAR_enabled\\42444c87-d914-4330-ba4b-3c948829db3f\\PSScene\\good\\20231003_211648_61_2440_3B_udm2_clip_combined_mask.tif\n",
      "Processing C:\\development\\coastseg-planet\\downloads\\Alaska_TOAR_enabled\\42444c87-d914-4330-ba4b-3c948829db3f\\PSScene\\good\\20231003_211928_14_24a9_3B_udm2_clip.tif\n",
      "Creating cloud and shadow mask from C:\\development\\coastseg-planet\\downloads\\Alaska_TOAR_enabled\\42444c87-d914-4330-ba4b-3c948829db3f\\PSScene\\good\\20231003_211928_14_24a9_3B_udm2_clip.tif\n",
      "Saving combined mask to C:\\development\\coastseg-planet\\downloads\\Alaska_TOAR_enabled\\42444c87-d914-4330-ba4b-3c948829db3f\\PSScene\\good\\20231003_211928_14_24a9_3B_udm2_clip_combined_mask.tif\n",
      "Processing C:\\development\\coastseg-planet\\downloads\\Alaska_TOAR_enabled\\42444c87-d914-4330-ba4b-3c948829db3f\\PSScene\\good\\20231004_215523_27_2488_3B_udm2_clip.tif\n",
      "Creating cloud and shadow mask from C:\\development\\coastseg-planet\\downloads\\Alaska_TOAR_enabled\\42444c87-d914-4330-ba4b-3c948829db3f\\PSScene\\good\\20231004_215523_27_2488_3B_udm2_clip.tif\n",
      "Saving combined mask to C:\\development\\coastseg-planet\\downloads\\Alaska_TOAR_enabled\\42444c87-d914-4330-ba4b-3c948829db3f\\PSScene\\good\\20231004_215523_27_2488_3B_udm2_clip_combined_mask.tif\n",
      "Processing C:\\development\\coastseg-planet\\downloads\\Alaska_TOAR_enabled\\42444c87-d914-4330-ba4b-3c948829db3f\\PSScene\\good\\20231004_215525_38_2488_3B_udm2_clip.tif\n",
      "Creating cloud and shadow mask from C:\\development\\coastseg-planet\\downloads\\Alaska_TOAR_enabled\\42444c87-d914-4330-ba4b-3c948829db3f\\PSScene\\good\\20231004_215525_38_2488_3B_udm2_clip.tif\n",
      "Saving combined mask to C:\\development\\coastseg-planet\\downloads\\Alaska_TOAR_enabled\\42444c87-d914-4330-ba4b-3c948829db3f\\PSScene\\good\\20231004_215525_38_2488_3B_udm2_clip_combined_mask.tif\n",
      "Processing C:\\development\\coastseg-planet\\downloads\\Alaska_TOAR_enabled\\42444c87-d914-4330-ba4b-3c948829db3f\\PSScene\\good\\20231005_215411_33_2461_3B_udm2_clip.tif\n",
      "Creating cloud and shadow mask from C:\\development\\coastseg-planet\\downloads\\Alaska_TOAR_enabled\\42444c87-d914-4330-ba4b-3c948829db3f\\PSScene\\good\\20231005_215411_33_2461_3B_udm2_clip.tif\n",
      "Saving combined mask to C:\\development\\coastseg-planet\\downloads\\Alaska_TOAR_enabled\\42444c87-d914-4330-ba4b-3c948829db3f\\PSScene\\good\\20231005_215411_33_2461_3B_udm2_clip_combined_mask.tif\n",
      "Processing C:\\development\\coastseg-planet\\downloads\\Alaska_TOAR_enabled\\42444c87-d914-4330-ba4b-3c948829db3f\\PSScene\\good\\20231008_212143_84_24a9_3B_udm2_clip.tif\n",
      "Creating cloud and shadow mask from C:\\development\\coastseg-planet\\downloads\\Alaska_TOAR_enabled\\42444c87-d914-4330-ba4b-3c948829db3f\\PSScene\\good\\20231008_212143_84_24a9_3B_udm2_clip.tif\n",
      "Saving combined mask to C:\\development\\coastseg-planet\\downloads\\Alaska_TOAR_enabled\\42444c87-d914-4330-ba4b-3c948829db3f\\PSScene\\good\\20231008_212143_84_24a9_3B_udm2_clip_combined_mask.tif\n",
      "Processing C:\\development\\coastseg-planet\\downloads\\Alaska_TOAR_enabled\\42444c87-d914-4330-ba4b-3c948829db3f\\PSScene\\good\\20231009_215916_19_2478_3B_udm2_clip.tif\n",
      "Creating cloud and shadow mask from C:\\development\\coastseg-planet\\downloads\\Alaska_TOAR_enabled\\42444c87-d914-4330-ba4b-3c948829db3f\\PSScene\\good\\20231009_215916_19_2478_3B_udm2_clip.tif\n",
      "Saving combined mask to C:\\development\\coastseg-planet\\downloads\\Alaska_TOAR_enabled\\42444c87-d914-4330-ba4b-3c948829db3f\\PSScene\\good\\20231009_215916_19_2478_3B_udm2_clip_combined_mask.tif\n",
      "Processing C:\\development\\coastseg-planet\\downloads\\Alaska_TOAR_enabled\\42444c87-d914-4330-ba4b-3c948829db3f\\PSScene\\good\\20231009_215918_25_2478_3B_udm2_clip.tif\n",
      "Creating cloud and shadow mask from C:\\development\\coastseg-planet\\downloads\\Alaska_TOAR_enabled\\42444c87-d914-4330-ba4b-3c948829db3f\\PSScene\\good\\20231009_215918_25_2478_3B_udm2_clip.tif\n",
      "Saving combined mask to C:\\development\\coastseg-planet\\downloads\\Alaska_TOAR_enabled\\42444c87-d914-4330-ba4b-3c948829db3f\\PSScene\\good\\20231009_215918_25_2478_3B_udm2_clip_combined_mask.tif\n",
      "Processing C:\\development\\coastseg-planet\\downloads\\Alaska_TOAR_enabled\\42444c87-d914-4330-ba4b-3c948829db3f\\PSScene\\good\\20231029_212230_99_2427_3B_udm2_clip.tif\n",
      "Creating cloud and shadow mask from C:\\development\\coastseg-planet\\downloads\\Alaska_TOAR_enabled\\42444c87-d914-4330-ba4b-3c948829db3f\\PSScene\\good\\20231029_212230_99_2427_3B_udm2_clip.tif\n",
      "Saving combined mask to C:\\development\\coastseg-planet\\downloads\\Alaska_TOAR_enabled\\42444c87-d914-4330-ba4b-3c948829db3f\\PSScene\\good\\20231029_212230_99_2427_3B_udm2_clip_combined_mask.tif\n",
      "Processing C:\\development\\coastseg-planet\\downloads\\Alaska_TOAR_enabled\\42444c87-d914-4330-ba4b-3c948829db3f\\PSScene\\good\\20231102_212052_38_24ce_3B_udm2_clip.tif\n",
      "Creating cloud and shadow mask from C:\\development\\coastseg-planet\\downloads\\Alaska_TOAR_enabled\\42444c87-d914-4330-ba4b-3c948829db3f\\PSScene\\good\\20231102_212052_38_24ce_3B_udm2_clip.tif\n",
      "Saving combined mask to C:\\development\\coastseg-planet\\downloads\\Alaska_TOAR_enabled\\42444c87-d914-4330-ba4b-3c948829db3f\\PSScene\\good\\20231102_212052_38_24ce_3B_udm2_clip_combined_mask.tif\n"
     ]
    }
   ],
   "source": [
    "# apply cloud mask to directory of planet images and generate cloud masks in that directory for each tif\n",
    "apply_cloudmask_to_dir(good_dir)"
   ]
  },
  {
   "cell_type": "markdown",
   "metadata": {},
   "source": [
    "# Coregister the Planet Imagery to the LandSat Image\n",
    "- We will coregister each modified planet image to the landsat image that was modified to be in the zoo format"
   ]
  },
  {
   "cell_type": "code",
   "execution_count": 12,
   "metadata": {},
   "outputs": [
    {
     "name": "stdout",
     "output_type": "stream",
     "text": [
      "Number of CPUs available: 20\n"
     ]
    }
   ],
   "source": [
    "kwargs = {\n",
    "   'max_shift':2,\n",
    "   'align_grids':True,\n",
    "    \"tieP_filter_level\": 3,\n",
    "    \"min_reliability\": 50,\n",
    "    \"grid_res\": 100,  # tie point grid resolution in pixels of the target image (x-direction) (the lower this value the longer it takes)\n",
    "   'v':True, #verbose mode\n",
    "   'q':False, #quiet mode\n",
    "    \"r_b4match\": 1,  # band of reference image to be used for matching (starts with 1; default: 1)\n",
    "    \"s_b4match\": 1,  # band of source image to be used for matching (starts with 1; default: 1)\n",
    "   'ignore_errors':False, # Recommended to set to True for batch processing\n",
    "    'progress':True,\n",
    "    'out_crea_options':[\"COMPRESS=LZW\"], # otherwise if will use deflate which will not work well with our model\n",
    "    'fmt_out':'GTIFF',\n",
    "    'CPUs' : coregister.get_cpus()/2,\n",
    "}"
   ]
  },
  {
   "cell_type": "code",
   "execution_count": 13,
   "metadata": {},
   "outputs": [
    {
     "name": "stdout",
     "output_type": "stream",
     "text": [
      "Number of CPUs available: 20\n",
      "bad_mask_suffix: _combined_mask.tif\n",
      "input_path: C:\\development\\coastseg-planet\\downloads\\Alaska_TOAR_enabled\\42444c87-d914-4330-ba4b-3c948829db3f\\PSScene\\good\\20230927_211936_77_24c3_3B_TOAR_model_format.tif\n",
      "Parent directory: C:\\development\\coastseg-planet\\downloads\\Alaska_TOAR_enabled\\42444c87-d914-4330-ba4b-3c948829db3f\\PSScene\\good\n",
      "output_path: C:\\development\\coastseg-planet\\downloads\\Alaska_TOAR_enabled\\42444c87-d914-4330-ba4b-3c948829db3f\\PSScene\\good\\20230927_211936_77_24c3_3B_TOAR_processed_coregistered_local.tif\n",
      "Coregistered planet image saved to: C:\\development\\coastseg-planet\\downloads\\Alaska_TOAR_enabled\\42444c87-d914-4330-ba4b-3c948829db3f\\PSScene\\good\\20230927_211936_77_24c3_3B_TOAR_processed_coregistered_local.tif\n",
      "bad_mask_suffix: _combined_mask.tif\n",
      "input_path: C:\\development\\coastseg-planet\\downloads\\Alaska_TOAR_enabled\\42444c87-d914-4330-ba4b-3c948829db3f\\PSScene\\good\\20230927_211939_09_24c3_3B_TOAR_model_format.tif\n",
      "Parent directory: C:\\development\\coastseg-planet\\downloads\\Alaska_TOAR_enabled\\42444c87-d914-4330-ba4b-3c948829db3f\\PSScene\\good\n",
      "output_path: C:\\development\\coastseg-planet\\downloads\\Alaska_TOAR_enabled\\42444c87-d914-4330-ba4b-3c948829db3f\\PSScene\\good\\20230927_211939_09_24c3_3B_TOAR_processed_coregistered_local.tif\n",
      "Coregistered planet image saved to: C:\\development\\coastseg-planet\\downloads\\Alaska_TOAR_enabled\\42444c87-d914-4330-ba4b-3c948829db3f\\PSScene\\good\\20230927_211939_09_24c3_3B_TOAR_processed_coregistered_local.tif\n",
      "bad_mask_suffix: _combined_mask.tif\n",
      "input_path: C:\\development\\coastseg-planet\\downloads\\Alaska_TOAR_enabled\\42444c87-d914-4330-ba4b-3c948829db3f\\PSScene\\good\\20230930_212106_60_2439_3B_TOAR_model_format.tif\n",
      "Parent directory: C:\\development\\coastseg-planet\\downloads\\Alaska_TOAR_enabled\\42444c87-d914-4330-ba4b-3c948829db3f\\PSScene\\good\n",
      "output_path: C:\\development\\coastseg-planet\\downloads\\Alaska_TOAR_enabled\\42444c87-d914-4330-ba4b-3c948829db3f\\PSScene\\good\\20230930_212106_60_2439_3B_TOAR_processed_coregistered_local.tif\n",
      "Coregistered planet image saved to: C:\\development\\coastseg-planet\\downloads\\Alaska_TOAR_enabled\\42444c87-d914-4330-ba4b-3c948829db3f\\PSScene\\good\\20230930_212106_60_2439_3B_TOAR_processed_coregistered_local.tif\n",
      "bad_mask_suffix: _combined_mask.tif\n",
      "input_path: C:\\development\\coastseg-planet\\downloads\\Alaska_TOAR_enabled\\42444c87-d914-4330-ba4b-3c948829db3f\\PSScene\\good\\20230930_212108_67_2439_3B_TOAR_model_format.tif\n",
      "Parent directory: C:\\development\\coastseg-planet\\downloads\\Alaska_TOAR_enabled\\42444c87-d914-4330-ba4b-3c948829db3f\\PSScene\\good\n",
      "output_path: C:\\development\\coastseg-planet\\downloads\\Alaska_TOAR_enabled\\42444c87-d914-4330-ba4b-3c948829db3f\\PSScene\\good\\20230930_212108_67_2439_3B_TOAR_processed_coregistered_local.tif\n",
      "Coregistered planet image saved to: C:\\development\\coastseg-planet\\downloads\\Alaska_TOAR_enabled\\42444c87-d914-4330-ba4b-3c948829db3f\\PSScene\\good\\20230930_212108_67_2439_3B_TOAR_processed_coregistered_local.tif\n",
      "bad_mask_suffix: _combined_mask.tif\n",
      "input_path: C:\\development\\coastseg-planet\\downloads\\Alaska_TOAR_enabled\\42444c87-d914-4330-ba4b-3c948829db3f\\PSScene\\good\\20230930_215330_30_247d_3B_TOAR_model_format.tif\n",
      "Parent directory: C:\\development\\coastseg-planet\\downloads\\Alaska_TOAR_enabled\\42444c87-d914-4330-ba4b-3c948829db3f\\PSScene\\good\n",
      "output_path: C:\\development\\coastseg-planet\\downloads\\Alaska_TOAR_enabled\\42444c87-d914-4330-ba4b-3c948829db3f\\PSScene\\good\\20230930_215330_30_247d_3B_TOAR_processed_coregistered_local.tif\n",
      "Coregistered planet image saved to: C:\\development\\coastseg-planet\\downloads\\Alaska_TOAR_enabled\\42444c87-d914-4330-ba4b-3c948829db3f\\PSScene\\good\\20230930_215330_30_247d_3B_TOAR_processed_coregistered_local.tif\n",
      "bad_mask_suffix: _combined_mask.tif\n",
      "input_path: C:\\development\\coastseg-planet\\downloads\\Alaska_TOAR_enabled\\42444c87-d914-4330-ba4b-3c948829db3f\\PSScene\\good\\20231003_211449_43_2465_3B_TOAR_model_format.tif\n",
      "Parent directory: C:\\development\\coastseg-planet\\downloads\\Alaska_TOAR_enabled\\42444c87-d914-4330-ba4b-3c948829db3f\\PSScene\\good\n",
      "output_path: C:\\development\\coastseg-planet\\downloads\\Alaska_TOAR_enabled\\42444c87-d914-4330-ba4b-3c948829db3f\\PSScene\\good\\20231003_211449_43_2465_3B_TOAR_processed_coregistered_local.tif\n",
      "Coregistered planet image saved to: C:\\development\\coastseg-planet\\downloads\\Alaska_TOAR_enabled\\42444c87-d914-4330-ba4b-3c948829db3f\\PSScene\\good\\20231003_211449_43_2465_3B_TOAR_processed_coregistered_local.tif\n",
      "bad_mask_suffix: _combined_mask.tif\n",
      "input_path: C:\\development\\coastseg-planet\\downloads\\Alaska_TOAR_enabled\\42444c87-d914-4330-ba4b-3c948829db3f\\PSScene\\good\\20231003_211451_50_2465_3B_TOAR_model_format.tif\n",
      "Parent directory: C:\\development\\coastseg-planet\\downloads\\Alaska_TOAR_enabled\\42444c87-d914-4330-ba4b-3c948829db3f\\PSScene\\good\n",
      "output_path: C:\\development\\coastseg-planet\\downloads\\Alaska_TOAR_enabled\\42444c87-d914-4330-ba4b-3c948829db3f\\PSScene\\good\\20231003_211451_50_2465_3B_TOAR_processed_coregistered_local.tif\n",
      "Coregistered planet image saved to: C:\\development\\coastseg-planet\\downloads\\Alaska_TOAR_enabled\\42444c87-d914-4330-ba4b-3c948829db3f\\PSScene\\good\\20231003_211451_50_2465_3B_TOAR_processed_coregistered_local.tif\n",
      "bad_mask_suffix: _combined_mask.tif\n",
      "input_path: C:\\development\\coastseg-planet\\downloads\\Alaska_TOAR_enabled\\42444c87-d914-4330-ba4b-3c948829db3f\\PSScene\\good\\20231003_211648_61_2440_3B_TOAR_model_format.tif\n",
      "Parent directory: C:\\development\\coastseg-planet\\downloads\\Alaska_TOAR_enabled\\42444c87-d914-4330-ba4b-3c948829db3f\\PSScene\\good\n",
      "output_path: C:\\development\\coastseg-planet\\downloads\\Alaska_TOAR_enabled\\42444c87-d914-4330-ba4b-3c948829db3f\\PSScene\\good\\20231003_211648_61_2440_3B_TOAR_processed_coregistered_local.tif\n",
      "Coregistered planet image saved to: C:\\development\\coastseg-planet\\downloads\\Alaska_TOAR_enabled\\42444c87-d914-4330-ba4b-3c948829db3f\\PSScene\\good\\20231003_211648_61_2440_3B_TOAR_processed_coregistered_local.tif\n",
      "bad_mask_suffix: _combined_mask.tif\n",
      "input_path: C:\\development\\coastseg-planet\\downloads\\Alaska_TOAR_enabled\\42444c87-d914-4330-ba4b-3c948829db3f\\PSScene\\good\\20231003_211928_14_24a9_3B_TOAR_model_format.tif\n",
      "Parent directory: C:\\development\\coastseg-planet\\downloads\\Alaska_TOAR_enabled\\42444c87-d914-4330-ba4b-3c948829db3f\\PSScene\\good\n",
      "output_path: C:\\development\\coastseg-planet\\downloads\\Alaska_TOAR_enabled\\42444c87-d914-4330-ba4b-3c948829db3f\\PSScene\\good\\20231003_211928_14_24a9_3B_TOAR_processed_coregistered_local.tif\n",
      "Coregistered planet image saved to: C:\\development\\coastseg-planet\\downloads\\Alaska_TOAR_enabled\\42444c87-d914-4330-ba4b-3c948829db3f\\PSScene\\good\\20231003_211928_14_24a9_3B_TOAR_processed_coregistered_local.tif\n",
      "bad_mask_suffix: _combined_mask.tif\n",
      "input_path: C:\\development\\coastseg-planet\\downloads\\Alaska_TOAR_enabled\\42444c87-d914-4330-ba4b-3c948829db3f\\PSScene\\good\\20231004_215523_27_2488_3B_TOAR_model_format.tif\n",
      "Parent directory: C:\\development\\coastseg-planet\\downloads\\Alaska_TOAR_enabled\\42444c87-d914-4330-ba4b-3c948829db3f\\PSScene\\good\n",
      "output_path: C:\\development\\coastseg-planet\\downloads\\Alaska_TOAR_enabled\\42444c87-d914-4330-ba4b-3c948829db3f\\PSScene\\good\\20231004_215523_27_2488_3B_TOAR_processed_coregistered_local.tif\n",
      "Coregistered planet image saved to: C:\\development\\coastseg-planet\\downloads\\Alaska_TOAR_enabled\\42444c87-d914-4330-ba4b-3c948829db3f\\PSScene\\good\\20231004_215523_27_2488_3B_TOAR_processed_coregistered_local.tif\n",
      "bad_mask_suffix: _combined_mask.tif\n",
      "input_path: C:\\development\\coastseg-planet\\downloads\\Alaska_TOAR_enabled\\42444c87-d914-4330-ba4b-3c948829db3f\\PSScene\\good\\20231004_215525_38_2488_3B_TOAR_model_format.tif\n",
      "Parent directory: C:\\development\\coastseg-planet\\downloads\\Alaska_TOAR_enabled\\42444c87-d914-4330-ba4b-3c948829db3f\\PSScene\\good\n",
      "output_path: C:\\development\\coastseg-planet\\downloads\\Alaska_TOAR_enabled\\42444c87-d914-4330-ba4b-3c948829db3f\\PSScene\\good\\20231004_215525_38_2488_3B_TOAR_processed_coregistered_local.tif\n",
      "Coregistered planet image saved to: C:\\development\\coastseg-planet\\downloads\\Alaska_TOAR_enabled\\42444c87-d914-4330-ba4b-3c948829db3f\\PSScene\\good\\20231004_215525_38_2488_3B_TOAR_processed_coregistered_local.tif\n",
      "bad_mask_suffix: _combined_mask.tif\n",
      "input_path: C:\\development\\coastseg-planet\\downloads\\Alaska_TOAR_enabled\\42444c87-d914-4330-ba4b-3c948829db3f\\PSScene\\good\\20231005_215411_33_2461_3B_TOAR_model_format.tif\n",
      "Parent directory: C:\\development\\coastseg-planet\\downloads\\Alaska_TOAR_enabled\\42444c87-d914-4330-ba4b-3c948829db3f\\PSScene\\good\n",
      "output_path: C:\\development\\coastseg-planet\\downloads\\Alaska_TOAR_enabled\\42444c87-d914-4330-ba4b-3c948829db3f\\PSScene\\good\\20231005_215411_33_2461_3B_TOAR_processed_coregistered_local.tif\n",
      "Coregistered planet image saved to: C:\\development\\coastseg-planet\\downloads\\Alaska_TOAR_enabled\\42444c87-d914-4330-ba4b-3c948829db3f\\PSScene\\good\\20231005_215411_33_2461_3B_TOAR_processed_coregistered_local.tif\n",
      "bad_mask_suffix: _combined_mask.tif\n",
      "input_path: C:\\development\\coastseg-planet\\downloads\\Alaska_TOAR_enabled\\42444c87-d914-4330-ba4b-3c948829db3f\\PSScene\\good\\20231008_212143_84_24a9_3B_TOAR_model_format.tif\n",
      "Parent directory: C:\\development\\coastseg-planet\\downloads\\Alaska_TOAR_enabled\\42444c87-d914-4330-ba4b-3c948829db3f\\PSScene\\good\n",
      "output_path: C:\\development\\coastseg-planet\\downloads\\Alaska_TOAR_enabled\\42444c87-d914-4330-ba4b-3c948829db3f\\PSScene\\good\\20231008_212143_84_24a9_3B_TOAR_processed_coregistered_local.tif\n",
      "Coregistered planet image saved to: C:\\development\\coastseg-planet\\downloads\\Alaska_TOAR_enabled\\42444c87-d914-4330-ba4b-3c948829db3f\\PSScene\\good\\20231008_212143_84_24a9_3B_TOAR_processed_coregistered_local.tif\n",
      "bad_mask_suffix: _combined_mask.tif\n",
      "input_path: C:\\development\\coastseg-planet\\downloads\\Alaska_TOAR_enabled\\42444c87-d914-4330-ba4b-3c948829db3f\\PSScene\\good\\20231009_215916_19_2478_3B_TOAR_model_format.tif\n",
      "Parent directory: C:\\development\\coastseg-planet\\downloads\\Alaska_TOAR_enabled\\42444c87-d914-4330-ba4b-3c948829db3f\\PSScene\\good\n",
      "output_path: C:\\development\\coastseg-planet\\downloads\\Alaska_TOAR_enabled\\42444c87-d914-4330-ba4b-3c948829db3f\\PSScene\\good\\20231009_215916_19_2478_3B_TOAR_processed_coregistered_local.tif\n",
      "Coregistered planet image saved to: C:\\development\\coastseg-planet\\downloads\\Alaska_TOAR_enabled\\42444c87-d914-4330-ba4b-3c948829db3f\\PSScene\\good\\20231009_215916_19_2478_3B_TOAR_processed_coregistered_local.tif\n",
      "bad_mask_suffix: _combined_mask.tif\n",
      "input_path: C:\\development\\coastseg-planet\\downloads\\Alaska_TOAR_enabled\\42444c87-d914-4330-ba4b-3c948829db3f\\PSScene\\good\\20231009_215918_25_2478_3B_TOAR_model_format.tif\n",
      "Parent directory: C:\\development\\coastseg-planet\\downloads\\Alaska_TOAR_enabled\\42444c87-d914-4330-ba4b-3c948829db3f\\PSScene\\good\n",
      "output_path: C:\\development\\coastseg-planet\\downloads\\Alaska_TOAR_enabled\\42444c87-d914-4330-ba4b-3c948829db3f\\PSScene\\good\\20231009_215918_25_2478_3B_TOAR_processed_coregistered_local.tif\n",
      "Coregistered planet image saved to: C:\\development\\coastseg-planet\\downloads\\Alaska_TOAR_enabled\\42444c87-d914-4330-ba4b-3c948829db3f\\PSScene\\good\\20231009_215918_25_2478_3B_TOAR_processed_coregistered_local.tif\n",
      "bad_mask_suffix: _combined_mask.tif\n",
      "input_path: C:\\development\\coastseg-planet\\downloads\\Alaska_TOAR_enabled\\42444c87-d914-4330-ba4b-3c948829db3f\\PSScene\\good\\20231029_212230_99_2427_3B_TOAR_model_format.tif\n",
      "Parent directory: C:\\development\\coastseg-planet\\downloads\\Alaska_TOAR_enabled\\42444c87-d914-4330-ba4b-3c948829db3f\\PSScene\\good\n",
      "output_path: C:\\development\\coastseg-planet\\downloads\\Alaska_TOAR_enabled\\42444c87-d914-4330-ba4b-3c948829db3f\\PSScene\\good\\20231029_212230_99_2427_3B_TOAR_processed_coregistered_local.tif\n",
      "Coregistered planet image saved to: C:\\development\\coastseg-planet\\downloads\\Alaska_TOAR_enabled\\42444c87-d914-4330-ba4b-3c948829db3f\\PSScene\\good\\20231029_212230_99_2427_3B_TOAR_processed_coregistered_local.tif\n",
      "bad_mask_suffix: _combined_mask.tif\n",
      "input_path: C:\\development\\coastseg-planet\\downloads\\Alaska_TOAR_enabled\\42444c87-d914-4330-ba4b-3c948829db3f\\PSScene\\good\\20231102_212052_38_24ce_3B_TOAR_model_format.tif\n",
      "Parent directory: C:\\development\\coastseg-planet\\downloads\\Alaska_TOAR_enabled\\42444c87-d914-4330-ba4b-3c948829db3f\\PSScene\\good\n",
      "output_path: C:\\development\\coastseg-planet\\downloads\\Alaska_TOAR_enabled\\42444c87-d914-4330-ba4b-3c948829db3f\\PSScene\\good\\20231102_212052_38_24ce_3B_TOAR_processed_coregistered_local.tif\n",
      "Coregistered planet image saved to: C:\\development\\coastseg-planet\\downloads\\Alaska_TOAR_enabled\\42444c87-d914-4330-ba4b-3c948829db3f\\PSScene\\good\\20231102_212052_38_24ce_3B_TOAR_processed_coregistered_local.tif\n"
     ]
    }
   ],
   "source": [
    "coregister.coregister_directory(good_dir,\n",
    "                                landsat_processed_path,\n",
    "                                landsat_cloud_mask_path,\n",
    "                                output_suffix='_TOAR_processed_coregistered_local.tif',\n",
    "                                bad_mask_suffix='_combined_mask.tif',\n",
    "                                use_local=True,  # if True, use local coregistration, otherwise use global coregistration\n",
    "                                overwrite=False, # if True, will overwrite the existing coregistered files, otherwise they will be skipped\n",
    "                                **kwargs)"
   ]
  },
  {
   "cell_type": "markdown",
   "metadata": {},
   "source": [
    "# Apply the Model to the Planet Imagery"
   ]
  },
  {
   "cell_type": "markdown",
   "metadata": {},
   "source": [
    "## Create an Elevation Mask from the Topobathy Data\n",
    "- We will use this as our reference shoreline buffer\n",
    "- This code is a bit of a placeholder eventually we will use the code to download the topobathy for the region \n",
    "- For now manually provide the topobathy tiff"
   ]
  },
  {
   "cell_type": "code",
   "execution_count": 14,
   "metadata": {},
   "outputs": [
    {
     "name": "stdout",
     "output_type": "stream",
     "text": [
      "Reading the ROI from C:\\development\\doodleverse\\coastseg\\CoastSeg\\data\\ID_1_datetime06-07-24__02_01_53\\config_gdf.geojson\n",
      "File already exists: C:\\development\\coastseg-planet\\downloads\\Alaska_TOAR_enabled\\42444c87-d914-4330-ba4b-3c948829db3f\\PSScene\\Ak_site_topobathy.tif\n"
     ]
    }
   ],
   "source": [
    "from coastseg_planet.download import download_topobathy\n",
    "# get the roi used to download the planet data\n",
    "config_gdf_path = os.path.join(downloaded_directory,\"config_gdf.geojson\")\n",
    "print(f\"Reading the ROI from {config_gdf_path}\")\n",
    "roi_gdf = processing.read_roi_from_config(config_gdf_path)\n",
    "# print(roi_gdf)\n",
    "sitename = 'Ak_site'\n",
    "topobathy_tiff = download_topobathy(sitename,roi_gdf,planet_dir)"
   ]
  },
  {
   "cell_type": "code",
   "execution_count": 15,
   "metadata": {},
   "outputs": [
    {
     "data": {
      "application/vnd.jupyter.widget-view+json": {
       "model_id": "3abb451cb44e46a69145880f2052d76a",
       "version_major": 2,
       "version_minor": 0
      },
      "text/plain": [
       "VBox(children=(Map(center=[63.87972183544263, -160.80393441480038], controls=(ZoomControl(options=['position',…"
      ]
     },
     "metadata": {},
     "output_type": "display_data"
    }
   ],
   "source": [
    "import rasterio\n",
    "from ipyleaflet import Map, ImageOverlay\n",
    "from ipywidgets import  VBox, FloatRangeSlider\n",
    "import numpy as np\n",
    "import PIL.Image\n",
    "from io import BytesIO\n",
    "import base64\n",
    "\n",
    "with rasterio.open(topobathy_tiff) as src:\n",
    "    mask_data = src.read(1)  # Read the first band\n",
    "    bounds = src.bounds\n",
    "    transform = src.transform\n",
    "\n",
    "# Function to create a base64 PNG image from mask data with transparency\n",
    "def create_masked_image(mask_data, alpha=128):\n",
    "    # Normalize the mask data to 0-255\n",
    "    mask_data = (mask_data / mask_data.max() * 255).astype(np.uint8)\n",
    "    # Create an RGBA image with the red channel filled and alpha channel set by the mask\n",
    "    rgba_image = np.zeros((mask_data.shape[0], mask_data.shape[1], 4), dtype=np.uint8)\n",
    "    rgba_image[..., 0] = mask_data  # Red channel\n",
    "    # Set alpha to the specified value for the masked regions, 0 for the unmasked regions\n",
    "    rgba_image[..., 3] = np.where(mask_data > 0, alpha, 0)  # Alpha channel (transparency)\n",
    "    img = PIL.Image.fromarray(rgba_image)\n",
    "    with BytesIO() as buffer:\n",
    "        img.save(buffer, format=\"png\")\n",
    "        return base64.b64encode(buffer.getvalue()).decode('utf-8')\n",
    "\n",
    "# Create the initial masked image overlay\n",
    "mask_data = np.flipud(mask_data)  # Flip the mask data vertically\n",
    "masked_image = create_masked_image(mask_data)\n",
    "image_overlay = ImageOverlay(\n",
    "    url=\"data:image/png;base64,\" + masked_image,\n",
    "    bounds=[[bounds.bottom, bounds.left], [bounds.top, bounds.right]]\n",
    ")\n",
    "\n",
    "# Create the map\n",
    "m = Map(center=[(bounds.top + bounds.bottom) / 2, (bounds.left + bounds.right) / 2], zoom=15)\n",
    "m.add_layer(image_overlay)\n",
    "\n",
    "# Function to update the mask (simulated here for demonstration purposes)\n",
    "def update_mask(change):\n",
    "    global image_overlay\n",
    "    if not isinstance(change, tuple):\n",
    "        mask = mask_data < change\n",
    "        masked_image = create_masked_image(mask)\n",
    "        image_overlay.url = \"data:image/png;base64,\" + masked_image\n",
    "    else:\n",
    "        lower, upper = change\n",
    "        mask = np.logical_and(mask_data > lower, mask_data < upper)\n",
    "        masked_image = create_masked_image(mask)\n",
    "        image_overlay.url = \"data:image/png;base64,\" + masked_image\n",
    "\n",
    "\n",
    "default_value = (-10, 10)\n",
    "# Create a bounded slider with two handles\n",
    "threshold_slider = FloatRangeSlider(\n",
    "    description='Elevation (m)',\n",
    "    value=[default_value[0], default_value[1]],\n",
    "    min=mask_data.min(),\n",
    "    max=mask_data.max(),\n",
    "    step=0.1,\n",
    ")\n",
    "\n",
    "# Link the slider to the update function\n",
    "threshold_slider.observe(lambda change: update_mask(change['new']), names='value')\n",
    "\n",
    "# Display the map and the slider\n",
    "display(VBox([m, threshold_slider]))\n",
    "\n",
    "# Initial display\n",
    "update_mask(default_value)"
   ]
  },
  {
   "cell_type": "code",
   "execution_count": 16,
   "metadata": {},
   "outputs": [
    {
     "name": "stdout",
     "output_type": "stream",
     "text": [
      "masked_tif_path: C:\\development\\coastseg-planet\\downloads\\Alaska_TOAR_enabled\\42444c87-d914-4330-ba4b-3c948829db3f\\PSScene\\Ak_site_topobathy_mask.tif\n",
      "output_path: C:\\development\\coastseg-planet\\downloads\\Alaska_TOAR_enabled\\42444c87-d914-4330-ba4b-3c948829db3f\\PSScene\\Ak_site_topobathy_mask_utm.tif\n"
     ]
    }
   ],
   "source": [
    "from coastseg_planet.processing import create_elevation_mask\n",
    "from coastseg_planet.processing import match_resolution_and_grid,reproject_to_utm\n",
    "\n",
    "# defaults if you don't want to use the slider for this example\n",
    "# -2.86,16.032718467712403\n",
    "low_threshold = threshold_slider.value[0]\n",
    "high_threshold = threshold_slider.value[1]\n",
    "\n",
    "masked_tif_path = create_elevation_mask(topobathy_tiff,topobathy_tiff.replace(\".tif\",\"_mask.tif\"),low_threshold,high_threshold)\n",
    "print(f\"masked_tif_path: {masked_tif_path}\")\n",
    "# convert the mask to the UTM projection (this is the same as the landsat image)\n",
    "masked_projected_topobathy_tiff = reproject_to_utm(masked_tif_path, masked_tif_path.replace('.tif', '_utm.tif'))\n",
    "print(f\"output_path: {masked_projected_topobathy_tiff }\")"
   ]
  },
  {
   "cell_type": "code",
   "execution_count": 27,
   "metadata": {},
   "outputs": [
    {
     "name": "stdout",
     "output_type": "stream",
     "text": [
      "32604\n",
      "_3B_TOAR_processed_coregistered_global.tif\n",
      "Processing 20230927_211936_77_24c3\n",
      "date 2023-09-27-21-19-36\n",
      "Processing C:\\development\\coastseg-planet\\downloads\\Alaska_TOAR_enabled\\42444c87-d914-4330-ba4b-3c948829db3f\\PSScene\\good\\20230927_211936_77_24c3_3B_TOAR_processed_coregistered_global.tif\n",
      "Using cloud mask: C:\\development\\coastseg-planet\\downloads\\Alaska_TOAR_enabled\\42444c87-d914-4330-ba4b-3c948829db3f\\PSScene\\good\\20230927_211936_77_24c3_3B_udm2_clip.tif\n"
     ]
    },
    {
     "name": "stderr",
     "output_type": "stream",
     "text": [
      "Some layers from the model checkpoint at nvidia/mit-b0 were not used when initializing TFSegformerForSemanticSegmentation: ['classifier']\n",
      "- This IS expected if you are initializing TFSegformerForSemanticSegmentation from the checkpoint of a model trained on another task or with another architecture (e.g. initializing a BertForSequenceClassification model from a BertForPreTraining model).\n",
      "- This IS NOT expected if you are initializing TFSegformerForSemanticSegmentation from the checkpoint of a model that you expect to be exactly identical (initializing a BertForSequenceClassification model from a BertForSequenceClassification model).\n",
      "Some layers of TFSegformerForSemanticSegmentation were not initialized from the model checkpoint at nvidia/mit-b0 and are newly initialized: ['decode_head']\n",
      "You should probably TRAIN this model on a down-stream task to be able to use it for predictions and inference.\n"
     ]
    },
    {
     "name": "stdout",
     "output_type": "stream",
     "text": [
      "Processing image:  C:\\development\\coastseg-planet\\downloads\\Alaska_TOAR_enabled\\42444c87-d914-4330-ba4b-3c948829db3f\\PSScene\\good\\20230927_211936_77_24c3_3B_TOAR_processed_coregistered_global.tif\n",
      "Output file:  C:\\development\\coastseg-planet\\downloads\\Alaska_TOAR_enabled\\42444c87-d914-4330-ba4b-3c948829db3f\\PSScene\\good\\20230927_211936_77_24c3_3B_TOAR_processed_coregistered_global_predseg.png\n",
      "Output file:  C:\\development\\coastseg-planet\\downloads\\Alaska_TOAR_enabled\\42444c87-d914-4330-ba4b-3c948829db3f\\PSScene\\good\\out\\20230927_211936_77_24c3_3B_TOAR_processed_coregistered_global_predseg.png\n",
      "NC: 4, NDB: 3, TS: [512, 512], TTA: False, OT: False\n",
      "N_DATA_BANDS: 3\n",
      "saving segmentation results to C:\\development\\coastseg-planet\\downloads\\Alaska_TOAR_enabled\\42444c87-d914-4330-ba4b-3c948829db3f\\PSScene\\good\\out\\20230927_211936_77_24c3_3B_TOAR_processed_coregistered_global_predseg.png\n",
      "writing metadata to C:\\development\\coastseg-planet\\downloads\\Alaska_TOAR_enabled\\42444c87-d914-4330-ba4b-3c948829db3f\\PSScene\\good\\out\\20230927_211936_77_24c3_3B_TOAR_processed_coregistered_global_res.npz\n",
      "32604\n",
      "class_mapping: {'0': 'water', '1': 'whitewater', '2': 'sediment', '3': 'other'}\n",
      "all_class_color_mapping: {0: (0.0, 0.0, 0.5, 1.0), 1: (0.0, 0.8333333333333334, 1.0, 1.0), 2: (1.0, 0.9012345679012345, 0.0, 1.0), 3: (0.5, 0.0, 0.0, 1.0)}\n",
      "Saving figure to c:\\development\\coastseg-planet\\CoastSeg-Planet\\2023-09-27-21-19-36_planet.jpg\n",
      "Processing 20230927_211939_09_24c3\n",
      "date 2023-09-27-21-19-39\n",
      "Processing C:\\development\\coastseg-planet\\downloads\\Alaska_TOAR_enabled\\42444c87-d914-4330-ba4b-3c948829db3f\\PSScene\\good\\20230927_211939_09_24c3_3B_TOAR_processed_coregistered_global.tif\n",
      "Using cloud mask: C:\\development\\coastseg-planet\\downloads\\Alaska_TOAR_enabled\\42444c87-d914-4330-ba4b-3c948829db3f\\PSScene\\good\\20230927_211939_09_24c3_3B_udm2_clip.tif\n"
     ]
    },
    {
     "name": "stderr",
     "output_type": "stream",
     "text": [
      "Some layers from the model checkpoint at nvidia/mit-b0 were not used when initializing TFSegformerForSemanticSegmentation: ['classifier']\n",
      "- This IS expected if you are initializing TFSegformerForSemanticSegmentation from the checkpoint of a model trained on another task or with another architecture (e.g. initializing a BertForSequenceClassification model from a BertForPreTraining model).\n",
      "- This IS NOT expected if you are initializing TFSegformerForSemanticSegmentation from the checkpoint of a model that you expect to be exactly identical (initializing a BertForSequenceClassification model from a BertForSequenceClassification model).\n",
      "Some layers of TFSegformerForSemanticSegmentation were not initialized from the model checkpoint at nvidia/mit-b0 and are newly initialized: ['decode_head']\n",
      "You should probably TRAIN this model on a down-stream task to be able to use it for predictions and inference.\n"
     ]
    },
    {
     "name": "stdout",
     "output_type": "stream",
     "text": [
      "Processing image:  C:\\development\\coastseg-planet\\downloads\\Alaska_TOAR_enabled\\42444c87-d914-4330-ba4b-3c948829db3f\\PSScene\\good\\20230927_211939_09_24c3_3B_TOAR_processed_coregistered_global.tif\n",
      "Output file:  C:\\development\\coastseg-planet\\downloads\\Alaska_TOAR_enabled\\42444c87-d914-4330-ba4b-3c948829db3f\\PSScene\\good\\20230927_211939_09_24c3_3B_TOAR_processed_coregistered_global_predseg.png\n",
      "Output file:  C:\\development\\coastseg-planet\\downloads\\Alaska_TOAR_enabled\\42444c87-d914-4330-ba4b-3c948829db3f\\PSScene\\good\\out\\20230927_211939_09_24c3_3B_TOAR_processed_coregistered_global_predseg.png\n",
      "NC: 4, NDB: 3, TS: [512, 512], TTA: False, OT: False\n",
      "N_DATA_BANDS: 3\n",
      "saving segmentation results to C:\\development\\coastseg-planet\\downloads\\Alaska_TOAR_enabled\\42444c87-d914-4330-ba4b-3c948829db3f\\PSScene\\good\\out\\20230927_211939_09_24c3_3B_TOAR_processed_coregistered_global_predseg.png\n",
      "writing metadata to C:\\development\\coastseg-planet\\downloads\\Alaska_TOAR_enabled\\42444c87-d914-4330-ba4b-3c948829db3f\\PSScene\\good\\out\\20230927_211939_09_24c3_3B_TOAR_processed_coregistered_global_res.npz\n",
      "32604\n",
      "class_mapping: {'0': 'water', '1': 'whitewater', '2': 'sediment', '3': 'other'}\n",
      "all_class_color_mapping: {0: (0.0, 0.0, 0.5, 1.0), 1: (0.4838709677419355, 1.0, 0.4838709677419356, 1.0), 3: (0.5, 0.0, 0.0, 1.0)}\n",
      "Saving figure to c:\\development\\coastseg-planet\\CoastSeg-Planet\\2023-09-27-21-19-39_planet.jpg\n",
      "Processing 20230930_212106_60_2439\n",
      "date 2023-09-30-21-21-06\n",
      "Processing C:\\development\\coastseg-planet\\downloads\\Alaska_TOAR_enabled\\42444c87-d914-4330-ba4b-3c948829db3f\\PSScene\\good\\20230930_212106_60_2439_3B_TOAR_processed_coregistered_global.tif\n",
      "Using cloud mask: C:\\development\\coastseg-planet\\downloads\\Alaska_TOAR_enabled\\42444c87-d914-4330-ba4b-3c948829db3f\\PSScene\\good\\20230930_212106_60_2439_3B_udm2_clip.tif\n"
     ]
    },
    {
     "name": "stderr",
     "output_type": "stream",
     "text": [
      "Some layers from the model checkpoint at nvidia/mit-b0 were not used when initializing TFSegformerForSemanticSegmentation: ['classifier']\n",
      "- This IS expected if you are initializing TFSegformerForSemanticSegmentation from the checkpoint of a model trained on another task or with another architecture (e.g. initializing a BertForSequenceClassification model from a BertForPreTraining model).\n",
      "- This IS NOT expected if you are initializing TFSegformerForSemanticSegmentation from the checkpoint of a model that you expect to be exactly identical (initializing a BertForSequenceClassification model from a BertForSequenceClassification model).\n",
      "Some layers of TFSegformerForSemanticSegmentation were not initialized from the model checkpoint at nvidia/mit-b0 and are newly initialized: ['decode_head']\n",
      "You should probably TRAIN this model on a down-stream task to be able to use it for predictions and inference.\n"
     ]
    },
    {
     "name": "stdout",
     "output_type": "stream",
     "text": [
      "Processing image:  C:\\development\\coastseg-planet\\downloads\\Alaska_TOAR_enabled\\42444c87-d914-4330-ba4b-3c948829db3f\\PSScene\\good\\20230930_212106_60_2439_3B_TOAR_processed_coregistered_global.tif\n",
      "Output file:  C:\\development\\coastseg-planet\\downloads\\Alaska_TOAR_enabled\\42444c87-d914-4330-ba4b-3c948829db3f\\PSScene\\good\\20230930_212106_60_2439_3B_TOAR_processed_coregistered_global_predseg.png\n",
      "Output file:  C:\\development\\coastseg-planet\\downloads\\Alaska_TOAR_enabled\\42444c87-d914-4330-ba4b-3c948829db3f\\PSScene\\good\\out\\20230930_212106_60_2439_3B_TOAR_processed_coregistered_global_predseg.png\n",
      "NC: 4, NDB: 3, TS: [512, 512], TTA: False, OT: False\n",
      "N_DATA_BANDS: 3\n",
      "saving segmentation results to C:\\development\\coastseg-planet\\downloads\\Alaska_TOAR_enabled\\42444c87-d914-4330-ba4b-3c948829db3f\\PSScene\\good\\out\\20230930_212106_60_2439_3B_TOAR_processed_coregistered_global_predseg.png\n",
      "writing metadata to C:\\development\\coastseg-planet\\downloads\\Alaska_TOAR_enabled\\42444c87-d914-4330-ba4b-3c948829db3f\\PSScene\\good\\out\\20230930_212106_60_2439_3B_TOAR_processed_coregistered_global_res.npz\n",
      "32604\n",
      "class_mapping: {'0': 'water', '1': 'whitewater', '2': 'sediment', '3': 'other'}\n",
      "all_class_color_mapping: {0: (0.0, 0.0, 0.5, 1.0), 1: (0.0, 0.8333333333333334, 1.0, 1.0), 2: (1.0, 0.9012345679012345, 0.0, 1.0), 3: (0.5, 0.0, 0.0, 1.0)}\n",
      "Saving figure to c:\\development\\coastseg-planet\\CoastSeg-Planet\\2023-09-30-21-21-06_planet.jpg\n",
      "Processing 20230930_212108_67_2439\n",
      "date 2023-09-30-21-21-08\n",
      "Processing C:\\development\\coastseg-planet\\downloads\\Alaska_TOAR_enabled\\42444c87-d914-4330-ba4b-3c948829db3f\\PSScene\\good\\20230930_212108_67_2439_3B_TOAR_processed_coregistered_global.tif\n",
      "Using cloud mask: C:\\development\\coastseg-planet\\downloads\\Alaska_TOAR_enabled\\42444c87-d914-4330-ba4b-3c948829db3f\\PSScene\\good\\20230930_212108_67_2439_3B_udm2_clip.tif\n"
     ]
    },
    {
     "name": "stderr",
     "output_type": "stream",
     "text": [
      "Some layers from the model checkpoint at nvidia/mit-b0 were not used when initializing TFSegformerForSemanticSegmentation: ['classifier']\n",
      "- This IS expected if you are initializing TFSegformerForSemanticSegmentation from the checkpoint of a model trained on another task or with another architecture (e.g. initializing a BertForSequenceClassification model from a BertForPreTraining model).\n",
      "- This IS NOT expected if you are initializing TFSegformerForSemanticSegmentation from the checkpoint of a model that you expect to be exactly identical (initializing a BertForSequenceClassification model from a BertForSequenceClassification model).\n",
      "Some layers of TFSegformerForSemanticSegmentation were not initialized from the model checkpoint at nvidia/mit-b0 and are newly initialized: ['decode_head']\n",
      "You should probably TRAIN this model on a down-stream task to be able to use it for predictions and inference.\n"
     ]
    },
    {
     "name": "stdout",
     "output_type": "stream",
     "text": [
      "Processing image:  C:\\development\\coastseg-planet\\downloads\\Alaska_TOAR_enabled\\42444c87-d914-4330-ba4b-3c948829db3f\\PSScene\\good\\20230930_212108_67_2439_3B_TOAR_processed_coregistered_global.tif\n",
      "Output file:  C:\\development\\coastseg-planet\\downloads\\Alaska_TOAR_enabled\\42444c87-d914-4330-ba4b-3c948829db3f\\PSScene\\good\\20230930_212108_67_2439_3B_TOAR_processed_coregistered_global_predseg.png\n",
      "Output file:  C:\\development\\coastseg-planet\\downloads\\Alaska_TOAR_enabled\\42444c87-d914-4330-ba4b-3c948829db3f\\PSScene\\good\\out\\20230930_212108_67_2439_3B_TOAR_processed_coregistered_global_predseg.png\n",
      "NC: 4, NDB: 3, TS: [512, 512], TTA: False, OT: False\n",
      "N_DATA_BANDS: 3\n",
      "saving segmentation results to C:\\development\\coastseg-planet\\downloads\\Alaska_TOAR_enabled\\42444c87-d914-4330-ba4b-3c948829db3f\\PSScene\\good\\out\\20230930_212108_67_2439_3B_TOAR_processed_coregistered_global_predseg.png\n",
      "writing metadata to C:\\development\\coastseg-planet\\downloads\\Alaska_TOAR_enabled\\42444c87-d914-4330-ba4b-3c948829db3f\\PSScene\\good\\out\\20230930_212108_67_2439_3B_TOAR_processed_coregistered_global_res.npz\n",
      "32604\n",
      "class_mapping: {'0': 'water', '1': 'whitewater', '2': 'sediment', '3': 'other'}\n",
      "all_class_color_mapping: {0: (0.0, 0.0, 0.5, 1.0), 1: (0.0, 0.8333333333333334, 1.0, 1.0), 2: (1.0, 0.9012345679012345, 0.0, 1.0), 3: (0.5, 0.0, 0.0, 1.0)}\n",
      "Saving figure to c:\\development\\coastseg-planet\\CoastSeg-Planet\\2023-09-30-21-21-08_planet.jpg\n",
      "Processing 20230930_215330_30_247d\n",
      "date 2023-09-30-21-53-30\n",
      "Processing C:\\development\\coastseg-planet\\downloads\\Alaska_TOAR_enabled\\42444c87-d914-4330-ba4b-3c948829db3f\\PSScene\\good\\20230930_215330_30_247d_3B_TOAR_processed_coregistered_global.tif\n",
      "Using cloud mask: C:\\development\\coastseg-planet\\downloads\\Alaska_TOAR_enabled\\42444c87-d914-4330-ba4b-3c948829db3f\\PSScene\\good\\20230930_215330_30_247d_3B_udm2_clip.tif\n"
     ]
    },
    {
     "name": "stderr",
     "output_type": "stream",
     "text": [
      "Some layers from the model checkpoint at nvidia/mit-b0 were not used when initializing TFSegformerForSemanticSegmentation: ['classifier']\n",
      "- This IS expected if you are initializing TFSegformerForSemanticSegmentation from the checkpoint of a model trained on another task or with another architecture (e.g. initializing a BertForSequenceClassification model from a BertForPreTraining model).\n",
      "- This IS NOT expected if you are initializing TFSegformerForSemanticSegmentation from the checkpoint of a model that you expect to be exactly identical (initializing a BertForSequenceClassification model from a BertForSequenceClassification model).\n",
      "Some layers of TFSegformerForSemanticSegmentation were not initialized from the model checkpoint at nvidia/mit-b0 and are newly initialized: ['decode_head']\n",
      "You should probably TRAIN this model on a down-stream task to be able to use it for predictions and inference.\n"
     ]
    },
    {
     "name": "stdout",
     "output_type": "stream",
     "text": [
      "Processing image:  C:\\development\\coastseg-planet\\downloads\\Alaska_TOAR_enabled\\42444c87-d914-4330-ba4b-3c948829db3f\\PSScene\\good\\20230930_215330_30_247d_3B_TOAR_processed_coregistered_global.tif\n",
      "Output file:  C:\\development\\coastseg-planet\\downloads\\Alaska_TOAR_enabled\\42444c87-d914-4330-ba4b-3c948829db3f\\PSScene\\good\\20230930_215330_30_247d_3B_TOAR_processed_coregistered_global_predseg.png\n",
      "Output file:  C:\\development\\coastseg-planet\\downloads\\Alaska_TOAR_enabled\\42444c87-d914-4330-ba4b-3c948829db3f\\PSScene\\good\\out\\20230930_215330_30_247d_3B_TOAR_processed_coregistered_global_predseg.png\n",
      "NC: 4, NDB: 3, TS: [512, 512], TTA: False, OT: False\n",
      "N_DATA_BANDS: 3\n",
      "saving segmentation results to C:\\development\\coastseg-planet\\downloads\\Alaska_TOAR_enabled\\42444c87-d914-4330-ba4b-3c948829db3f\\PSScene\\good\\out\\20230930_215330_30_247d_3B_TOAR_processed_coregistered_global_predseg.png\n",
      "writing metadata to C:\\development\\coastseg-planet\\downloads\\Alaska_TOAR_enabled\\42444c87-d914-4330-ba4b-3c948829db3f\\PSScene\\good\\out\\20230930_215330_30_247d_3B_TOAR_processed_coregistered_global_res.npz\n",
      "32604\n",
      "class_mapping: {'0': 'water', '1': 'whitewater', '2': 'sediment', '3': 'other'}\n",
      "all_class_color_mapping: {0: (0.0, 0.0, 0.5, 1.0), 1: (0.0, 0.8333333333333334, 1.0, 1.0), 2: (1.0, 0.9012345679012345, 0.0, 1.0), 3: (0.5, 0.0, 0.0, 1.0)}\n",
      "Saving figure to c:\\development\\coastseg-planet\\CoastSeg-Planet\\2023-09-30-21-53-30_planet.jpg\n",
      "Processing 20231003_211449_43_2465\n",
      "date 2023-10-03-21-14-49\n",
      "Processing C:\\development\\coastseg-planet\\downloads\\Alaska_TOAR_enabled\\42444c87-d914-4330-ba4b-3c948829db3f\\PSScene\\good\\20231003_211449_43_2465_3B_TOAR_processed_coregistered_global.tif\n",
      "Using cloud mask: C:\\development\\coastseg-planet\\downloads\\Alaska_TOAR_enabled\\42444c87-d914-4330-ba4b-3c948829db3f\\PSScene\\good\\20231003_211449_43_2465_3B_udm2_clip.tif\n"
     ]
    },
    {
     "name": "stderr",
     "output_type": "stream",
     "text": [
      "Some layers from the model checkpoint at nvidia/mit-b0 were not used when initializing TFSegformerForSemanticSegmentation: ['classifier']\n",
      "- This IS expected if you are initializing TFSegformerForSemanticSegmentation from the checkpoint of a model trained on another task or with another architecture (e.g. initializing a BertForSequenceClassification model from a BertForPreTraining model).\n",
      "- This IS NOT expected if you are initializing TFSegformerForSemanticSegmentation from the checkpoint of a model that you expect to be exactly identical (initializing a BertForSequenceClassification model from a BertForSequenceClassification model).\n",
      "Some layers of TFSegformerForSemanticSegmentation were not initialized from the model checkpoint at nvidia/mit-b0 and are newly initialized: ['decode_head']\n",
      "You should probably TRAIN this model on a down-stream task to be able to use it for predictions and inference.\n"
     ]
    },
    {
     "name": "stdout",
     "output_type": "stream",
     "text": [
      "Processing image:  C:\\development\\coastseg-planet\\downloads\\Alaska_TOAR_enabled\\42444c87-d914-4330-ba4b-3c948829db3f\\PSScene\\good\\20231003_211449_43_2465_3B_TOAR_processed_coregistered_global.tif\n",
      "Output file:  C:\\development\\coastseg-planet\\downloads\\Alaska_TOAR_enabled\\42444c87-d914-4330-ba4b-3c948829db3f\\PSScene\\good\\20231003_211449_43_2465_3B_TOAR_processed_coregistered_global_predseg.png\n",
      "Output file:  C:\\development\\coastseg-planet\\downloads\\Alaska_TOAR_enabled\\42444c87-d914-4330-ba4b-3c948829db3f\\PSScene\\good\\out\\20231003_211449_43_2465_3B_TOAR_processed_coregistered_global_predseg.png\n",
      "NC: 4, NDB: 3, TS: [512, 512], TTA: False, OT: False\n",
      "N_DATA_BANDS: 3\n",
      "saving segmentation results to C:\\development\\coastseg-planet\\downloads\\Alaska_TOAR_enabled\\42444c87-d914-4330-ba4b-3c948829db3f\\PSScene\\good\\out\\20231003_211449_43_2465_3B_TOAR_processed_coregistered_global_predseg.png\n",
      "writing metadata to C:\\development\\coastseg-planet\\downloads\\Alaska_TOAR_enabled\\42444c87-d914-4330-ba4b-3c948829db3f\\PSScene\\good\\out\\20231003_211449_43_2465_3B_TOAR_processed_coregistered_global_res.npz\n",
      "32604\n",
      "class_mapping: {'0': 'water', '1': 'whitewater', '2': 'sediment', '3': 'other'}\n",
      "all_class_color_mapping: {0: (0.0, 0.0, 0.5, 1.0), 3: (0.5, 0.0, 0.0, 1.0)}\n",
      "Saving figure to c:\\development\\coastseg-planet\\CoastSeg-Planet\\2023-10-03-21-14-49_planet.jpg\n",
      "Processing 20231003_211451_50_2465\n",
      "date 2023-10-03-21-14-51\n",
      "Processing C:\\development\\coastseg-planet\\downloads\\Alaska_TOAR_enabled\\42444c87-d914-4330-ba4b-3c948829db3f\\PSScene\\good\\20231003_211451_50_2465_3B_TOAR_processed_coregistered_global.tif\n",
      "Using cloud mask: C:\\development\\coastseg-planet\\downloads\\Alaska_TOAR_enabled\\42444c87-d914-4330-ba4b-3c948829db3f\\PSScene\\good\\20231003_211451_50_2465_3B_udm2_clip.tif\n"
     ]
    },
    {
     "name": "stderr",
     "output_type": "stream",
     "text": [
      "Some layers from the model checkpoint at nvidia/mit-b0 were not used when initializing TFSegformerForSemanticSegmentation: ['classifier']\n",
      "- This IS expected if you are initializing TFSegformerForSemanticSegmentation from the checkpoint of a model trained on another task or with another architecture (e.g. initializing a BertForSequenceClassification model from a BertForPreTraining model).\n",
      "- This IS NOT expected if you are initializing TFSegformerForSemanticSegmentation from the checkpoint of a model that you expect to be exactly identical (initializing a BertForSequenceClassification model from a BertForSequenceClassification model).\n",
      "Some layers of TFSegformerForSemanticSegmentation were not initialized from the model checkpoint at nvidia/mit-b0 and are newly initialized: ['decode_head']\n",
      "You should probably TRAIN this model on a down-stream task to be able to use it for predictions and inference.\n"
     ]
    },
    {
     "name": "stdout",
     "output_type": "stream",
     "text": [
      "Processing image:  C:\\development\\coastseg-planet\\downloads\\Alaska_TOAR_enabled\\42444c87-d914-4330-ba4b-3c948829db3f\\PSScene\\good\\20231003_211451_50_2465_3B_TOAR_processed_coregistered_global.tif\n",
      "Output file:  C:\\development\\coastseg-planet\\downloads\\Alaska_TOAR_enabled\\42444c87-d914-4330-ba4b-3c948829db3f\\PSScene\\good\\20231003_211451_50_2465_3B_TOAR_processed_coregistered_global_predseg.png\n",
      "Output file:  C:\\development\\coastseg-planet\\downloads\\Alaska_TOAR_enabled\\42444c87-d914-4330-ba4b-3c948829db3f\\PSScene\\good\\out\\20231003_211451_50_2465_3B_TOAR_processed_coregistered_global_predseg.png\n",
      "NC: 4, NDB: 3, TS: [512, 512], TTA: False, OT: False\n",
      "N_DATA_BANDS: 3\n",
      "saving segmentation results to C:\\development\\coastseg-planet\\downloads\\Alaska_TOAR_enabled\\42444c87-d914-4330-ba4b-3c948829db3f\\PSScene\\good\\out\\20231003_211451_50_2465_3B_TOAR_processed_coregistered_global_predseg.png\n",
      "writing metadata to C:\\development\\coastseg-planet\\downloads\\Alaska_TOAR_enabled\\42444c87-d914-4330-ba4b-3c948829db3f\\PSScene\\good\\out\\20231003_211451_50_2465_3B_TOAR_processed_coregistered_global_res.npz\n",
      "32604\n",
      "class_mapping: {'0': 'water', '1': 'whitewater', '2': 'sediment', '3': 'other'}\n",
      "all_class_color_mapping: {0: (0.0, 0.0, 0.5, 1.0), 2: (0.4838709677419355, 1.0, 0.4838709677419356, 1.0), 3: (0.5, 0.0, 0.0, 1.0)}\n",
      "Saving figure to c:\\development\\coastseg-planet\\CoastSeg-Planet\\2023-10-03-21-14-51_planet.jpg\n",
      "Processing 20231003_211648_61_2440\n",
      "date 2023-10-03-21-16-48\n",
      "Processing C:\\development\\coastseg-planet\\downloads\\Alaska_TOAR_enabled\\42444c87-d914-4330-ba4b-3c948829db3f\\PSScene\\good\\20231003_211648_61_2440_3B_TOAR_processed_coregistered_global.tif\n",
      "Using cloud mask: C:\\development\\coastseg-planet\\downloads\\Alaska_TOAR_enabled\\42444c87-d914-4330-ba4b-3c948829db3f\\PSScene\\good\\20231003_211648_61_2440_3B_udm2_clip.tif\n"
     ]
    },
    {
     "name": "stderr",
     "output_type": "stream",
     "text": [
      "Some layers from the model checkpoint at nvidia/mit-b0 were not used when initializing TFSegformerForSemanticSegmentation: ['classifier']\n",
      "- This IS expected if you are initializing TFSegformerForSemanticSegmentation from the checkpoint of a model trained on another task or with another architecture (e.g. initializing a BertForSequenceClassification model from a BertForPreTraining model).\n",
      "- This IS NOT expected if you are initializing TFSegformerForSemanticSegmentation from the checkpoint of a model that you expect to be exactly identical (initializing a BertForSequenceClassification model from a BertForSequenceClassification model).\n",
      "Some layers of TFSegformerForSemanticSegmentation were not initialized from the model checkpoint at nvidia/mit-b0 and are newly initialized: ['decode_head']\n",
      "You should probably TRAIN this model on a down-stream task to be able to use it for predictions and inference.\n"
     ]
    },
    {
     "name": "stdout",
     "output_type": "stream",
     "text": [
      "Processing image:  C:\\development\\coastseg-planet\\downloads\\Alaska_TOAR_enabled\\42444c87-d914-4330-ba4b-3c948829db3f\\PSScene\\good\\20231003_211648_61_2440_3B_TOAR_processed_coregistered_global.tif\n",
      "Output file:  C:\\development\\coastseg-planet\\downloads\\Alaska_TOAR_enabled\\42444c87-d914-4330-ba4b-3c948829db3f\\PSScene\\good\\20231003_211648_61_2440_3B_TOAR_processed_coregistered_global_predseg.png\n",
      "Output file:  C:\\development\\coastseg-planet\\downloads\\Alaska_TOAR_enabled\\42444c87-d914-4330-ba4b-3c948829db3f\\PSScene\\good\\out\\20231003_211648_61_2440_3B_TOAR_processed_coregistered_global_predseg.png\n",
      "NC: 4, NDB: 3, TS: [512, 512], TTA: False, OT: False\n",
      "N_DATA_BANDS: 3\n",
      "saving segmentation results to C:\\development\\coastseg-planet\\downloads\\Alaska_TOAR_enabled\\42444c87-d914-4330-ba4b-3c948829db3f\\PSScene\\good\\out\\20231003_211648_61_2440_3B_TOAR_processed_coregistered_global_predseg.png\n",
      "writing metadata to C:\\development\\coastseg-planet\\downloads\\Alaska_TOAR_enabled\\42444c87-d914-4330-ba4b-3c948829db3f\\PSScene\\good\\out\\20231003_211648_61_2440_3B_TOAR_processed_coregistered_global_res.npz\n",
      "32604\n",
      "class_mapping: {'0': 'water', '1': 'whitewater', '2': 'sediment', '3': 'other'}\n",
      "all_class_color_mapping: {0: (0.0, 0.0, 0.5, 1.0), 2: (0.4838709677419355, 1.0, 0.4838709677419356, 1.0), 3: (0.5, 0.0, 0.0, 1.0)}\n",
      "Saving figure to c:\\development\\coastseg-planet\\CoastSeg-Planet\\2023-10-03-21-16-48_planet.jpg\n",
      "Processing 20231003_211928_14_24a9\n",
      "date 2023-10-03-21-19-28\n",
      "Processing C:\\development\\coastseg-planet\\downloads\\Alaska_TOAR_enabled\\42444c87-d914-4330-ba4b-3c948829db3f\\PSScene\\good\\20231003_211928_14_24a9_3B_TOAR_processed_coregistered_global.tif\n",
      "Using cloud mask: C:\\development\\coastseg-planet\\downloads\\Alaska_TOAR_enabled\\42444c87-d914-4330-ba4b-3c948829db3f\\PSScene\\good\\20231003_211928_14_24a9_3B_udm2_clip.tif\n"
     ]
    },
    {
     "name": "stderr",
     "output_type": "stream",
     "text": [
      "Some layers from the model checkpoint at nvidia/mit-b0 were not used when initializing TFSegformerForSemanticSegmentation: ['classifier']\n",
      "- This IS expected if you are initializing TFSegformerForSemanticSegmentation from the checkpoint of a model trained on another task or with another architecture (e.g. initializing a BertForSequenceClassification model from a BertForPreTraining model).\n",
      "- This IS NOT expected if you are initializing TFSegformerForSemanticSegmentation from the checkpoint of a model that you expect to be exactly identical (initializing a BertForSequenceClassification model from a BertForSequenceClassification model).\n",
      "Some layers of TFSegformerForSemanticSegmentation were not initialized from the model checkpoint at nvidia/mit-b0 and are newly initialized: ['decode_head']\n",
      "You should probably TRAIN this model on a down-stream task to be able to use it for predictions and inference.\n"
     ]
    },
    {
     "name": "stdout",
     "output_type": "stream",
     "text": [
      "Processing image:  C:\\development\\coastseg-planet\\downloads\\Alaska_TOAR_enabled\\42444c87-d914-4330-ba4b-3c948829db3f\\PSScene\\good\\20231003_211928_14_24a9_3B_TOAR_processed_coregistered_global.tif\n",
      "Output file:  C:\\development\\coastseg-planet\\downloads\\Alaska_TOAR_enabled\\42444c87-d914-4330-ba4b-3c948829db3f\\PSScene\\good\\20231003_211928_14_24a9_3B_TOAR_processed_coregistered_global_predseg.png\n",
      "Output file:  C:\\development\\coastseg-planet\\downloads\\Alaska_TOAR_enabled\\42444c87-d914-4330-ba4b-3c948829db3f\\PSScene\\good\\out\\20231003_211928_14_24a9_3B_TOAR_processed_coregistered_global_predseg.png\n",
      "NC: 4, NDB: 3, TS: [512, 512], TTA: False, OT: False\n",
      "N_DATA_BANDS: 3\n",
      "saving segmentation results to C:\\development\\coastseg-planet\\downloads\\Alaska_TOAR_enabled\\42444c87-d914-4330-ba4b-3c948829db3f\\PSScene\\good\\out\\20231003_211928_14_24a9_3B_TOAR_processed_coregistered_global_predseg.png\n",
      "writing metadata to C:\\development\\coastseg-planet\\downloads\\Alaska_TOAR_enabled\\42444c87-d914-4330-ba4b-3c948829db3f\\PSScene\\good\\out\\20231003_211928_14_24a9_3B_TOAR_processed_coregistered_global_res.npz\n",
      "32604\n",
      "class_mapping: {'0': 'water', '1': 'whitewater', '2': 'sediment', '3': 'other'}\n",
      "all_class_color_mapping: {0: (0.0, 0.0, 0.5, 1.0), 3: (0.5, 0.0, 0.0, 1.0)}\n",
      "Saving figure to c:\\development\\coastseg-planet\\CoastSeg-Planet\\2023-10-03-21-19-28_planet.jpg\n",
      "Processing 20231004_215523_27_2488\n",
      "date 2023-10-04-21-55-23\n",
      "Processing C:\\development\\coastseg-planet\\downloads\\Alaska_TOAR_enabled\\42444c87-d914-4330-ba4b-3c948829db3f\\PSScene\\good\\20231004_215523_27_2488_3B_TOAR_processed_coregistered_global.tif\n",
      "Using cloud mask: C:\\development\\coastseg-planet\\downloads\\Alaska_TOAR_enabled\\42444c87-d914-4330-ba4b-3c948829db3f\\PSScene\\good\\20231004_215523_27_2488_3B_udm2_clip.tif\n"
     ]
    },
    {
     "name": "stderr",
     "output_type": "stream",
     "text": [
      "Some layers from the model checkpoint at nvidia/mit-b0 were not used when initializing TFSegformerForSemanticSegmentation: ['classifier']\n",
      "- This IS expected if you are initializing TFSegformerForSemanticSegmentation from the checkpoint of a model trained on another task or with another architecture (e.g. initializing a BertForSequenceClassification model from a BertForPreTraining model).\n",
      "- This IS NOT expected if you are initializing TFSegformerForSemanticSegmentation from the checkpoint of a model that you expect to be exactly identical (initializing a BertForSequenceClassification model from a BertForSequenceClassification model).\n",
      "Some layers of TFSegformerForSemanticSegmentation were not initialized from the model checkpoint at nvidia/mit-b0 and are newly initialized: ['decode_head']\n",
      "You should probably TRAIN this model on a down-stream task to be able to use it for predictions and inference.\n"
     ]
    },
    {
     "name": "stdout",
     "output_type": "stream",
     "text": [
      "Processing image:  C:\\development\\coastseg-planet\\downloads\\Alaska_TOAR_enabled\\42444c87-d914-4330-ba4b-3c948829db3f\\PSScene\\good\\20231004_215523_27_2488_3B_TOAR_processed_coregistered_global.tif\n",
      "Output file:  C:\\development\\coastseg-planet\\downloads\\Alaska_TOAR_enabled\\42444c87-d914-4330-ba4b-3c948829db3f\\PSScene\\good\\20231004_215523_27_2488_3B_TOAR_processed_coregistered_global_predseg.png\n",
      "Output file:  C:\\development\\coastseg-planet\\downloads\\Alaska_TOAR_enabled\\42444c87-d914-4330-ba4b-3c948829db3f\\PSScene\\good\\out\\20231004_215523_27_2488_3B_TOAR_processed_coregistered_global_predseg.png\n",
      "NC: 4, NDB: 3, TS: [512, 512], TTA: False, OT: False\n",
      "N_DATA_BANDS: 3\n",
      "saving segmentation results to C:\\development\\coastseg-planet\\downloads\\Alaska_TOAR_enabled\\42444c87-d914-4330-ba4b-3c948829db3f\\PSScene\\good\\out\\20231004_215523_27_2488_3B_TOAR_processed_coregistered_global_predseg.png\n",
      "writing metadata to C:\\development\\coastseg-planet\\downloads\\Alaska_TOAR_enabled\\42444c87-d914-4330-ba4b-3c948829db3f\\PSScene\\good\\out\\20231004_215523_27_2488_3B_TOAR_processed_coregistered_global_res.npz\n",
      "32604\n",
      "class_mapping: {'0': 'water', '1': 'whitewater', '2': 'sediment', '3': 'other'}\n",
      "all_class_color_mapping: {0: (0.0, 0.0, 0.5, 1.0), 1: (0.0, 0.8333333333333334, 1.0, 1.0), 2: (1.0, 0.9012345679012345, 0.0, 1.0), 3: (0.5, 0.0, 0.0, 1.0)}\n",
      "Saving figure to c:\\development\\coastseg-planet\\CoastSeg-Planet\\2023-10-04-21-55-23_planet.jpg\n",
      "Processing 20231004_215525_38_2488\n",
      "date 2023-10-04-21-55-25\n",
      "Processing C:\\development\\coastseg-planet\\downloads\\Alaska_TOAR_enabled\\42444c87-d914-4330-ba4b-3c948829db3f\\PSScene\\good\\20231004_215525_38_2488_3B_TOAR_processed_coregistered_global.tif\n",
      "Using cloud mask: C:\\development\\coastseg-planet\\downloads\\Alaska_TOAR_enabled\\42444c87-d914-4330-ba4b-3c948829db3f\\PSScene\\good\\20231004_215525_38_2488_3B_udm2_clip.tif\n"
     ]
    },
    {
     "name": "stderr",
     "output_type": "stream",
     "text": [
      "Some layers from the model checkpoint at nvidia/mit-b0 were not used when initializing TFSegformerForSemanticSegmentation: ['classifier']\n",
      "- This IS expected if you are initializing TFSegformerForSemanticSegmentation from the checkpoint of a model trained on another task or with another architecture (e.g. initializing a BertForSequenceClassification model from a BertForPreTraining model).\n",
      "- This IS NOT expected if you are initializing TFSegformerForSemanticSegmentation from the checkpoint of a model that you expect to be exactly identical (initializing a BertForSequenceClassification model from a BertForSequenceClassification model).\n",
      "Some layers of TFSegformerForSemanticSegmentation were not initialized from the model checkpoint at nvidia/mit-b0 and are newly initialized: ['decode_head']\n",
      "You should probably TRAIN this model on a down-stream task to be able to use it for predictions and inference.\n"
     ]
    },
    {
     "name": "stdout",
     "output_type": "stream",
     "text": [
      "Processing image:  C:\\development\\coastseg-planet\\downloads\\Alaska_TOAR_enabled\\42444c87-d914-4330-ba4b-3c948829db3f\\PSScene\\good\\20231004_215525_38_2488_3B_TOAR_processed_coregistered_global.tif\n",
      "Output file:  C:\\development\\coastseg-planet\\downloads\\Alaska_TOAR_enabled\\42444c87-d914-4330-ba4b-3c948829db3f\\PSScene\\good\\20231004_215525_38_2488_3B_TOAR_processed_coregistered_global_predseg.png\n",
      "Output file:  C:\\development\\coastseg-planet\\downloads\\Alaska_TOAR_enabled\\42444c87-d914-4330-ba4b-3c948829db3f\\PSScene\\good\\out\\20231004_215525_38_2488_3B_TOAR_processed_coregistered_global_predseg.png\n",
      "NC: 4, NDB: 3, TS: [512, 512], TTA: False, OT: False\n",
      "N_DATA_BANDS: 3\n",
      "saving segmentation results to C:\\development\\coastseg-planet\\downloads\\Alaska_TOAR_enabled\\42444c87-d914-4330-ba4b-3c948829db3f\\PSScene\\good\\out\\20231004_215525_38_2488_3B_TOAR_processed_coregistered_global_predseg.png\n",
      "writing metadata to C:\\development\\coastseg-planet\\downloads\\Alaska_TOAR_enabled\\42444c87-d914-4330-ba4b-3c948829db3f\\PSScene\\good\\out\\20231004_215525_38_2488_3B_TOAR_processed_coregistered_global_res.npz\n",
      "32604\n",
      "class_mapping: {'0': 'water', '1': 'whitewater', '2': 'sediment', '3': 'other'}\n",
      "all_class_color_mapping: {0: (0.0, 0.0, 0.5, 1.0), 1: (0.0, 0.8333333333333334, 1.0, 1.0), 2: (1.0, 0.9012345679012345, 0.0, 1.0), 3: (0.5, 0.0, 0.0, 1.0)}\n",
      "Saving figure to c:\\development\\coastseg-planet\\CoastSeg-Planet\\2023-10-04-21-55-25_planet.jpg\n",
      "Processing 20231005_215411_33_2461\n",
      "date 2023-10-05-21-54-11\n",
      "Processing C:\\development\\coastseg-planet\\downloads\\Alaska_TOAR_enabled\\42444c87-d914-4330-ba4b-3c948829db3f\\PSScene\\good\\20231005_215411_33_2461_3B_TOAR_processed_coregistered_global.tif\n",
      "Using cloud mask: C:\\development\\coastseg-planet\\downloads\\Alaska_TOAR_enabled\\42444c87-d914-4330-ba4b-3c948829db3f\\PSScene\\good\\20231005_215411_33_2461_3B_udm2_clip.tif\n"
     ]
    },
    {
     "name": "stderr",
     "output_type": "stream",
     "text": [
      "Some layers from the model checkpoint at nvidia/mit-b0 were not used when initializing TFSegformerForSemanticSegmentation: ['classifier']\n",
      "- This IS expected if you are initializing TFSegformerForSemanticSegmentation from the checkpoint of a model trained on another task or with another architecture (e.g. initializing a BertForSequenceClassification model from a BertForPreTraining model).\n",
      "- This IS NOT expected if you are initializing TFSegformerForSemanticSegmentation from the checkpoint of a model that you expect to be exactly identical (initializing a BertForSequenceClassification model from a BertForSequenceClassification model).\n",
      "Some layers of TFSegformerForSemanticSegmentation were not initialized from the model checkpoint at nvidia/mit-b0 and are newly initialized: ['decode_head']\n",
      "You should probably TRAIN this model on a down-stream task to be able to use it for predictions and inference.\n"
     ]
    },
    {
     "name": "stdout",
     "output_type": "stream",
     "text": [
      "Processing image:  C:\\development\\coastseg-planet\\downloads\\Alaska_TOAR_enabled\\42444c87-d914-4330-ba4b-3c948829db3f\\PSScene\\good\\20231005_215411_33_2461_3B_TOAR_processed_coregistered_global.tif\n",
      "Output file:  C:\\development\\coastseg-planet\\downloads\\Alaska_TOAR_enabled\\42444c87-d914-4330-ba4b-3c948829db3f\\PSScene\\good\\20231005_215411_33_2461_3B_TOAR_processed_coregistered_global_predseg.png\n",
      "Output file:  C:\\development\\coastseg-planet\\downloads\\Alaska_TOAR_enabled\\42444c87-d914-4330-ba4b-3c948829db3f\\PSScene\\good\\out\\20231005_215411_33_2461_3B_TOAR_processed_coregistered_global_predseg.png\n",
      "NC: 4, NDB: 3, TS: [512, 512], TTA: False, OT: False\n",
      "N_DATA_BANDS: 3\n",
      "saving segmentation results to C:\\development\\coastseg-planet\\downloads\\Alaska_TOAR_enabled\\42444c87-d914-4330-ba4b-3c948829db3f\\PSScene\\good\\out\\20231005_215411_33_2461_3B_TOAR_processed_coregistered_global_predseg.png\n",
      "writing metadata to C:\\development\\coastseg-planet\\downloads\\Alaska_TOAR_enabled\\42444c87-d914-4330-ba4b-3c948829db3f\\PSScene\\good\\out\\20231005_215411_33_2461_3B_TOAR_processed_coregistered_global_res.npz\n",
      "32604\n",
      "class_mapping: {'0': 'water', '1': 'whitewater', '2': 'sediment', '3': 'other'}\n",
      "all_class_color_mapping: {0: (0.0, 0.0, 0.5, 1.0), 1: (0.0, 0.8333333333333334, 1.0, 1.0), 2: (1.0, 0.9012345679012345, 0.0, 1.0), 3: (0.5, 0.0, 0.0, 1.0)}\n",
      "Saving figure to c:\\development\\coastseg-planet\\CoastSeg-Planet\\2023-10-05-21-54-11_planet.jpg\n",
      "Processing 20231008_212143_84_24a9\n",
      "date 2023-10-08-21-21-43\n",
      "Processing C:\\development\\coastseg-planet\\downloads\\Alaska_TOAR_enabled\\42444c87-d914-4330-ba4b-3c948829db3f\\PSScene\\good\\20231008_212143_84_24a9_3B_TOAR_processed_coregistered_global.tif\n",
      "Using cloud mask: C:\\development\\coastseg-planet\\downloads\\Alaska_TOAR_enabled\\42444c87-d914-4330-ba4b-3c948829db3f\\PSScene\\good\\20231008_212143_84_24a9_3B_udm2_clip.tif\n"
     ]
    },
    {
     "name": "stderr",
     "output_type": "stream",
     "text": [
      "Some layers from the model checkpoint at nvidia/mit-b0 were not used when initializing TFSegformerForSemanticSegmentation: ['classifier']\n",
      "- This IS expected if you are initializing TFSegformerForSemanticSegmentation from the checkpoint of a model trained on another task or with another architecture (e.g. initializing a BertForSequenceClassification model from a BertForPreTraining model).\n",
      "- This IS NOT expected if you are initializing TFSegformerForSemanticSegmentation from the checkpoint of a model that you expect to be exactly identical (initializing a BertForSequenceClassification model from a BertForSequenceClassification model).\n",
      "Some layers of TFSegformerForSemanticSegmentation were not initialized from the model checkpoint at nvidia/mit-b0 and are newly initialized: ['decode_head']\n",
      "You should probably TRAIN this model on a down-stream task to be able to use it for predictions and inference.\n"
     ]
    },
    {
     "name": "stdout",
     "output_type": "stream",
     "text": [
      "Processing image:  C:\\development\\coastseg-planet\\downloads\\Alaska_TOAR_enabled\\42444c87-d914-4330-ba4b-3c948829db3f\\PSScene\\good\\20231008_212143_84_24a9_3B_TOAR_processed_coregistered_global.tif\n",
      "Output file:  C:\\development\\coastseg-planet\\downloads\\Alaska_TOAR_enabled\\42444c87-d914-4330-ba4b-3c948829db3f\\PSScene\\good\\20231008_212143_84_24a9_3B_TOAR_processed_coregistered_global_predseg.png\n",
      "Output file:  C:\\development\\coastseg-planet\\downloads\\Alaska_TOAR_enabled\\42444c87-d914-4330-ba4b-3c948829db3f\\PSScene\\good\\out\\20231008_212143_84_24a9_3B_TOAR_processed_coregistered_global_predseg.png\n",
      "NC: 4, NDB: 3, TS: [512, 512], TTA: False, OT: False\n",
      "N_DATA_BANDS: 3\n",
      "saving segmentation results to C:\\development\\coastseg-planet\\downloads\\Alaska_TOAR_enabled\\42444c87-d914-4330-ba4b-3c948829db3f\\PSScene\\good\\out\\20231008_212143_84_24a9_3B_TOAR_processed_coregistered_global_predseg.png\n",
      "writing metadata to C:\\development\\coastseg-planet\\downloads\\Alaska_TOAR_enabled\\42444c87-d914-4330-ba4b-3c948829db3f\\PSScene\\good\\out\\20231008_212143_84_24a9_3B_TOAR_processed_coregistered_global_res.npz\n",
      "32604\n",
      "class_mapping: {'0': 'water', '1': 'whitewater', '2': 'sediment', '3': 'other'}\n",
      "all_class_color_mapping: {0: (0.0, 0.0, 0.5, 1.0), 1: (0.4838709677419355, 1.0, 0.4838709677419356, 1.0), 3: (0.5, 0.0, 0.0, 1.0)}\n",
      "Saving figure to c:\\development\\coastseg-planet\\CoastSeg-Planet\\2023-10-08-21-21-43_planet.jpg\n",
      "Processing 20231009_215916_19_2478\n",
      "date 2023-10-09-21-59-16\n",
      "Processing C:\\development\\coastseg-planet\\downloads\\Alaska_TOAR_enabled\\42444c87-d914-4330-ba4b-3c948829db3f\\PSScene\\good\\20231009_215916_19_2478_3B_TOAR_processed_coregistered_global.tif\n",
      "Using cloud mask: C:\\development\\coastseg-planet\\downloads\\Alaska_TOAR_enabled\\42444c87-d914-4330-ba4b-3c948829db3f\\PSScene\\good\\20231009_215916_19_2478_3B_udm2_clip.tif\n"
     ]
    },
    {
     "name": "stderr",
     "output_type": "stream",
     "text": [
      "Some layers from the model checkpoint at nvidia/mit-b0 were not used when initializing TFSegformerForSemanticSegmentation: ['classifier']\n",
      "- This IS expected if you are initializing TFSegformerForSemanticSegmentation from the checkpoint of a model trained on another task or with another architecture (e.g. initializing a BertForSequenceClassification model from a BertForPreTraining model).\n",
      "- This IS NOT expected if you are initializing TFSegformerForSemanticSegmentation from the checkpoint of a model that you expect to be exactly identical (initializing a BertForSequenceClassification model from a BertForSequenceClassification model).\n",
      "Some layers of TFSegformerForSemanticSegmentation were not initialized from the model checkpoint at nvidia/mit-b0 and are newly initialized: ['decode_head']\n",
      "You should probably TRAIN this model on a down-stream task to be able to use it for predictions and inference.\n"
     ]
    },
    {
     "name": "stdout",
     "output_type": "stream",
     "text": [
      "Processing image:  C:\\development\\coastseg-planet\\downloads\\Alaska_TOAR_enabled\\42444c87-d914-4330-ba4b-3c948829db3f\\PSScene\\good\\20231009_215916_19_2478_3B_TOAR_processed_coregistered_global.tif\n",
      "Output file:  C:\\development\\coastseg-planet\\downloads\\Alaska_TOAR_enabled\\42444c87-d914-4330-ba4b-3c948829db3f\\PSScene\\good\\20231009_215916_19_2478_3B_TOAR_processed_coregistered_global_predseg.png\n",
      "Output file:  C:\\development\\coastseg-planet\\downloads\\Alaska_TOAR_enabled\\42444c87-d914-4330-ba4b-3c948829db3f\\PSScene\\good\\out\\20231009_215916_19_2478_3B_TOAR_processed_coregistered_global_predseg.png\n",
      "NC: 4, NDB: 3, TS: [512, 512], TTA: False, OT: False\n",
      "N_DATA_BANDS: 3\n",
      "saving segmentation results to C:\\development\\coastseg-planet\\downloads\\Alaska_TOAR_enabled\\42444c87-d914-4330-ba4b-3c948829db3f\\PSScene\\good\\out\\20231009_215916_19_2478_3B_TOAR_processed_coregistered_global_predseg.png\n",
      "writing metadata to C:\\development\\coastseg-planet\\downloads\\Alaska_TOAR_enabled\\42444c87-d914-4330-ba4b-3c948829db3f\\PSScene\\good\\out\\20231009_215916_19_2478_3B_TOAR_processed_coregistered_global_res.npz\n",
      "32604\n",
      "class_mapping: {'0': 'water', '1': 'whitewater', '2': 'sediment', '3': 'other'}\n",
      "all_class_color_mapping: {0: (0.0, 0.0, 0.5, 1.0), 1: (0.0, 0.8333333333333334, 1.0, 1.0), 2: (1.0, 0.9012345679012345, 0.0, 1.0), 3: (0.5, 0.0, 0.0, 1.0)}\n",
      "Saving figure to c:\\development\\coastseg-planet\\CoastSeg-Planet\\2023-10-09-21-59-16_planet.jpg\n",
      "Processing 20231009_215918_25_2478\n",
      "date 2023-10-09-21-59-18\n",
      "Processing C:\\development\\coastseg-planet\\downloads\\Alaska_TOAR_enabled\\42444c87-d914-4330-ba4b-3c948829db3f\\PSScene\\good\\20231009_215918_25_2478_3B_TOAR_processed_coregistered_global.tif\n",
      "Using cloud mask: C:\\development\\coastseg-planet\\downloads\\Alaska_TOAR_enabled\\42444c87-d914-4330-ba4b-3c948829db3f\\PSScene\\good\\20231009_215918_25_2478_3B_udm2_clip.tif\n"
     ]
    },
    {
     "name": "stderr",
     "output_type": "stream",
     "text": [
      "Some layers from the model checkpoint at nvidia/mit-b0 were not used when initializing TFSegformerForSemanticSegmentation: ['classifier']\n",
      "- This IS expected if you are initializing TFSegformerForSemanticSegmentation from the checkpoint of a model trained on another task or with another architecture (e.g. initializing a BertForSequenceClassification model from a BertForPreTraining model).\n",
      "- This IS NOT expected if you are initializing TFSegformerForSemanticSegmentation from the checkpoint of a model that you expect to be exactly identical (initializing a BertForSequenceClassification model from a BertForSequenceClassification model).\n",
      "Some layers of TFSegformerForSemanticSegmentation were not initialized from the model checkpoint at nvidia/mit-b0 and are newly initialized: ['decode_head']\n",
      "You should probably TRAIN this model on a down-stream task to be able to use it for predictions and inference.\n"
     ]
    },
    {
     "name": "stdout",
     "output_type": "stream",
     "text": [
      "Processing image:  C:\\development\\coastseg-planet\\downloads\\Alaska_TOAR_enabled\\42444c87-d914-4330-ba4b-3c948829db3f\\PSScene\\good\\20231009_215918_25_2478_3B_TOAR_processed_coregistered_global.tif\n",
      "Output file:  C:\\development\\coastseg-planet\\downloads\\Alaska_TOAR_enabled\\42444c87-d914-4330-ba4b-3c948829db3f\\PSScene\\good\\20231009_215918_25_2478_3B_TOAR_processed_coregistered_global_predseg.png\n",
      "Output file:  C:\\development\\coastseg-planet\\downloads\\Alaska_TOAR_enabled\\42444c87-d914-4330-ba4b-3c948829db3f\\PSScene\\good\\out\\20231009_215918_25_2478_3B_TOAR_processed_coregistered_global_predseg.png\n",
      "NC: 4, NDB: 3, TS: [512, 512], TTA: False, OT: False\n",
      "N_DATA_BANDS: 3\n",
      "saving segmentation results to C:\\development\\coastseg-planet\\downloads\\Alaska_TOAR_enabled\\42444c87-d914-4330-ba4b-3c948829db3f\\PSScene\\good\\out\\20231009_215918_25_2478_3B_TOAR_processed_coregistered_global_predseg.png\n",
      "writing metadata to C:\\development\\coastseg-planet\\downloads\\Alaska_TOAR_enabled\\42444c87-d914-4330-ba4b-3c948829db3f\\PSScene\\good\\out\\20231009_215918_25_2478_3B_TOAR_processed_coregistered_global_res.npz\n",
      "32604\n",
      "class_mapping: {'0': 'water', '1': 'whitewater', '2': 'sediment', '3': 'other'}\n",
      "all_class_color_mapping: {0: (0.0, 0.0, 0.5, 1.0), 1: (0.0, 0.8333333333333334, 1.0, 1.0), 2: (1.0, 0.9012345679012345, 0.0, 1.0), 3: (0.5, 0.0, 0.0, 1.0)}\n",
      "Saving figure to c:\\development\\coastseg-planet\\CoastSeg-Planet\\2023-10-09-21-59-18_planet.jpg\n",
      "Processing 20231029_212230_99_2427\n",
      "date 2023-10-29-21-22-30\n",
      "Processing C:\\development\\coastseg-planet\\downloads\\Alaska_TOAR_enabled\\42444c87-d914-4330-ba4b-3c948829db3f\\PSScene\\good\\20231029_212230_99_2427_3B_TOAR_processed_coregistered_global.tif\n",
      "Using cloud mask: C:\\development\\coastseg-planet\\downloads\\Alaska_TOAR_enabled\\42444c87-d914-4330-ba4b-3c948829db3f\\PSScene\\good\\20231029_212230_99_2427_3B_udm2_clip.tif\n"
     ]
    },
    {
     "name": "stderr",
     "output_type": "stream",
     "text": [
      "Some layers from the model checkpoint at nvidia/mit-b0 were not used when initializing TFSegformerForSemanticSegmentation: ['classifier']\n",
      "- This IS expected if you are initializing TFSegformerForSemanticSegmentation from the checkpoint of a model trained on another task or with another architecture (e.g. initializing a BertForSequenceClassification model from a BertForPreTraining model).\n",
      "- This IS NOT expected if you are initializing TFSegformerForSemanticSegmentation from the checkpoint of a model that you expect to be exactly identical (initializing a BertForSequenceClassification model from a BertForSequenceClassification model).\n",
      "Some layers of TFSegformerForSemanticSegmentation were not initialized from the model checkpoint at nvidia/mit-b0 and are newly initialized: ['decode_head']\n",
      "You should probably TRAIN this model on a down-stream task to be able to use it for predictions and inference.\n"
     ]
    },
    {
     "name": "stdout",
     "output_type": "stream",
     "text": [
      "Processing image:  C:\\development\\coastseg-planet\\downloads\\Alaska_TOAR_enabled\\42444c87-d914-4330-ba4b-3c948829db3f\\PSScene\\good\\20231029_212230_99_2427_3B_TOAR_processed_coregistered_global.tif\n",
      "Output file:  C:\\development\\coastseg-planet\\downloads\\Alaska_TOAR_enabled\\42444c87-d914-4330-ba4b-3c948829db3f\\PSScene\\good\\20231029_212230_99_2427_3B_TOAR_processed_coregistered_global_predseg.png\n",
      "Output file:  C:\\development\\coastseg-planet\\downloads\\Alaska_TOAR_enabled\\42444c87-d914-4330-ba4b-3c948829db3f\\PSScene\\good\\out\\20231029_212230_99_2427_3B_TOAR_processed_coregistered_global_predseg.png\n",
      "NC: 4, NDB: 3, TS: [512, 512], TTA: False, OT: False\n",
      "N_DATA_BANDS: 3\n",
      "saving segmentation results to C:\\development\\coastseg-planet\\downloads\\Alaska_TOAR_enabled\\42444c87-d914-4330-ba4b-3c948829db3f\\PSScene\\good\\out\\20231029_212230_99_2427_3B_TOAR_processed_coregistered_global_predseg.png\n",
      "writing metadata to C:\\development\\coastseg-planet\\downloads\\Alaska_TOAR_enabled\\42444c87-d914-4330-ba4b-3c948829db3f\\PSScene\\good\\out\\20231029_212230_99_2427_3B_TOAR_processed_coregistered_global_res.npz\n",
      "32604\n",
      "class_mapping: {'0': 'water', '1': 'whitewater', '2': 'sediment', '3': 'other'}\n",
      "all_class_color_mapping: {0: (0.0, 0.0, 0.5, 1.0), 3: (0.5, 0.0, 0.0, 1.0)}\n",
      "Saving figure to c:\\development\\coastseg-planet\\CoastSeg-Planet\\2023-10-29-21-22-30_planet.jpg\n",
      "Processing 20231102_212052_38_24ce\n",
      "date 2023-11-02-21-20-52\n",
      "Processing C:\\development\\coastseg-planet\\downloads\\Alaska_TOAR_enabled\\42444c87-d914-4330-ba4b-3c948829db3f\\PSScene\\good\\20231102_212052_38_24ce_3B_TOAR_processed_coregistered_global.tif\n",
      "Using cloud mask: C:\\development\\coastseg-planet\\downloads\\Alaska_TOAR_enabled\\42444c87-d914-4330-ba4b-3c948829db3f\\PSScene\\good\\20231102_212052_38_24ce_3B_udm2_clip.tif\n"
     ]
    },
    {
     "name": "stderr",
     "output_type": "stream",
     "text": [
      "Some layers from the model checkpoint at nvidia/mit-b0 were not used when initializing TFSegformerForSemanticSegmentation: ['classifier']\n",
      "- This IS expected if you are initializing TFSegformerForSemanticSegmentation from the checkpoint of a model trained on another task or with another architecture (e.g. initializing a BertForSequenceClassification model from a BertForPreTraining model).\n",
      "- This IS NOT expected if you are initializing TFSegformerForSemanticSegmentation from the checkpoint of a model that you expect to be exactly identical (initializing a BertForSequenceClassification model from a BertForSequenceClassification model).\n",
      "Some layers of TFSegformerForSemanticSegmentation were not initialized from the model checkpoint at nvidia/mit-b0 and are newly initialized: ['decode_head']\n",
      "You should probably TRAIN this model on a down-stream task to be able to use it for predictions and inference.\n"
     ]
    },
    {
     "name": "stdout",
     "output_type": "stream",
     "text": [
      "Processing image:  C:\\development\\coastseg-planet\\downloads\\Alaska_TOAR_enabled\\42444c87-d914-4330-ba4b-3c948829db3f\\PSScene\\good\\20231102_212052_38_24ce_3B_TOAR_processed_coregistered_global.tif\n",
      "Output file:  C:\\development\\coastseg-planet\\downloads\\Alaska_TOAR_enabled\\42444c87-d914-4330-ba4b-3c948829db3f\\PSScene\\good\\20231102_212052_38_24ce_3B_TOAR_processed_coregistered_global_predseg.png\n",
      "Output file:  C:\\development\\coastseg-planet\\downloads\\Alaska_TOAR_enabled\\42444c87-d914-4330-ba4b-3c948829db3f\\PSScene\\good\\out\\20231102_212052_38_24ce_3B_TOAR_processed_coregistered_global_predseg.png\n",
      "NC: 4, NDB: 3, TS: [512, 512], TTA: False, OT: False\n",
      "N_DATA_BANDS: 3\n",
      "saving segmentation results to C:\\development\\coastseg-planet\\downloads\\Alaska_TOAR_enabled\\42444c87-d914-4330-ba4b-3c948829db3f\\PSScene\\good\\out\\20231102_212052_38_24ce_3B_TOAR_processed_coregistered_global_predseg.png\n",
      "writing metadata to C:\\development\\coastseg-planet\\downloads\\Alaska_TOAR_enabled\\42444c87-d914-4330-ba4b-3c948829db3f\\PSScene\\good\\out\\20231102_212052_38_24ce_3B_TOAR_processed_coregistered_global_res.npz\n",
      "32604\n",
      "class_mapping: {'0': 'water', '1': 'whitewater', '2': 'sediment', '3': 'other'}\n",
      "all_class_color_mapping: {0: (0.0, 0.0, 0.5, 1.0), 1: (0.0, 0.8333333333333334, 1.0, 1.0), 2: (1.0, 0.9012345679012345, 0.0, 1.0), 3: (0.5, 0.0, 0.0, 1.0)}\n",
      "Saving figure to c:\\development\\coastseg-planet\\CoastSeg-Planet\\2023-11-02-21-20-52_planet.jpg\n"
     ]
    },
    {
     "name": "stderr",
     "output_type": "stream",
     "text": [
      "Computing transect shoreline intersections: 100%|██████████| 9/9 [00:00<00:00, 271.19it/s]\n"
     ]
    },
    {
     "data": {
      "text/plain": [
       "{'0': array([         nan,          nan, 108.43826017,          nan,\n",
       "                 nan,          nan,          nan,          nan,\n",
       "                 nan, 162.63683688,          nan, 130.63472921,\n",
       "                 nan,          nan,          nan,          nan,\n",
       "                 nan,          nan,          nan,          nan,\n",
       "                 nan,          nan,          nan, 261.50607073,\n",
       "                 nan, 143.23898858,          nan,          nan,\n",
       "                 nan,          nan, 136.44552414,          nan,\n",
       "                 nan,          nan,  92.77896655,          nan,\n",
       "                 nan,          nan, 103.28968011,          nan,\n",
       "                 nan,          nan,          nan,          nan,\n",
       "                 nan,          nan,          nan,          nan,\n",
       "        200.1294093 ,          nan,          nan,          nan,\n",
       "        145.99487373,          nan,          nan,          nan,\n",
       "                 nan,          nan, 173.63894745,          nan,\n",
       "                 nan,          nan,          nan,          nan,\n",
       "                 nan,          nan,          nan, 159.21873686,\n",
       "                 nan, 107.98959875,          nan,          nan,\n",
       "                 nan,          nan,          nan,          nan,\n",
       "                 nan,          nan,          nan,          nan,\n",
       "                 nan,          nan,          nan,          nan,\n",
       "                 nan, 203.35526142,          nan,          nan,\n",
       "                 nan]),\n",
       " '1': array([         nan,          nan,          nan,          nan,\n",
       "                 nan,          nan,          nan,          nan,\n",
       "                 nan, 123.00154121,          nan, 123.87326869,\n",
       "                 nan,          nan,          nan,          nan,\n",
       "                 nan,          nan,          nan,          nan,\n",
       "                 nan,          nan,          nan, 272.12342258,\n",
       "                 nan, 130.38131748,          nan,          nan,\n",
       "                 nan,          nan, 142.92223023,          nan,\n",
       "                 nan,          nan, 146.2800972 ,          nan,\n",
       "                 nan,          nan, 130.24286072,          nan,\n",
       "                 nan,          nan,          nan,          nan,\n",
       "                 nan,          nan,          nan,          nan,\n",
       "        178.34515632,          nan,          nan,          nan,\n",
       "        134.73995486,          nan,          nan,          nan,\n",
       "                 nan,          nan, 168.6869257 ,          nan,\n",
       "                 nan,          nan,          nan,          nan,\n",
       "                 nan,          nan,          nan, 151.3027769 ,\n",
       "                 nan, 112.20408342,          nan,          nan,\n",
       "                 nan,          nan,          nan,          nan,\n",
       "                 nan,          nan,          nan,          nan,\n",
       "                 nan,          nan,          nan,          nan,\n",
       "                 nan, 306.00116504,          nan,          nan,\n",
       "                 nan]),\n",
       " '2': array([         nan,          nan, 106.29461936,          nan,\n",
       "                 nan,          nan,          nan,          nan,\n",
       "                 nan, 155.09830446,          nan, 139.5164951 ,\n",
       "                 nan,          nan,          nan,          nan,\n",
       "                 nan,          nan,          nan,          nan,\n",
       "                 nan,          nan,          nan, 293.82638198,\n",
       "                 nan, 145.12204603,          nan,          nan,\n",
       "                 nan,          nan, 153.0208776 ,          nan,\n",
       "                 nan,          nan, 144.69089242,          nan,\n",
       "                 nan,          nan, 140.47686733,          nan,\n",
       "                 nan,          nan,          nan,          nan,\n",
       "                 nan,          nan,          nan,          nan,\n",
       "        214.27050798,          nan, 142.67208297,          nan,\n",
       "        147.67007408,          nan,          nan,          nan,\n",
       "                 nan,          nan, 154.74549206,          nan,\n",
       "                 nan,          nan,          nan,          nan,\n",
       "                 nan,          nan,          nan, 151.43322177,\n",
       "                 nan,          nan,          nan,          nan,\n",
       "                 nan,          nan,          nan,          nan,\n",
       "                 nan,          nan,          nan,          nan,\n",
       "                 nan,          nan,          nan,          nan,\n",
       "                 nan,          nan,          nan,          nan,\n",
       "                 nan]),\n",
       " '3': array([         nan,          nan,  72.77011464,          nan,\n",
       "                 nan,          nan,          nan,          nan,\n",
       "                 nan, 119.5279714 ,          nan, 136.28335602,\n",
       "                 nan,          nan,          nan,          nan,\n",
       "                 nan,          nan,          nan,          nan,\n",
       "                 nan,          nan,          nan, 274.52052781,\n",
       "                 nan, 134.2739126 ,          nan,          nan,\n",
       "                 nan,          nan, 156.35239179,          nan,\n",
       "                 nan,          nan, 145.43069148,          nan,\n",
       "                 nan,          nan, 117.50505044,          nan,\n",
       "                 nan,          nan,          nan,          nan,\n",
       "                 nan,          nan,          nan,          nan,\n",
       "        189.54721726,          nan,          nan,          nan,\n",
       "        138.64917583,          nan,          nan,          nan,\n",
       "                 nan,          nan, 148.08549999,          nan,\n",
       "                 nan,          nan,          nan,          nan,\n",
       "                 nan,          nan,          nan, 164.53841837,\n",
       "                 nan, 120.36798246,          nan,          nan,\n",
       "                 nan,          nan,          nan, 173.08082134,\n",
       "                 nan,          nan,          nan,          nan,\n",
       "                 nan,          nan,          nan,          nan,\n",
       "                 nan,          nan,          nan,          nan,\n",
       "                 nan]),\n",
       " '4': array([         nan,          nan,          nan,          nan,\n",
       "                 nan,          nan,          nan,          nan,\n",
       "                 nan, 183.34423655,          nan, 196.00548804,\n",
       "                 nan,          nan,          nan,          nan,\n",
       "                 nan,          nan,          nan,          nan,\n",
       "                 nan,          nan,          nan, 339.28555463,\n",
       "                 nan, 196.00548804,          nan,          nan,\n",
       "                 nan,          nan, 207.01580967,          nan,\n",
       "                 nan,          nan, 194.19163582,          nan,\n",
       "                 nan,          nan, 204.17634152,          nan,\n",
       "                 nan,          nan,          nan,          nan,\n",
       "                 nan,          nan,          nan,          nan,\n",
       "        239.61542778,          nan, 208.34089481,          nan,\n",
       "        199.73869454,          nan,          nan,          nan,\n",
       "                 nan,          nan, 217.72899673,          nan,\n",
       "                 nan, 250.65445956,          nan,          nan,\n",
       "                 nan,          nan,          nan, 211.39837099,\n",
       "                 nan,          nan,          nan,          nan,\n",
       "                 nan,          nan,          nan,          nan,\n",
       "                 nan,          nan,          nan,          nan,\n",
       "                 nan,          nan,          nan,          nan,\n",
       "                 nan, 158.26378248,          nan,          nan,\n",
       "                 nan]),\n",
       " '5': array([         nan,          nan,          nan,          nan,\n",
       "                 nan,          nan,          nan,          nan,\n",
       "                 nan, 215.0045552 ,          nan, 176.46941055,\n",
       "                 nan,          nan,          nan,          nan,\n",
       "                 nan,          nan,          nan,          nan,\n",
       "                 nan,          nan,          nan, 310.49568542,\n",
       "                 nan, 173.48531273,          nan,          nan,\n",
       "                 nan,          nan, 154.55139763,          nan,\n",
       "                 nan,          nan,          nan,          nan,\n",
       "                 nan,          nan, -19.96479152,          nan,\n",
       "                 nan,          nan,          nan,          nan,\n",
       "                 nan,          nan,          nan,          nan,\n",
       "         11.62318278,          nan, 174.82312141,          nan,\n",
       "                 nan,          nan,          nan,          nan,\n",
       "                 nan,          nan,          nan,          nan,\n",
       "                 nan,          nan,          nan,          nan,\n",
       "                 nan,          nan,          nan,  -1.08281979,\n",
       "        118.33303636, -21.45684043,          nan,          nan,\n",
       "                 nan,          nan,          nan,          nan,\n",
       "                 nan,          nan,          nan,          nan,\n",
       "                 nan,          nan,          nan,          nan,\n",
       "                 nan,          nan,          nan,          nan,\n",
       "                 nan]),\n",
       " '6': array([         nan,          nan, 107.72353015,          nan,\n",
       "                 nan,          nan,          nan,          nan,\n",
       "                 nan, 146.73417294,          nan, 158.65395568,\n",
       "                 nan,          nan,          nan,          nan,\n",
       "                 nan,          nan,          nan,          nan,\n",
       "                 nan,          nan,          nan,          nan,\n",
       "                 nan, 160.22643582,          nan,          nan,\n",
       "                 nan,          nan, 140.66574202,          nan,\n",
       "                 nan,          nan, 148.08516344,          nan,\n",
       "                 nan,          nan, 150.10944393,          nan,\n",
       "                 nan,          nan,          nan,          nan,\n",
       "                 nan,          nan,          nan,          nan,\n",
       "        218.57628278,          nan,          nan,          nan,\n",
       "        152.91775922,          nan,          nan,          nan,\n",
       "                 nan,          nan, 171.35777323,          nan,\n",
       "                 nan,          nan,          nan,          nan,\n",
       "                 nan,          nan,          nan, 182.03731029,\n",
       "                 nan, 163.9383518 ,          nan,          nan,\n",
       "                 nan,          nan,          nan, 171.69000768,\n",
       "                 nan,          nan,          nan,          nan,\n",
       "                 nan,          nan,          nan,          nan,\n",
       "                 nan, 179.11383964,          nan,          nan,\n",
       "                 nan]),\n",
       " '7': array([         nan,          nan, 138.79557994,          nan,\n",
       "                 nan,          nan,          nan,          nan,\n",
       "                 nan, 166.17206475,          nan, 154.52046463,\n",
       "                 nan,          nan,          nan,          nan,\n",
       "                 nan,          nan,          nan,          nan,\n",
       "                 nan,          nan,          nan,          nan,\n",
       "                 nan, 157.47255613,          nan,          nan,\n",
       "                 nan,          nan, 140.58443247,          nan,\n",
       "                 nan,          nan, 137.69504733,          nan,\n",
       "                 nan,          nan, 124.59875463,          nan,\n",
       "                 nan,          nan,          nan,          nan,\n",
       "                 nan,          nan,          nan,          nan,\n",
       "        161.22768755,          nan,          nan,          nan,\n",
       "        135.9895616 ,          nan,          nan,          nan,\n",
       "                 nan,          nan, 149.0858543 ,          nan,\n",
       "                 nan,          nan,          nan,          nan,\n",
       "                 nan,          nan,          nan, 156.11123037,\n",
       "                 nan, 238.30339116,          nan,          nan,\n",
       "                 nan,          nan,          nan,          nan,\n",
       "                 nan,          nan,          nan,          nan,\n",
       "                 nan,          nan,          nan,          nan,\n",
       "                 nan, 113.84425396,          nan,          nan,\n",
       "                 nan]),\n",
       " '8': array([         nan,          nan,          nan,          nan,\n",
       "                 nan,          nan,          nan, -26.24650631,\n",
       "                 nan,          nan,          nan,          nan,\n",
       "                 nan,          nan,  54.31080913,          nan,\n",
       "        144.50714588,          nan,          nan,          nan,\n",
       "                 nan,          nan,          nan,          nan,\n",
       "                 nan,          nan,          nan,          nan,\n",
       "                 nan,  57.30579361,          nan,          nan,\n",
       "         70.86992437, 667.36845706,          nan,          nan,\n",
       "                 nan,          nan,          nan,          nan,\n",
       "                 nan,  39.33588675,          nan,          nan,\n",
       "                 nan,          nan,          nan,          nan,\n",
       "                 nan,          nan,          nan,          nan,\n",
       "                 nan,          nan,          nan,  57.30579361,\n",
       "         72.28071599,          nan,          nan,          nan,\n",
       "                 nan,          nan,          nan,          nan,\n",
       "                 nan,          nan,          nan,          nan,\n",
       "                 nan,          nan,          nan,          nan,\n",
       "                 nan,          nan,          nan,          nan,\n",
       "                 nan,          nan,          nan,          nan,\n",
       "                 nan,          nan, 344.50108267,          nan,\n",
       "        662.72616091,          nan,          nan,          nan,\n",
       "                 nan])}"
      ]
     },
     "execution_count": 27,
     "metadata": {},
     "output_type": "execute_result"
    }
   ],
   "source": [
    "from coastseg_planet.shoreline_extraction import get_shorelines_from_model\n",
    "from coastseg_planet.processing import get_date_from_path,TOA_conversion,get_epsg_from_tiff,get_base_filename,convert_planet_to_model_format\n",
    "from datetime import datetime\n",
    "from coastseg_planet.model import apply_model_to_image\n",
    "from coastseg.extracted_shoreline import load_image_labels, load_merged_image_labels, remove_small_objects_and_binarize, get_indices_of_classnames, get_class_mapping\n",
    "from coastseg import file_utilities\n",
    "from coastseg_planet import utils\n",
    "from coastseg_planet import transects\n",
    "from coastseg_planet import shoreline_extraction\n",
    "\n",
    "# Future improvement will download & load the model from the coastseg_planet package\n",
    "# for now hard code the model path & weights directory\n",
    "model_card_path = r'C:\\development\\coastseg-planet\\CoastSeg-Planet\\output_zoo\\coastseg_planet\\coastseg_planet\\config\\model_card.yml'\n",
    "weights_directory = r'C:\\development\\doodleverse\\coastseg\\CoastSeg\\src\\coastseg\\downloaded_models\\segformer_RGB_4class_8190958'\n",
    "model_card_path = file_utilities.find_file_by_regex(\n",
    "    weights_directory, r\".*modelcard\\.json$\"\n",
    ")\n",
    "# all this is to create the settings dictionary needed to extract shorelines\n",
    "out_epsg = get_epsg_from_tiff(landsat_processed_path)\n",
    "# convert str to int\n",
    "out_epsg = int(out_epsg)\n",
    "settings = {\n",
    "    'output_epsg': out_epsg,\n",
    "    'min_length_sl': 100,\n",
    "    'dist_clouds': 50,\n",
    "    'min_beach_area': 1000,\n",
    "    'satname': 'planet',\n",
    "}\n",
    "\n",
    "separator = '_3B'\n",
    "count = 0\n",
    "suffix = f\"{separator}_TOAR_processed_coregistered_global\"\n",
    "print(f\"{suffix}.tif\")\n",
    "filtered_tiffs = glob.glob(os.path.join(good_dir, f\"*{suffix}.tif\"))\n",
    "if len(filtered_tiffs) == 0:\n",
    "    print(\"No tiffs found in the directory\")\n",
    "#@todo\n",
    "# if length is 1 then call a single function to do all this stuff\n",
    "all_extracted_shorelines = []\n",
    "# for target_path in filtered_tiffs:\n",
    "for file_idx, target_path in enumerate(\n",
    "        glob.glob(os.path.join(good_dir, f\"*{suffix}.tif\"))\n",
    "    ):\n",
    "    count += 1\n",
    "    if not os.path.exists(target_path):\n",
    "        print(f\"Skipping {target_path} because it does not exist\")\n",
    "        continue\n",
    "    base_filename = get_base_filename(target_path, separator)\n",
    "    print(f\"Processing {base_filename}\")\n",
    "    # get the processed coregistered file, the cloud mask and the npz file\n",
    "        \n",
    "    cloud_mask_path = utils.get_file_path(good_dir, base_filename, \"*3B_udm2_clip.tif\")\n",
    "    if not cloud_mask_path:\n",
    "        print(f\"Skipping {target_path} because cloud mask not found\")\n",
    "        continue\n",
    "    date=get_date_from_path(base_filename)\n",
    "    print(f\"date {date}\")\n",
    "    print(f\"Processing {target_path}\")\n",
    "    print(f\"Using cloud mask: {cloud_mask_path}\")\n",
    "    if not os.path.exists(target_path):\n",
    "        print(f\"Skipping {target_path} because it does not exist\")\n",
    "        continue\n",
    "    \n",
    "    apply_model_to_image(target_path,good_dir,False,False)\n",
    "    # this is the file generated by the model\n",
    "    # npz_path = os.path.join(good_dir, 'out', f\"{base_filename}_3B_TOAR_processed_coregistered_res.npz\")\n",
    "    npz_path = os.path.join(good_dir, 'out', f\"{base_filename}{suffix}_res.npz\")\n",
    "    if not os.path.exists(npz_path):\n",
    "        print(f\"Skipping {npz_path} because it does not exist\")\n",
    "        \n",
    "    masked_projected_resolution_topobathy_tiff=masked_projected_topobathy_tiff.replace('.tif', f'_matched_resolution_{count}.tif')\n",
    "    match_resolution_and_grid(masked_projected_topobathy_tiff , target_path,masked_projected_resolution_topobathy_tiff)\n",
    "    \n",
    "    save_path = os.path.join(good_dir, 'out')\n",
    "    # this shoreline is in the UTM projection\n",
    "    shoreline_gdf = get_shorelines_from_model(cloud_mask_path,target_path,model_card_path,npz_path,date,satname= 'planet', settings = settings,topobathy_path = masked_projected_resolution_topobathy_tiff,\n",
    "                                          save_path=save_path)\n",
    "    all_extracted_shorelines.append(shoreline_gdf)\n",
    "\n",
    "shorelines_gdf = shoreline_extraction.concat_and_sort_geodataframes(all_extracted_shorelines, \"date\")\n",
    "\n",
    "# then intersect these shorelines with the transects\n",
    "shorelines_dict = transects.convert_shoreline_gdf_to_dict(shorelines_gdf)\n",
    "shorelines_dict = transects.convert_shoreline_gdf_to_dict(shorelines_gdf)\n",
    "\n",
    "# transform the transects to the output crs and transform the transects to a dict\n",
    "transects_path = r\"C:\\development\\coastseg-planet\\downloads\\Alaska_TOAR_enabled\\42444c87-d914-4330-ba4b-3c948829db3f\\PSScene\\transects.geojson\"\n",
    "transects_gdf = gpd.read_file(transects_path)\n",
    "transects_gdf.to_crs(settings['output_epsg'], inplace=True)\n",
    "transects_gdf[\"id\"] = transects_gdf.index\n",
    "transects_gdf[\"id\"] = transects_gdf[\"id\"].astype(str)\n",
    "transects_dict = transects.get_transect_points_dict(transects_gdf)\n",
    "# run compute_intersection_QC\n",
    "transects.compute_intersection_QC(shorelines_dict, transects_dict)\n",
    "\n",
    "# from here you can save all the data to csvs\n"
   ]
  }
 ],
 "metadata": {
  "kernelspec": {
   "display_name": "coastseg_planet",
   "language": "python",
   "name": "python3"
  },
  "language_info": {
   "codemirror_mode": {
    "name": "ipython",
    "version": 3
   },
   "file_extension": ".py",
   "mimetype": "text/x-python",
   "name": "python",
   "nbconvert_exporter": "python",
   "pygments_lexer": "ipython3",
   "version": "3.11.9"
  }
 },
 "nbformat": 4,
 "nbformat_minor": 2
}
